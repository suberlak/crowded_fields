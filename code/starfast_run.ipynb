{
 "cells": [
  {
   "cell_type": "markdown",
   "metadata": {},
   "source": [
    "A notebook to use Ian Sullivans StarFast to simulate images at different stellar densities "
   ]
  },
  {
   "cell_type": "code",
   "execution_count": 4,
   "metadata": {
    "collapsed": true
   },
   "outputs": [],
   "source": [
    "# necessary : tells python where to look for StarFast...\n",
    "import sys\n",
    "starfast_home = '/Users/chris/starfast_simulator/'\n",
    "sys.path.insert(0, starfast_home)\n"
   ]
  },
  {
   "cell_type": "code",
   "execution_count": 11,
   "metadata": {
    "collapsed": true
   },
   "outputs": [],
   "source": [
    "import galsim \n",
    "from lsst.sims.photUtils import matchStar\n",
    "import numpy as np\n",
    "from StarFast import StarSim\n",
    "from matplotlib import pyplot as plt\n",
    "import os\n",
    "import imp\n",
    "import pickle\n",
    "from lsst.afw.geom import Angle\n",
    "from lsst.sims.photUtils import matchStar\n",
    "import _pickle as cPickle  "
   ]
  },
  {
   "cell_type": "code",
   "execution_count": 5,
   "metadata": {},
   "outputs": [
    {
     "data": {
      "text/plain": [
       "<module 'StarFast' from '/Users/chris/starfast_simulator/StarFast.py'>"
      ]
     },
     "execution_count": 5,
     "metadata": {},
     "output_type": "execute_result"
    }
   ],
   "source": [
    "imp.load_source('calc_refractive_index',starfast_home+'calc_refractive_index.py')\n",
    "imp.load_source('fast_dft', starfast_home+'fast_dft.py')\n",
    "imp.load_source('StarFast', starfast_home+'StarFast.py')"
   ]
  },
  {
   "cell_type": "code",
   "execution_count": 6,
   "metadata": {
    "collapsed": true
   },
   "outputs": [],
   "source": [
    "# setup the observatory location\n",
    "lsst_lat = Angle(np.radians(-30.244639))\n",
    "lsst_lon = Angle(np.radians(-70.749417))\n",
    "lsst_alt = 2663."
   ]
  },
  {
   "cell_type": "code",
   "execution_count": 40,
   "metadata": {
    "collapsed": true
   },
   "outputs": [],
   "source": [
    "# setup the general parameters to use for all of the simulations\n",
    "\n",
    "seed = 5  # Seed for the random number generator. Simulations with the same seed are reproduceable\n",
    "dimension = 1024  # Number of pixels on a side for the simulated image\n",
    "#n_star = 10000  # Number of stars to model in the simulated catalog.\n",
    "# The catalog covers an area ~4x larger than the area, to allow simulated \n",
    "# rotations and dithering observations\n",
    "pixel_scale = 0.25  # plate scale, in arcseconds/pixel\n",
    "psf_fwhm = 0.25  # FWHM of the PSF, in arcseconds\n",
    "\n"
   ]
  },
  {
   "cell_type": "code",
   "execution_count": 36,
   "metadata": {},
   "outputs": [
    {
     "data": {
      "text/plain": [
       "{0.01: 2587041.5847659572,\n",
       " 0.05: 710251.18927021686,\n",
       " 0.1: 305078.39864074055,\n",
       " 0.15: 170992.79863542572,\n",
       " 0.2: 110116.79435121812,\n",
       " 0.25: 76499.999999999927}"
      ]
     },
     "execution_count": 36,
     "metadata": {},
     "output_type": "execute_result"
    }
   ],
   "source": [
    "# Load the density definitions from MAF lt 24.5,   southern sky only ....\n",
    "density_dic = np.load('../data_products/MAF_density_definitions/density_r_lt_245_S.npy').item()\n",
    "\n",
    "# translate to needed \n",
    "# number of stars per area of \n",
    "# dimension  and pixel scale as defined above \n",
    "# for densitiy levels corresponding to \n",
    "# keys of density_dic \n",
    "\n",
    "area_in_sq_deg = 4*(dimension**2.0 ) * (pixel_scale**2.0)  / (3600 * 3600)\n",
    "N_stars_dic = {} \n",
    "for key in dic.keys():\n",
    "    N_stars_dic[key] = area_in_sq_deg * density_dic[key]"
   ]
  },
  {
   "cell_type": "code",
   "execution_count": 43,
   "metadata": {},
   "outputs": [],
   "source": []
  },
  {
   "cell_type": "code",
   "execution_count": 44,
   "metadata": {},
   "outputs": [],
   "source": [
    "#N_stars_dic"
   ]
  },
  {
   "cell_type": "code",
   "execution_count": 62,
   "metadata": {},
   "outputs": [
    {
     "name": "stdout",
     "output_type": "stream",
     "text": [
      "We will save the simulations in  ../data_products/StarFast_simulations/test5/\n"
     ]
    }
   ],
   "source": [
    "## Path to the directory to save output\n",
    "output_directory = \"../data_products/StarFast_simulations/test%1i/\" % seed  \n",
    "    \n",
    "\n",
    "if not os.path.exists(output_directory): os.system('mkdir %s' % output_directory)\n",
    "print('We will save the simulations in  %s'%output_directory)\n",
    "\n",
    "and_files_directory = output_directory+\"and_files/\"\n",
    "if not os.path.exists(and_files_directory): os.system('mkdir %s' % and_files_directory)\n",
    "    \n",
    "images_directory =     output_directory + \"images/\"\n",
    "if not os.path.exists(images_directory): os.system('mkdir %s' % images_directory)\n",
    "\n"
   ]
  },
  {
   "cell_type": "code",
   "execution_count": 9,
   "metadata": {
    "collapsed": true
   },
   "outputs": [],
   "source": [
    "\n",
    "\n",
    "\n",
    "exposureId = 0  # Unique exposure identification number. Also used as the \"OBSID\"\n",
    "elevation_min = 30.0  # Minimum observation elevation angle to simulate, in degrees\n",
    "elevation_max = 90.0  # Open maximum observation angle, in degrees. \n",
    "# Only angles less than elevation_max will be simulated\n",
    "elevation_step = 5  # Elevation angle step size, in degrees.\n",
    "\n",
    "\n",
    "# Not likely to want to change these\n",
    "\n",
    "hottest_star = 'B'  # Hottest star to include (types are 'OBAFGKMR')\n",
    "coolest_star = 'M'  # Coolest star to include\n",
    "wavelength_step = 10  # Wavelength resolution of the spectra and calculation of filter and DCR effects. In nm.\n",
    "ra_offset = Angle(0)  # Additional offset in RA from the field center, for dithering. In radians as an LSST Angle object\n",
    "dec_offset = Angle(0)  # Additional offset in Dec from the field center, for dithering. In radians as an LSST Angle object\n",
    "sky_rotation = 0.0  # Sky rotation angle, in Degrees. I realize this is different than RA and Dec\n",
    "instrument_noise = 0.  # Adds noise akin to instrumental noise (post-PSF). Set to 1.0 for default value, can be scaled up or down\n",
    "photon_noise = 1./15.  # Adds poisson noise akin to photon shot noise. Set to 1.0 for default value, can be scaled up or down\n",
    "sky_noise = 0  # Adds noise prior to convolving with the PSF.\n",
    "band_dict = {'u': 0, 'g': 1, 'r': 2, 'i': 3, 'z': 4, 'y': 5}  # LSST filter numbers used by the butler\n",
    "\n",
    "\n",
    "attenuation = 20. # attenuation factor that was used in the simulations\n",
    "\n",
    "ra = lsst_lon + ra_offset\n",
    "dec = lsst_lat + dec_offset"
   ]
  },
  {
   "cell_type": "code",
   "execution_count": 16,
   "metadata": {},
   "outputs": [],
   "source": [
    "# Load simulated Kurucz stellar SEDs. Cache the list for later use. \n",
    "\n",
    "pickle_file = 'sed_list.pickle'\n",
    "if os.path.exists(pickle_file):\n",
    "    with open(pickle_file, 'rb') as dumpfile:\n",
    "        sed_list = pickle.load(dumpfile)\n",
    "else:\n",
    "    matchStarObj = matchStar()\n",
    "    sed_list = matchStarObj.loadKuruczSEDs()\n",
    "    with open(pickle_file, 'wb') as dumpfile:\n",
    "        pickle.dump(sed_list, dumpfile, pickle.HIGHEST_PROTOCOL)\n",
    "\n",
    "\n",
    "# Set up the PSF. \n",
    "gsp = galsim.GSParams(folding_threshold=1.0 / (dimension), maximum_fft_size=12288)\n",
    "psf = galsim.Kolmogorov(fwhm=psf_fwhm / pixel_scale, flux=1, gsparams=gsp)\n",
    "\n"
   ]
  },
  {
   "cell_type": "code",
   "execution_count": 17,
   "metadata": {
    "collapsed": true
   },
   "outputs": [],
   "source": [
    "# u-band simulation \n",
    "band_name = 'r'\n",
    "\n",
    "# initialize the simulation class ... \n",
    "sim = StarSim(psf=psf, pixel_scale=pixel_scale, x_size=dimension, y_size=dimension,\n",
    "              band_name=band_name, wavelength_step=wavelength_step,\n",
    "              sed_list=sed_list, ra=ra, dec=dec, sky_rotation=sky_rotation, \n",
    "              attenuation=attenuation)\n",
    "\n",
    "\n"
   ]
  },
  {
   "cell_type": "code",
   "execution_count": 78,
   "metadata": {},
   "outputs": [
    {
     "data": {
      "text/plain": [
       "{0.01: 52328.505339265983,\n",
       " 0.05: 14366.364796300288,\n",
       " 0.1: 6170.8697325060411,\n",
       " 0.15: 3458.6987812874258,\n",
       " 0.2: 2227.350072407849,\n",
       " 0.25: 1547.3777777777764}"
      ]
     },
     "execution_count": 78,
     "metadata": {},
     "output_type": "execute_result"
    }
   ],
   "source": [
    "N_stars_dic"
   ]
  },
  {
   "cell_type": "markdown",
   "metadata": {},
   "source": [
    "# Loop over densities : set of images for different densities ... "
   ]
  },
  {
   "cell_type": "code",
   "execution_count": 76,
   "metadata": {
    "collapsed": true
   },
   "outputs": [],
   "source": [
    "from lsst.sims.photUtils import Bandpass, matchStar, PhotometricParameters"
   ]
  },
  {
   "cell_type": "code",
   "execution_count": 77,
   "metadata": {},
   "outputs": [
    {
     "name": "stdout",
     "output_type": "stream",
     "text": [
      "Setting n_star=52328\n",
      "For top 01 percent density regime\n",
      "Number and flux contribution of stars of each type:\n",
      " [M 39999| 1.48%] [K 6384| 1.81%] [G 3990| 3.38%] [F 1585| 4.01%] [A 314| 12.56%] [B 56| 76.76%] [O 0| 0.00%]\n",
      "Writing 52328 stars brighter than 24.5 mag to reference catalog in 6 bands\n",
      "Min/max magnitude:  3.80841594488 20.8673488623\n",
      "Simulating 13142 stars within observable region\n",
      "Time to model 13129 stars: [19.150s | 0.00146s per star]\n",
      "Time to model 13 bright stars: [3.909s | 0.30067s per star]\n",
      "FFT timing for 8 DCR planes: [1.984s | 0.248s per plane]\n",
      "FFT timing for 8 DCR planes: [8.296s | 1.037s per plane]\n",
      "Setting n_star=14366\n",
      "For top 05 percent density regime\n",
      "Number and flux contribution of stars of each type:\n",
      " [M 10966| 1.87%] [K 1751| 2.19%] [G 1101| 3.94%] [F 448| 5.30%] [A 82| 13.62%] [B 18| 73.08%] [O 0| 0.00%]\n",
      "Writing 14366 stars brighter than 24.5 mag to reference catalog in 6 bands\n",
      "Min/max magnitude:  5.01942118091 20.8739751822\n",
      "Simulating 3587 stars within observable region\n",
      "Time to model 3577 stars: [7.907s | 0.00221s per star]\n",
      "Time to model 10 bright stars: [3.602s | 0.36019s per star]\n",
      "FFT timing for 8 DCR planes: [1.850s | 0.231s per plane]\n",
      "FFT timing for 8 DCR planes: [8.006s | 1.001s per plane]\n",
      "Setting n_star=6170\n",
      "For top 1 percent density regime\n",
      "Number and flux contribution of stars of each type:\n",
      " [M 4705| 3.45%] [K 757| 3.88%] [G 470| 10.41%] [F 198| 9.07%] [A 35| 23.32%] [B 5| 49.87%] [O 0| 0.00%]\n",
      "Writing 6170 stars brighter than 24.5 mag to reference catalog in 6 bands\n",
      "Min/max magnitude:  6.40577964463 20.9532107179\n",
      "Simulating 1536 stars within observable region\n",
      "Time to model 1526 stars: [3.163s | 0.00207s per star]\n",
      "Time to model 10 bright stars: [3.606s | 0.36058s per star]\n",
      "FFT timing for 8 DCR planes: [1.900s | 0.237s per plane]\n",
      "FFT timing for 8 DCR planes: [8.179s | 1.022s per plane]\n",
      "Setting n_star=3458\n",
      "For top 15 percent density regime\n",
      "Number and flux contribution of stars of each type:\n",
      " [M 2651| 2.06%] [K 434| 2.86%] [G 246| 4.04%] [F 107| 4.87%] [A 17| 13.04%] [B 3| 73.13%] [O 0| 0.00%]\n",
      "Writing 3458 stars brighter than 24.5 mag to reference catalog in 6 bands\n",
      "Min/max magnitude:  5.79117936236 20.8122379313\n",
      "Simulating 849 stars within observable region\n",
      "Time to model 841 stars: [2.484s | 0.00295s per star]\n",
      "Time to model 8 bright stars: [3.530s | 0.44123s per star]\n",
      "FFT timing for 8 DCR planes: [1.864s | 0.233s per plane]\n",
      "FFT timing for 8 DCR planes: [8.180s | 1.023s per plane]\n",
      "Setting n_star=2227\n",
      "For top 2 percent density regime\n",
      "Number and flux contribution of stars of each type:\n",
      " [M 1693| 4.60%] [K 286| 4.68%] [G 169| 15.48%] [F 64| 10.69%] [A 14| 32.50%] [B 1| 32.05%] [O 0| 0.00%]\n",
      "Writing 2227 stars brighter than 24.5 mag to reference catalog in 6 bands\n",
      "Min/max magnitude:  7.22296363497 20.7391283428\n",
      "Simulating 538 stars within observable region\n",
      "Time to model 530 stars: [1.993s | 0.00376s per star]\n",
      "Time to model 8 bright stars: [3.453s | 0.43163s per star]\n",
      "FFT timing for 8 DCR planes: [1.868s | 0.233s per plane]\n",
      "FFT timing for 8 DCR planes: [7.930s | 0.991s per plane]\n",
      "Setting n_star=1547\n",
      "For top 25 percent density regime\n",
      "Number and flux contribution of stars of each type:\n",
      " [M 1180| 0.66%] [K 189| 0.68%] [G 124| 1.31%] [F 43| 2.80%] [A 10| 32.89%] [B 1| 61.67%] [O 0| 0.00%]\n",
      "Writing 1547 stars brighter than 24.5 mag to reference catalog in 6 bands\n",
      "Min/max magnitude:  4.83277046187 20.6363741212\n",
      "Simulating 385 stars within observable region\n",
      "Time to model 374 stars: [1.738s | 0.00465s per star]\n",
      "Time to model 11 bright stars: [3.617s | 0.32884s per star]\n",
      "FFT timing for 8 DCR planes: [1.806s | 0.226s per plane]\n",
      "FFT timing for 8 DCR planes: [7.976s | 0.997s per plane]\n"
     ]
    }
   ],
   "source": [
    "# First consider moderate density region\n",
    "for density in N_stars_dic.keys():\n",
    "    \n",
    "    n_star = int(N_stars_dic[density])\n",
    "    print('\\nSetting n_star=%d'%n_star)\n",
    "    print('For top %s percent density regime'%str(density))\n",
    "\n",
    "    '''\n",
    "    Simulate a catalog of stars, with fluxes and SEDs\n",
    "    '''\n",
    "    sim.load_catalog(n_star=n_star, hottest_star=hottest_star, \n",
    "                     coolest_star=coolest_star, seed=seed)\n",
    "\n",
    "    '''\n",
    "    Write the catalog to disk. Note that this catalog includes \n",
    "    fluxes for all 6 LSST bands if filter_list is None\n",
    "    ''' \n",
    "\n",
    "    # note : magnitude limit is to upper limit, \n",
    "    # in band set by band_name above ... \n",
    "    sim.make_reference_catalog(output_directory=output_directory + \"and_files/\", \n",
    "                               filter_list=None, magnitude_limit=24.5)\n",
    "\n",
    "    '''\n",
    "    Generate the raw simulation\n",
    "    '''\n",
    "    sim.simulate()\n",
    "\n",
    "\n",
    "    # what does this step do ?\n",
    "    # I assume it is making the exposure... \n",
    "    # since I am using band 'r', \n",
    "    # I would also set the bandpass to 'r'  , rather than 'g' ... \n",
    "\n",
    "    photo = PhotometricParameters(exptime=30., nexp=1, platescale=0.25, bandpass='r')\n",
    "\n",
    "    expId = exposureId + 100*band_dict[band_name]\n",
    "\n",
    "    # I don't need to change these since I'm not simulating \n",
    "    # varying airmass ... \n",
    "    elevation = 90\n",
    "    azimuth = 0 \n",
    "\n",
    "    exposure = sim.convolve(elevation=elevation, azimuth=azimuth,\n",
    "                            instrument_noise=instrument_noise, sky_noise=sky_noise,\n",
    "                            photon_noise=photon_noise, exposureId=expId, obsid=expId)\n",
    "    filename = \"lsst_e_%3.3i_f%i_d%s.fits\" % (expId, band_dict[band_name],str(density))\n",
    "    expId += 1\n",
    "    exposure.writeFits(output_directory + \"images/\" + filename)\n",
    "\n"
   ]
  },
  {
   "cell_type": "code",
   "execution_count": null,
   "metadata": {
    "collapsed": true
   },
   "outputs": [],
   "source": []
  },
  {
   "cell_type": "code",
   "execution_count": null,
   "metadata": {},
   "outputs": [],
   "source": []
  },
  {
   "cell_type": "code",
   "execution_count": 81,
   "metadata": {},
   "outputs": [
    {
     "name": "stdout",
     "output_type": "stream",
     "text": [
      "\n",
      "Setting n_star=52328\n",
      "For top 0.01 percent density regime\n",
      "\n",
      "Setting n_star=14366\n",
      "For top 0.05 percent density regime\n",
      "\n",
      "Setting n_star=6170\n",
      "For top 0.1 percent density regime\n",
      "\n",
      "Setting n_star=3458\n",
      "For top 0.15 percent density regime\n",
      "\n",
      "Setting n_star=2227\n",
      "For top 0.2 percent density regime\n",
      "\n",
      "Setting n_star=1547\n",
      "For top 0.25 percent density regime\n"
     ]
    }
   ],
   "source": [
    "for density in N_stars_dic.keys():\n",
    "    \n",
    "    n_star = int(N_stars_dic[density])\n",
    "    print('\\nSetting n_star=%d'%n_star)\n",
    "    print('For top %s percent density regime'%str(density))"
   ]
  },
  {
   "cell_type": "code",
   "execution_count": 61,
   "metadata": {},
   "outputs": [
    {
     "data": {
      "text/plain": [
       "90.0"
      ]
     },
     "execution_count": 61,
     "metadata": {},
     "output_type": "execute_result"
    }
   ],
   "source": []
  },
  {
   "cell_type": "code",
   "execution_count": null,
   "metadata": {
    "collapsed": true
   },
   "outputs": [],
   "source": []
  },
  {
   "cell_type": "code",
   "execution_count": null,
   "metadata": {
    "collapsed": true
   },
   "outputs": [],
   "source": []
  }
 ],
 "metadata": {
  "kernelspec": {
   "display_name": "Python 3",
   "language": "python",
   "name": "python3"
  },
  "language_info": {
   "codemirror_mode": {
    "name": "ipython",
    "version": 3
   },
   "file_extension": ".py",
   "mimetype": "text/x-python",
   "name": "python",
   "nbconvert_exporter": "python",
   "pygments_lexer": "ipython3",
   "version": "3.6.2"
  }
 },
 "nbformat": 4,
 "nbformat_minor": 2
}
