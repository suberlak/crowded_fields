{
 "cells": [
  {
   "cell_type": "code",
   "execution_count": 1,
   "metadata": {
    "collapsed": true
   },
   "outputs": [],
   "source": [
    "import matplotlib.pyplot as plt\n",
    "from astropy.table import Table\n",
    "import os\n",
    "import numpy as np"
   ]
  },
  {
   "cell_type": "markdown",
   "metadata": {},
   "source": [
    "# Downloading NOAO data...\n"
   ]
  },
  {
   "cell_type": "code",
   "execution_count": null,
   "metadata": {
    "collapsed": true
   },
   "outputs": [],
   "source": []
  },
  {
   "cell_type": "code",
   "execution_count": 2,
   "metadata": {
    "collapsed": false
   },
   "outputs": [],
   "source": [
    "#decam_maf_good"
   ]
  },
  {
   "cell_type": "code",
   "execution_count": 3,
   "metadata": {
    "collapsed": false
   },
   "outputs": [
    {
     "name": "stdout",
     "output_type": "stream",
     "text": [
      "We will downloaded ... \n",
      "           archive_file           \n",
      "----------------------------------\n",
      "c4d_160825_034122_ooi_g_v1.fits.fz\n",
      "        ra            dec    \n",
      "------------------ ----------\n",
      "255.38399999999999 -39.908583\n",
      "We saved 1 names to download as decam_maf_0.51_NOAO_download_votable.vot.xml\n"
     ]
    }
   ],
   "source": [
    "# Read in the DECam - MAF matched data within 30 arcmin for top 1% density...\n",
    "# This is  a VOTable to keep all string types straight ...\n",
    "\n",
    "# select the density regime ... \n",
    "percent = 0.51  # or 0.06  0.21   0.51\n",
    "fname = 'table_decam_maf_matched_'+str(percent)+'_density_percent.vo.xml'\n",
    "decam_maf_table = Table.read(fname)\n",
    "\n",
    "\n",
    "# first, check those that have already been\n",
    "# downladed\n",
    "N = 1 # number of fields to download \n",
    "outDir = '../raw_data/DECam/'\n",
    "decam_maf_files = np.array(decam_maf_table['archive_file'].data).astype(str)\n",
    "mask_not_downloaded = ~np.in1d(decam_maf_files, os.listdir(outDir))\n",
    "\n",
    "mask_radec = decam_maf_table['ra'].data > 250\n",
    "mask_download = mask_not_downloaded & mask_radec\n",
    "decam_maf_good = decam_maf_table[mask_download]\n",
    "\n",
    "# choose elements at random..\n",
    "indices = np.random.randint(0,len(decam_maf_good), N)\n",
    "decam_maf_download = decam_maf_good[indices]\n",
    "\n",
    "#noao_download = np.random.\n",
    "print('We will downloaded ... ')\n",
    "print(decam_maf_download['archive_file'])\n",
    "print(decam_maf_download['ra','dec'])\n",
    "\n",
    "\n",
    "# To download few object from this table,  \n",
    "# first save what we want to query NOAO for  as votable,  \n",
    "# then run the  NOAO script on it ...\n",
    "fname = 'decam_maf_'+str(percent)+ '_NOAO_download_votable.vot.xml'\n",
    "decam_maf_download.write(fname,format='votable',\n",
    "                          overwrite=True)\n",
    "print('We saved %d names to download as %s'%(N,fname))"
   ]
  },
  {
   "cell_type": "code",
   "execution_count": 4,
   "metadata": {
    "collapsed": false
   },
   "outputs": [
    {
     "name": "stdout",
     "output_type": "stream",
     "text": [
      "b'Processing http://nsaserver.sdm.noao.edu:7003/?fileRef=c4d_160825_034122_ooi_g_v1.fits.fz\\n'\n",
      "CompletedProcess(args='mv *.fz ../raw_data/DECam/', returncode=0)\n"
     ]
    }
   ],
   "source": [
    "# this is in python3,  wouldn't work in python2.7\n",
    "# We run the NOAO script by typing in terminal : \n",
    "import subprocess\n",
    "cmd = './secure_get.sh'+' '+fname\n",
    "completed1 = subprocess.run(cmd, shell=True, stdout=subprocess.PIPE)\n",
    "print(completed1.stdout)\n",
    "\n",
    "# move all the DECam data to a specific directory with raw DECam data ... \n",
    "cmd = 'mv *.fz ' + outDir\n",
    "completed = subprocess.run(cmd, shell=True)\n",
    "print(completed)"
   ]
  },
  {
   "cell_type": "markdown",
   "metadata": {
    "collapsed": true
   },
   "source": [
    "### Old code ... "
   ]
  },
  {
   "cell_type": "code",
   "execution_count": null,
   "metadata": {
    "collapsed": true
   },
   "outputs": [],
   "source": [
    "outDir = '../raw_data/DECam/'\n",
    "archive_files = np.array(decam_maf['archive_file'].data).astype(str)\n",
    "mask = np.in1d(archive_files, os.listdir(outDir))\n",
    "print('We have not downloaded yet ...')\n",
    "print(archive_files[~mask][:4])\n",
    "\n",
    "# To download few object from this table,  \n",
    "# save that as votable,  \n",
    "# and run the NOAO script on it ...\n",
    "fname = 'decam_maf_'+str(percent)+ '_NOAO_download_votable.vot.xml'\n",
    "N = 5 # number of fields to download \n",
    "decam_maf[~mask][:N].write(fname,format='votable',\n",
    "                          overwrite=True)\n",
    "\n",
    "# We run the NOAO script by typing in terminal : \n",
    "import subprocess\n",
    "cmd = './secure_get.sh'+' '+fname\n",
    "completed1 = subprocess.run(cmd, shell=True, stdout=subprocess.PIPE)\n",
    "print(completed1.stdout)\n",
    "\n",
    "# move all the DECam data to a specific directory with raw DECam data ... \n",
    "cmd = 'mv *.fz ' + outDir\n",
    "completed = subprocess.run(cmd, shell=True)\n",
    "print(completed)\n",
    "\n",
    "#pull information about just one object by name\n",
    "#decam_maf[archive_files == 'c4d_140624_081148_ooi_r_v2.fits.fz']\n",
    "#decam_maf[:2].write('decam_maf_top_1_two_rows_votable.vot.xml',format='votable')\n",
    "#np.array(os.listdir(outDir))[mask]"
   ]
  }
 ],
 "metadata": {
  "kernelspec": {
   "display_name": "Python 3",
   "language": "python",
   "name": "python3"
  },
  "language_info": {
   "codemirror_mode": {
    "name": "ipython",
    "version": 3
   },
   "file_extension": ".py",
   "mimetype": "text/x-python",
   "name": "python",
   "nbconvert_exporter": "python",
   "pygments_lexer": "ipython3",
   "version": "3.6.0"
  }
 },
 "nbformat": 4,
 "nbformat_minor": 2
}
