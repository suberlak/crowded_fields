{
 "cells": [
  {
   "cell_type": "markdown",
   "metadata": {},
   "source": [
    "We start with MAF , defining the stellar density regions. Based on the MAF map, we \n",
    "obtained from NOAO archive the image corresponding to a given stellar density regime (with similar depth and filter as LSST r  ) : \n",
    "\n",
    "20% :  c4d_170122_055542_ooi_g_v1.fits.fz\n",
    "\n",
    "15% : \n",
    "\n",
    "10% : \n",
    "\n",
    "5% :  c4d_160316_065235_ooi_g_v1.fits.fz"
   ]
  },
  {
   "cell_type": "markdown",
   "metadata": {},
   "source": [
    "### Downloading NOAO images to NCSA "
   ]
  },
  {
   "cell_type": "markdown",
   "metadata": {},
   "source": [
    "Example for 20% field - the same for other field densities.\n",
    "\n",
    "1) We went to http://archive.noao.edu/search/query  , selected : \n",
    "* ra,dec = 120.844   , -24.031667\n",
    "* search box  =  10 arcmin \n",
    "* 90 < exposure < 125 \n",
    "* telescope: CTIO 4m + DECam imager \n",
    "* Calibrated images only \n",
    "* public release date < today \n",
    "\n",
    "<img src=\"figures/1_query_noao.png\">\n",
    "\n",
    "2) We obtained  wtmap, dqmask, and  image, selected for staging\n",
    "<img src=\"figures/2_query_results.png\">\n",
    "\n",
    "3) We ssh to NCSA : \n",
    "\n",
    "     ssh scichris@lsst-dev.ncsa.illinois.edu \n",
    "     \n",
    "4) We download staged data from NOAO public server (user number is assigned at each search) : \n",
    "\n",
    "    lftp -u anonymous,lftp archive.noao.edu\n",
    "    cd user_506119 \n",
    "    mirror -L .   \n",
    "5) We move the images to noao_data/  directory  with subdirectories  instcal/  wtmap/  dqmask/:\n",
    "    \n",
    "    mv c4d_170122_055542_ooi_g_v1.fits.fz noao_files/instcal/\n",
    "    mv c4d_170122_055542_oow_g_v1.fits.fz noao_files/wtmap/\n",
    "    mv c4d_170122_055542_ood_g_v1.fits.fz noao_files/dqmask/\n",
    "    "
   ]
  },
  {
   "cell_type": "markdown",
   "metadata": {},
   "source": [
    "### Processing the DECam images in NCSA with LSST Stack "
   ]
  },
  {
   "cell_type": "markdown",
   "metadata": {},
   "source": [
    "The following is an example for 20% field : those would be similar for other fields, with differing visit number ."
   ]
  },
  {
   "cell_type": "markdown",
   "metadata": {},
   "source": [
    "1) We login to NCSA:  \n",
    "    \n",
    "    ssh scichris@lsst-dev.ncsa.illinois.edu\n",
    "    \n",
    "2) We setup the tools : \n",
    "        \n",
    "    source /ssd/lsstsw/stack/loadLSST.bash\n",
    "    setup obs_decam\n",
    "\n",
    "3) We ingest the image ( assumed to reside in the noao_files/ subdirectories ) to repo/ directory : \n",
    "    \n",
    "    ingestImagesDecam.py repo/ noao_files/instcal/c4d_170122_055542*.fits.fz\n",
    "   \n",
    "At this stage we note what visit number is assigned to this image (it is also saved in the FITS header) , eg \n",
    "   \n",
    "   ingest INFO: /home/scichris/noao_files/instcal/c4d_170122_055542_ooi_g_v1.fits.fz --<link>--> /home/scichris/repo/**0611980**/instcal0611980.fits.fz\n",
    "   \n",
    "   \n",
    "4) Process the image  ( here we process all CCD's - otherwise we would specify ccdnum = #,  eg. 10 )  \n",
    "\n",
    "    processCcd.py repo --rerun proc20perc  --id visit=611980  -C config_processccd.py --clobber-config\n"
   ]
  },
  {
   "cell_type": "markdown",
   "metadata": {},
   "source": [
    "Move the results of LSST processing from the NCSA machine to a local workstation (eg. my laptop) : \n",
    "\n",
    "    cd /Users/chris/GradResearch/LSST_crowded_fields/data_products/LSST_Stack/DECam/\n",
    "    mkdir 611980\n",
    "    mv 611980\n",
    "    scp scichris@lsst-dev.ncsa.illinois.edu:/home/scichris/repo/rerun/proc20perc/611980/src/\\*.fits .\n",
    "     scp scichris@lsst-dev.ncsa.illinois.edu:/home/scichris/repo/rerun/proc20perc/611980/calexp/\\*.fits ."
   ]
  },
  {
   "cell_type": "markdown",
   "metadata": {},
   "source": []
  },
  {
   "cell_type": "code",
   "execution_count": null,
   "metadata": {
    "collapsed": true
   },
   "outputs": [],
   "source": []
  },
  {
   "cell_type": "code",
   "execution_count": 382,
   "metadata": {
    "collapsed": true
   },
   "outputs": [],
   "source": [
    "# Necessary imports ..\n",
    "\n",
    "import matplotlib.pyplot as plt\n",
    "from astropy.table import Table\n",
    "import os\n",
    "import numpy as np\n",
    "from astropy.io import fits\n",
    "from astropy.stats import sigma_clipped_stats\n",
    "from astropy.visualization import SqrtStretch\n",
    "from astropy.visualization.mpl_normalize import ImageNormalize\n",
    "import urllib.request\n",
    "\n",
    "from astropy.coordinates import SkyCoord\n",
    "from astropy import units as u\n",
    "\n",
    "from itertools import product\n",
    "from astropy.coordinates import SkyCoord\n",
    "from astropy import units as u\n",
    "from astropy.table import hstack\n",
    "from astropy.table import vstack\n",
    "from scipy.stats import binned_statistic as bs\n"
   ]
  },
  {
   "cell_type": "markdown",
   "metadata": {},
   "source": [
    "### Download decaps single-epoch catalog  : "
   ]
  },
  {
   "cell_type": "code",
   "execution_count": 212,
   "metadata": {
    "collapsed": true
   },
   "outputs": [],
   "source": [
    "# the cat name is based on the image name ... \n",
    "image_name = 'c4d_170122_055542_ooi_g'\n",
    "cat_name = image_name + '_v1.cat.fits'\n",
    "file_name  = '../data_products/DEcAPS_Catalogs/single_epoch/' + cat_name"
   ]
  },
  {
   "cell_type": "code",
   "execution_count": 22,
   "metadata": {
    "collapsed": false
   },
   "outputs": [
    {
     "data": {
      "text/plain": [
       "('../data_products/DEcAPS_Catalogs/single_epoch/c4d_170122_055542_ooi_g_v1.cat.fits',\n",
       " <http.client.HTTPMessage at 0x10ee94828>)"
      ]
     },
     "execution_count": 22,
     "metadata": {},
     "output_type": "execute_result"
    }
   ],
   "source": [
    "# download the single-epoch catalog...\n",
    "\n",
    "url = 'https://faun.rc.fas.harvard.edu/decaps/release/cat/' + cat_name\n",
    "urllib.request.urlretrieve(url, file_name)"
   ]
  },
  {
   "cell_type": "markdown",
   "metadata": {},
   "source": [
    "### From decaps single-epoch catalog obtain tile numbers to download band-merged catalogs "
   ]
  },
  {
   "cell_type": "code",
   "execution_count": 213,
   "metadata": {
    "collapsed": false
   },
   "outputs": [],
   "source": [
    "decaps_hdu = fits.open(file_name)\n",
    "#http://www.astropy.org/astropy-tutorials/FITS-tables.html\n",
    "# hdu.info() would display all available tables - \n",
    "# there is a single catalog per CCD, \n",
    "# called 'S21_CAT', etc, based on CCD name. \n",
    "\n",
    "# save the zero point for this catalog \n",
    "decaps_zeropoint = decaps_hdu[0].header['MAGZERO']  # one per entire image composed of multiple CCDs"
   ]
  },
  {
   "cell_type": "code",
   "execution_count": 223,
   "metadata": {
    "collapsed": false
   },
   "outputs": [
    {
     "data": {
      "text/plain": [
       "XTENSION= 'IMAGE   '           / Image extension                                \n",
       "BITPIX  =                  -64 / array data type                                \n",
       "NAXIS   =                    1 / number of array dimensions                     \n",
       "NAXIS1  =                    0                                                  \n",
       "PCOUNT  =                    0 / number of parameters                           \n",
       "GCOUNT  =                    1 / number of groups                               \n",
       "ORIGIN  = 'NOAO-IRAF FITS Image Kernel July 2003' / FITS file originator        \n",
       "EXTNAME = 'N25_HDR '           / Extension name                                 \n",
       "IRAF-TLM= '2017-01-25T00:51:40' / Time of last modification                     \n",
       "INHERIT =                    T / Inherits global header                         \n",
       "DATE    = '2017-01-25T00:51:04' / Date FITS file was generated                  \n",
       "WCSAXES =                    2 / WCS Dimensionality                             \n",
       "DETSEC  = '[22533:24572,6149:10236]' / Location of this CCD on Focal Plane      \n",
       "DETECTOR= 'S3-208_124750-3-2'  / Detector Identifier                            \n",
       "CCDNUM  =                   56 / CCD number                                     \n",
       "DETPOS  = 'N25     '           / detector position ID                           \n",
       "GAINA   =                3.892 / [electrons/adu] Gain for amp A                 \n",
       "RDNOISEA=             5.748484 / [electrons] Read noise for amp A               \n",
       "SATURATA=              49415.0 / [adu] Saturation for amp A                     \n",
       "GAINB   =                4.091 / [electrons/adu] Gain for amp B                 \n",
       "RDNOISEB=             5.874676 / [electrons] Read noise for amp B               \n",
       "SATURATB=              42401.0 / [adu] Saturation for amp B                     \n",
       "CRPIX1  =    -9121.80000000001 / Reference pixel on this axis                   \n",
       "CRPIX2  =     8436.00000000001 / Reference pixel on this axis                   \n",
       "FPA     = 'DECAM_BKP1'         / DECam focal plane name                         \n",
       "SLOT00  = 'MCB 15 5.210000'    / Monsoon module                                 \n",
       "SLOT01  = 'DESCB 22 4.010000'  / Monsoon module                                 \n",
       "SLOT02  = 'DESCB 3 4.010000'   / Monsoon module                                 \n",
       "SLOT03  = 'CCD12 16 4.080000'  / Monsoon module                                 \n",
       "SLOT04  = 'CCD12 11 4.080000'  / Monsoon module                                 \n",
       "SLOT05  = 'CCD12 14 4.080000'  / Monsoon module                                 \n",
       "PV1_7   =   2.465808450933E-03 / Projection distortion parameter                \n",
       "CUNIT1  = 'deg     '           / Axis unit                                      \n",
       "PV2_8   =   1.125794891738E-02 / Projection distortion parameter                \n",
       "PV2_9   =   9.593930319333E-03 / Projection distortion parameter                \n",
       "CD1_1   =   1.463783878651E-08 / Linear projection matrix                       \n",
       "LTM2_2  =                  1.0 / Detector to image transformation               \n",
       "PV2_0   =  -4.434289543923E-03 / Projection distortion parameter                \n",
       "PV2_1   =   9.770522559690E-01 / Projection distortion parameter                \n",
       "PV2_2   =   1.217988478153E-02 / Projection distortion parameter                \n",
       "PV2_3   =                  0.0 / PV distortion coefficient                      \n",
       "PV2_4   =  -4.098158942918E-02 / Projection distortion parameter                \n",
       "PV2_5   =   2.339002111437E-02 / Projection distortion parameter                \n",
       "PV2_6   =   1.223771547778E-02 / Projection distortion parameter                \n",
       "PV2_7   =  -2.178749927042E-02 / Projection distortion parameter                \n",
       "LTM1_1  =                  1.0 / Detector to image transformation               \n",
       "PV1_6   =   1.523282952289E-02 / Projection distortion parameter                \n",
       "PV2_10  =   3.411618441501E-03 / Projection distortion parameter                \n",
       "PV1_4   =   1.444638312884E-02 / Projection distortion parameter                \n",
       "PV1_3   =                  0.0 / PV distortion coefficient                      \n",
       "PV1_2   =   1.462551106503E-02 / Projection distortion parameter                \n",
       "PV1_1   =   1.018901761660E+00 / Projection distortion parameter                \n",
       "PV1_0   =   6.084357133306E-03 / Projection distortion parameter                \n",
       "PV1_9   =   8.347697696531E-03 / Projection distortion parameter                \n",
       "PV1_8   =   1.207233343673E-02 / Projection distortion parameter                \n",
       "CD1_2   =   7.285637307967E-05 / Linear projection matrix                       \n",
       "PV1_5   =   2.396565284167E-02 / Projection distortion parameter                \n",
       "CUNIT2  = 'deg     '           / Axis unit                                      \n",
       "CD2_1   =  -7.285323814484E-05 / Linear projection matrix                       \n",
       "CD2_2   =   1.546618689010E-08 / Linear projection matrix                       \n",
       "LTV2    =                  -1. / Detector to image transformation               \n",
       "LTV1    =                  -1. / Detector to image transformation               \n",
       "PV1_10  =   5.626153091781E-03 / Projection distortion parameter                \n",
       "CTYPE2  = 'DEC--TPV'           / WCS projection type for this axis              \n",
       "CTYPE1  = 'RA---TPV'           / WCS projection type for this axis              \n",
       "CRVAL1  =   1.208840003889E+02 / World coordinate on this axis                  \n",
       "CRVAL2  =  -2.403167728193E+01 / World coordinate on this axis                  \n",
       "DESDCXTK= 'Tue Jan 24 14:08:49 2017' / DECam image conversion and crosstalk corr\n",
       "DESOSCN = 'Tue Jan 24 14:08:49 2017' / overscan corrected                       \n",
       "DESSAT  = 'Tue Jan 24 14:08:49 2017' / saturated pixels flagged                 \n",
       "NSATPIX =                 5614 / Number of saturated pixels                     \n",
       "DESBIAS = 'Tue Jan 24 14:32:48 2017' / bias subtracted                          \n",
       "BIASFIL = 'DEC16B_20170116_8da5864-57772Z_56.fits' / Bias image                 \n",
       "DESFLAT = 'Tue Jan 24 14:32:48 2017' / flat fielded                             \n",
       "FLATFIL = 'DEC16B_20170116_8da5864-57772gF_56.fits' / Flat image                \n",
       "DESILLUM= 'Tue Jan 24 14:32:48 2017' / Illumination Corrected                   \n",
       "ILLUMFIL= 'DECam_Master_20130829v3-gI_ci[N25]' / Illumination image             \n",
       "SKYSIGMA=        5.9448800E+00 / Sky Sigma (ADU)                                \n",
       "SKYBRITE=        1.2407594E+02 / Sky Brightness (ADU)                           \n",
       "HISTORY DESDM: imcorrect DEC16B_20170116_8da5864-filg-ccd56.ccd -output ccdproc_\n",
       "HISTORY pm/DECam_Master_20170101_cd_56.fits -linear /data/sharedfs/deccp/Archive\n",
       "HISTORY 7772Z_56.fits -flatten /data/sharedfs/deccp/NHPPS_DATA/CAL/dflat/57772/D\n",
       "HISTORY EC16B_20170116_8da5864-57772gF_56.fits -illumination /data/sharedfs/decc\n",
       "HISTORY gI_ci_g_56.fits -variancetype WEIGHT -updatesky -MEF -verbose 3 -interpo\n",
       "SATURATE=               49415. / Global Saturate Value                          \n",
       "DESBLEED= 'Tue Jan 24 14:44:23 2017' / bleed trail masking                      \n",
       "NBLEED  = 14322  / Number of bleed trail pixels.                                \n",
       "STARMASK= 'Tue Jan 24 14:44:23 2017' / created bright star mask                 \n",
       "HISTORY 4-filg-ccd56/DEC16B_20170116_8da5864-g-170122055314_56.fits omibleed_56.\n",
       "FIXPIX  = 'Jan 24 14:44 Bad pixel file is omibleed_56_bpm.pl'                   \n",
       "FWHM    =             5.462356 / Median FWHM in pixels                          \n",
       "ELLIPTIC=           0.03403825 / Median ELLIPTICITY                             \n",
       "DESCRMSK= 'Tue Jan 24 15:03:22 2017' / Masked the image                         \n",
       "HISTORY DESDM: maskcosmics omimask_56.fits -crays -crfract 0.20 -crsig2 2.00 -lo\n",
       "AVSKY   =             131.6845                                                  \n",
       "AVSIG   =             6.264233                                                  \n",
       "BPM     = 'DEC16B_20170116_8da5864-g-20170122T055314_od[N25]'                   \n",
       "ILLUMCOR= 'DEC16B_20161220_8d6ef9b-gI_ci[N25]'                                  \n",
       "WCSDIM  =                    2                                                  \n",
       "WAT0_001= 'system=image'                                                        \n",
       "WAT1_001= 'wtype=tpv axtype=ra'                                                 \n",
       "WAT2_001= 'wtype=tpv axtype=dec'                                                \n",
       "RA1     = '8:01:29.07'         / [h] RA CCD center                              \n",
       "DEC1    = '-24:46:14.6'        / [deg] DEC CCD center                           \n",
       "CENRA1  =             120.3711 / [deg] RA CCD center                            \n",
       "CENDEC1 =            -24.77072 / [deg] DEC CCD center                           \n",
       "COR1RA1 =             120.2069 / [deg] RA CCD corner                            \n",
       "COR1DEC1=            -24.69534 / [deg] DEC CCD corner                           \n",
       "COR2RA1 =             120.2064 / [deg] RA CCD corner                            \n",
       "COR2DEC1=            -24.84448 / [deg] DEC CCD corner                           \n",
       "COR3RA1 =             120.5359 / [deg] RA CCD corner                            \n",
       "COR3DEC1=            -24.69686 / [deg] DEC CCD corner                           \n",
       "COR4RA1 =             120.5357 / [deg] RA CCD corner                            \n",
       "COR4DEC1=            -24.84591 / [deg] DEC CCD corner                           \n",
       "WTMAP   = 'DEC16B_20170116_8da5864-g-20170122T055314_ow[N25]'                   \n",
       "ARAWGAIN=                 4.38 / [e/adu] Average raw gain                       \n",
       "FZALGOR = 'RICE_1  '                                                            \n",
       "FZQMETHD= 'SUBTRACTIVE_DITHER_1'                                                \n",
       "FZQVALUE=                    4                                                  \n",
       "FZDTHRSD= 'CHECKSUM'                                                            \n",
       "HISTORY Image was compressed by CFITSIO using scaled integer quantization:      \n",
       "HISTORY   q = 4.000000 / quantized level scaling parameter                      \n",
       "HISTORY 'SUBTRACTIVE_DITHER_1' / Pixel Quantization Algorithm                   \n",
       "ZDITHER0=                 3498 / dithering offset when quantizing floats        \n",
       "CHECKSUM= 'AWIGDVHDAVHDAVHD'   / HDU checksum updated 2017-01-25T00:55:24       \n",
       "DATASUM = '3287010535'         / data unit checksum updated 2017-01-25T00:55:24 \n",
       "GAINCRWD=    3.737240791320801                                                  \n",
       "SKYCRWD =    130.7718200683594                                                  \n",
       "FWHMCRWD=    6.343679428100586                                                  "
      ]
     },
     "execution_count": 223,
     "metadata": {},
     "output_type": "execute_result"
    }
   ],
   "source": [
    "decaps_hdu[163].header"
   ]
  },
  {
   "cell_type": "markdown",
   "metadata": {},
   "source": [
    "Obtain the coordinates of the corners and the center of the mosaic : "
   ]
  },
  {
   "cell_type": "code",
   "execution_count": 24,
   "metadata": {
    "collapsed": true
   },
   "outputs": [],
   "source": [
    "centra = decaps_hdu[0].header['CENTRA']\n",
    "centdec  = decaps_hdu[0].header['CENTDEC']\n",
    "corner_dic = {'ra':np.zeros(4), \n",
    "              'dec':np.zeros(4)}\n",
    "\n",
    "for corner in np.arange(1,5) : \n",
    "    corn_ra = 'CORN'+str(corner)+'RA'\n",
    "    corn_dec  = 'CORN'+str(corner)+'DEC'\n",
    "    corner_dic['ra'][corner-1] = decaps_hdu[0].header[corn_ra]\n",
    "    corner_dic['dec'][corner-1] = decaps_hdu[0].header[corn_dec]\n"
   ]
  },
  {
   "cell_type": "code",
   "execution_count": 25,
   "metadata": {
    "collapsed": false
   },
   "outputs": [
    {
     "name": "stdout",
     "output_type": "stream",
     "text": [
      "This DECaPS field is centered on \n",
      "l,b = 242.428426, 3.773817\n"
     ]
    }
   ],
   "source": [
    "\n",
    "\n",
    "# initialize corners and center of the field in degrees \n",
    "corners  = SkyCoord(ra = corner_dic['ra'] * u.degree, \n",
    "                   dec = corner_dic['dec']*u.degree)\n",
    "center = SkyCoord(ra = centra * u.degree, dec = centdec * u.degree)\n",
    "\n",
    "# print\n",
    "print('This DECaPS field is centered on ')\n",
    "print('l,b = %f, %f'%(center.galactic.l.degree, center.galactic.b.degree))"
   ]
  },
  {
   "cell_type": "code",
   "execution_count": 26,
   "metadata": {
    "collapsed": false
   },
   "outputs": [
    {
     "name": "stdout",
     "output_type": "stream",
     "text": [
      "We will download\n",
      "['decam_flux_l241.5b2.5.fits', 'decam_flux_l242.5b2.5.fits', 'decam_flux_l243.5b2.5.fits', 'decam_flux_l241.5b3.5.fits', 'decam_flux_l242.5b3.5.fits', 'decam_flux_l243.5b3.5.fits', 'decam_flux_l241.5b4.5.fits', 'decam_flux_l242.5b4.5.fits', 'decam_flux_l243.5b4.5.fits', 'decam_flux_l241.5b5.5.fits', 'decam_flux_l242.5b5.5.fits', 'decam_flux_l243.5b5.5.fits']\n"
     ]
    }
   ],
   "source": [
    "# note: handle both positive and negative cases of galactic latitude, \n",
    "# since longitude is always positive\n",
    "\n",
    "# Make an array of tile latitudes: \n",
    "\n",
    "# closest  half integer to the maximum latitude:\n",
    "top_latitude = np.ceil(max(corners.galactic.b.degree)) \n",
    "bottom_latitude = np.floor(min(corners.galactic.b.degree))\n",
    "latitudes = np.arange(bottom_latitude, top_latitude) + 0.5\n",
    "\n",
    "\n",
    "# Make an array of tile longitudes \n",
    "\n",
    "maxL = max(corners.galactic.l.degree) \n",
    "minL = min(corners.galactic.l.degree)\n",
    "if maxL - minL > 200 : \n",
    "    # the boundary case ( around 0 longitude)\n",
    "    left_longitude = np.floor(maxL)\n",
    "    right_longitude = np.ceil(minL)\n",
    "    a = np.arange(left_longitude, 360 ) +0.5\n",
    "    longitudes = np.append(a, np.arange(1,right_longitude)-0.5) \n",
    "else : \n",
    "    # the standard case (both on same side )\n",
    "    left_longitude = np.floor(minL)\n",
    "    right_longitude = np.ceil(maxL)\n",
    "    longitudes = np.arange(left_longitude, right_longitude) + 0.5\n",
    "    \n",
    "\n",
    "# https://faun.rc.fas.harvard.edu/decaps/release/band-merged/decam_flux_l1.5bm6.5.fits \n",
    "decaps_catalogs = []\n",
    "for lat,lon in product(latitudes, longitudes):\n",
    "    if lat >= 0 : \n",
    "        catname = 'decam_flux_l' + str(lon) + 'b'  + str(lat) + '.fits'\n",
    "    if lat < 0 : \n",
    "        catname  = 'decam_flux_l' + str(lon) + 'b'  + 'm' + str(lat)[1:]+ '.fits'\n",
    "    decaps_catalogs.append(catname)\n",
    "    \n",
    "    \n",
    "print('We will try to download')\n",
    "print(decaps_catalogs)    "
   ]
  },
  {
   "cell_type": "code",
   "execution_count": 46,
   "metadata": {
    "collapsed": true
   },
   "outputs": [],
   "source": [
    "print('First check which tiles are available : ')\n",
    "# Check that against the list of what is available ... \n",
    "# https://faun.rc.fas.harvard.edu/decaps/release/band-merged/\n",
    "url = 'https://faun.rc.fas.harvard.edu/decaps/release/band-merged/'\n",
    "with urllib.request.urlopen(url) as response:\n",
    "    html = response.read()\n"
   ]
  },
  {
   "cell_type": "code",
   "execution_count": 63,
   "metadata": {
    "collapsed": false
   },
   "outputs": [],
   "source": [
    "# we convert bytes object to a string \n",
    "html_string = html.decode(\"utf-8\") \n",
    "\n",
    "good_catalogs = []\n",
    "for i in range(0,len(decaps_catalogs)) :\n",
    "    if decaps_catalogs[i] in html_string:\n",
    "        good_catalogs.append(decaps_catalogs[i])"
   ]
  },
  {
   "cell_type": "code",
   "execution_count": 64,
   "metadata": {
    "collapsed": false
   },
   "outputs": [
    {
     "data": {
      "text/plain": [
       "['decam_flux_l241.5b2.5.fits',\n",
       " 'decam_flux_l242.5b2.5.fits',\n",
       " 'decam_flux_l243.5b2.5.fits',\n",
       " 'decam_flux_l241.5b3.5.fits',\n",
       " 'decam_flux_l242.5b3.5.fits',\n",
       " 'decam_flux_l243.5b3.5.fits',\n",
       " 'decam_flux_l241.5b4.5.fits',\n",
       " 'decam_flux_l242.5b4.5.fits',\n",
       " 'decam_flux_l243.5b4.5.fits',\n",
       " 'decam_flux_l242.5b5.5.fits',\n",
       " 'decam_flux_l243.5b5.5.fits']"
      ]
     },
     "execution_count": 64,
     "metadata": {},
     "output_type": "execute_result"
    }
   ],
   "source": [
    "print('We found that these are available : ')\n",
    "print(good_catalogs)\n"
   ]
  },
  {
   "cell_type": "code",
   "execution_count": 72,
   "metadata": {
    "collapsed": false
   },
   "outputs": [
    {
     "name": "stdout",
     "output_type": "stream",
     "text": [
      "But these have not been downloaded yet:\n",
      "['decam_flux_l242.5b5.5.fits' 'decam_flux_l243.5b5.5.fits']\n"
     ]
    }
   ],
   "source": [
    "print('But these have not been downloaded yet:')\n",
    "downloaded = os.listdir('../data_products/DEcAPS_Catalogs/band_merged/')\n",
    "mask_to_download = ~np.in1d(good_catalogs, downloaded)\n",
    "get_catalogs = np.array(good_catalogs)[mask_to_download]\n",
    "print(get_catalogs)"
   ]
  },
  {
   "cell_type": "code",
   "execution_count": 73,
   "metadata": {
    "collapsed": false
   },
   "outputs": [],
   "source": [
    "# Note - this may take a while to run because it \n",
    "# will download all the needed catalog tiles ... \n",
    "import urllib.request\n",
    "for file in get_catalogs : \n",
    "    file_name = '../data_products/DEcAPS_Catalogs/band_merged/'+file\n",
    "    url = 'https://faun.rc.fas.harvard.edu/decaps/release/band-merged/'+file\n",
    "    urllib.request.urlretrieve(url, file_name)"
   ]
  },
  {
   "cell_type": "code",
   "execution_count": null,
   "metadata": {
    "collapsed": true
   },
   "outputs": [],
   "source": []
  },
  {
   "cell_type": "code",
   "execution_count": null,
   "metadata": {
    "collapsed": true
   },
   "outputs": [],
   "source": []
  },
  {
   "cell_type": "markdown",
   "metadata": {},
   "source": [
    "Aside : illustrate the downloaded tiles : "
   ]
  },
  {
   "cell_type": "code",
   "execution_count": 18,
   "metadata": {
    "collapsed": false
   },
   "outputs": [
    {
     "data": {
      "text/plain": [
       "<matplotlib.text.Text at 0x10ed54ac8>"
      ]
     },
     "execution_count": 18,
     "metadata": {},
     "output_type": "execute_result"
    },
    {
     "data": {
      "image/png": "[encoded data removed]",
      "text/plain": [
       "<matplotlib.figure.Figure at 0x10d4ee898>"
      ]
     },
     "metadata": {},
     "output_type": "display_data"
    }
   ],
   "source": [
    "%matplotlib inline\n",
    "        \n",
    "# NOTE : The illustration only really works  for positive latitude, ( eg. b = 3,6 )\n",
    "# and both longitudes must be on the same side of the 0 meridian ( eg. l = 241, 245)\n",
    "\n",
    "# The decaps fields are arranged as a grid of \n",
    "# fields : \n",
    "l_field, b_field = center.galactic.l.degree, center.galactic.b.degree\n",
    "\n",
    "lmin = np.floor(l_field) - 1 \n",
    "bmin = np.floor(b_field) - 1\n",
    "fig,ax = plt.subplots(1,1)\n",
    "for l in np.arange(lmin,lmin+4) :\n",
    "    ax.axvline(l)\n",
    "for b in np.arange(bmin,bmin+4):\n",
    "    ax.axhline(b)\n",
    "ax.set_xlim(lmin-0.5,lmin+4)\n",
    "ax.set_ylim(bmin-0.5, bmin+4)\n",
    "ax.scatter(l_field, b_field, s=54)\n",
    "for c in corners : \n",
    "    ax.scatter(c.galactic.l, c.galactic.b, s=34, marker='*')\n",
    "ax.set_xlabel('l')\n",
    "ax.set_ylabel('b')\n",
    "ax.set_title('Field 611980, center and corners')"
   ]
  },
  {
   "cell_type": "markdown",
   "metadata": {},
   "source": [
    "### Completeness : match the decals single-epoch catalog to LSST source catalog "
   ]
  },
  {
   "cell_type": "markdown",
   "metadata": {},
   "source": [
    "We match the decals catalog that corresponds exactly to the LSST-processed image, CCD by CCD. \n",
    "1) Read the LSST source catalogs for a given CCD "
   ]
  },
  {
   "cell_type": "code",
   "execution_count": 75,
   "metadata": {
    "collapsed": false
   },
   "outputs": [
    {
     "data": {
      "text/plain": [
       "'/Users/chris/GradResearch/LSST_crowded_fields/code'"
      ]
     },
     "execution_count": 75,
     "metadata": {},
     "output_type": "execute_result"
    }
   ],
   "source": [
    "visit = '611980'\n",
    "outDir = '../data_products/LSST_Stack/DECam/'+visit+'/'\n",
    "\n",
    "# read ccd by ccd,  and check corresponding ccd data in the \n",
    "# decals single-epoch catalog\n",
    "\n",
    "\n"
   ]
  },
  {
   "cell_type": "code",
   "execution_count": 324,
   "metadata": {
    "collapsed": false
   },
   "outputs": [
    {
     "name": "stdout",
     "output_type": "stream",
     "text": [
      "The lsst measured zeropoint for decam is 29.047000\n",
      "[ {1: 'S29', 3: 'S31', 4: 'S25', 5: 'S26', 6: 'S27', 7: 'S28', 8: 'S20', 9: 'S21', 10: 'S22', 11: 'S23', 12: 'S24', 13: 'S14', 14: 'S15', 15: 'S16', 16: 'S17', 17: 'S18', 18: 'S19', 19: 'S8', 20: 'S9', 21: 'S10', 22: 'S11', 23: 'S12', 24: 'S13', 25: 'S1', 26: 'S2', 27: 'S3', 28: 'S4', 29: 'S5', 30: 'S6', 31: 'S7', 32: 'N1', 33: 'N2', 34: 'N3', 35: 'N4', 36: 'N5', 37: 'N6', 38: 'N7', 39: 'N8', 40: 'N9', 41: 'N10', 42: 'N11', 43: 'N12', 44: 'N13', 45: 'N14', 46: 'N15', 47: 'N16', 48: 'N17', 49: 'N18', 50: 'N19', 51: 'N20', 52: 'N21', 53: 'N22', 54: 'N23', 55: 'N24', 56: 'N25', 57: 'N26', 58: 'N27', 59: 'N28', 60: 'N29', 62: 'N31'}]\n",
      "[ {1: 3, 3: 6, 4: 9, 5: 12, 6: 15, 7: 18, 8: 21, 9: 24, 10: 27, 11: 30, 12: 33, 13: 36, 14: 39, 15: 42, 16: 45, 17: 48, 18: 51, 19: 54, 20: 57, 21: 60, 22: 63, 23: 66, 24: 69, 25: 72, 26: 75, 27: 78, 28: 81, 29: 84, 30: 87, 31: 90, 32: 93, 33: 96, 34: 99, 35: 102, 36: 105, 37: 108, 38: 111, 39: 114, 40: 117, 41: 120, 42: 123, 43: 126, 44: 129, 45: 132, 46: 135, 47: 138, 48: 141, 49: 144, 50: 147, 51: 150, 52: 153, 53: 156, 54: 159, 55: 162, 56: 165, 57: 168, 58: 171, 59: 174, 60: 177, 62: 180}]\n"
     ]
    }
   ],
   "source": [
    "visit = '611980'\n",
    "outDir = '../data_products/LSST_Stack/DECam/'+visit+'/'\n",
    "\n",
    "\n",
    "# first check calexp for zero point magnitude\n",
    "# it is exactly the same for all CCDs in a mosaic \n",
    "calexp_files = os.listdir(outDir+'calexp/')\n",
    "fname = calexp_files[0]\n",
    "# read in the zeropoint from the calexp file \n",
    "calexp_hdu = fits.open(outDir+'calexp/' + fname)\n",
    "lsst_zeropoint = calexp_hdu[0].header['MAGZERO']\n",
    "print('The lsst measured zeropoint for decam is %f'%lsst_zeropoint)\n",
    "\n",
    "# Make only once : the translation of ccdnum to ccdname,  to position in the \n",
    "# decals hdu \n",
    "\n",
    "ccd_name_dict = {}\n",
    "catalog_decaps_pos = {}\n",
    "\n",
    "for i in range(1,180) : \n",
    "    if 'IMAGE' in decaps_hdu[i].header['XTENSION'] :\n",
    "        ccdnum = decaps_hdu[i].header['CCDNUM']\n",
    "        detpos = decaps_hdu[i].header['DETPOS']\n",
    "        ccd_name_dict[ccdnum] = detpos\n",
    "        catalog_decaps_pos[ccdnum] = int(i+2)\n",
    "        \n",
    "# The coveted dictionary of ccdnum  vs ccdname ! \n",
    "print(np.ravel(ccd_name_dict))\n",
    "\n",
    "# and the translation of ccdnum  to hduposition of the catalog .... \n",
    "print(np.ravel(catalog_decaps_pos))\n"
   ]
  },
  {
   "cell_type": "code",
   "execution_count": 376,
   "metadata": {
    "collapsed": false
   },
   "outputs": [
    {
     "name": "stdout",
     "output_type": "stream",
     "text": [
      "src-0611980_23.fits\n",
      "For ccd number 23 \n",
      "The ccd name is S12\n",
      "and the position in the decaps hdu catalog is 66\n"
     ]
    },
    {
     "name": "stderr",
     "output_type": "stream",
     "text": [
      "/Users/chris/anaconda3/envs/py36/lib/python3.6/site-packages/ipykernel/__main__.py:30: RuntimeWarning: invalid value encountered in log10\n",
      "/Users/chris/anaconda3/envs/py36/lib/python3.6/site-packages/ipykernel/__main__.py:62: RuntimeWarning: invalid value encountered in less\n",
      "/Users/chris/anaconda3/envs/py36/lib/python3.6/site-packages/ipykernel/__main__.py:101: RuntimeWarning: invalid value encountered in true_divide\n"
     ]
    },
    {
     "name": "stdout",
     "output_type": "stream",
     "text": [
      "There are 5068 decaps sources  and 4461 lsst sources.\n",
      " 3775 decaps srcs have an lsst match within 2 arcsec\n",
      " 3640 decaps srcs have an lsst match within 0.50 mag\n",
      " 3573 decaps srcs have an lsst match fulfilling both criteria\n"
     ]
    },
    {
     "data": {
      "image/png": "[encoded data removed]",
      "text/plain": [
       "<matplotlib.figure.Figure at 0x11e6c67f0>"
      ]
     },
     "metadata": {},
     "output_type": "display_data"
    }
   ],
   "source": [
    "# processing individual ccd's ... \n",
    "\n",
    "#def process_src_ccd(outDir, visit, i):\n",
    "i=0\n",
    "src_files = os.listdir(outDir+'src/')\n",
    "start = len('src-0'+visit+'_')\n",
    "stop = len('.fits')\n",
    "ccdnum  = src_files[i][start:-stop]  # string\n",
    "ccd_number = float(ccdnum)\n",
    "fname = 'src-0'+visit+'_'+ccdnum+'.fits'\n",
    "hdu = fits.open(outDir +'src/'+ fname)\n",
    "print(fname)\n",
    "\n",
    "# convert to an AstroPy table \n",
    "ccd_data = Table(hdu[1].data)\n",
    "\n",
    "# only consider positive fluxes... \n",
    "mask_neg_fluxes = ccd_data['base_PsfFlux_flux'].data > 0\n",
    "# just select rows that don't have negative fluxes...\n",
    "ccd_data_good = ccd_data[mask_neg_fluxes]\n",
    "ccd_data_good['lsst_mag'] = -2.512 * np.log10(ccd_data_good['base_PsfFlux_flux'])   +\\\n",
    "   lsst_zeropoint\n",
    "\n",
    "# Display mapping information\n",
    "print('For ccd number %d ' % ccd_number)\n",
    "print('The ccd name is %s'% ccd_name_dict[ccd_number])\n",
    "print('and the position in the decaps hdu catalog is %d'%catalog_decaps_pos[ccd_number])\n",
    "\n",
    "# read in decaps single-epoch catalog for that ccd... \n",
    "ccd_decaps_cat =  Table(decaps_hdu[catalog_decaps_pos[ccd_number]].data) \n",
    "\n",
    "# convert the fluxes to magnitudes \n",
    "ccd_decaps_cat['decaps_mag'] = -2.512 * np.log10(ccd_decaps_cat['flux'].data) +\\\n",
    "decaps_zeropoint\n",
    "\n",
    "\n",
    "\n",
    "\n",
    "\n",
    "# Match sources from  decaps to lsst  per ccd \n",
    "# decam coordinates\n",
    "decam_coord = SkyCoord(ra  = ccd_decaps_cat['ra']*u.degree, \n",
    "                       dec = ccd_decaps_cat['dec']*u.degree)  \n",
    "\n",
    "# lsst coordinates : in radians ! \n",
    "lsst_coord = SkyCoord(ra = ccd_data_good['coord_ra']*u.radian, \n",
    "                      dec= ccd_data_good['coord_dec']*u.radian)  \n",
    "\n",
    "\n",
    "# indices are into lsst ccd catalog \n",
    "# match decaps into lsst ... \n",
    "idx, d2d, d3d = decam_coord.match_to_catalog_sky(lsst_coord)  \n",
    "\n",
    "# stack the two catalogs \n",
    "lsst_decam= hstack([ccd_decaps_cat ,ccd_data_good[idx]],\n",
    "               table_names=['decam','lsst']  )\n",
    "\n",
    "print('There are %d decaps sources  and %d lsst sources.'%(len(decam_coord),\n",
    "                                                      len(lsst_coord))\n",
    "     )\n",
    "\n",
    "# matches within two arcsec...\n",
    "cut_arcsec = 2 \n",
    "mask_arcsec = d2d.arcsec < cut_arcsec\n",
    "\n",
    "# matches within 0.5 mag from one another ... \n",
    "lsst_decam['dmag'] = lsst_decam['lsst_mag'] - lsst_decam['decaps_mag']\n",
    "cut_mag = 0.5\n",
    "mask_mag = abs(lsst_decam['dmag'].data) < cut_mag\n",
    "mask_comb  = mask_arcsec * mask_mag\n",
    "\n",
    "\n",
    "print(' %d decaps srcs have an lsst match within %d arcsec'%(\n",
    "    np.sum(mask_arcsec), cut_arcsec)\n",
    "     )\n",
    "print(' %d decaps srcs have an lsst match within %.2f mag'%(\n",
    "    np.sum(mask_mag), cut_mag)\n",
    "     )\n",
    "print(' %d decaps srcs have an lsst match fulfilling both criteria'%np.sum(mask_comb)\n",
    "     )\n",
    "\n",
    "# make  a smaller table with only 'good matches', \n",
    "# keeping only the magnitudes.. \n",
    "# matched =  lsst_decam[mask_comb][['lsst_mag', 'decaps_mag']]\n",
    "\n",
    "\n",
    "# Using the original table, make a column to flag which \n",
    "# decaps srcs have a good lsst match \n",
    "\n",
    "# Initialize with zeros\n",
    "lsst_decam['lsst_match'] = 0\n",
    "\n",
    "# Set to 1 only where the match is good, i.e. fulfills the combined selection masks\n",
    "lsst_decam['lsst_match'][mask_comb] = 1 \n",
    "\n",
    "# Plot completeness ... \n",
    "bins = np.arange(12,24,0.25)\n",
    "\n",
    "stat_mag = bs(lsst_decam['decaps_mag'], lsst_decam['decaps_mag'] , bins =bins ,\n",
    "          statistic='count')\n",
    "\n",
    "stat_count = bs(lsst_decam['decaps_mag'], lsst_decam['lsst_match'] , bins =bins ,\n",
    "          statistic=np.sum)\n",
    "\n",
    "decaps_count = stat_mag.statistic[1:]\n",
    "lsst_matched_count = stat_count.statistic[1:]\n",
    "\n",
    "completeness = 100 * (lsst_matched_count / decaps_count)\n",
    "\n",
    "%matplotlib inline\n",
    "fig,ax = plt.subplots(1,1,figsize = (8,6))\n",
    "ax.scatter(stat_mag.bin_edges[2:]+0.25, completeness)\n",
    "ax.set_ylabel('completeness %')\n",
    "ax.set_xlabel('true: decals mag')\n",
    "ax.set_title('LSST vs single-epoch decals ccd#'+str(int(ccd_number))+\\\n",
    "             ', '+ ccd_name_dict[ccd_number])\n",
    "\n",
    "\n",
    "ax2 = ax.twinx()\n",
    "\n",
    "ax2.plot(stat_mag.bin_edges[2:]+0.25, decaps_count, c='indigo')\n",
    "ax2.set_ylabel('decals count')\n",
    "\n",
    "# single out only those decals that have a good lsst match,\n",
    "# so that we can plot the counts of lsst along the magnitude \n",
    "# of matched decals source... \n",
    "matched =  lsst_decam[mask_comb][['lsst_mag', 'decaps_mag']]\n",
    "stat_lsst = bs(  matched['decaps_mag'], matched['lsst_mag'] , bins = bins , \n",
    "             statistic = 'count' ) \n",
    "\n",
    "ax2.plot(stat_lsst.bin_edges[2:]+0.25, stat_lsst.statistic[1:])\n",
    "\n",
    "\n",
    "# plot also raw lsst along lsst magnitudes ...\n",
    "stat_raw = bs(ccd_data_good['lsst_mag'], ccd_data_good['lsst_mag'],\n",
    "             bins=bins, statistic='count')\n",
    "ax2.plot(stat_raw.bin_edges[2:]+0.25, stat_raw.statistic[1:])\n",
    "\n",
    "fname = '../data_products/decaps_lsst_compare/' + 'ccd'+str(int(ccd_number))+\\\n",
    "             '_'+ ccd_name_dict[ccd_number] + '.png'\n",
    "plt.show()\n",
    "#plt.savefig(fname)\n",
    "fig.clear()"
   ]
  },
  {
   "cell_type": "code",
   "execution_count": 372,
   "metadata": {
    "collapsed": false
   },
   "outputs": [
    {
     "name": "stdout",
     "output_type": "stream",
     "text": [
      "src-0611980_23.fits\n",
      "For ccd number 23 \n",
      "The ccd name is S12\n",
      "and the position in the decaps hdu catalog is 66\n"
     ]
    },
    {
     "name": "stderr",
     "output_type": "stream",
     "text": [
      "/Users/chris/anaconda3/envs/py36/lib/python3.6/site-packages/ipykernel/__main__.py:29: RuntimeWarning: invalid value encountered in log10\n",
      "/Users/chris/anaconda3/envs/py36/lib/python3.6/site-packages/ipykernel/__main__.py:61: RuntimeWarning: invalid value encountered in less\n"
     ]
    },
    {
     "name": "stdout",
     "output_type": "stream",
     "text": [
      "There are 5068 decaps sources  and 4461 lsst sources.\n",
      " 3775 decaps srcs have an lsst match within 2 arcsec\n",
      " 3640 decaps srcs have an lsst match within 0.50 mag\n",
      " 3573 decaps srcs have an lsst match fulfilling both criteria\n",
      "src-0611980_35.fits\n",
      "For ccd number 35 \n",
      "The ccd name is N4\n",
      "and the position in the decaps hdu catalog is 102\n"
     ]
    },
    {
     "name": "stderr",
     "output_type": "stream",
     "text": [
      "/Users/chris/anaconda3/envs/py36/lib/python3.6/site-packages/ipykernel/__main__.py:29: RuntimeWarning: invalid value encountered in log10\n",
      "/Users/chris/anaconda3/envs/py36/lib/python3.6/site-packages/ipykernel/__main__.py:61: RuntimeWarning: invalid value encountered in less\n"
     ]
    },
    {
     "name": "stdout",
     "output_type": "stream",
     "text": [
      "There are 5591 decaps sources  and 4974 lsst sources.\n",
      " 3817 decaps srcs have an lsst match within 2 arcsec\n",
      " 3971 decaps srcs have an lsst match within 0.50 mag\n",
      " 3482 decaps srcs have an lsst match fulfilling both criteria\n",
      "src-0611980_62.fits\n",
      "For ccd number 62 \n",
      "The ccd name is N31\n",
      "and the position in the decaps hdu catalog is 180\n"
     ]
    },
    {
     "name": "stderr",
     "output_type": "stream",
     "text": [
      "/Users/chris/anaconda3/envs/py36/lib/python3.6/site-packages/ipykernel/__main__.py:29: RuntimeWarning: invalid value encountered in log10\n",
      "/Users/chris/anaconda3/envs/py36/lib/python3.6/site-packages/ipykernel/__main__.py:61: RuntimeWarning: invalid value encountered in less\n"
     ]
    },
    {
     "name": "stdout",
     "output_type": "stream",
     "text": [
      "There are 5637 decaps sources  and 4988 lsst sources.\n",
      " 4230 decaps srcs have an lsst match within 2 arcsec\n",
      " 4077 decaps srcs have an lsst match within 0.50 mag\n",
      " 4001 decaps srcs have an lsst match fulfilling both criteria\n",
      "src-0611980_19.fits\n",
      "For ccd number 19 \n",
      "The ccd name is S8\n",
      "and the position in the decaps hdu catalog is 54\n"
     ]
    },
    {
     "name": "stderr",
     "output_type": "stream",
     "text": [
      "/Users/chris/anaconda3/envs/py36/lib/python3.6/site-packages/ipykernel/__main__.py:29: RuntimeWarning: invalid value encountered in log10\n",
      "/Users/chris/anaconda3/envs/py36/lib/python3.6/site-packages/ipykernel/__main__.py:61: RuntimeWarning: invalid value encountered in less\n"
     ]
    },
    {
     "name": "stdout",
     "output_type": "stream",
     "text": [
      "There are 5884 decaps sources  and 3139 lsst sources.\n",
      " 2535 decaps srcs have an lsst match within 2 arcsec\n",
      " 2556 decaps srcs have an lsst match within 0.50 mag\n",
      " 2338 decaps srcs have an lsst match fulfilling both criteria\n",
      "src-0611980_58.fits\n",
      "For ccd number 58 \n",
      "The ccd name is N27\n",
      "and the position in the decaps hdu catalog is 171\n"
     ]
    },
    {
     "name": "stderr",
     "output_type": "stream",
     "text": [
      "/Users/chris/anaconda3/envs/py36/lib/python3.6/site-packages/ipykernel/__main__.py:29: RuntimeWarning: invalid value encountered in log10\n",
      "/Users/chris/anaconda3/envs/py36/lib/python3.6/site-packages/ipykernel/__main__.py:61: RuntimeWarning: invalid value encountered in less\n"
     ]
    },
    {
     "name": "stdout",
     "output_type": "stream",
     "text": [
      "There are 5497 decaps sources  and 4984 lsst sources.\n",
      " 4238 decaps srcs have an lsst match within 2 arcsec\n",
      " 4033 decaps srcs have an lsst match within 0.50 mag\n",
      " 3981 decaps srcs have an lsst match fulfilling both criteria\n",
      "src-0611980_39.fits\n",
      "For ccd number 39 \n",
      "The ccd name is N8\n",
      "and the position in the decaps hdu catalog is 114\n"
     ]
    },
    {
     "name": "stderr",
     "output_type": "stream",
     "text": [
      "/Users/chris/anaconda3/envs/py36/lib/python3.6/site-packages/ipykernel/__main__.py:29: RuntimeWarning: invalid value encountered in log10\n"
     ]
    },
    {
     "name": "stdout",
     "output_type": "stream",
     "text": [
      "There are 6293 decaps sources  and 5057 lsst sources.\n",
      " 4348 decaps srcs have an lsst match within 2 arcsec\n",
      " 4173 decaps srcs have an lsst match within 0.50 mag\n",
      " 4088 decaps srcs have an lsst match fulfilling both criteria\n",
      "src-0611980_15.fits\n",
      "For ccd number 15 \n",
      "The ccd name is S16\n",
      "and the position in the decaps hdu catalog is 42\n"
     ]
    },
    {
     "name": "stderr",
     "output_type": "stream",
     "text": [
      "/Users/chris/anaconda3/envs/py36/lib/python3.6/site-packages/ipykernel/__main__.py:61: RuntimeWarning: invalid value encountered in less\n",
      "/Users/chris/anaconda3/envs/py36/lib/python3.6/site-packages/ipykernel/__main__.py:29: RuntimeWarning: invalid value encountered in log10\n",
      "/Users/chris/anaconda3/envs/py36/lib/python3.6/site-packages/ipykernel/__main__.py:61: RuntimeWarning: invalid value encountered in less\n"
     ]
    },
    {
     "name": "stdout",
     "output_type": "stream",
     "text": [
      "There are 4813 decaps sources  and 4208 lsst sources.\n",
      " 3202 decaps srcs have an lsst match within 2 arcsec\n",
      " 3369 decaps srcs have an lsst match within 0.50 mag\n",
      " 3036 decaps srcs have an lsst match fulfilling both criteria\n",
      "src-0611980_42.fits\n",
      "For ccd number 42 \n",
      "The ccd name is N11\n",
      "and the position in the decaps hdu catalog is 123\n"
     ]
    },
    {
     "name": "stderr",
     "output_type": "stream",
     "text": [
      "/Users/chris/anaconda3/envs/py36/lib/python3.6/site-packages/ipykernel/__main__.py:29: RuntimeWarning: invalid value encountered in log10\n"
     ]
    },
    {
     "name": "stdout",
     "output_type": "stream",
     "text": [
      "There are 5773 decaps sources  and 4820 lsst sources.\n",
      " 4205 decaps srcs have an lsst match within 2 arcsec\n",
      " 3925 decaps srcs have an lsst match within 0.50 mag\n",
      " 3858 decaps srcs have an lsst match fulfilling both criteria\n"
     ]
    },
    {
     "name": "stderr",
     "output_type": "stream",
     "text": [
      "/Users/chris/anaconda3/envs/py36/lib/python3.6/site-packages/ipykernel/__main__.py:61: RuntimeWarning: invalid value encountered in less\n"
     ]
    },
    {
     "name": "stdout",
     "output_type": "stream",
     "text": [
      "src-0611980_54.fits\n",
      "For ccd number 54 \n",
      "The ccd name is N23\n",
      "and the position in the decaps hdu catalog is 159\n"
     ]
    },
    {
     "name": "stderr",
     "output_type": "stream",
     "text": [
      "/Users/chris/anaconda3/envs/py36/lib/python3.6/site-packages/ipykernel/__main__.py:29: RuntimeWarning: invalid value encountered in log10\n",
      "/Users/chris/anaconda3/envs/py36/lib/python3.6/site-packages/ipykernel/__main__.py:61: RuntimeWarning: invalid value encountered in less\n"
     ]
    },
    {
     "name": "stdout",
     "output_type": "stream",
     "text": [
      "There are 5637 decaps sources  and 5012 lsst sources.\n",
      " 4126 decaps srcs have an lsst match within 2 arcsec\n",
      " 3934 decaps srcs have an lsst match within 0.50 mag\n",
      " 3831 decaps srcs have an lsst match fulfilling both criteria\n",
      "src-0611980_03.fits\n",
      "For ccd number 3 \n",
      "The ccd name is S31\n",
      "and the position in the decaps hdu catalog is 6\n",
      "There are 4383 decaps sources  and 3967 lsst sources.\n",
      " 3269 decaps srcs have an lsst match within 2 arcsec\n",
      " 3208 decaps srcs have an lsst match within 0.50 mag\n",
      " 3118 decaps srcs have an lsst match fulfilling both criteria\n",
      "src-0611980_55.fits\n",
      "For ccd number 55 \n",
      "The ccd name is N24\n",
      "and the position in the decaps hdu catalog is 162\n"
     ]
    },
    {
     "name": "stderr",
     "output_type": "stream",
     "text": [
      "/Users/chris/anaconda3/envs/py36/lib/python3.6/site-packages/ipykernel/__main__.py:29: RuntimeWarning: invalid value encountered in log10\n",
      "/Users/chris/anaconda3/envs/py36/lib/python3.6/site-packages/ipykernel/__main__.py:61: RuntimeWarning: invalid value encountered in less\n"
     ]
    },
    {
     "name": "stdout",
     "output_type": "stream",
     "text": [
      "There are 5333 decaps sources  and 4728 lsst sources.\n",
      " 4029 decaps srcs have an lsst match within 2 arcsec\n",
      " 3828 decaps srcs have an lsst match within 0.50 mag\n",
      " 3751 decaps srcs have an lsst match fulfilling both criteria\n",
      "src-0611980_43.fits\n",
      "For ccd number 43 \n",
      "The ccd name is N12\n",
      "and the position in the decaps hdu catalog is 126\n"
     ]
    },
    {
     "name": "stderr",
     "output_type": "stream",
     "text": [
      "/Users/chris/anaconda3/envs/py36/lib/python3.6/site-packages/ipykernel/__main__.py:29: RuntimeWarning: invalid value encountered in log10\n",
      "/Users/chris/anaconda3/envs/py36/lib/python3.6/site-packages/ipykernel/__main__.py:61: RuntimeWarning: invalid value encountered in less\n"
     ]
    },
    {
     "name": "stdout",
     "output_type": "stream",
     "text": [
      "There are 5635 decaps sources  and 4798 lsst sources.\n",
      " 4168 decaps srcs have an lsst match within 2 arcsec\n",
      " 3937 decaps srcs have an lsst match within 0.50 mag\n",
      " 3846 decaps srcs have an lsst match fulfilling both criteria\n",
      "src-0611980_14.fits\n",
      "For ccd number 14 \n",
      "The ccd name is S15\n",
      "and the position in the decaps hdu catalog is 39\n"
     ]
    },
    {
     "name": "stderr",
     "output_type": "stream",
     "text": [
      "/Users/chris/anaconda3/envs/py36/lib/python3.6/site-packages/ipykernel/__main__.py:29: RuntimeWarning: invalid value encountered in log10\n",
      "/Users/chris/anaconda3/envs/py36/lib/python3.6/site-packages/ipykernel/__main__.py:61: RuntimeWarning: invalid value encountered in less\n"
     ]
    },
    {
     "name": "stdout",
     "output_type": "stream",
     "text": [
      "There are 4879 decaps sources  and 4326 lsst sources.\n",
      " 3454 decaps srcs have an lsst match within 2 arcsec\n",
      " 3513 decaps srcs have an lsst match within 0.50 mag\n",
      " 3291 decaps srcs have an lsst match fulfilling both criteria\n",
      "src-0611980_38.fits\n",
      "For ccd number 38 \n",
      "The ccd name is N7\n",
      "and the position in the decaps hdu catalog is 111\n"
     ]
    },
    {
     "name": "stderr",
     "output_type": "stream",
     "text": [
      "/Users/chris/anaconda3/envs/py36/lib/python3.6/site-packages/ipykernel/__main__.py:29: RuntimeWarning: invalid value encountered in log10\n",
      "/Users/chris/anaconda3/envs/py36/lib/python3.6/site-packages/ipykernel/__main__.py:61: RuntimeWarning: invalid value encountered in less\n"
     ]
    },
    {
     "name": "stdout",
     "output_type": "stream",
     "text": [
      "There are 4552 decaps sources  and 4350 lsst sources.\n",
      " 3064 decaps srcs have an lsst match within 2 arcsec\n",
      " 3321 decaps srcs have an lsst match within 0.50 mag\n",
      " 2845 decaps srcs have an lsst match fulfilling both criteria\n",
      "src-0611980_59.fits\n",
      "For ccd number 59 \n",
      "The ccd name is N28\n",
      "and the position in the decaps hdu catalog is 174\n"
     ]
    },
    {
     "name": "stderr",
     "output_type": "stream",
     "text": [
      "/Users/chris/anaconda3/envs/py36/lib/python3.6/site-packages/ipykernel/__main__.py:29: RuntimeWarning: invalid value encountered in log10\n",
      "/Users/chris/anaconda3/envs/py36/lib/python3.6/site-packages/ipykernel/__main__.py:61: RuntimeWarning: invalid value encountered in less\n"
     ]
    },
    {
     "name": "stdout",
     "output_type": "stream",
     "text": [
      "There are 5470 decaps sources  and 4884 lsst sources.\n",
      " 3795 decaps srcs have an lsst match within 2 arcsec\n",
      " 3831 decaps srcs have an lsst match within 0.50 mag\n",
      " 3476 decaps srcs have an lsst match fulfilling both criteria\n",
      "src-0611980_18.fits\n",
      "For ccd number 18 \n",
      "The ccd name is S19\n",
      "and the position in the decaps hdu catalog is 51\n",
      "There are 4885 decaps sources  and 4251 lsst sources.\n",
      " 3561 decaps srcs have an lsst match within 2 arcsec\n",
      " 3473 decaps srcs have an lsst match within 0.50 mag\n",
      " 3397 decaps srcs have an lsst match fulfilling both criteria\n",
      "src-0611980_34.fits\n",
      "For ccd number 34 \n",
      "The ccd name is N3\n",
      "and the position in the decaps hdu catalog is 99\n"
     ]
    },
    {
     "name": "stderr",
     "output_type": "stream",
     "text": [
      "/Users/chris/anaconda3/envs/py36/lib/python3.6/site-packages/ipykernel/__main__.py:29: RuntimeWarning: invalid value encountered in log10\n",
      "/Users/chris/anaconda3/envs/py36/lib/python3.6/site-packages/ipykernel/__main__.py:61: RuntimeWarning: invalid value encountered in less\n"
     ]
    },
    {
     "name": "stdout",
     "output_type": "stream",
     "text": [
      "There are 5711 decaps sources  and 4899 lsst sources.\n",
      " 3842 decaps srcs have an lsst match within 2 arcsec\n",
      " 3903 decaps srcs have an lsst match within 0.50 mag\n",
      " 3567 decaps srcs have an lsst match fulfilling both criteria\n",
      "src-0611980_22.fits\n",
      "For ccd number 22 \n",
      "The ccd name is S11\n",
      "and the position in the decaps hdu catalog is 63\n"
     ]
    },
    {
     "name": "stderr",
     "output_type": "stream",
     "text": [
      "/Users/chris/anaconda3/envs/py36/lib/python3.6/site-packages/ipykernel/__main__.py:29: RuntimeWarning: invalid value encountered in log10\n",
      "/Users/chris/anaconda3/envs/py36/lib/python3.6/site-packages/ipykernel/__main__.py:61: RuntimeWarning: invalid value encountered in less\n"
     ]
    },
    {
     "name": "stdout",
     "output_type": "stream",
     "text": [
      "There are 5309 decaps sources  and 4562 lsst sources.\n",
      " 3845 decaps srcs have an lsst match within 2 arcsec\n",
      " 3704 decaps srcs have an lsst match within 0.50 mag\n",
      " 3632 decaps srcs have an lsst match fulfilling both criteria\n",
      "src-0611980_29.fits\n",
      "For ccd number 29 \n",
      "The ccd name is S5\n",
      "and the position in the decaps hdu catalog is 84\n",
      "There are 5107 decaps sources  and 4647 lsst sources.\n",
      " 3923 decaps srcs have an lsst match within 2 arcsec\n",
      " 3736 decaps srcs have an lsst match within 0.50 mag\n",
      " 3669 decaps srcs have an lsst match fulfilling both criteria\n",
      "src-0611980_13.fits\n",
      "For ccd number 13 \n",
      "The ccd name is S14\n",
      "and the position in the decaps hdu catalog is 36\n"
     ]
    },
    {
     "name": "stderr",
     "output_type": "stream",
     "text": [
      "/Users/chris/anaconda3/envs/py36/lib/python3.6/site-packages/ipykernel/__main__.py:29: RuntimeWarning: invalid value encountered in log10\n",
      "/Users/chris/anaconda3/envs/py36/lib/python3.6/site-packages/ipykernel/__main__.py:61: RuntimeWarning: invalid value encountered in less\n"
     ]
    },
    {
     "name": "stdout",
     "output_type": "stream",
     "text": [
      "There are 5093 decaps sources  and 3832 lsst sources.\n",
      " 3206 decaps srcs have an lsst match within 2 arcsec\n",
      " 3058 decaps srcs have an lsst match within 0.50 mag\n",
      " 3019 decaps srcs have an lsst match fulfilling both criteria\n",
      "src-0611980_44.fits\n",
      "For ccd number 44 \n",
      "The ccd name is N13\n",
      "and the position in the decaps hdu catalog is 129\n"
     ]
    },
    {
     "name": "stderr",
     "output_type": "stream",
     "text": [
      "/Users/chris/anaconda3/envs/py36/lib/python3.6/site-packages/ipykernel/__main__.py:29: RuntimeWarning: invalid value encountered in log10\n",
      "/Users/chris/anaconda3/envs/py36/lib/python3.6/site-packages/ipykernel/__main__.py:61: RuntimeWarning: invalid value encountered in less\n"
     ]
    },
    {
     "name": "stdout",
     "output_type": "stream",
     "text": [
      "There are 6629 decaps sources  and 3629 lsst sources.\n",
      " 2606 decaps srcs have an lsst match within 2 arcsec\n",
      " 2631 decaps srcs have an lsst match within 0.50 mag\n",
      " 2221 decaps srcs have an lsst match fulfilling both criteria\n",
      "src-0611980_52.fits\n",
      "For ccd number 52 \n",
      "The ccd name is N21\n",
      "and the position in the decaps hdu catalog is 153\n"
     ]
    },
    {
     "name": "stderr",
     "output_type": "stream",
     "text": [
      "/Users/chris/anaconda3/envs/py36/lib/python3.6/site-packages/ipykernel/__main__.py:29: RuntimeWarning: invalid value encountered in log10\n",
      "/Users/chris/anaconda3/envs/py36/lib/python3.6/site-packages/ipykernel/__main__.py:61: RuntimeWarning: invalid value encountered in less\n"
     ]
    },
    {
     "name": "stdout",
     "output_type": "stream",
     "text": [
      "There are 5668 decaps sources  and 5031 lsst sources.\n",
      " 4250 decaps srcs have an lsst match within 2 arcsec\n",
      " 4077 decaps srcs have an lsst match within 0.50 mag\n",
      " 4019 decaps srcs have an lsst match fulfilling both criteria\n",
      "src-0611980_05.fits\n",
      "For ccd number 5 \n",
      "The ccd name is S26\n",
      "and the position in the decaps hdu catalog is 12\n"
     ]
    },
    {
     "name": "stderr",
     "output_type": "stream",
     "text": [
      "/Users/chris/anaconda3/envs/py36/lib/python3.6/site-packages/ipykernel/__main__.py:29: RuntimeWarning: invalid value encountered in log10\n",
      "/Users/chris/anaconda3/envs/py36/lib/python3.6/site-packages/ipykernel/__main__.py:61: RuntimeWarning: invalid value encountered in less\n"
     ]
    },
    {
     "name": "stdout",
     "output_type": "stream",
     "text": [
      "There are 4861 decaps sources  and 4439 lsst sources.\n",
      " 3586 decaps srcs have an lsst match within 2 arcsec\n",
      " 3554 decaps srcs have an lsst match within 0.50 mag\n",
      " 3422 decaps srcs have an lsst match fulfilling both criteria\n",
      "src-0611980_25.fits\n",
      "For ccd number 25 \n",
      "The ccd name is S1\n",
      "and the position in the decaps hdu catalog is 72\n"
     ]
    },
    {
     "name": "stderr",
     "output_type": "stream",
     "text": [
      "/Users/chris/anaconda3/envs/py36/lib/python3.6/site-packages/ipykernel/__main__.py:29: RuntimeWarning: invalid value encountered in log10\n",
      "/Users/chris/anaconda3/envs/py36/lib/python3.6/site-packages/ipykernel/__main__.py:61: RuntimeWarning: invalid value encountered in less\n"
     ]
    },
    {
     "name": "stdout",
     "output_type": "stream",
     "text": [
      "There are 6120 decaps sources  and 4398 lsst sources.\n",
      " 3262 decaps srcs have an lsst match within 2 arcsec\n",
      " 3384 decaps srcs have an lsst match within 0.50 mag\n",
      " 2952 decaps srcs have an lsst match fulfilling both criteria\n",
      "src-0611980_33.fits\n",
      "For ccd number 33 \n",
      "The ccd name is N2\n",
      "and the position in the decaps hdu catalog is 96\n"
     ]
    },
    {
     "name": "stderr",
     "output_type": "stream",
     "text": [
      "/Users/chris/anaconda3/envs/py36/lib/python3.6/site-packages/ipykernel/__main__.py:29: RuntimeWarning: invalid value encountered in log10\n",
      "/Users/chris/anaconda3/envs/py36/lib/python3.6/site-packages/ipykernel/__main__.py:61: RuntimeWarning: invalid value encountered in less\n"
     ]
    },
    {
     "name": "stdout",
     "output_type": "stream",
     "text": [
      "There are 6083 decaps sources  and 5045 lsst sources.\n",
      " 4387 decaps srcs have an lsst match within 2 arcsec\n",
      " 4120 decaps srcs have an lsst match within 0.50 mag\n",
      " 4047 decaps srcs have an lsst match fulfilling both criteria\n",
      "src-0611980_48.fits\n",
      "For ccd number 48 \n",
      "The ccd name is N17\n",
      "and the position in the decaps hdu catalog is 141\n"
     ]
    },
    {
     "name": "stderr",
     "output_type": "stream",
     "text": [
      "/Users/chris/anaconda3/envs/py36/lib/python3.6/site-packages/ipykernel/__main__.py:29: RuntimeWarning: invalid value encountered in log10\n",
      "/Users/chris/anaconda3/envs/py36/lib/python3.6/site-packages/ipykernel/__main__.py:61: RuntimeWarning: invalid value encountered in less\n"
     ]
    },
    {
     "name": "stdout",
     "output_type": "stream",
     "text": [
      "There are 5504 decaps sources  and 4824 lsst sources.\n",
      " 4094 decaps srcs have an lsst match within 2 arcsec\n",
      " 3879 decaps srcs have an lsst match within 0.50 mag\n",
      " 3810 decaps srcs have an lsst match fulfilling both criteria\n",
      "src-0611980_09.fits\n",
      "For ccd number 9 \n",
      "The ccd name is S21\n",
      "and the position in the decaps hdu catalog is 24\n",
      "There are 4855 decaps sources  and 4480 lsst sources.\n",
      " 3752 decaps srcs have an lsst match within 2 arcsec\n",
      " 3630 decaps srcs have an lsst match within 0.50 mag\n",
      " 3556 decaps srcs have an lsst match fulfilling both criteria\n",
      "src-0611980_08.fits\n",
      "For ccd number 8 \n",
      "The ccd name is S20\n",
      "and the position in the decaps hdu catalog is 21\n"
     ]
    },
    {
     "name": "stderr",
     "output_type": "stream",
     "text": [
      "/Users/chris/anaconda3/envs/py36/lib/python3.6/site-packages/ipykernel/__main__.py:29: RuntimeWarning: invalid value encountered in log10\n",
      "/Users/chris/anaconda3/envs/py36/lib/python3.6/site-packages/ipykernel/__main__.py:61: RuntimeWarning: invalid value encountered in less\n"
     ]
    },
    {
     "name": "stdout",
     "output_type": "stream",
     "text": [
      "There are 4595 decaps sources  and 4316 lsst sources.\n",
      " 3579 decaps srcs have an lsst match within 2 arcsec\n",
      " 3502 decaps srcs have an lsst match within 0.50 mag\n",
      " 3439 decaps srcs have an lsst match fulfilling both criteria\n",
      "src-0611980_49.fits\n",
      "For ccd number 49 \n",
      "The ccd name is N18\n",
      "and the position in the decaps hdu catalog is 144\n"
     ]
    },
    {
     "name": "stderr",
     "output_type": "stream",
     "text": [
      "/Users/chris/anaconda3/envs/py36/lib/python3.6/site-packages/ipykernel/__main__.py:29: RuntimeWarning: invalid value encountered in log10\n",
      "/Users/chris/anaconda3/envs/py36/lib/python3.6/site-packages/ipykernel/__main__.py:61: RuntimeWarning: invalid value encountered in less\n"
     ]
    },
    {
     "name": "stdout",
     "output_type": "stream",
     "text": [
      "There are 5611 decaps sources  and 4985 lsst sources.\n",
      " 4258 decaps srcs have an lsst match within 2 arcsec\n",
      " 4050 decaps srcs have an lsst match within 0.50 mag\n",
      " 3988 decaps srcs have an lsst match fulfilling both criteria\n",
      "src-0611980_32.fits\n",
      "For ccd number 32 \n",
      "The ccd name is N1\n",
      "and the position in the decaps hdu catalog is 93\n"
     ]
    },
    {
     "name": "stderr",
     "output_type": "stream",
     "text": [
      "/Users/chris/anaconda3/envs/py36/lib/python3.6/site-packages/ipykernel/__main__.py:29: RuntimeWarning: invalid value encountered in log10\n",
      "/Users/chris/anaconda3/envs/py36/lib/python3.6/site-packages/ipykernel/__main__.py:61: RuntimeWarning: invalid value encountered in less\n"
     ]
    },
    {
     "name": "stdout",
     "output_type": "stream",
     "text": [
      "There are 6245 decaps sources  and 4805 lsst sources.\n",
      " 3727 decaps srcs have an lsst match within 2 arcsec\n",
      " 3868 decaps srcs have an lsst match within 0.50 mag\n",
      " 3451 decaps srcs have an lsst match fulfilling both criteria\n",
      "src-0611980_24.fits\n",
      "For ccd number 24 \n",
      "The ccd name is S13\n",
      "and the position in the decaps hdu catalog is 69\n"
     ]
    },
    {
     "name": "stderr",
     "output_type": "stream",
     "text": [
      "/Users/chris/anaconda3/envs/py36/lib/python3.6/site-packages/ipykernel/__main__.py:29: RuntimeWarning: invalid value encountered in log10\n",
      "/Users/chris/anaconda3/envs/py36/lib/python3.6/site-packages/ipykernel/__main__.py:61: RuntimeWarning: invalid value encountered in less\n"
     ]
    },
    {
     "name": "stdout",
     "output_type": "stream",
     "text": [
      "There are 4778 decaps sources  and 4455 lsst sources.\n",
      " 3684 decaps srcs have an lsst match within 2 arcsec\n",
      " 3593 decaps srcs have an lsst match within 0.50 mag\n",
      " 3516 decaps srcs have an lsst match fulfilling both criteria\n",
      "src-0611980_04.fits\n",
      "For ccd number 4 \n",
      "The ccd name is S25\n",
      "and the position in the decaps hdu catalog is 9\n"
     ]
    },
    {
     "name": "stderr",
     "output_type": "stream",
     "text": [
      "/Users/chris/anaconda3/envs/py36/lib/python3.6/site-packages/ipykernel/__main__.py:29: RuntimeWarning: invalid value encountered in log10\n",
      "/Users/chris/anaconda3/envs/py36/lib/python3.6/site-packages/ipykernel/__main__.py:61: RuntimeWarning: invalid value encountered in less\n"
     ]
    },
    {
     "name": "stdout",
     "output_type": "stream",
     "text": [
      "There are 4595 decaps sources  and 4284 lsst sources.\n",
      " 3486 decaps srcs have an lsst match within 2 arcsec\n",
      " 3372 decaps srcs have an lsst match within 0.50 mag\n",
      " 3313 decaps srcs have an lsst match fulfilling both criteria\n",
      "src-0611980_53.fits\n",
      "For ccd number 53 \n",
      "The ccd name is N22\n",
      "and the position in the decaps hdu catalog is 156\n",
      "There are 5780 decaps sources  and 5123 lsst sources.\n",
      " 4099 decaps srcs have an lsst match within 2 arcsec\n",
      " 3882 decaps srcs have an lsst match within 0.50 mag\n",
      " 3798 decaps srcs have an lsst match fulfilling both criteria\n",
      "src-0611980_45.fits\n",
      "For ccd number 45 \n",
      "The ccd name is N14\n",
      "and the position in the decaps hdu catalog is 132\n"
     ]
    },
    {
     "name": "stderr",
     "output_type": "stream",
     "text": [
      "/Users/chris/anaconda3/envs/py36/lib/python3.6/site-packages/ipykernel/__main__.py:29: RuntimeWarning: invalid value encountered in log10\n",
      "/Users/chris/anaconda3/envs/py36/lib/python3.6/site-packages/ipykernel/__main__.py:61: RuntimeWarning: invalid value encountered in less\n"
     ]
    },
    {
     "name": "stdout",
     "output_type": "stream",
     "text": [
      "There are 6299 decaps sources  and 5168 lsst sources.\n",
      " 4435 decaps srcs have an lsst match within 2 arcsec\n",
      " 4249 decaps srcs have an lsst match within 0.50 mag\n",
      " 4158 decaps srcs have an lsst match fulfilling both criteria\n",
      "src-0611980_12.fits\n",
      "For ccd number 12 \n",
      "The ccd name is S24\n",
      "and the position in the decaps hdu catalog is 33\n",
      "There are 4386 decaps sources  and 4412 lsst sources.\n",
      " 3518 decaps srcs have an lsst match within 2 arcsec\n",
      " 3407 decaps srcs have an lsst match within 0.50 mag\n",
      " 3349 decaps srcs have an lsst match fulfilling both criteria\n",
      "src-0611980_28.fits\n",
      "For ccd number 28 \n",
      "The ccd name is S4\n",
      "and the position in the decaps hdu catalog is 81\n"
     ]
    },
    {
     "name": "stderr",
     "output_type": "stream",
     "text": [
      "/Users/chris/anaconda3/envs/py36/lib/python3.6/site-packages/ipykernel/__main__.py:29: RuntimeWarning: invalid value encountered in log10\n",
      "/Users/chris/anaconda3/envs/py36/lib/python3.6/site-packages/ipykernel/__main__.py:61: RuntimeWarning: invalid value encountered in less\n"
     ]
    },
    {
     "name": "stdout",
     "output_type": "stream",
     "text": [
      "There are 5332 decaps sources  and 4855 lsst sources.\n",
      " 3993 decaps srcs have an lsst match within 2 arcsec\n",
      " 3806 decaps srcs have an lsst match within 0.50 mag\n",
      " 3725 decaps srcs have an lsst match fulfilling both criteria\n",
      "src-0611980_07.fits\n",
      "For ccd number 7 \n",
      "The ccd name is S28\n",
      "and the position in the decaps hdu catalog is 18\n"
     ]
    },
    {
     "name": "stderr",
     "output_type": "stream",
     "text": [
      "/Users/chris/anaconda3/envs/py36/lib/python3.6/site-packages/ipykernel/__main__.py:29: RuntimeWarning: invalid value encountered in log10\n",
      "/Users/chris/anaconda3/envs/py36/lib/python3.6/site-packages/ipykernel/__main__.py:61: RuntimeWarning: invalid value encountered in less\n"
     ]
    },
    {
     "name": "stdout",
     "output_type": "stream",
     "text": [
      "There are 4589 decaps sources  and 4279 lsst sources.\n",
      " 3529 decaps srcs have an lsst match within 2 arcsec\n",
      " 3399 decaps srcs have an lsst match within 0.50 mag\n",
      " 3341 decaps srcs have an lsst match fulfilling both criteria\n",
      "src-0611980_50.fits\n",
      "For ccd number 50 \n",
      "The ccd name is N19\n",
      "and the position in the decaps hdu catalog is 147\n"
     ]
    },
    {
     "name": "stderr",
     "output_type": "stream",
     "text": [
      "/Users/chris/anaconda3/envs/py36/lib/python3.6/site-packages/ipykernel/__main__.py:29: RuntimeWarning: invalid value encountered in log10\n",
      "/Users/chris/anaconda3/envs/py36/lib/python3.6/site-packages/ipykernel/__main__.py:61: RuntimeWarning: invalid value encountered in less\n"
     ]
    },
    {
     "name": "stdout",
     "output_type": "stream",
     "text": [
      "There are 5617 decaps sources  and 4378 lsst sources.\n",
      " 3798 decaps srcs have an lsst match within 2 arcsec\n",
      " 3615 decaps srcs have an lsst match within 0.50 mag\n",
      " 3515 decaps srcs have an lsst match fulfilling both criteria\n",
      "src-0611980_46.fits\n",
      "For ccd number 46 \n",
      "The ccd name is N15\n",
      "and the position in the decaps hdu catalog is 135\n"
     ]
    },
    {
     "name": "stderr",
     "output_type": "stream",
     "text": [
      "/Users/chris/anaconda3/envs/py36/lib/python3.6/site-packages/ipykernel/__main__.py:29: RuntimeWarning: invalid value encountered in log10\n",
      "/Users/chris/anaconda3/envs/py36/lib/python3.6/site-packages/ipykernel/__main__.py:61: RuntimeWarning: invalid value encountered in less\n"
     ]
    },
    {
     "name": "stdout",
     "output_type": "stream",
     "text": [
      "There are 5801 decaps sources  and 5344 lsst sources.\n",
      " 4281 decaps srcs have an lsst match within 2 arcsec\n",
      " 4179 decaps srcs have an lsst match within 0.50 mag\n",
      " 3972 decaps srcs have an lsst match fulfilling both criteria\n",
      "src-0611980_11.fits\n",
      "For ccd number 11 \n",
      "The ccd name is S23\n",
      "and the position in the decaps hdu catalog is 30\n"
     ]
    },
    {
     "name": "stderr",
     "output_type": "stream",
     "text": [
      "/Users/chris/anaconda3/envs/py36/lib/python3.6/site-packages/ipykernel/__main__.py:29: RuntimeWarning: invalid value encountered in log10\n",
      "/Users/chris/anaconda3/envs/py36/lib/python3.6/site-packages/ipykernel/__main__.py:61: RuntimeWarning: invalid value encountered in less\n"
     ]
    },
    {
     "name": "stdout",
     "output_type": "stream",
     "text": [
      "There are 4666 decaps sources  and 4243 lsst sources.\n",
      " 3590 decaps srcs have an lsst match within 2 arcsec\n",
      " 3431 decaps srcs have an lsst match within 0.50 mag\n",
      " 3389 decaps srcs have an lsst match fulfilling both criteria\n",
      "src-0611980_31.fits\n",
      "For ccd number 31 \n",
      "The ccd name is S7\n",
      "and the position in the decaps hdu catalog is 90\n"
     ]
    },
    {
     "name": "stderr",
     "output_type": "stream",
     "text": [
      "/Users/chris/anaconda3/envs/py36/lib/python3.6/site-packages/ipykernel/__main__.py:29: RuntimeWarning: invalid value encountered in log10\n",
      "/Users/chris/anaconda3/envs/py36/lib/python3.6/site-packages/ipykernel/__main__.py:61: RuntimeWarning: invalid value encountered in less\n"
     ]
    },
    {
     "name": "stdout",
     "output_type": "stream",
     "text": [
      "There are 6932 decaps sources  and 2896 lsst sources.\n",
      " 2122 decaps srcs have an lsst match within 2 arcsec\n",
      " 2268 decaps srcs have an lsst match within 0.50 mag\n",
      " 1911 decaps srcs have an lsst match fulfilling both criteria\n",
      "src-0611980_27.fits\n",
      "For ccd number 27 \n",
      "The ccd name is S3\n",
      "and the position in the decaps hdu catalog is 78\n"
     ]
    },
    {
     "name": "stderr",
     "output_type": "stream",
     "text": [
      "/Users/chris/anaconda3/envs/py36/lib/python3.6/site-packages/ipykernel/__main__.py:29: RuntimeWarning: invalid value encountered in log10\n",
      "/Users/chris/anaconda3/envs/py36/lib/python3.6/site-packages/ipykernel/__main__.py:61: RuntimeWarning: invalid value encountered in less\n"
     ]
    },
    {
     "name": "stdout",
     "output_type": "stream",
     "text": [
      "There are 5607 decaps sources  and 4719 lsst sources.\n",
      " 3963 decaps srcs have an lsst match within 2 arcsec\n",
      " 3815 decaps srcs have an lsst match within 0.50 mag\n",
      " 3724 decaps srcs have an lsst match fulfilling both criteria\n",
      "src-0611980_26.fits\n",
      "For ccd number 26 \n",
      "The ccd name is S2\n",
      "and the position in the decaps hdu catalog is 75\n"
     ]
    },
    {
     "name": "stderr",
     "output_type": "stream",
     "text": [
      "/Users/chris/anaconda3/envs/py36/lib/python3.6/site-packages/ipykernel/__main__.py:29: RuntimeWarning: invalid value encountered in log10\n",
      "/Users/chris/anaconda3/envs/py36/lib/python3.6/site-packages/ipykernel/__main__.py:61: RuntimeWarning: invalid value encountered in less\n"
     ]
    },
    {
     "name": "stdout",
     "output_type": "stream",
     "text": [
      "There are 6110 decaps sources  and 4495 lsst sources.\n",
      " 3863 decaps srcs have an lsst match within 2 arcsec\n",
      " 3594 decaps srcs have an lsst match within 0.50 mag\n",
      " 3559 decaps srcs have an lsst match fulfilling both criteria\n",
      "src-0611980_30.fits\n",
      "For ccd number 30 \n",
      "The ccd name is S6\n",
      "and the position in the decaps hdu catalog is 87\n"
     ]
    },
    {
     "name": "stderr",
     "output_type": "stream",
     "text": [
      "/Users/chris/anaconda3/envs/py36/lib/python3.6/site-packages/ipykernel/__main__.py:29: RuntimeWarning: invalid value encountered in log10\n"
     ]
    },
    {
     "name": "stdout",
     "output_type": "stream",
     "text": [
      "There are 4789 decaps sources  and 4473 lsst sources.\n",
      " 3761 decaps srcs have an lsst match within 2 arcsec\n",
      " 3620 decaps srcs have an lsst match within 0.50 mag\n",
      " 3560 decaps srcs have an lsst match fulfilling both criteria\n"
     ]
    },
    {
     "name": "stderr",
     "output_type": "stream",
     "text": [
      "/Users/chris/anaconda3/envs/py36/lib/python3.6/site-packages/ipykernel/__main__.py:61: RuntimeWarning: invalid value encountered in less\n"
     ]
    },
    {
     "name": "stdout",
     "output_type": "stream",
     "text": [
      "src-0611980_10.fits\n",
      "For ccd number 10 \n",
      "The ccd name is S22\n",
      "and the position in the decaps hdu catalog is 27\n"
     ]
    },
    {
     "name": "stderr",
     "output_type": "stream",
     "text": [
      "/Users/chris/anaconda3/envs/py36/lib/python3.6/site-packages/ipykernel/__main__.py:29: RuntimeWarning: invalid value encountered in log10\n",
      "/Users/chris/anaconda3/envs/py36/lib/python3.6/site-packages/ipykernel/__main__.py:61: RuntimeWarning: invalid value encountered in less\n"
     ]
    },
    {
     "name": "stdout",
     "output_type": "stream",
     "text": [
      "There are 4731 decaps sources  and 4370 lsst sources.\n",
      " 3654 decaps srcs have an lsst match within 2 arcsec\n",
      " 3567 decaps srcs have an lsst match within 0.50 mag\n",
      " 3506 decaps srcs have an lsst match fulfilling both criteria\n",
      "src-0611980_47.fits\n",
      "For ccd number 47 \n",
      "The ccd name is N16\n",
      "and the position in the decaps hdu catalog is 138\n",
      "There are 5424 decaps sources  and 4866 lsst sources.\n",
      " 3987 decaps srcs have an lsst match within 2 arcsec\n",
      " 3816 decaps srcs have an lsst match within 0.50 mag\n",
      " 3752 decaps srcs have an lsst match fulfilling both criteria\n",
      "src-0611980_51.fits\n",
      "For ccd number 51 \n",
      "The ccd name is N20\n",
      "and the position in the decaps hdu catalog is 150\n"
     ]
    },
    {
     "name": "stderr",
     "output_type": "stream",
     "text": [
      "/Users/chris/anaconda3/envs/py36/lib/python3.6/site-packages/ipykernel/__main__.py:29: RuntimeWarning: invalid value encountered in log10\n",
      "/Users/chris/anaconda3/envs/py36/lib/python3.6/site-packages/ipykernel/__main__.py:61: RuntimeWarning: invalid value encountered in less\n"
     ]
    },
    {
     "name": "stdout",
     "output_type": "stream",
     "text": [
      "There are 6124 decaps sources  and 5068 lsst sources.\n",
      " 4361 decaps srcs have an lsst match within 2 arcsec\n",
      " 4181 decaps srcs have an lsst match within 0.50 mag\n",
      " 4104 decaps srcs have an lsst match fulfilling both criteria\n",
      "src-0611980_06.fits\n",
      "For ccd number 6 \n",
      "The ccd name is S27\n",
      "and the position in the decaps hdu catalog is 15\n"
     ]
    },
    {
     "name": "stderr",
     "output_type": "stream",
     "text": [
      "/Users/chris/anaconda3/envs/py36/lib/python3.6/site-packages/ipykernel/__main__.py:29: RuntimeWarning: invalid value encountered in log10\n",
      "/Users/chris/anaconda3/envs/py36/lib/python3.6/site-packages/ipykernel/__main__.py:61: RuntimeWarning: invalid value encountered in less\n"
     ]
    },
    {
     "name": "stdout",
     "output_type": "stream",
     "text": [
      "There are 4970 decaps sources  and 4339 lsst sources.\n",
      " 3127 decaps srcs have an lsst match within 2 arcsec\n",
      " 3392 decaps srcs have an lsst match within 0.50 mag\n",
      " 2947 decaps srcs have an lsst match fulfilling both criteria\n",
      "src-0611980_60.fits\n",
      "For ccd number 60 \n",
      "The ccd name is N29\n",
      "and the position in the decaps hdu catalog is 177\n",
      "There are 5525 decaps sources  and 4848 lsst sources.\n",
      " 4147 decaps srcs have an lsst match within 2 arcsec\n",
      " 3942 decaps srcs have an lsst match within 0.50 mag\n",
      " 3874 decaps srcs have an lsst match fulfilling both criteria\n"
     ]
    },
    {
     "name": "stderr",
     "output_type": "stream",
     "text": [
      "/Users/chris/anaconda3/envs/py36/lib/python3.6/site-packages/ipykernel/__main__.py:29: RuntimeWarning: invalid value encountered in log10\n",
      "/Users/chris/anaconda3/envs/py36/lib/python3.6/site-packages/ipykernel/__main__.py:61: RuntimeWarning: invalid value encountered in less\n"
     ]
    },
    {
     "name": "stdout",
     "output_type": "stream",
     "text": [
      "src-0611980_37.fits\n",
      "For ccd number 37 \n",
      "The ccd name is N6\n",
      "and the position in the decaps hdu catalog is 108\n"
     ]
    },
    {
     "name": "stderr",
     "output_type": "stream",
     "text": [
      "/Users/chris/anaconda3/envs/py36/lib/python3.6/site-packages/ipykernel/__main__.py:29: RuntimeWarning: invalid value encountered in log10\n",
      "/Users/chris/anaconda3/envs/py36/lib/python3.6/site-packages/ipykernel/__main__.py:61: RuntimeWarning: invalid value encountered in less\n"
     ]
    },
    {
     "name": "stdout",
     "output_type": "stream",
     "text": [
      "There are 4970 decaps sources  and 4651 lsst sources.\n",
      " 3891 decaps srcs have an lsst match within 2 arcsec\n",
      " 3747 decaps srcs have an lsst match within 0.50 mag\n",
      " 3677 decaps srcs have an lsst match fulfilling both criteria\n",
      "src-0611980_21.fits\n",
      "For ccd number 21 \n",
      "The ccd name is S10\n",
      "and the position in the decaps hdu catalog is 60\n"
     ]
    },
    {
     "name": "stderr",
     "output_type": "stream",
     "text": [
      "/Users/chris/anaconda3/envs/py36/lib/python3.6/site-packages/ipykernel/__main__.py:29: RuntimeWarning: invalid value encountered in log10\n",
      "/Users/chris/anaconda3/envs/py36/lib/python3.6/site-packages/ipykernel/__main__.py:61: RuntimeWarning: invalid value encountered in less\n"
     ]
    },
    {
     "name": "stdout",
     "output_type": "stream",
     "text": [
      "There are 5220 decaps sources  and 4356 lsst sources.\n",
      " 3613 decaps srcs have an lsst match within 2 arcsec\n",
      " 3452 decaps srcs have an lsst match within 0.50 mag\n",
      " 3386 decaps srcs have an lsst match fulfilling both criteria\n",
      "src-0611980_01.fits\n",
      "For ccd number 1 \n",
      "The ccd name is S29\n",
      "and the position in the decaps hdu catalog is 3\n",
      "There are 4808 decaps sources  and 4353 lsst sources.\n",
      " 3631 decaps srcs have an lsst match within 2 arcsec\n",
      " 3514 decaps srcs have an lsst match within 0.50 mag\n",
      " 3452 decaps srcs have an lsst match fulfilling both criteria\n",
      "src-0611980_56.fits\n",
      "For ccd number 56 \n",
      "The ccd name is N25\n",
      "and the position in the decaps hdu catalog is 165\n"
     ]
    },
    {
     "name": "stderr",
     "output_type": "stream",
     "text": [
      "/Users/chris/anaconda3/envs/py36/lib/python3.6/site-packages/ipykernel/__main__.py:29: RuntimeWarning: invalid value encountered in log10\n",
      "/Users/chris/anaconda3/envs/py36/lib/python3.6/site-packages/ipykernel/__main__.py:61: RuntimeWarning: invalid value encountered in less\n"
     ]
    },
    {
     "name": "stdout",
     "output_type": "stream",
     "text": [
      "There are 5869 decaps sources  and 5058 lsst sources.\n",
      " 4270 decaps srcs have an lsst match within 2 arcsec\n",
      " 4130 decaps srcs have an lsst match within 0.50 mag\n",
      " 4046 decaps srcs have an lsst match fulfilling both criteria\n",
      "src-0611980_40.fits\n",
      "For ccd number 40 \n",
      "The ccd name is N9\n",
      "and the position in the decaps hdu catalog is 117\n"
     ]
    },
    {
     "name": "stderr",
     "output_type": "stream",
     "text": [
      "/Users/chris/anaconda3/envs/py36/lib/python3.6/site-packages/ipykernel/__main__.py:29: RuntimeWarning: invalid value encountered in log10\n",
      "/Users/chris/anaconda3/envs/py36/lib/python3.6/site-packages/ipykernel/__main__.py:61: RuntimeWarning: invalid value encountered in less\n"
     ]
    },
    {
     "name": "stdout",
     "output_type": "stream",
     "text": [
      "There are 5943 decaps sources  and 5188 lsst sources.\n",
      " 4443 decaps srcs have an lsst match within 2 arcsec\n",
      " 4211 decaps srcs have an lsst match within 0.50 mag\n",
      " 4143 decaps srcs have an lsst match fulfilling both criteria\n",
      "src-0611980_17.fits\n",
      "For ccd number 17 \n",
      "The ccd name is S18\n",
      "and the position in the decaps hdu catalog is 48\n"
     ]
    },
    {
     "name": "stderr",
     "output_type": "stream",
     "text": [
      "/Users/chris/anaconda3/envs/py36/lib/python3.6/site-packages/ipykernel/__main__.py:29: RuntimeWarning: invalid value encountered in log10\n",
      "/Users/chris/anaconda3/envs/py36/lib/python3.6/site-packages/ipykernel/__main__.py:61: RuntimeWarning: invalid value encountered in less\n"
     ]
    },
    {
     "name": "stdout",
     "output_type": "stream",
     "text": [
      "There are 4568 decaps sources  and 4283 lsst sources.\n",
      " 3540 decaps srcs have an lsst match within 2 arcsec\n",
      " 3410 decaps srcs have an lsst match within 0.50 mag\n",
      " 3358 decaps srcs have an lsst match fulfilling both criteria\n",
      "src-0611980_16.fits\n",
      "For ccd number 16 \n",
      "The ccd name is S17\n",
      "and the position in the decaps hdu catalog is 45\n",
      "There are 4787 decaps sources  and 4504 lsst sources.\n",
      " 3691 decaps srcs have an lsst match within 2 arcsec\n",
      " 3559 decaps srcs have an lsst match within 0.50 mag\n",
      " 3492 decaps srcs have an lsst match fulfilling both criteria\n",
      "src-0611980_41.fits\n",
      "For ccd number 41 \n",
      "The ccd name is N10\n",
      "and the position in the decaps hdu catalog is 120\n"
     ]
    },
    {
     "name": "stderr",
     "output_type": "stream",
     "text": [
      "/Users/chris/anaconda3/envs/py36/lib/python3.6/site-packages/ipykernel/__main__.py:29: RuntimeWarning: invalid value encountered in log10\n",
      "/Users/chris/anaconda3/envs/py36/lib/python3.6/site-packages/ipykernel/__main__.py:61: RuntimeWarning: invalid value encountered in less\n"
     ]
    },
    {
     "name": "stdout",
     "output_type": "stream",
     "text": [
      "There are 5789 decaps sources  and 4853 lsst sources.\n",
      " 4159 decaps srcs have an lsst match within 2 arcsec\n",
      " 3926 decaps srcs have an lsst match within 0.50 mag\n",
      " 3864 decaps srcs have an lsst match fulfilling both criteria\n",
      "src-0611980_57.fits\n",
      "For ccd number 57 \n",
      "The ccd name is N26\n",
      "and the position in the decaps hdu catalog is 168\n"
     ]
    },
    {
     "name": "stderr",
     "output_type": "stream",
     "text": [
      "/Users/chris/anaconda3/envs/py36/lib/python3.6/site-packages/ipykernel/__main__.py:29: RuntimeWarning: invalid value encountered in log10\n",
      "/Users/chris/anaconda3/envs/py36/lib/python3.6/site-packages/ipykernel/__main__.py:61: RuntimeWarning: invalid value encountered in less\n"
     ]
    },
    {
     "name": "stdout",
     "output_type": "stream",
     "text": [
      "There are 5511 decaps sources  and 5034 lsst sources.\n",
      " 4196 decaps srcs have an lsst match within 2 arcsec\n",
      " 4033 decaps srcs have an lsst match within 0.50 mag\n",
      " 3955 decaps srcs have an lsst match fulfilling both criteria\n",
      "src-0611980_20.fits\n",
      "For ccd number 20 \n",
      "The ccd name is S9\n",
      "and the position in the decaps hdu catalog is 57\n"
     ]
    },
    {
     "name": "stderr",
     "output_type": "stream",
     "text": [
      "/Users/chris/anaconda3/envs/py36/lib/python3.6/site-packages/ipykernel/__main__.py:29: RuntimeWarning: invalid value encountered in log10\n",
      "/Users/chris/anaconda3/envs/py36/lib/python3.6/site-packages/ipykernel/__main__.py:61: RuntimeWarning: invalid value encountered in less\n"
     ]
    },
    {
     "name": "stdout",
     "output_type": "stream",
     "text": [
      "There are 5335 decaps sources  and 4613 lsst sources.\n",
      " 3236 decaps srcs have an lsst match within 2 arcsec\n",
      " 3486 decaps srcs have an lsst match within 0.50 mag\n",
      " 2976 decaps srcs have an lsst match fulfilling both criteria\n",
      "src-0611980_36.fits\n",
      "For ccd number 36 \n",
      "The ccd name is N5\n",
      "and the position in the decaps hdu catalog is 105\n"
     ]
    },
    {
     "name": "stderr",
     "output_type": "stream",
     "text": [
      "/Users/chris/anaconda3/envs/py36/lib/python3.6/site-packages/ipykernel/__main__.py:29: RuntimeWarning: invalid value encountered in log10\n",
      "/Users/chris/anaconda3/envs/py36/lib/python3.6/site-packages/ipykernel/__main__.py:61: RuntimeWarning: invalid value encountered in less\n"
     ]
    },
    {
     "name": "stdout",
     "output_type": "stream",
     "text": [
      "There are 5078 decaps sources  and 4751 lsst sources.\n",
      " 4026 decaps srcs have an lsst match within 2 arcsec\n",
      " 3839 decaps srcs have an lsst match within 0.50 mag\n",
      " 3778 decaps srcs have an lsst match fulfilling both criteria\n"
     ]
    },
    {
     "data": {
      "text/plain": [
       "<matplotlib.figure.Figure at 0x125c197b8>"
      ]
     },
     "metadata": {},
     "output_type": "display_data"
    }
   ],
   "source": [
    "# loop over all ccd's...\n",
    "for i in range(len(calexp_files)) : \n",
    "    process_src_ccd(outDir, visit, i)"
   ]
  },
  {
   "cell_type": "code",
   "execution_count": 337,
   "metadata": {
    "collapsed": false
   },
   "outputs": [
    {
     "data": {
      "text/plain": [
       "5068"
      ]
     },
     "execution_count": 337,
     "metadata": {},
     "output_type": "execute_result"
    }
   ],
   "source": [
    "# Indeed,  ccd 44 , N13 looks weird ... "
   ]
  },
  {
   "cell_type": "code",
   "execution_count": 387,
   "metadata": {
    "collapsed": false
   },
   "outputs": [
    {
     "name": "stdout",
     "output_type": "stream",
     "text": [
      "src-0611980_23.fits\n",
      "  * ccd number 23 \n",
      "  * ccd name is S12\n",
      "  * position in  decaps hdu  is 66\n",
      "src-0611980_35.fits\n"
     ]
    },
    {
     "name": "stderr",
     "output_type": "stream",
     "text": [
      "/Users/chris/anaconda3/envs/py36/lib/python3.6/site-packages/ipykernel/__main__.py:53: RuntimeWarning: invalid value encountered in log10\n"
     ]
    },
    {
     "name": "stdout",
     "output_type": "stream",
     "text": [
      "  * ccd number 35 \n",
      "  * ccd name is N4\n",
      "  * position in  decaps hdu  is 102\n",
      "src-0611980_62.fits\n",
      "  * ccd number 62 \n",
      "  * ccd name is N31\n",
      "  * position in  decaps hdu  is 180\n",
      "src-0611980_19.fits\n",
      "  * ccd number 19 \n",
      "  * ccd name is S8\n",
      "  * position in  decaps hdu  is 54\n",
      "src-0611980_58.fits\n",
      "  * ccd number 58 \n",
      "  * ccd name is N27\n",
      "  * position in  decaps hdu  is 171\n",
      "src-0611980_39.fits\n",
      "  * ccd number 39 \n",
      "  * ccd name is N8\n",
      "  * position in  decaps hdu  is 114\n",
      "src-0611980_15.fits\n",
      "  * ccd number 15 \n",
      "  * ccd name is S16\n",
      "  * position in  decaps hdu  is 42\n",
      "src-0611980_42.fits\n",
      "  * ccd number 42 \n",
      "  * ccd name is N11\n",
      "  * position in  decaps hdu  is 123\n",
      "src-0611980_54.fits\n",
      "  * ccd number 54 \n",
      "  * ccd name is N23\n",
      "  * position in  decaps hdu  is 159\n",
      "src-0611980_03.fits\n",
      "  * ccd number 3 \n",
      "  * ccd name is S31\n",
      "  * position in  decaps hdu  is 6\n",
      "src-0611980_55.fits\n",
      "  * ccd number 55 \n",
      "  * ccd name is N24\n",
      "  * position in  decaps hdu  is 162\n",
      "src-0611980_43.fits\n",
      "  * ccd number 43 \n",
      "  * ccd name is N12\n",
      "  * position in  decaps hdu  is 126\n",
      "src-0611980_14.fits\n",
      "  * ccd number 14 \n",
      "  * ccd name is S15\n",
      "  * position in  decaps hdu  is 39\n",
      "src-0611980_38.fits\n",
      "  * ccd number 38 \n",
      "  * ccd name is N7\n",
      "  * position in  decaps hdu  is 111\n",
      "src-0611980_59.fits\n",
      "  * ccd number 59 \n",
      "  * ccd name is N28\n",
      "  * position in  decaps hdu  is 174\n",
      "src-0611980_18.fits\n",
      "  * ccd number 18 \n",
      "  * ccd name is S19\n",
      "  * position in  decaps hdu  is 51\n",
      "src-0611980_34.fits\n",
      "  * ccd number 34 \n",
      "  * ccd name is N3\n",
      "  * position in  decaps hdu  is 99\n",
      "src-0611980_22.fits\n",
      "  * ccd number 22 \n",
      "  * ccd name is S11\n",
      "  * position in  decaps hdu  is 63\n",
      "src-0611980_29.fits\n",
      "  * ccd number 29 \n",
      "  * ccd name is S5\n",
      "  * position in  decaps hdu  is 84\n",
      "src-0611980_13.fits\n",
      "  * ccd number 13 \n",
      "  * ccd name is S14\n",
      "  * position in  decaps hdu  is 36\n",
      "src-0611980_44.fits\n",
      "  * ccd number 44 \n",
      "  * ccd name is N13\n",
      "  * position in  decaps hdu  is 129\n",
      "src-0611980_52.fits\n",
      "  * ccd number 52 \n",
      "  * ccd name is N21\n",
      "  * position in  decaps hdu  is 153\n",
      "src-0611980_05.fits\n",
      "  * ccd number 5 \n",
      "  * ccd name is S26\n",
      "  * position in  decaps hdu  is 12\n",
      "src-0611980_25.fits\n",
      "  * ccd number 25 \n",
      "  * ccd name is S1\n",
      "  * position in  decaps hdu  is 72\n",
      "src-0611980_33.fits\n",
      "  * ccd number 33 \n",
      "  * ccd name is N2\n",
      "  * position in  decaps hdu  is 96\n",
      "src-0611980_48.fits\n",
      "  * ccd number 48 \n",
      "  * ccd name is N17\n",
      "  * position in  decaps hdu  is 141\n",
      "src-0611980_09.fits\n",
      "  * ccd number 9 \n",
      "  * ccd name is S21\n",
      "  * position in  decaps hdu  is 24\n",
      "src-0611980_08.fits\n",
      "  * ccd number 8 \n",
      "  * ccd name is S20\n",
      "  * position in  decaps hdu  is 21\n",
      "src-0611980_49.fits\n",
      "  * ccd number 49 \n",
      "  * ccd name is N18\n",
      "  * position in  decaps hdu  is 144\n",
      "src-0611980_32.fits\n",
      "  * ccd number 32 \n",
      "  * ccd name is N1\n",
      "  * position in  decaps hdu  is 93\n",
      "src-0611980_24.fits\n",
      "  * ccd number 24 \n",
      "  * ccd name is S13\n",
      "  * position in  decaps hdu  is 69\n",
      "src-0611980_04.fits\n",
      "  * ccd number 4 \n",
      "  * ccd name is S25\n",
      "  * position in  decaps hdu  is 9\n",
      "src-0611980_53.fits\n",
      "  * ccd number 53 \n",
      "  * ccd name is N22\n",
      "  * position in  decaps hdu  is 156\n",
      "src-0611980_45.fits\n",
      "  * ccd number 45 \n",
      "  * ccd name is N14\n",
      "  * position in  decaps hdu  is 132\n",
      "src-0611980_12.fits\n",
      "  * ccd number 12 \n",
      "  * ccd name is S24\n",
      "  * position in  decaps hdu  is 33\n",
      "src-0611980_28.fits\n",
      "  * ccd number 28 \n",
      "  * ccd name is S4\n",
      "  * position in  decaps hdu  is 81\n",
      "src-0611980_07.fits\n",
      "  * ccd number 7 \n",
      "  * ccd name is S28\n",
      "  * position in  decaps hdu  is 18\n",
      "src-0611980_50.fits\n",
      "  * ccd number 50 \n",
      "  * ccd name is N19\n",
      "  * position in  decaps hdu  is 147\n",
      "src-0611980_46.fits\n",
      "  * ccd number 46 \n",
      "  * ccd name is N15\n",
      "  * position in  decaps hdu  is 135\n",
      "src-0611980_11.fits\n",
      "  * ccd number 11 \n",
      "  * ccd name is S23\n",
      "  * position in  decaps hdu  is 30\n",
      "src-0611980_31.fits\n",
      "  * ccd number 31 \n",
      "  * ccd name is S7\n",
      "  * position in  decaps hdu  is 90\n",
      "src-0611980_27.fits\n",
      "  * ccd number 27 \n",
      "  * ccd name is S3\n",
      "  * position in  decaps hdu  is 78\n",
      "src-0611980_26.fits\n",
      "  * ccd number 26 \n",
      "  * ccd name is S2\n",
      "  * position in  decaps hdu  is 75\n",
      "src-0611980_30.fits\n",
      "  * ccd number 30 \n",
      "  * ccd name is S6\n",
      "  * position in  decaps hdu  is 87\n",
      "src-0611980_10.fits\n",
      "  * ccd number 10 \n",
      "  * ccd name is S22\n",
      "  * position in  decaps hdu  is 27\n",
      "src-0611980_47.fits\n",
      "  * ccd number 47 \n",
      "  * ccd name is N16\n",
      "  * position in  decaps hdu  is 138\n",
      "src-0611980_51.fits\n",
      "  * ccd number 51 \n",
      "  * ccd name is N20\n",
      "  * position in  decaps hdu  is 150\n",
      "src-0611980_06.fits\n",
      "  * ccd number 6 \n",
      "  * ccd name is S27\n",
      "  * position in  decaps hdu  is 15\n",
      "src-0611980_60.fits\n",
      "  * ccd number 60 \n",
      "  * ccd name is N29\n",
      "  * position in  decaps hdu  is 177\n",
      "src-0611980_37.fits\n",
      "  * ccd number 37 \n",
      "  * ccd name is N6\n",
      "  * position in  decaps hdu  is 108\n",
      "src-0611980_21.fits\n",
      "  * ccd number 21 \n",
      "  * ccd name is S10\n",
      "  * position in  decaps hdu  is 60\n",
      "src-0611980_01.fits\n",
      "  * ccd number 1 \n",
      "  * ccd name is S29\n",
      "  * position in  decaps hdu  is 3\n",
      "src-0611980_56.fits\n",
      "  * ccd number 56 \n",
      "  * ccd name is N25\n",
      "  * position in  decaps hdu  is 165\n",
      "src-0611980_40.fits\n",
      "  * ccd number 40 \n",
      "  * ccd name is N9\n",
      "  * position in  decaps hdu  is 117\n",
      "src-0611980_17.fits\n",
      "  * ccd number 17 \n",
      "  * ccd name is S18\n",
      "  * position in  decaps hdu  is 48\n",
      "src-0611980_16.fits\n",
      "  * ccd number 16 \n",
      "  * ccd name is S17\n",
      "  * position in  decaps hdu  is 45\n",
      "src-0611980_41.fits\n",
      "  * ccd number 41 \n",
      "  * ccd name is N10\n",
      "  * position in  decaps hdu  is 120\n",
      "src-0611980_57.fits\n",
      "  * ccd number 57 \n",
      "  * ccd name is N26\n",
      "  * position in  decaps hdu  is 168\n",
      "src-0611980_20.fits\n",
      "  * ccd number 20 \n",
      "  * ccd name is S9\n",
      "  * position in  decaps hdu  is 57\n",
      "src-0611980_36.fits\n",
      "  * ccd number 36 \n",
      "  * ccd name is N5\n",
      "  * position in  decaps hdu  is 105\n",
      "Done\n"
     ]
    }
   ],
   "source": [
    "# Combine that so that we grab  all lsst sources from all ccd's , \n",
    "# and all decals sources from all ccd's, to improve statistics ... \n",
    "\n",
    "#def process_src_ccd(outDir, visit, i):\n",
    "\n",
    "\n",
    "# Initialize storage AstroPy tables :\n",
    "arr = {'lsst_mag':[], 'coord_ra':[],'coord_dec':[]}\n",
    "ccd_lsst_stack = Table(arr, names=('lsst_mag', 'coord_ra', 'coord_dec'), \n",
    "                 dtype=('f8', 'f8', 'f8'))  \n",
    "\n",
    "arr = {'decaps_mag':[],'ra':[],'dec':[]}\n",
    "ccd_decaps_stack = Table(arr, names = ('decaps_mag', 'ra', 'dec'),\n",
    "                        dtype = ('f8', 'f8', 'f8'))\n",
    "\n",
    "# loop over all ccds adding to stacks...\n",
    "#\n",
    "src_files = os.listdir(outDir+'src/')\n",
    "start = len('src-0'+visit+'_')\n",
    "stop = len('.fits')\n",
    "\n",
    "for i in range(len(src_files)):\n",
    "    ccdnum  = src_files[i][start:-stop]  # string\n",
    "    ccd_number = float(ccdnum)\n",
    "    fname = 'src-0'+visit+'_'+ccdnum+'.fits'\n",
    "    hdu = fits.open(outDir +'src/'+ fname)\n",
    "    print(fname)\n",
    "    \n",
    "    # convert to an AstroPy table \n",
    "    ccd_data = Table(hdu[1].data)\n",
    "\n",
    "    # only consider positive fluxes... \n",
    "    mask_neg_fluxes = ccd_data['base_PsfFlux_flux'].data > 0\n",
    "    # just select rows that don't have negative fluxes...\n",
    "    ccd_data_good = ccd_data[mask_neg_fluxes]\n",
    "    ccd_data_good['lsst_mag'] = -2.512 * np.log10(ccd_data_good['base_PsfFlux_flux'])   +\\\n",
    "       lsst_zeropoint\n",
    "\n",
    "    # keep only most relevant info... \n",
    "    ccd_lsst  =    ccd_data_good[['lsst_mag', 'coord_ra', 'coord_dec']] \n",
    "\n",
    "    # add to the stack\n",
    "    ccd_lsst_stack    = vstack([ccd_lsst_stack ,ccd_lsst] )\n",
    "\n",
    "    # Display mapping information\n",
    "    print('  * ccd number %d ' % ccd_number)\n",
    "    print('  * ccd name is %s'% ccd_name_dict[ccd_number])\n",
    "    print('  * position in  decaps hdu  is %d'%catalog_decaps_pos[ccd_number])\n",
    "\n",
    "    # read in decaps single-epoch catalog for that ccd... \n",
    "    ccd_decaps_cat =  Table(decaps_hdu[catalog_decaps_pos[ccd_number]].data) \n",
    "\n",
    "    # convert the fluxes to magnitudes \n",
    "    ccd_decaps_cat['decaps_mag'] = -2.512 * np.log10(ccd_decaps_cat['flux'].data) +\\\n",
    "    decaps_zeropoint\n",
    "\n",
    "    # keep only the relevant info\n",
    "    ccd_decaps = ccd_decaps_cat[['decaps_mag','ra','dec']]\n",
    "    ccd_decaps_stack = vstack([ccd_decaps_stack, ccd_decaps])\n",
    "\n",
    "print('Done')\n",
    "\n",
    "\n"
   ]
  },
  {
   "cell_type": "code",
   "execution_count": 391,
   "metadata": {
    "collapsed": false
   },
   "outputs": [
    {
     "name": "stdout",
     "output_type": "stream",
     "text": [
      "Total decaps source number 275098\n",
      "Total lsst source number 322654\n"
     ]
    }
   ],
   "source": [
    "print('Total decaps source number %d'%len(ccd_lsst_stack))\n",
    "print('Total lsst source number %d'%len(ccd_decaps_stack))"
   ]
  },
  {
   "cell_type": "code",
   "execution_count": 588,
   "metadata": {
    "collapsed": false
   },
   "outputs": [
    {
     "name": "stdout",
     "output_type": "stream",
     "text": [
      "There are 322654 decaps sources  and 275098 lsst sources.\n",
      " 226227 decaps srcs have an lsst match within 2 arcsec\n",
      " 220320 decaps srcs have an lsst match within 0.50 mag\n",
      " 211844 decaps srcs have an lsst match fulfilling both criteria\n"
     ]
    },
    {
     "name": "stderr",
     "output_type": "stream",
     "text": [
      "/Users/chris/anaconda3/envs/py36/lib/python3.6/site-packages/ipykernel/__main__.py:32: RuntimeWarning: invalid value encountered in less\n"
     ]
    },
    {
     "data": {
      "image/png": "[encoded data removed]",
      "text/plain": [
       "<matplotlib.figure.Figure at 0x1288c5898>"
      ]
     },
     "metadata": {},
     "output_type": "display_data"
    },
    {
     "data": {
      "image/png": "[encoded data removed]",
      "text/plain": [
       "<matplotlib.figure.Figure at 0x126082518>"
      ]
     },
     "metadata": {},
     "output_type": "display_data"
    }
   ],
   "source": [
    "\n",
    "\n",
    "# Match sources from  decaps to lsst  per ccd \n",
    "# decam coordinates\n",
    "decam_coord = SkyCoord(ra  = ccd_decaps_stack['ra']*u.degree, \n",
    "                       dec = ccd_decaps_stack['dec']*u.degree)  \n",
    "\n",
    "# lsst coordinates : in radians ! \n",
    "lsst_coord = SkyCoord(ra = ccd_lsst_stack['coord_ra']*u.radian, \n",
    "                      dec= ccd_lsst_stack['coord_dec']*u.radian)  \n",
    "\n",
    "\n",
    "# indices are into lsst ccd catalog \n",
    "# match decaps into lsst ... \n",
    "idx, d2d, d3d = decam_coord.match_to_catalog_sky(lsst_coord)  \n",
    "\n",
    "# stack the two catalogs \n",
    "lsst_decam= hstack([ccd_decaps_stack ,ccd_lsst_stack[idx]],\n",
    "               table_names=['decam','lsst']  )\n",
    "\n",
    "print('There are %d decaps sources  and %d lsst sources.'%(len(decam_coord),\n",
    "                                                      len(lsst_coord))\n",
    "     )\n",
    "\n",
    "# matches within two arcsec...\n",
    "cut_arcsec = 2 \n",
    "mask_arcsec = d2d.arcsec < cut_arcsec\n",
    "\n",
    "# matches within 0.5 mag from one another ... \n",
    "lsst_decam['dmag'] = lsst_decam['lsst_mag'] - lsst_decam['decaps_mag']\n",
    "cut_mag = 0.5\n",
    "mask_mag = abs(lsst_decam['dmag'].data) < cut_mag\n",
    "mask_comb  = mask_arcsec * mask_mag\n",
    "\n",
    "\n",
    "print(' %d decaps srcs have an lsst match within %d arcsec'%(\n",
    "    np.sum(mask_arcsec), cut_arcsec)\n",
    "     )\n",
    "print(' %d decaps srcs have an lsst match within %.2f mag'%(\n",
    "    np.sum(mask_mag), cut_mag)\n",
    "     )\n",
    "print(' %d decaps srcs have an lsst match fulfilling both criteria'%np.sum(mask_comb)\n",
    "     )\n",
    "\n",
    "# make  a smaller table with only 'good matches', \n",
    "# keeping only the magnitudes.. \n",
    "# matched =  lsst_decam[mask_comb][['lsst_mag', 'decaps_mag']]\n",
    "\n",
    "\n",
    "# Using the original table, make a column to flag which \n",
    "# decaps srcs have a good lsst match \n",
    "\n",
    "# Initialize with zeros\n",
    "lsst_decam['lsst_match'] = 0\n",
    "\n",
    "# Set to 1 only where the match is good, i.e. fulfills the combined selection masks\n",
    "lsst_decam['lsst_match'][mask_comb] = 1 \n",
    "\n",
    "# Plot completeness ... \n",
    "bins = np.arange(12,24,0.5)\n",
    "\n",
    "stat_mag = bs(lsst_decam['decaps_mag'], lsst_decam['decaps_mag'] , bins =bins ,\n",
    "          statistic='count')\n",
    "\n",
    "stat_count = bs(lsst_decam['decaps_mag'], lsst_decam['lsst_match'] , bins =bins ,\n",
    "          statistic=np.sum)\n",
    "\n",
    "\n",
    "\n",
    "decaps_count = stat_mag.statistic[1:]\n",
    "lsst_matched_count = stat_count.statistic[1:]\n",
    "\n",
    "# Plot completeness : \n",
    "# how many decaps sources does lsst recover ?\n",
    "\n",
    "# we classify a  match as good if :\n",
    "# 1)  lsst counterpart is within 2 arcsec\n",
    "# 2) lsst match has magnitude within 0.5 mag from the decaps magnitude \n",
    "\n",
    "\n",
    "\n",
    "completeness = 100 * (lsst_matched_count / decaps_count)\n",
    "\n",
    "%matplotlib inline\n",
    "fig,ax = plt.subplots(1,1,figsize = (8,6))\n",
    "ax.plot(stat_mag.bin_edges[2:]+0.25, completeness)\n",
    "ax.scatter(stat_mag.bin_edges[2:]+0.25, completeness)\n",
    "ax.set_ylabel('completeness %')\n",
    "ax.set_xlabel('true: decals mag')\n",
    "ax.set_title('LSST vs single-epoch decals visit '+visit)\n",
    "\n",
    "\n",
    "ax2 = ax.twinx()\n",
    "\n",
    "ax2.plot(stat_mag.bin_edges[2:]+0.25, decaps_count, c='indigo', label='raw decals')\n",
    "ax2.set_ylabel('decals count')\n",
    "\n",
    "# single out only those decals that have a good lsst match,\n",
    "# so that we can plot the counts of lsst along the magnitude \n",
    "# of matched decals source... \n",
    "matched =  lsst_decam[mask_comb][['lsst_mag', 'decaps_mag', 'dmag']]\n",
    "stat_lsst = bs(  matched['decaps_mag'], matched['lsst_mag'] , bins = bins , \n",
    "             statistic = 'count' ) \n",
    "\n",
    "ax2.plot(stat_lsst.bin_edges[2:]+0.25, stat_lsst.statistic[1:], label='matched lsst')\n",
    "\n",
    "\n",
    "# plot also raw lsst along lsst magnitudes ...\n",
    "stat_raw = bs(ccd_lsst_stack['lsst_mag'], ccd_lsst_stack['lsst_mag'],\n",
    "             bins=bins, statistic='count')\n",
    "ax2.plot(stat_raw.bin_edges[2:]+0.25, stat_raw.statistic[1:], label='raw lsst')\n",
    "\n",
    "plt.legend(loc = 'center left')\n",
    "\n",
    "fname = '../data_products/decaps_lsst_compare/' + 'visit_'+visit+'.png'\n",
    "\n",
    "plt.savefig(fname)\n",
    "plt.show()\n",
    "fig.clear()\n",
    "\n",
    "\n",
    "\n",
    "# plot the photometric error vs magnitude ....\n",
    "# calculate the rms only on sources that were matched... \n",
    "rms = lambda x : np.sqrt(np.mean(np.square(x)))\n",
    "stat_rms_single = bs(matched['decaps_mag'],matched['dmag'], bins=bins,statistic=rms)\n",
    "fig,ax = plt.subplots(1,1,figsize=(8,4))\n",
    "ax.scatter(stat_rms_single.bin_edges[2:]+0.25, stat_rms_single.statistic[1:])\n",
    "ax.plot(stat_rms_single.bin_edges[2:]+0.25, stat_rms_single.statistic[1:])\n",
    "ax.set_ylabel('rms(decals - lsst) [mag]')\n",
    "ax.set_xlabel('decals mag')\n",
    "ax.grid()\n",
    "ax.set_title('LSST vs single-epoch decals visit '+visit)\n",
    "fname = '../data_products/decaps_lsst_compare/'+'visit_'+visit+'_rms.png'\n",
    "plt.savefig(fname)"
   ]
  },
  {
   "cell_type": "code",
   "execution_count": null,
   "metadata": {
    "collapsed": true
   },
   "outputs": [],
   "source": []
  },
  {
   "cell_type": "markdown",
   "metadata": {},
   "source": [
    "## Plot the photometric error vs magnitude "
   ]
  },
  {
   "cell_type": "code",
   "execution_count": 414,
   "metadata": {
    "collapsed": false
   },
   "outputs": [
    {
     "data": {
      "text/plain": [
       "['decam_flux_l241.5b2.5.fits',\n",
       " 'decam_flux_l242.5b2.5.fits',\n",
       " 'decam_flux_l243.5b2.5.fits',\n",
       " 'decam_flux_l241.5b3.5.fits',\n",
       " 'decam_flux_l242.5b3.5.fits',\n",
       " 'decam_flux_l243.5b3.5.fits',\n",
       " 'decam_flux_l241.5b4.5.fits',\n",
       " 'decam_flux_l242.5b4.5.fits',\n",
       " 'decam_flux_l243.5b4.5.fits',\n",
       " 'decam_flux_l242.5b5.5.fits',\n",
       " 'decam_flux_l243.5b5.5.fits']"
      ]
     },
     "execution_count": 414,
     "metadata": {},
     "output_type": "execute_result"
    }
   ],
   "source": [
    "# First use the stacked catalogs - taking all ccd sources from lsst,\n",
    "# and then from decaps, and matching \n",
    "\n",
    "# Already done above, that was very simple. \n",
    "# Now use the multi-band tiled catalogs per density ...\n",
    "\n",
    "good_catalogs"
   ]
  },
  {
   "cell_type": "code",
   "execution_count": 542,
   "metadata": {
    "collapsed": false
   },
   "outputs": [
    {
     "name": "stdout",
     "output_type": "stream",
     "text": [
      "Added 151181 sources from decam_flux_l241.5b2.5.fits\n",
      "Added 171255 sources from decam_flux_l242.5b2.5.fits\n",
      "Added 168266 sources from decam_flux_l243.5b2.5.fits\n",
      "Added 121434 sources from decam_flux_l241.5b3.5.fits\n",
      "Added 154393 sources from decam_flux_l242.5b3.5.fits\n",
      "Added 159882 sources from decam_flux_l243.5b3.5.fits\n",
      "Added 29716 sources from decam_flux_l241.5b4.5.fits\n",
      "Added 122635 sources from decam_flux_l242.5b4.5.fits\n",
      "Added 111851 sources from decam_flux_l243.5b4.5.fits\n",
      "Added 7114 sources from decam_flux_l242.5b5.5.fits\n",
      "Added 2098 sources from decam_flux_l243.5b5.5.fits\n"
     ]
    }
   ],
   "source": [
    "catDir = '../data_products/decaps_catalogs/band_merged/'\n",
    "\n",
    "# we decided in the beginning which band-merged catalog tiles\n",
    "# would be useful for this particular mosaic (image, visit)\n",
    "# based on the image corners  \n",
    " \n",
    "arr = {'g':[], 'ra':[],'dec':[],'flag_tile':[]}\n",
    "decaps_stack = Table(arr,   dtype=('f8', 'f8', 'f8', 'i4'))\n",
    "\n",
    "# now we read in catalog by catalog, \n",
    "# keeping only ra,dec, g magnitude only\n",
    "# for those objects for which g-band flux > 0 \n",
    "\n",
    "for i in range(len(good_catalogs)):\n",
    "    #i=2\n",
    "    cat_hdu = fits.open(catDir + good_catalogs[i])\n",
    "    # cat_hdu.info()\n",
    "\n",
    "    # convert the fits object to AstroPy table \n",
    "    cat_table = Table(cat_hdu[1].data)\n",
    "\n",
    "    # select only ra, dec \n",
    "    cat_table_radec = cat_table[['ra','dec']]\n",
    "\n",
    "    # http://docs.astropy.org/en/stable/io/fits/\n",
    "    # tbdata.field(0)\n",
    "    # get column names directly from hdulist \n",
    "    # cols = cat_hdu[1].columns\n",
    "\n",
    "    # python arrays vs numpy arrays \n",
    "    # we win! https://astropy.readthedocs.io/en/v0.3/table/construct_table.html \n",
    "    tbdata = cat_hdu[1].data\n",
    "    cat_hdu.close()\n",
    "    mean_flux = Table(tbdata['mean'], names=('u', 'g', 'r', 'i','z','Y'))\n",
    "    # we want to keep only g because the LSST photometry \n",
    "    # as done on an image in g-filter ... \n",
    "    mask_missing_g_flux = mean_flux['g'] > 0\n",
    "\n",
    "    # convert to g magnitudes \n",
    "    gmag = -2.5 * np.log10(mean_flux['g'][mask_missing_g_flux])\n",
    "\n",
    "    \n",
    "    #flag_tile = Column\n",
    "    ##print(len(cat_table_radec))\n",
    "    #print(len(mean_flux))\n",
    "    # select only the objects that have g-band detections\n",
    "    decaps_select = cat_table_radec[mask_missing_g_flux]\n",
    "    decaps_select.add_column(gmag)\n",
    "    \n",
    "    # add a column with a flag from which tile the data came...\n",
    "    decaps_select['flag_tile'] = i \n",
    "    \n",
    "    # add to stack :\n",
    "    decaps_stack = vstack([decaps_stack, decaps_select])\n",
    "\n",
    "    print('Added %d sources from %s' %(len(decaps_select), good_catalogs[i]))"
   ]
  },
  {
   "cell_type": "code",
   "execution_count": 536,
   "metadata": {
    "collapsed": false
   },
   "outputs": [],
   "source": [
    "#decaps_select['flag_tile'] = 1"
   ]
  },
  {
   "cell_type": "code",
   "execution_count": 543,
   "metadata": {
    "collapsed": false
   },
   "outputs": [
    {
     "data": {
      "text/html": [
       "&lt;Table length=2098&gt;\n",
       "<table id=\"table4884032928\" class=\"table-striped table-bordered table-condensed\">\n",
       "<thead><tr><th>ra</th><th>dec</th><th>g</th><th>flag_tile</th></tr></thead>\n",
       "<thead><tr><th>float64</th><th>float64</th><th>float32</th><th>int64</th></tr></thead>\n",
       "<tr><td>122.600168469</td><td>-23.9551400902</td><td>16.1225</td><td>10</td></tr>\n",
       "<tr><td>122.600196934</td><td>-23.9905264521</td><td>18.0502</td><td>10</td></tr>\n",
       "<tr><td>122.599819598</td><td>-23.963730062</td><td>18.4405</td><td>10</td></tr>\n",
       "<tr><td>122.600149654</td><td>-24.0031328835</td><td>22.8063</td><td>10</td></tr>\n",
       "<tr><td>122.600129487</td><td>-23.9971579263</td><td>22.4656</td><td>10</td></tr>\n",
       "<tr><td>122.599599964</td><td>-23.9485782615</td><td>19.9711</td><td>10</td></tr>\n",
       "<tr><td>122.599684182</td><td>-23.9685075472</td><td>21.8995</td><td>10</td></tr>\n",
       "<tr><td>122.599052111</td><td>-23.9803749581</td><td>22.7861</td><td>10</td></tr>\n",
       "<tr><td>122.520620454</td><td>-23.9710463668</td><td>23.6997</td><td>10</td></tr>\n",
       "<tr><td>122.578295622</td><td>-23.9413283637</td><td>23.021</td><td>10</td></tr>\n",
       "<tr><td>...</td><td>...</td><td>...</td><td>...</td></tr>\n",
       "<tr><td>122.498125781</td><td>-24.0068420356</td><td>20.5211</td><td>10</td></tr>\n",
       "<tr><td>122.498124889</td><td>-23.967652348</td><td>16.4401</td><td>10</td></tr>\n",
       "<tr><td>122.498584099</td><td>-23.9997447382</td><td>21.6344</td><td>10</td></tr>\n",
       "<tr><td>122.500119688</td><td>-23.9591524213</td><td>23.2465</td><td>10</td></tr>\n",
       "<tr><td>122.500535706</td><td>-24.0021285361</td><td>16.8955</td><td>10</td></tr>\n",
       "<tr><td>122.500557938</td><td>-24.0048420412</td><td>22.3146</td><td>10</td></tr>\n",
       "<tr><td>122.500151615</td><td>-23.955774596</td><td>20.1108</td><td>10</td></tr>\n",
       "<tr><td>122.499627641</td><td>-24.0000488449</td><td>17.5728</td><td>10</td></tr>\n",
       "<tr><td>122.499651387</td><td>-24.0030484709</td><td>23.5519</td><td>10</td></tr>\n",
       "<tr><td>122.499545071</td><td>-23.967383175</td><td>22.5898</td><td>10</td></tr>\n",
       "</table>"
      ],
      "text/plain": [
       "<Table length=2098>\n",
       "      ra           dec          g    flag_tile\n",
       "   float64       float64     float32   int64  \n",
       "------------- -------------- ------- ---------\n",
       "122.600168469 -23.9551400902 16.1225        10\n",
       "122.600196934 -23.9905264521 18.0502        10\n",
       "122.599819598  -23.963730062 18.4405        10\n",
       "122.600149654 -24.0031328835 22.8063        10\n",
       "122.600129487 -23.9971579263 22.4656        10\n",
       "122.599599964 -23.9485782615 19.9711        10\n",
       "122.599684182 -23.9685075472 21.8995        10\n",
       "122.599052111 -23.9803749581 22.7861        10\n",
       "122.520620454 -23.9710463668 23.6997        10\n",
       "122.578295622 -23.9413283637  23.021        10\n",
       "          ...            ...     ...       ...\n",
       "122.498125781 -24.0068420356 20.5211        10\n",
       "122.498124889  -23.967652348 16.4401        10\n",
       "122.498584099 -23.9997447382 21.6344        10\n",
       "122.500119688 -23.9591524213 23.2465        10\n",
       "122.500535706 -24.0021285361 16.8955        10\n",
       "122.500557938 -24.0048420412 22.3146        10\n",
       "122.500151615  -23.955774596 20.1108        10\n",
       "122.499627641 -24.0000488449 17.5728        10\n",
       "122.499651387 -24.0030484709 23.5519        10\n",
       "122.499545071  -23.967383175 22.5898        10"
      ]
     },
     "execution_count": 543,
     "metadata": {},
     "output_type": "execute_result"
    }
   ],
   "source": [
    "decaps_select"
   ]
  },
  {
   "cell_type": "code",
   "execution_count": null,
   "metadata": {
    "collapsed": true
   },
   "outputs": [],
   "source": []
  },
  {
   "cell_type": "code",
   "execution_count": 544,
   "metadata": {
    "collapsed": false
   },
   "outputs": [
    {
     "data": {
      "text/html": [
       "&lt;Table length=1199825&gt;\n",
       "<table id=\"table4808488944\" class=\"table-striped table-bordered table-condensed\">\n",
       "<thead><tr><th>g</th><th>ra</th><th>dec</th><th>flag_tile</th></tr></thead>\n",
       "<thead><tr><th>float64</th><th>float64</th><th>float64</th><th>int64</th></tr></thead>\n",
       "<tr><td>21.7971973419</td><td>119.09662545</td><td>-23.5636303694</td><td>0</td></tr>\n",
       "<tr><td>23.8421535492</td><td>119.095359155</td><td>-23.560571371</td><td>0</td></tr>\n",
       "<tr><td>23.1092739105</td><td>119.095456349</td><td>-23.5201691227</td><td>0</td></tr>\n",
       "<tr><td>22.6325302124</td><td>119.097490942</td><td>-23.5266569972</td><td>0</td></tr>\n",
       "<tr><td>20.5329494476</td><td>119.093181004</td><td>-23.5539671614</td><td>0</td></tr>\n",
       "<tr><td>22.3901576996</td><td>119.27026511</td><td>-23.4220497147</td><td>0</td></tr>\n",
       "<tr><td>20.566236496</td><td>119.093254775</td><td>-23.5602766758</td><td>0</td></tr>\n",
       "<tr><td>21.954826355</td><td>119.095019826</td><td>-23.5596704197</td><td>0</td></tr>\n",
       "<tr><td>23.2507343292</td><td>119.272426242</td><td>-23.4216333438</td><td>0</td></tr>\n",
       "<tr><td>16.3421115875</td><td>119.096556362</td><td>-23.5415288999</td><td>0</td></tr>\n",
       "<tr><td>...</td><td>...</td><td>...</td><td>...</td></tr>\n",
       "<tr><td>20.5211486816</td><td>122.498125781</td><td>-24.0068420356</td><td>10</td></tr>\n",
       "<tr><td>16.4400672913</td><td>122.498124889</td><td>-23.967652348</td><td>10</td></tr>\n",
       "<tr><td>21.6344299316</td><td>122.498584099</td><td>-23.9997447382</td><td>10</td></tr>\n",
       "<tr><td>23.2464580536</td><td>122.500119688</td><td>-23.9591524213</td><td>10</td></tr>\n",
       "<tr><td>16.8954582214</td><td>122.500535706</td><td>-24.0021285361</td><td>10</td></tr>\n",
       "<tr><td>22.3146152496</td><td>122.500557938</td><td>-24.0048420412</td><td>10</td></tr>\n",
       "<tr><td>20.1107635498</td><td>122.500151615</td><td>-23.955774596</td><td>10</td></tr>\n",
       "<tr><td>17.5727653503</td><td>122.499627641</td><td>-24.0000488449</td><td>10</td></tr>\n",
       "<tr><td>23.5518951416</td><td>122.499651387</td><td>-24.0030484709</td><td>10</td></tr>\n",
       "<tr><td>22.5898189545</td><td>122.499545071</td><td>-23.967383175</td><td>10</td></tr>\n",
       "</table>"
      ],
      "text/plain": [
       "<Table length=1199825>\n",
       "      g             ra           dec       flag_tile\n",
       "   float64       float64       float64       int64  \n",
       "------------- ------------- -------------- ---------\n",
       "21.7971973419  119.09662545 -23.5636303694         0\n",
       "23.8421535492 119.095359155  -23.560571371         0\n",
       "23.1092739105 119.095456349 -23.5201691227         0\n",
       "22.6325302124 119.097490942 -23.5266569972         0\n",
       "20.5329494476 119.093181004 -23.5539671614         0\n",
       "22.3901576996  119.27026511 -23.4220497147         0\n",
       " 20.566236496 119.093254775 -23.5602766758         0\n",
       " 21.954826355 119.095019826 -23.5596704197         0\n",
       "23.2507343292 119.272426242 -23.4216333438         0\n",
       "16.3421115875 119.096556362 -23.5415288999         0\n",
       "          ...           ...            ...       ...\n",
       "20.5211486816 122.498125781 -24.0068420356        10\n",
       "16.4400672913 122.498124889  -23.967652348        10\n",
       "21.6344299316 122.498584099 -23.9997447382        10\n",
       "23.2464580536 122.500119688 -23.9591524213        10\n",
       "16.8954582214 122.500535706 -24.0021285361        10\n",
       "22.3146152496 122.500557938 -24.0048420412        10\n",
       "20.1107635498 122.500151615  -23.955774596        10\n",
       "17.5727653503 122.499627641 -24.0000488449        10\n",
       "23.5518951416 122.499651387 -24.0030484709        10\n",
       "22.5898189545 122.499545071  -23.967383175        10"
      ]
     },
     "execution_count": 544,
     "metadata": {},
     "output_type": "execute_result"
    }
   ],
   "source": [
    "# So in total we have the decaps band-merged catalog \n",
    "# for 1 662 991 objects \n",
    "decaps_stack"
   ]
  },
  {
   "cell_type": "code",
   "execution_count": 548,
   "metadata": {
    "collapsed": false
   },
   "outputs": [
    {
     "data": {
      "image/png": "[encoded data removed]",
      "text/plain": [
       "<matplotlib.figure.Figure at 0x1228a0f60>"
      ]
     },
     "metadata": {},
     "output_type": "display_data"
    }
   ],
   "source": [
    "# plot the ra,dec of all lsst sources and all decaps tiles\n",
    "# to ensure that we are covering the entire desired region .. \n",
    "\n",
    "lsst_coord = SkyCoord(ra = ccd_lsst_stack['coord_ra']*u.radian, \n",
    "                      dec= ccd_lsst_stack['coord_dec']*u.radian) \n",
    "\n",
    "decaps_coord = SkyCoord(ra = decaps_stack['ra'].data.data * u.degree, \n",
    "                       dec = decaps_stack['dec'].data.data*u.degree )\n",
    "%matplotlib inline\n",
    "fig,ax = plt.subplots(1,1,figsize=(6,6))\n",
    "\n",
    "ax.scatter(decaps_coord.galactic.l.degree, decaps_coord.galactic.b.degree, s=0.0001,\n",
    "           c = decaps_stack['flag_tile'])\n",
    "ax.scatter(lsst_coord.galactic.l.degree, lsst_coord.galactic.b.degree, s = 0.0001)\n",
    "ax.set_xlabel('galactic longitude l [deg]')\n",
    "ax.set_ylabel('galactic latitude b [deg]')\n",
    "ax.set_title('Band-merged decaps catalog sources and lsst sources visit '+visit)\n",
    "plt.savefig('../data_products/decaps_lsst_compare/611980/'+\\\n",
    "            'band_merged_and_lsst_sources.png')"
   ]
  },
  {
   "cell_type": "code",
   "execution_count": 502,
   "metadata": {
    "collapsed": false
   },
   "outputs": [
    {
     "data": {
      "text/plain": [
       "array([ 119.09662545,  119.09535915,  119.09545635, ...,  119.09095109,\n",
       "        118.90230485,  119.19808208])"
      ]
     },
     "execution_count": 502,
     "metadata": {},
     "output_type": "execute_result"
    }
   ],
   "source": [
    "decaps_stack['ra'].data.data"
   ]
  },
  {
   "cell_type": "code",
   "execution_count": 593,
   "metadata": {
    "collapsed": false
   },
   "outputs": [
    {
     "name": "stdout",
     "output_type": "stream",
     "text": [
      "There are 1199825 decaps sources  and 275098 lsst sources.\n"
     ]
    }
   ],
   "source": [
    "# Ok, now we can use this data to compare the lsst g magnitudes\n",
    "# to the band-merged magnitudes... \n",
    "\n",
    "# match the lsst source catalog  onto decam band-merged catalog: \n",
    "#  ccd_lsst_stack  vs decaps_stack  \n",
    "\n",
    "\n",
    "# indices are into decaps stacked catalog \n",
    "# match lsst into decaps ... \n",
    "idx, d2d, d3d = lsst_coord.match_to_catalog_sky(decaps_coord)  \n",
    "\n",
    "# stack the two catalogs \n",
    "lsst_decaps= hstack([ccd_lsst_stack ,decaps_stack[idx]],\n",
    "               table_names=['lsst','decaps']  )\n",
    "lsst_decaps.rename_column('g','decaps_mag')\n",
    "\n",
    "print('There are %d decaps sources  and %d lsst sources.'%(len(decaps_coord),\n",
    "                                                      len(lsst_coord))\n",
    "     )\n",
    "\n",
    "# matches within two arcsec...\n",
    "cut_arcsec = 2 \n",
    "mask_arcsec = d2d.arcsec < cut_arcsec\n",
    "\n"
   ]
  },
  {
   "cell_type": "code",
   "execution_count": 558,
   "metadata": {
    "collapsed": false
   },
   "outputs": [],
   "source": [
    "#lsst_decaps"
   ]
  },
  {
   "cell_type": "code",
   "execution_count": 594,
   "metadata": {
    "collapsed": false
   },
   "outputs": [],
   "source": [
    "# matches within 0.5 mag from one another ... \n",
    "lsst_decaps['dmag'] = lsst_decaps['lsst_mag'] - lsst_decaps['decaps_mag']\n",
    "cut_mag = 0.5\n"
   ]
  },
  {
   "cell_type": "code",
   "execution_count": null,
   "metadata": {
    "collapsed": false
   },
   "outputs": [],
   "source": []
  },
  {
   "cell_type": "code",
   "execution_count": 595,
   "metadata": {
    "collapsed": false
   },
   "outputs": [],
   "source": [
    "#np.median(lsst_decaps['dmag'])"
   ]
  },
  {
   "cell_type": "code",
   "execution_count": 596,
   "metadata": {
    "collapsed": false
   },
   "outputs": [
    {
     "name": "stdout",
     "output_type": "stream",
     "text": [
      " 251281 lsst srcs have a decaps match within 2 arcsec\n",
      " 251335 lsst srcs have a decaps match within 0.50 mag\n",
      " 246284 lsst srcs have a decaps match fulfilling both criteria\n"
     ]
    }
   ],
   "source": [
    "lsst_decaps['lsst_corr'] = lsst_decaps['lsst_mag'] - np.median(lsst_decaps['dmag'])\n",
    "\n",
    "lsst_decaps['dmag_corr'] = lsst_decaps['lsst_corr'] - lsst_decaps['decaps_mag']\n",
    "mask_mag = abs(lsst_decaps['dmag_corr'].data) < cut_mag\n",
    "mask_comb  = mask_arcsec * mask_mag\n",
    "\n",
    "\n",
    "print(' %d lsst srcs have a decaps match within %d arcsec'%(\n",
    "    np.sum(mask_arcsec), cut_arcsec)\n",
    "     )\n",
    "print(' %d lsst srcs have a decaps match within %.2f mag'%(\n",
    "    np.sum(mask_mag), cut_mag)\n",
    "     )\n",
    "print(' %d lsst srcs have a decaps match fulfilling both criteria'%np.sum(mask_comb)\n",
    "     )\n"
   ]
  },
  {
   "cell_type": "code",
   "execution_count": 597,
   "metadata": {
    "collapsed": false
   },
   "outputs": [
    {
     "data": {
      "text/plain": [
       "(14, 23)"
      ]
     },
     "execution_count": 597,
     "metadata": {},
     "output_type": "execute_result"
    },
    {
     "data": {
      "image/png": "[encoded data removed]",
      "text/plain": [
       "<matplotlib.figure.Figure at 0x1178af080>"
      ]
     },
     "metadata": {},
     "output_type": "display_data"
    }
   ],
   "source": [
    "# plot lsst mag corrected by the median magnitude difference : \n",
    "\n",
    "plt.scatter(lsst_decaps[mask_comb]['decaps_mag'],lsst_decaps[mask_comb]['dmag_corr'],\n",
    "           s=0.1)\n",
    "plt.xlabel('decaps mag')\n",
    "plt.ylabel('lsst corr mag - decaps mag ')\n",
    "plt.xlim(14,23)\n",
    "\n"
   ]
  },
  {
   "cell_type": "code",
   "execution_count": 601,
   "metadata": {
    "collapsed": false
   },
   "outputs": [
    {
     "data": {
      "image/png": "[encoded data removed]",
      "text/plain": [
       "<matplotlib.figure.Figure at 0x1226b7be0>"
      ]
     },
     "metadata": {},
     "output_type": "display_data"
    }
   ],
   "source": [
    "# plot the photometric error vs magnitude ....\n",
    "# calculate the rms only on sources that were matched... \n",
    "rms = lambda x : np.sqrt(np.mean(np.square(x)))\n",
    "stat_rms = bs(lsst_decaps[mask_comb]['decaps_mag'],\n",
    "              lsst_decaps[mask_comb]['dmag_corr'], \n",
    "              bins=bins,statistic=rms)\n",
    "fig,ax = plt.subplots(1,1,figsize=(8,4))\n",
    "ax.scatter(stat_rms.bin_edges[2:]+0.25, stat_rms.statistic[1:], c='blue', \n",
    "           label='band-merged')\n",
    "ax.plot(stat_rms.bin_edges[2:]+0.25, stat_rms.statistic[1:],c='blue')\n",
    "\n",
    "ax.scatter(stat_rms_single.bin_edges[2:]+0.25, stat_rms_single.statistic[1:], c='orange',\n",
    "          label='single-epoch')\n",
    "ax.plot(stat_rms_single.bin_edges[2:]+0.25, stat_rms_single.statistic[1:], c='orange')\n",
    "\n",
    "plt.legend()\n",
    "ax.set_ylabel('rms(decals - lsst) [mag]')\n",
    "ax.set_xlabel('decals mag')\n",
    "ax.grid()\n",
    "ax.set_title('LSST vs band-merged decals visit '+visit)\n",
    "fname = '../data_products/decaps_lsst_compare/'+'band_merged_visit_'+visit+'_rms.png'\n",
    "plt.savefig(fname)"
   ]
  },
  {
   "cell_type": "code",
   "execution_count": 590,
   "metadata": {
    "collapsed": false
   },
   "outputs": [
    {
     "data": {
      "text/plain": [
       "BinnedStatisticResult(statistic=array([ 0.31650671,  0.09866615,  0.06362205,  0.06205165,  0.06555258,\n",
       "        0.06619199,  0.06686498,  0.07021822,  0.07326077,  0.0761168 ,\n",
       "        0.07933727,  0.08223143,  0.08381979,  0.08959369,  0.09624048,\n",
       "        0.10271649,  0.10761773,  0.11524334,  0.12360347,  0.13584641,\n",
       "        0.14743901,  0.29838169,  0.3382826 ]), bin_edges=array([ 12. ,  12.5,  13. ,  13.5,  14. ,  14.5,  15. ,  15.5,  16. ,\n",
       "        16.5,  17. ,  17.5,  18. ,  18.5,  19. ,  19.5,  20. ,  20.5,\n",
       "        21. ,  21.5,  22. ,  22.5,  23. ,  23.5]), binnumber=array([14, 17, 12, ..., 21, 21, 21]))"
      ]
     },
     "execution_count": 590,
     "metadata": {},
     "output_type": "execute_result"
    }
   ],
   "source": [
    "stat_rms_single"
   ]
  },
  {
   "cell_type": "code",
   "execution_count": 591,
   "metadata": {
    "collapsed": false
   },
   "outputs": [
    {
     "data": {
      "text/plain": [
       "BinnedStatisticResult(statistic=array([        nan,         nan,         nan,         nan,  0.03406597,\n",
       "        0.03900614,  0.04156458,  0.0418721 ,  0.04174246,  0.03961142,\n",
       "        0.04040375,  0.04064434,  0.04280828,  0.0469478 ,  0.04864856,\n",
       "        0.05429506,  0.0608675 ,  0.06993336,  0.07958722,  0.09147819,\n",
       "        0.10964748,  0.12928923,  0.18580277]), bin_edges=array([ 12. ,  12.5,  13. ,  13.5,  14. ,  14.5,  15. ,  15.5,  16. ,\n",
       "        16.5,  17. ,  17.5,  18. ,  18.5,  19. ,  19.5,  20. ,  20.5,\n",
       "        21. ,  21.5,  22. ,  22.5,  23. ,  23.5]), binnumber=array([15, 19, 17, ..., 15, 16, 17]))"
      ]
     },
     "execution_count": 591,
     "metadata": {},
     "output_type": "execute_result"
    }
   ],
   "source": [
    "stat_rms"
   ]
  },
  {
   "cell_type": "code",
   "execution_count": null,
   "metadata": {
    "collapsed": true
   },
   "outputs": [],
   "source": []
  }
 ],
 "metadata": {
  "kernelspec": {
   "display_name": "Python 3",
   "language": "python",
   "name": "python3"
  },
  "language_info": {
   "codemirror_mode": {
    "name": "ipython",
    "version": 3
   },
   "file_extension": ".py",
   "mimetype": "text/x-python",
   "name": "python",
   "nbconvert_exporter": "python",
   "pygments_lexer": "ipython3",
   "version": "3.6.0"
  }
 },
 "nbformat": 4,
 "nbformat_minor": 2
}
