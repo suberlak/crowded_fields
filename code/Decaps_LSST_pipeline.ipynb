{
 "cells": [
  {
   "cell_type": "markdown",
   "metadata": {},
   "source": [
    "We start with MAF , defining the stellar density regions. Based on the MAF map, we \n",
    "obtained from NOAO archive the image corresponding to a given stellar density regime (with similar depth and filter as LSST r  ) : \n",
    "\n",
    "20% :  c4d_170122_055542_ooi_g_v1.fits.fz\n",
    "\n",
    "15% : \n",
    "\n",
    "10% : \n",
    "\n",
    "5% :  c4d_160316_065235_ooi_g_v1.fits.fz"
   ]
  },
  {
   "cell_type": "markdown",
   "metadata": {},
   "source": [
    "### Downloading NOAO images to NCSA "
   ]
  },
  {
   "cell_type": "markdown",
   "metadata": {},
   "source": [
    "Example for 20% field - the same for other field densities.\n",
    "\n",
    "1) We went to http://archive.noao.edu/search/query  , selected : \n",
    "* ra,dec = 120.844   , -24.031667\n",
    "* search box  =  10 arcmin \n",
    "* 90 < exposure < 125 \n",
    "* telescope: CTIO 4m + DECam imager \n",
    "* Calibrated images only \n",
    "* public release date < today \n",
    "\n",
    "<img src=\"figures/1_query_noao.png\">\n",
    "\n",
    "2) We obtained  wtmap, dqmask, and  image, selected for staging\n",
    "<img src=\"figures/2_query_results.png\">\n",
    "\n",
    "3) We ssh to NCSA : \n",
    "\n",
    "     ssh scichris@lsst-dev.ncsa.illinois.edu \n",
    "     \n",
    "4) We download staged data from NOAO public server (user number is assigned at each search) : \n",
    "\n",
    "    lftp -u anonymous,lftp archive.noao.edu\n",
    "    cd user_506119 \n",
    "    mirror -L .   \n",
    "5) We move the images to noao_data/  directory  with subdirectories  instcal/  wtmap/  dqmask/:\n",
    "    \n",
    "    mv c4d_170122_055542_ooi_g_v1.fits.fz noao_files/instcal/\n",
    "    mv c4d_170122_055542_oow_g_v1.fits.fz noao_files/wtmap/\n",
    "    mv c4d_170122_055542_ood_g_v1.fits.fz noao_files/dqmask/\n",
    "    "
   ]
  },
  {
   "cell_type": "markdown",
   "metadata": {},
   "source": [
    "### Processing the DECam images in NCSA with LSST Stack "
   ]
  },
  {
   "cell_type": "markdown",
   "metadata": {},
   "source": [
    "The following is an example for 20% field : those would be similar for other fields, with differing visit number ."
   ]
  },
  {
   "cell_type": "markdown",
   "metadata": {},
   "source": [
    "1) We login to NCSA:  \n",
    "    \n",
    "    ssh scichris@lsst-dev.ncsa.illinois.edu\n",
    "    \n",
    "2) We setup the tools : \n",
    "        \n",
    "    source /ssd/lsstsw/stack/loadLSST.bash\n",
    "    setup obs_decam\n",
    "\n",
    "3) We ingest the image ( assumed to reside in the noao_files/ subdirectories ) to repo/ directory : \n",
    "    \n",
    "    ingestImagesDecam.py repo/ noao_files/instcal/c4d_170122_055542*.fits.fz\n",
    "   \n",
    "At this stage we note what visit number is assigned to this image (it is also saved in the FITS header) , eg \n",
    "   \n",
    "   ingest INFO: /home/scichris/noao_files/instcal/c4d_170122_055542_ooi_g_v1.fits.fz --<link>--> /home/scichris/repo/**0611980**/instcal0611980.fits.fz\n",
    "   \n",
    "   \n",
    "4) Process the image  ( here we process all CCD's - otherwise we would specify ccdnum = #,  eg. 10 )  \n",
    "\n",
    "    processCcd.py repo --rerun proc20perc  --id visit=611980  -C config_processccd.py --clobber-config\n"
   ]
  },
  {
   "cell_type": "markdown",
   "metadata": {},
   "source": [
    "Move the results of LSST processing from the NCSA machine to a local workstation (eg. my laptop) : \n",
    "\n",
    "    cd /Users/chris/GradResearch/LSST_crowded_fields/data_products/LSST_Stack/DECam/\n",
    "    mkdir 611980\n",
    "    mv 611980\n",
    "    scp scichris@lsst-dev.ncsa.illinois.edu:/home/scichris/repo/rerun/proc20perc/611980/src/\\*.fits .\n",
    "     scp scichris@lsst-dev.ncsa.illinois.edu:/home/scichris/repo/rerun/proc20perc/611980/calexp/\\*.fits ."
   ]
  },
  {
   "cell_type": "markdown",
   "metadata": {},
   "source": []
  },
  {
   "cell_type": "code",
   "execution_count": null,
   "metadata": {
    "collapsed": true
   },
   "outputs": [],
   "source": []
  },
  {
   "cell_type": "code",
   "execution_count": 3,
   "metadata": {
    "collapsed": true
   },
   "outputs": [],
   "source": [
    "# Necessary imports ..\n",
    "\n",
    "import matplotlib.pyplot as plt\n",
    "from astropy.table import Table\n",
    "import os\n",
    "import numpy as np\n",
    "from astropy.io import fits\n",
    "from astropy.stats import sigma_clipped_stats\n",
    "from astropy.visualization import SqrtStretch\n",
    "from astropy.visualization.mpl_normalize import ImageNormalize\n",
    "import urllib.request\n"
   ]
  },
  {
   "cell_type": "markdown",
   "metadata": {},
   "source": [
    "### Download decaps single-epoch catalog  : "
   ]
  },
  {
   "cell_type": "code",
   "execution_count": 212,
   "metadata": {
    "collapsed": true
   },
   "outputs": [],
   "source": [
    "# the cat name is based on the image name ... \n",
    "image_name = 'c4d_170122_055542_ooi_g'\n",
    "cat_name = image_name + '_v1.cat.fits'\n",
    "file_name  = '../data_products/DEcAPS_Catalogs/single_epoch/' + cat_name"
   ]
  },
  {
   "cell_type": "code",
   "execution_count": 22,
   "metadata": {
    "collapsed": false
   },
   "outputs": [
    {
     "data": {
      "text/plain": [
       "('../data_products/DEcAPS_Catalogs/single_epoch/c4d_170122_055542_ooi_g_v1.cat.fits',\n",
       " <http.client.HTTPMessage at 0x10ee94828>)"
      ]
     },
     "execution_count": 22,
     "metadata": {},
     "output_type": "execute_result"
    }
   ],
   "source": [
    "# download the single-epoch catalog...\n",
    "\n",
    "url = 'https://faun.rc.fas.harvard.edu/decaps/release/cat/' + cat_name\n",
    "urllib.request.urlretrieve(url, file_name)"
   ]
  },
  {
   "cell_type": "markdown",
   "metadata": {},
   "source": [
    "### From decaps single-epoch catalog obtain tile numbers to download band-merged catalogs "
   ]
  },
  {
   "cell_type": "code",
   "execution_count": 213,
   "metadata": {
    "collapsed": false
   },
   "outputs": [],
   "source": [
    "decaps_hdu = fits.open(file_name)\n",
    "#http://www.astropy.org/astropy-tutorials/FITS-tables.html\n",
    "# hdu.info() would display all available tables - \n",
    "# there is a single catalog per CCD, \n",
    "# called 'S21_CAT', etc, based on CCD name. \n",
    "\n",
    "# save the zero point for this catalog \n",
    "decaps_zeropoint = decaps_hdu[0].header['MAGZERO']  # one per entire image composed of multiple CCDs"
   ]
  },
  {
   "cell_type": "code",
   "execution_count": 223,
   "metadata": {
    "collapsed": false
   },
   "outputs": [
    {
     "data": {
      "text/plain": [
       "XTENSION= 'IMAGE   '           / Image extension                                \n",
       "BITPIX  =                  -64 / array data type                                \n",
       "NAXIS   =                    1 / number of array dimensions                     \n",
       "NAXIS1  =                    0                                                  \n",
       "PCOUNT  =                    0 / number of parameters                           \n",
       "GCOUNT  =                    1 / number of groups                               \n",
       "ORIGIN  = 'NOAO-IRAF FITS Image Kernel July 2003' / FITS file originator        \n",
       "EXTNAME = 'N25_HDR '           / Extension name                                 \n",
       "IRAF-TLM= '2017-01-25T00:51:40' / Time of last modification                     \n",
       "INHERIT =                    T / Inherits global header                         \n",
       "DATE    = '2017-01-25T00:51:04' / Date FITS file was generated                  \n",
       "WCSAXES =                    2 / WCS Dimensionality                             \n",
       "DETSEC  = '[22533:24572,6149:10236]' / Location of this CCD on Focal Plane      \n",
       "DETECTOR= 'S3-208_124750-3-2'  / Detector Identifier                            \n",
       "CCDNUM  =                   56 / CCD number                                     \n",
       "DETPOS  = 'N25     '           / detector position ID                           \n",
       "GAINA   =                3.892 / [electrons/adu] Gain for amp A                 \n",
       "RDNOISEA=             5.748484 / [electrons] Read noise for amp A               \n",
       "SATURATA=              49415.0 / [adu] Saturation for amp A                     \n",
       "GAINB   =                4.091 / [electrons/adu] Gain for amp B                 \n",
       "RDNOISEB=             5.874676 / [electrons] Read noise for amp B               \n",
       "SATURATB=              42401.0 / [adu] Saturation for amp B                     \n",
       "CRPIX1  =    -9121.80000000001 / Reference pixel on this axis                   \n",
       "CRPIX2  =     8436.00000000001 / Reference pixel on this axis                   \n",
       "FPA     = 'DECAM_BKP1'         / DECam focal plane name                         \n",
       "SLOT00  = 'MCB 15 5.210000'    / Monsoon module                                 \n",
       "SLOT01  = 'DESCB 22 4.010000'  / Monsoon module                                 \n",
       "SLOT02  = 'DESCB 3 4.010000'   / Monsoon module                                 \n",
       "SLOT03  = 'CCD12 16 4.080000'  / Monsoon module                                 \n",
       "SLOT04  = 'CCD12 11 4.080000'  / Monsoon module                                 \n",
       "SLOT05  = 'CCD12 14 4.080000'  / Monsoon module                                 \n",
       "PV1_7   =   2.465808450933E-03 / Projection distortion parameter                \n",
       "CUNIT1  = 'deg     '           / Axis unit                                      \n",
       "PV2_8   =   1.125794891738E-02 / Projection distortion parameter                \n",
       "PV2_9   =   9.593930319333E-03 / Projection distortion parameter                \n",
       "CD1_1   =   1.463783878651E-08 / Linear projection matrix                       \n",
       "LTM2_2  =                  1.0 / Detector to image transformation               \n",
       "PV2_0   =  -4.434289543923E-03 / Projection distortion parameter                \n",
       "PV2_1   =   9.770522559690E-01 / Projection distortion parameter                \n",
       "PV2_2   =   1.217988478153E-02 / Projection distortion parameter                \n",
       "PV2_3   =                  0.0 / PV distortion coefficient                      \n",
       "PV2_4   =  -4.098158942918E-02 / Projection distortion parameter                \n",
       "PV2_5   =   2.339002111437E-02 / Projection distortion parameter                \n",
       "PV2_6   =   1.223771547778E-02 / Projection distortion parameter                \n",
       "PV2_7   =  -2.178749927042E-02 / Projection distortion parameter                \n",
       "LTM1_1  =                  1.0 / Detector to image transformation               \n",
       "PV1_6   =   1.523282952289E-02 / Projection distortion parameter                \n",
       "PV2_10  =   3.411618441501E-03 / Projection distortion parameter                \n",
       "PV1_4   =   1.444638312884E-02 / Projection distortion parameter                \n",
       "PV1_3   =                  0.0 / PV distortion coefficient                      \n",
       "PV1_2   =   1.462551106503E-02 / Projection distortion parameter                \n",
       "PV1_1   =   1.018901761660E+00 / Projection distortion parameter                \n",
       "PV1_0   =   6.084357133306E-03 / Projection distortion parameter                \n",
       "PV1_9   =   8.347697696531E-03 / Projection distortion parameter                \n",
       "PV1_8   =   1.207233343673E-02 / Projection distortion parameter                \n",
       "CD1_2   =   7.285637307967E-05 / Linear projection matrix                       \n",
       "PV1_5   =   2.396565284167E-02 / Projection distortion parameter                \n",
       "CUNIT2  = 'deg     '           / Axis unit                                      \n",
       "CD2_1   =  -7.285323814484E-05 / Linear projection matrix                       \n",
       "CD2_2   =   1.546618689010E-08 / Linear projection matrix                       \n",
       "LTV2    =                  -1. / Detector to image transformation               \n",
       "LTV1    =                  -1. / Detector to image transformation               \n",
       "PV1_10  =   5.626153091781E-03 / Projection distortion parameter                \n",
       "CTYPE2  = 'DEC--TPV'           / WCS projection type for this axis              \n",
       "CTYPE1  = 'RA---TPV'           / WCS projection type for this axis              \n",
       "CRVAL1  =   1.208840003889E+02 / World coordinate on this axis                  \n",
       "CRVAL2  =  -2.403167728193E+01 / World coordinate on this axis                  \n",
       "DESDCXTK= 'Tue Jan 24 14:08:49 2017' / DECam image conversion and crosstalk corr\n",
       "DESOSCN = 'Tue Jan 24 14:08:49 2017' / overscan corrected                       \n",
       "DESSAT  = 'Tue Jan 24 14:08:49 2017' / saturated pixels flagged                 \n",
       "NSATPIX =                 5614 / Number of saturated pixels                     \n",
       "DESBIAS = 'Tue Jan 24 14:32:48 2017' / bias subtracted                          \n",
       "BIASFIL = 'DEC16B_20170116_8da5864-57772Z_56.fits' / Bias image                 \n",
       "DESFLAT = 'Tue Jan 24 14:32:48 2017' / flat fielded                             \n",
       "FLATFIL = 'DEC16B_20170116_8da5864-57772gF_56.fits' / Flat image                \n",
       "DESILLUM= 'Tue Jan 24 14:32:48 2017' / Illumination Corrected                   \n",
       "ILLUMFIL= 'DECam_Master_20130829v3-gI_ci[N25]' / Illumination image             \n",
       "SKYSIGMA=        5.9448800E+00 / Sky Sigma (ADU)                                \n",
       "SKYBRITE=        1.2407594E+02 / Sky Brightness (ADU)                           \n",
       "HISTORY DESDM: imcorrect DEC16B_20170116_8da5864-filg-ccd56.ccd -output ccdproc_\n",
       "HISTORY pm/DECam_Master_20170101_cd_56.fits -linear /data/sharedfs/deccp/Archive\n",
       "HISTORY 7772Z_56.fits -flatten /data/sharedfs/deccp/NHPPS_DATA/CAL/dflat/57772/D\n",
       "HISTORY EC16B_20170116_8da5864-57772gF_56.fits -illumination /data/sharedfs/decc\n",
       "HISTORY gI_ci_g_56.fits -variancetype WEIGHT -updatesky -MEF -verbose 3 -interpo\n",
       "SATURATE=               49415. / Global Saturate Value                          \n",
       "DESBLEED= 'Tue Jan 24 14:44:23 2017' / bleed trail masking                      \n",
       "NBLEED  = 14322  / Number of bleed trail pixels.                                \n",
       "STARMASK= 'Tue Jan 24 14:44:23 2017' / created bright star mask                 \n",
       "HISTORY 4-filg-ccd56/DEC16B_20170116_8da5864-g-170122055314_56.fits omibleed_56.\n",
       "FIXPIX  = 'Jan 24 14:44 Bad pixel file is omibleed_56_bpm.pl'                   \n",
       "FWHM    =             5.462356 / Median FWHM in pixels                          \n",
       "ELLIPTIC=           0.03403825 / Median ELLIPTICITY                             \n",
       "DESCRMSK= 'Tue Jan 24 15:03:22 2017' / Masked the image                         \n",
       "HISTORY DESDM: maskcosmics omimask_56.fits -crays -crfract 0.20 -crsig2 2.00 -lo\n",
       "AVSKY   =             131.6845                                                  \n",
       "AVSIG   =             6.264233                                                  \n",
       "BPM     = 'DEC16B_20170116_8da5864-g-20170122T055314_od[N25]'                   \n",
       "ILLUMCOR= 'DEC16B_20161220_8d6ef9b-gI_ci[N25]'                                  \n",
       "WCSDIM  =                    2                                                  \n",
       "WAT0_001= 'system=image'                                                        \n",
       "WAT1_001= 'wtype=tpv axtype=ra'                                                 \n",
       "WAT2_001= 'wtype=tpv axtype=dec'                                                \n",
       "RA1     = '8:01:29.07'         / [h] RA CCD center                              \n",
       "DEC1    = '-24:46:14.6'        / [deg] DEC CCD center                           \n",
       "CENRA1  =             120.3711 / [deg] RA CCD center                            \n",
       "CENDEC1 =            -24.77072 / [deg] DEC CCD center                           \n",
       "COR1RA1 =             120.2069 / [deg] RA CCD corner                            \n",
       "COR1DEC1=            -24.69534 / [deg] DEC CCD corner                           \n",
       "COR2RA1 =             120.2064 / [deg] RA CCD corner                            \n",
       "COR2DEC1=            -24.84448 / [deg] DEC CCD corner                           \n",
       "COR3RA1 =             120.5359 / [deg] RA CCD corner                            \n",
       "COR3DEC1=            -24.69686 / [deg] DEC CCD corner                           \n",
       "COR4RA1 =             120.5357 / [deg] RA CCD corner                            \n",
       "COR4DEC1=            -24.84591 / [deg] DEC CCD corner                           \n",
       "WTMAP   = 'DEC16B_20170116_8da5864-g-20170122T055314_ow[N25]'                   \n",
       "ARAWGAIN=                 4.38 / [e/adu] Average raw gain                       \n",
       "FZALGOR = 'RICE_1  '                                                            \n",
       "FZQMETHD= 'SUBTRACTIVE_DITHER_1'                                                \n",
       "FZQVALUE=                    4                                                  \n",
       "FZDTHRSD= 'CHECKSUM'                                                            \n",
       "HISTORY Image was compressed by CFITSIO using scaled integer quantization:      \n",
       "HISTORY   q = 4.000000 / quantized level scaling parameter                      \n",
       "HISTORY 'SUBTRACTIVE_DITHER_1' / Pixel Quantization Algorithm                   \n",
       "ZDITHER0=                 3498 / dithering offset when quantizing floats        \n",
       "CHECKSUM= 'AWIGDVHDAVHDAVHD'   / HDU checksum updated 2017-01-25T00:55:24       \n",
       "DATASUM = '3287010535'         / data unit checksum updated 2017-01-25T00:55:24 \n",
       "GAINCRWD=    3.737240791320801                                                  \n",
       "SKYCRWD =    130.7718200683594                                                  \n",
       "FWHMCRWD=    6.343679428100586                                                  "
      ]
     },
     "execution_count": 223,
     "metadata": {},
     "output_type": "execute_result"
    }
   ],
   "source": [
    "decaps_hdu[163].header"
   ]
  },
  {
   "cell_type": "markdown",
   "metadata": {},
   "source": [
    "Obtain the coordinates of the corners and the center of the mosaic : "
   ]
  },
  {
   "cell_type": "code",
   "execution_count": 24,
   "metadata": {
    "collapsed": true
   },
   "outputs": [],
   "source": [
    "centra = decaps_hdu[0].header['CENTRA']\n",
    "centdec  = decaps_hdu[0].header['CENTDEC']\n",
    "corner_dic = {'ra':np.zeros(4), \n",
    "              'dec':np.zeros(4)}\n",
    "\n",
    "for corner in np.arange(1,5) : \n",
    "    corn_ra = 'CORN'+str(corner)+'RA'\n",
    "    corn_dec  = 'CORN'+str(corner)+'DEC'\n",
    "    corner_dic['ra'][corner-1] = decaps_hdu[0].header[corn_ra]\n",
    "    corner_dic['dec'][corner-1] = decaps_hdu[0].header[corn_dec]\n"
   ]
  },
  {
   "cell_type": "code",
   "execution_count": 25,
   "metadata": {
    "collapsed": false
   },
   "outputs": [
    {
     "name": "stdout",
     "output_type": "stream",
     "text": [
      "This DECaPS field is centered on \n",
      "l,b = 242.428426, 3.773817\n"
     ]
    }
   ],
   "source": [
    "from astropy.coordinates import SkyCoord\n",
    "from astropy import units as u\n",
    "\n",
    "# initialize corners and center of the field in degrees \n",
    "corners  = SkyCoord(ra = corner_dic['ra'] * u.degree, \n",
    "                   dec = corner_dic['dec']*u.degree)\n",
    "center = SkyCoord(ra = centra * u.degree, dec = centdec * u.degree)\n",
    "\n",
    "# print\n",
    "print('This DECaPS field is centered on ')\n",
    "print('l,b = %f, %f'%(center.galactic.l.degree, center.galactic.b.degree))"
   ]
  },
  {
   "cell_type": "code",
   "execution_count": 26,
   "metadata": {
    "collapsed": false
   },
   "outputs": [
    {
     "name": "stdout",
     "output_type": "stream",
     "text": [
      "We will download\n",
      "['decam_flux_l241.5b2.5.fits', 'decam_flux_l242.5b2.5.fits', 'decam_flux_l243.5b2.5.fits', 'decam_flux_l241.5b3.5.fits', 'decam_flux_l242.5b3.5.fits', 'decam_flux_l243.5b3.5.fits', 'decam_flux_l241.5b4.5.fits', 'decam_flux_l242.5b4.5.fits', 'decam_flux_l243.5b4.5.fits', 'decam_flux_l241.5b5.5.fits', 'decam_flux_l242.5b5.5.fits', 'decam_flux_l243.5b5.5.fits']\n"
     ]
    }
   ],
   "source": [
    "# note: handle both positive and negative cases of galactic latitude, \n",
    "# since longitude is always positive\n",
    "\n",
    "# Make an array of tile latitudes: \n",
    "\n",
    "# closest  half integer to the maximum latitude:\n",
    "top_latitude = np.ceil(max(corners.galactic.b.degree)) \n",
    "bottom_latitude = np.floor(min(corners.galactic.b.degree))\n",
    "latitudes = np.arange(bottom_latitude, top_latitude) + 0.5\n",
    "\n",
    "\n",
    "# Make an array of tile longitudes \n",
    "\n",
    "maxL = max(corners.galactic.l.degree) \n",
    "minL = min(corners.galactic.l.degree)\n",
    "if maxL - minL > 200 : \n",
    "    # the boundary case ( around 0 longitude)\n",
    "    left_longitude = np.floor(maxL)\n",
    "    right_longitude = np.ceil(minL)\n",
    "    a = np.arange(left_longitude, 360 ) +0.5\n",
    "    longitudes = np.append(a, np.arange(1,right_longitude)-0.5) \n",
    "else : \n",
    "    # the standard case (both on same side )\n",
    "    left_longitude = np.floor(minL)\n",
    "    right_longitude = np.ceil(maxL)\n",
    "    longitudes = np.arange(left_longitude, right_longitude) + 0.5\n",
    "    \n",
    "\n",
    "from itertools import product\n",
    "# https://faun.rc.fas.harvard.edu/decaps/release/band-merged/decam_flux_l1.5bm6.5.fits \n",
    "decaps_catalogs = []\n",
    "for lat,lon in product(latitudes, longitudes):\n",
    "    if lat >= 0 : \n",
    "        catname = 'decam_flux_l' + str(lon) + 'b'  + str(lat) + '.fits'\n",
    "    if lat < 0 : \n",
    "        catname  = 'decam_flux_l' + str(lon) + 'b'  + 'm' + str(lat)[1:]+ '.fits'\n",
    "    decaps_catalogs.append(catname)\n",
    "    \n",
    "    \n",
    "print('We will try to download')\n",
    "print(decaps_catalogs)\n",
    "    \n",
    "    "
   ]
  },
  {
   "cell_type": "code",
   "execution_count": 46,
   "metadata": {
    "collapsed": true
   },
   "outputs": [],
   "source": [
    "print('First check which tiles are available : ')\n",
    "# Check that against the list of what is available ... \n",
    "# https://faun.rc.fas.harvard.edu/decaps/release/band-merged/\n",
    "url = 'https://faun.rc.fas.harvard.edu/decaps/release/band-merged/'\n",
    "with urllib.request.urlopen(url) as response:\n",
    "    html = response.read()\n"
   ]
  },
  {
   "cell_type": "code",
   "execution_count": 63,
   "metadata": {
    "collapsed": false
   },
   "outputs": [],
   "source": [
    "# we convert bytes object to a string \n",
    "html_string = html.decode(\"utf-8\") \n",
    "\n",
    "good_catalogs = []\n",
    "for i in range(0,len(decaps_catalogs)) :\n",
    "    if decaps_catalogs[i] in html_string:\n",
    "        good_catalogs.append(decaps_catalogs[i])"
   ]
  },
  {
   "cell_type": "code",
   "execution_count": 64,
   "metadata": {
    "collapsed": false
   },
   "outputs": [
    {
     "data": {
      "text/plain": [
       "['decam_flux_l241.5b2.5.fits',\n",
       " 'decam_flux_l242.5b2.5.fits',\n",
       " 'decam_flux_l243.5b2.5.fits',\n",
       " 'decam_flux_l241.5b3.5.fits',\n",
       " 'decam_flux_l242.5b3.5.fits',\n",
       " 'decam_flux_l243.5b3.5.fits',\n",
       " 'decam_flux_l241.5b4.5.fits',\n",
       " 'decam_flux_l242.5b4.5.fits',\n",
       " 'decam_flux_l243.5b4.5.fits',\n",
       " 'decam_flux_l242.5b5.5.fits',\n",
       " 'decam_flux_l243.5b5.5.fits']"
      ]
     },
     "execution_count": 64,
     "metadata": {},
     "output_type": "execute_result"
    }
   ],
   "source": [
    "print('We found that these are available : ')\n",
    "print(good_catalogs)\n"
   ]
  },
  {
   "cell_type": "code",
   "execution_count": 72,
   "metadata": {
    "collapsed": false
   },
   "outputs": [
    {
     "name": "stdout",
     "output_type": "stream",
     "text": [
      "But these have not been downloaded yet:\n",
      "['decam_flux_l242.5b5.5.fits' 'decam_flux_l243.5b5.5.fits']\n"
     ]
    }
   ],
   "source": [
    "print('But these have not been downloaded yet:')\n",
    "downloaded = os.listdir('../data_products/DEcAPS_Catalogs/band_merged/')\n",
    "mask_to_download = ~np.in1d(good_catalogs, downloaded)\n",
    "get_catalogs = np.array(good_catalogs)[mask_to_download]\n",
    "print(get_catalogs)"
   ]
  },
  {
   "cell_type": "code",
   "execution_count": 73,
   "metadata": {
    "collapsed": false
   },
   "outputs": [],
   "source": [
    "# Note - this may take a while to run because it \n",
    "# will download all the needed catalog tiles ... \n",
    "import urllib.request\n",
    "for file in get_catalogs : \n",
    "    file_name = '../data_products/DEcAPS_Catalogs/band_merged/'+file\n",
    "    url = 'https://faun.rc.fas.harvard.edu/decaps/release/band-merged/'+file\n",
    "    urllib.request.urlretrieve(url, file_name)"
   ]
  },
  {
   "cell_type": "code",
   "execution_count": null,
   "metadata": {
    "collapsed": true
   },
   "outputs": [],
   "source": []
  },
  {
   "cell_type": "code",
   "execution_count": null,
   "metadata": {
    "collapsed": true
   },
   "outputs": [],
   "source": []
  },
  {
   "cell_type": "markdown",
   "metadata": {},
   "source": [
    "Aside : illustrate the downloaded tiles : "
   ]
  },
  {
   "cell_type": "code",
   "execution_count": 18,
   "metadata": {
    "collapsed": false
   },
   "outputs": [
    {
     "data": {
      "text/plain": [
       "<matplotlib.text.Text at 0x10ed54ac8>"
      ]
     },
     "execution_count": 18,
     "metadata": {},
     "output_type": "execute_result"
    },
    {
     "data": {
      "image/png": "[encoded data removed]",
      "text/plain": [
       "<matplotlib.figure.Figure at 0x10d4ee898>"
      ]
     },
     "metadata": {},
     "output_type": "display_data"
    }
   ],
   "source": [
    "%matplotlib inline\n",
    "        \n",
    "# NOTE : The illustration only really works  for positive latitude, ( eg. b = 3,6 )\n",
    "# and both longitudes must be on the same side of the 0 meridian ( eg. l = 241, 245)\n",
    "\n",
    "# The decaps fields are arranged as a grid of \n",
    "# fields : \n",
    "l_field, b_field = center.galactic.l.degree, center.galactic.b.degree\n",
    "\n",
    "lmin = np.floor(l_field) - 1 \n",
    "bmin = np.floor(b_field) - 1\n",
    "fig,ax = plt.subplots(1,1)\n",
    "for l in np.arange(lmin,lmin+4) :\n",
    "    ax.axvline(l)\n",
    "for b in np.arange(bmin,bmin+4):\n",
    "    ax.axhline(b)\n",
    "ax.set_xlim(lmin-0.5,lmin+4)\n",
    "ax.set_ylim(bmin-0.5, bmin+4)\n",
    "ax.scatter(l_field, b_field, s=54)\n",
    "for c in corners : \n",
    "    ax.scatter(c.galactic.l, c.galactic.b, s=34, marker='*')\n",
    "ax.set_xlabel('l')\n",
    "ax.set_ylabel('b')\n",
    "ax.set_title('Field 611980, center and corners')"
   ]
  },
  {
   "cell_type": "markdown",
   "metadata": {},
   "source": [
    "### Completeness : match the decals single-epoch catalog to LSST source catalog "
   ]
  },
  {
   "cell_type": "markdown",
   "metadata": {},
   "source": [
    "We match the decals catalog that corresponds exactly to the LSST-processed image, CCD by CCD. \n",
    "1) Read the LSST source catalogs for a given CCD "
   ]
  },
  {
   "cell_type": "code",
   "execution_count": 75,
   "metadata": {
    "collapsed": false
   },
   "outputs": [
    {
     "data": {
      "text/plain": [
       "'/Users/chris/GradResearch/LSST_crowded_fields/code'"
      ]
     },
     "execution_count": 75,
     "metadata": {},
     "output_type": "execute_result"
    }
   ],
   "source": [
    "visit = '611980'\n",
    "outDir = '../data_products/LSST_Stack/DECam/'+visit+'/'\n",
    "\n",
    "# read ccd by ccd,  and check corresponding ccd data in the \n",
    "# decals single-epoch catalog\n",
    "\n",
    "\n",
    "from astropy.coordinates import SkyCoord\n",
    "from astropy import units as u\n",
    "from astropy.table import hstack\n",
    "from scipy.stats import binned_statistic as bs"
   ]
  },
  {
   "cell_type": "code",
   "execution_count": 324,
   "metadata": {
    "collapsed": false
   },
   "outputs": [
    {
     "name": "stdout",
     "output_type": "stream",
     "text": [
      "The lsst measured zeropoint for decam is 29.047000\n",
      "[ {1: 'S29', 3: 'S31', 4: 'S25', 5: 'S26', 6: 'S27', 7: 'S28', 8: 'S20', 9: 'S21', 10: 'S22', 11: 'S23', 12: 'S24', 13: 'S14', 14: 'S15', 15: 'S16', 16: 'S17', 17: 'S18', 18: 'S19', 19: 'S8', 20: 'S9', 21: 'S10', 22: 'S11', 23: 'S12', 24: 'S13', 25: 'S1', 26: 'S2', 27: 'S3', 28: 'S4', 29: 'S5', 30: 'S6', 31: 'S7', 32: 'N1', 33: 'N2', 34: 'N3', 35: 'N4', 36: 'N5', 37: 'N6', 38: 'N7', 39: 'N8', 40: 'N9', 41: 'N10', 42: 'N11', 43: 'N12', 44: 'N13', 45: 'N14', 46: 'N15', 47: 'N16', 48: 'N17', 49: 'N18', 50: 'N19', 51: 'N20', 52: 'N21', 53: 'N22', 54: 'N23', 55: 'N24', 56: 'N25', 57: 'N26', 58: 'N27', 59: 'N28', 60: 'N29', 62: 'N31'}]\n",
      "[ {1: 3, 3: 6, 4: 9, 5: 12, 6: 15, 7: 18, 8: 21, 9: 24, 10: 27, 11: 30, 12: 33, 13: 36, 14: 39, 15: 42, 16: 45, 17: 48, 18: 51, 19: 54, 20: 57, 21: 60, 22: 63, 23: 66, 24: 69, 25: 72, 26: 75, 27: 78, 28: 81, 29: 84, 30: 87, 31: 90, 32: 93, 33: 96, 34: 99, 35: 102, 36: 105, 37: 108, 38: 111, 39: 114, 40: 117, 41: 120, 42: 123, 43: 126, 44: 129, 45: 132, 46: 135, 47: 138, 48: 141, 49: 144, 50: 147, 51: 150, 52: 153, 53: 156, 54: 159, 55: 162, 56: 165, 57: 168, 58: 171, 59: 174, 60: 177, 62: 180}]\n"
     ]
    }
   ],
   "source": [
    "visit = '611980'\n",
    "outDir = '../data_products/LSST_Stack/DECam/'+visit+'/'\n",
    "\n",
    "\n",
    "# first check calexp for zero point magnitude\n",
    "# it is exactly the same for all CCDs in a mosaic \n",
    "calexp_files = os.listdir(outDir+'calexp/')\n",
    "fname = calexp_files[0]\n",
    "# read in the zeropoint from the calexp file \n",
    "calexp_hdu = fits.open(outDir+'calexp/' + fname)\n",
    "lsst_zeropoint = calexp_hdu[0].header['MAGZERO']\n",
    "print('The lsst measured zeropoint for decam is %f'%lsst_zeropoint)\n",
    "\n",
    "# Make only once : the translation of ccdnum to ccdname,  to position in the \n",
    "# decals hdu \n",
    "\n",
    "ccd_name_dict = {}\n",
    "catalog_decaps_pos = {}\n",
    "\n",
    "for i in range(1,180) : \n",
    "    if 'IMAGE' in decaps_hdu[i].header['XTENSION'] :\n",
    "        ccdnum = decaps_hdu[i].header['CCDNUM']\n",
    "        detpos = decaps_hdu[i].header['DETPOS']\n",
    "        ccd_name_dict[ccdnum] = detpos\n",
    "        catalog_decaps_pos[ccdnum] = int(i+2)\n",
    "        \n",
    "# The coveted dictionary of ccdnum  vs ccdname ! \n",
    "print(np.ravel(ccd_name_dict))\n",
    "\n",
    "# and the translation of ccdnum  to hduposition of the catalog .... \n",
    "print(np.ravel(catalog_decaps_pos))\n"
   ]
  },
  {
   "cell_type": "code",
   "execution_count": 334,
   "metadata": {
    "collapsed": false
   },
   "outputs": [
    {
     "name": "stdout",
     "output_type": "stream",
     "text": [
      "src-0611980_23.fits\n",
      "For ccd number 23 \n",
      "The ccd name is S12\n",
      "and the position in the decaps hdu catalog is 66\n",
      "There are 5068 decaps sources  and 4461 lsst sources.\n"
     ]
    },
    {
     "name": "stderr",
     "output_type": "stream",
     "text": [
      "/Users/chris/anaconda3/envs/py36/lib/python3.6/site-packages/ipykernel/__main__.py:29: RuntimeWarning: invalid value encountered in log10\n"
     ]
    }
   ],
   "source": [
    "#def process_src_ccd():\n",
    "src_files = os.listdir(outDir+'src/')\n",
    "start = len('src-0'+visit+'_')\n",
    "stop = len('.fits')\n",
    "ccdnum  = src_files[0][start:-stop]  # string\n",
    "ccd_number = float(ccdnum)\n",
    "fname = 'src-0'+visit+'_'+ccdnum+'.fits'\n",
    "hdu = fits.open(outDir +'src/'+ fname)\n",
    "print(fname)\n",
    "\n",
    "# convert to an AstroPy table \n",
    "ccd_data = Table(hdu[1].data)\n",
    "\n",
    "# only consider positive fluxes... \n",
    "mask_neg_fluxes = ccd_data['base_PsfFlux_flux'].data > 0\n",
    "# just select rows that don't have negative fluxes...\n",
    "ccd_data_good = ccd_data[mask_neg_fluxes]\n",
    "ccd_data_good['lsst_mag'] = -2.512 * np.log10(ccd_data_good['base_PsfFlux_flux'])   +\\\n",
    "   lsst_zeropoint\n",
    "\n",
    "# Display mapping information\n",
    "print('For ccd number %d ' % ccd_number)\n",
    "print('The ccd name is %s'% ccd_name_dict[ccd_number])\n",
    "print('and the position in the decaps hdu catalog is %d'%catalog_decaps_pos[ccd_number])\n",
    "\n",
    "# read in decaps single-epoch catalog for that ccd... \n",
    "ccd_decaps_cat =  Table(decaps_hdu[catalog_decaps_pos[ccd_number]].data) \n",
    "\n",
    "# convert the fluxes to magnitudes \n",
    "ccd_decaps_cat['decaps_mag'] = -2.512 * np.log10(ccd_decaps_cat['flux'].data) +\\\n",
    "decaps_zeropoint\n",
    "\n",
    "\n",
    "# Match sources from  decaps to lsst  per ccd \n",
    "# decam coordinates\n",
    "decam_coord = SkyCoord(ra  = ccd_decaps_cat['ra']*u.degree, \n",
    "                       dec = ccd_decaps_cat['dec']*u.degree)  \n",
    "\n",
    "# lsst coordinates : in radians ! \n",
    "lsst_coord = SkyCoord(ra = ccd_data_good['coord_ra']*u.radian, \n",
    "                      dec= ccd_data_good['coord_dec']*u.radian)  \n",
    "\n",
    "\n",
    "# indices are into lsst ccd catalog \n",
    "# match decaps into lsst ... \n",
    "idx, d2d, d3d = decam_coord.match_to_catalog_sky(lsst_coord)  \n",
    "\n",
    "# stack the two catalogs \n",
    "lsst_decam= hstack([ccd_decaps_cat ,ccd_data_good[idx]],\n",
    "               table_names=['decam','lsst']  )\n",
    "\n",
    "print('There are %d decaps sources  and %d lsst sources.'%(len(decam_coord),\n",
    "                                                      len(lsst_coord))\n",
    "     )"
   ]
  },
  {
   "cell_type": "code",
   "execution_count": 362,
   "metadata": {
    "collapsed": false
   },
   "outputs": [
    {
     "name": "stdout",
     "output_type": "stream",
     "text": [
      " 3775 decaps srcs have an lsst match within 2 arcsec\n",
      " 3640 decaps srcs have an lsst match within 0.50 mag\n",
      " 3573 decaps srcs have an lsst match fulfilling both criteria\n"
     ]
    },
    {
     "name": "stderr",
     "output_type": "stream",
     "text": [
      "/Users/chris/anaconda3/envs/py36/lib/python3.6/site-packages/ipykernel/__main__.py:8: RuntimeWarning: invalid value encountered in less\n"
     ]
    },
    {
     "data": {
      "text/plain": [
       "[<matplotlib.lines.Line2D at 0x11eea4518>]"
      ]
     },
     "execution_count": 362,
     "metadata": {},
     "output_type": "execute_result"
    },
    {
     "data": {
      "image/png": "[encoded data removed]",
      "text/plain": [
       "<matplotlib.figure.Figure at 0x11ee69278>"
      ]
     },
     "metadata": {},
     "output_type": "display_data"
    }
   ],
   "source": [
    "# matches within two arcsec...\n",
    "cut_arcsec = 2 \n",
    "mask_arcsec = d2d.arcsec < cut_arcsec\n",
    "\n",
    "# matches within 0.5 mag from one another ... \n",
    "lsst_decam['dmag'] = lsst_decam['lsst_mag'] - lsst_decam['decaps_mag']\n",
    "cut_mag = 0.5\n",
    "mask_mag = abs(lsst_decam['dmag'].data) < cut_mag\n",
    "mask_comb  = mask_arcsec * mask_mag\n",
    "\n",
    "\n",
    "print(' %d decaps srcs have an lsst match within %d arcsec'%(\n",
    "    np.sum(mask_arcsec), cut_arcsec)\n",
    "     )\n",
    "print(' %d decaps srcs have an lsst match within %.2f mag'%(\n",
    "    np.sum(mask_mag), cut_mag)\n",
    "     )\n",
    "print(' %d decaps srcs have an lsst match fulfilling both criteria'%np.sum(mask_comb)\n",
    "     )\n",
    "\n",
    "# make  a smaller table with only 'good matches', \n",
    "# keeping only the magnitudes.. \n",
    "# matched =  lsst_decam[mask_comb][['lsst_mag', 'decaps_mag']]\n",
    "      \n",
    "      \n",
    "# Using the original table, make a column to flag which \n",
    "# decaps srcs have a good lsst match \n",
    "\n",
    "# Initialize with zeros\n",
    "lsst_decam['lsst_match'] = 0\n",
    "\n",
    "# Set to 1 only where the match is good, i.e. fulfills the combined selection masks\n",
    "lsst_decam['lsst_match'][mask_comb] = 1 \n",
    "      \n",
    "# Plot completeness ... \n",
    "bins = np.arange(12,23,0.5)\n",
    "\n",
    "stat_mag = bs(lsst_decam['decaps_mag'], lsst_decam['decaps_mag'] , bins =bins ,\n",
    "          statistic='count')\n",
    "\n",
    "stat_count = bs(lsst_decam['decaps_mag'], lsst_decam['lsst_match'] , bins =bins ,\n",
    "          statistic=np.sum)\n",
    "\n",
    "decaps_count = stat_mag.statistic[1:]\n",
    "lsst_matched_count = stat_count.statistic[1:]\n",
    "\n",
    "completeness = 100 * (lsst_matched_count / decaps_count)\n",
    "\n",
    "%matplotlib inline\n",
    "fig,ax = plt.subplots(1,1,figsize = (8,6))\n",
    "ax.scatter(stat_mag.bin_edges[2:]+0.25, completeness)\n",
    "ax.set_ylabel('completeness %')\n",
    "ax.set_xlabel('true: decals mag')\n",
    "ax.set_title('LSST vs single-epoch decals ccd#'+str(int(ccd_number))+\\\n",
    "             ', '+ ccd_name_dict[ccd_number])\n",
    "\n",
    "\n",
    "ax2 = ax.twinx()\n",
    "\n",
    "ax2.plot(stat_mag.bin_edges[2:]+0.25, decaps_count, c='indigo')\n",
    "ax2.set_ylabel('decals count')\n",
    "\n",
    "# single out only those decals that have a good lsst match,\n",
    "# so that we can plot the counts of lsst along the magnitude \n",
    "# of matched decals source... \n",
    "matched =  lsst_decam[mask_comb][['lsst_mag', 'decaps_mag']]\n",
    "stat_lsst = bs(  matched['decaps_mag'], matched['lsst_mag'] , bins = bins , \n",
    "             statistic = 'count' ) \n",
    "\n",
    "ax2.plot(stat_lsst.bin_edges[2:]+0.25, stat_lsst.statistic[1:])\n",
    "\n",
    "\n",
    "# plot also raw lsst along lsst magnitudes ...\n",
    "stat_raw = bs(ccd_data_good['lsst_mag'], ccd_data_good['lsst_mag'],\n",
    "             bins=bins, statistic='count')\n",
    "ax2.plot(stat_raw.bin_edges[2:]+0.25, stat_raw.statistic[1:])"
   ]
  },
  {
   "cell_type": "code",
   "execution_count": 337,
   "metadata": {
    "collapsed": false
   },
   "outputs": [
    {
     "data": {
      "text/plain": [
       "5068"
      ]
     },
     "execution_count": 337,
     "metadata": {},
     "output_type": "execute_result"
    }
   ],
   "source": [
    "len(lsst_decam)"
   ]
  },
  {
   "cell_type": "code",
   "execution_count": 348,
   "metadata": {
    "collapsed": false
   },
   "outputs": [
    {
     "data": {
      "text/html": [
       "&lt;Column name=&apos;lsst_mag&apos; dtype=&apos;float64&apos; length=4461&gt;\n",
       "<table>\n",
       "<tr><td>18.4788176331</td></tr>\n",
       "<tr><td>20.737100766</td></tr>\n",
       "<tr><td>19.807636617</td></tr>\n",
       "<tr><td>16.8199698157</td></tr>\n",
       "<tr><td>21.3916851169</td></tr>\n",
       "<tr><td>18.8644894007</td></tr>\n",
       "<tr><td>21.1783409655</td></tr>\n",
       "<tr><td>21.5300589587</td></tr>\n",
       "<tr><td>16.3772197778</td></tr>\n",
       "<tr><td>21.0198339369</td></tr>\n",
       "<tr><td>15.1108898537</td></tr>\n",
       "<tr><td>17.6006608612</td></tr>\n",
       "<tr><td>...</td></tr>\n",
       "<tr><td>14.812461442</td></tr>\n",
       "<tr><td>19.2117120955</td></tr>\n",
       "<tr><td>19.6636058869</td></tr>\n",
       "<tr><td>21.2782418424</td></tr>\n",
       "<tr><td>19.5621490146</td></tr>\n",
       "<tr><td>21.6265570454</td></tr>\n",
       "<tr><td>15.2210583608</td></tr>\n",
       "<tr><td>21.9578513915</td></tr>\n",
       "<tr><td>18.352477319</td></tr>\n",
       "<tr><td>20.2487758944</td></tr>\n",
       "<tr><td>18.6333414147</td></tr>\n",
       "<tr><td>28.4695309813</td></tr>\n",
       "</table>"
      ],
      "text/plain": [
       "<Column name='lsst_mag' dtype='float64' length=4461>\n",
       "18.4788176331\n",
       " 20.737100766\n",
       " 19.807636617\n",
       "16.8199698157\n",
       "21.3916851169\n",
       "18.8644894007\n",
       "21.1783409655\n",
       "21.5300589587\n",
       "16.3772197778\n",
       "21.0198339369\n",
       "15.1108898537\n",
       "17.6006608612\n",
       "          ...\n",
       " 14.812461442\n",
       "19.2117120955\n",
       "19.6636058869\n",
       "21.2782418424\n",
       "19.5621490146\n",
       "21.6265570454\n",
       "15.2210583608\n",
       "21.9578513915\n",
       " 18.352477319\n",
       "20.2487758944\n",
       "18.6333414147\n",
       "28.4695309813"
      ]
     },
     "execution_count": 348,
     "metadata": {},
     "output_type": "execute_result"
    }
   ],
   "source": []
  },
  {
   "cell_type": "code",
   "execution_count": 294,
   "metadata": {
    "collapsed": false
   },
   "outputs": [],
   "source": []
  },
  {
   "cell_type": "code",
   "execution_count": 315,
   "metadata": {
    "collapsed": false
   },
   "outputs": [
    {
     "data": {
      "text/plain": [
       "<matplotlib.text.Text at 0x122049ac8>"
      ]
     },
     "execution_count": 315,
     "metadata": {},
     "output_type": "execute_result"
    },
    {
     "data": {
      "image/png": "[encoded data removed]",
      "text/plain": [
       "<matplotlib.figure.Figure at 0x1220160f0>"
      ]
     },
     "metadata": {},
     "output_type": "display_data"
    }
   ],
   "source": []
  },
  {
   "cell_type": "code",
   "execution_count": null,
   "metadata": {
    "collapsed": true
   },
   "outputs": [],
   "source": [
    "# Plot completeness : \n",
    "# how many decaps sources does lsst recover ?\n",
    "\n",
    "# we classify a  match as good if :\n",
    "# 1)  lsst counterpart is within 2 arcsec\n",
    "# 2) lsst match has magnitude within 0.5 mag from the decaps magnitude \n",
    "\n"
   ]
  },
  {
   "cell_type": "code",
   "execution_count": null,
   "metadata": {
    "collapsed": true
   },
   "outputs": [],
   "source": []
  }
 ],
 "metadata": {
  "kernelspec": {
   "display_name": "Python 3",
   "language": "python",
   "name": "python3"
  },
  "language_info": {
   "codemirror_mode": {
    "name": "ipython",
    "version": 3
   },
   "file_extension": ".py",
   "mimetype": "text/x-python",
   "name": "python",
   "nbconvert_exporter": "python",
   "pygments_lexer": "ipython3",
   "version": "3.6.0"
  }
 },
 "nbformat": 4,
 "nbformat_minor": 2
}
