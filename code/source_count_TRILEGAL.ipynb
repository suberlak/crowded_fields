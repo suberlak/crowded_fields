{
 "cells": [
  {
   "cell_type": "code",
   "execution_count": 66,
   "metadata": {
    "collapsed": true
   },
   "outputs": [],
   "source": [
    "# Necessary imports ... \n",
    "import matplotlib.pyplot as plt\n",
    "from astropy.table import Table\n",
    "import os\n",
    "import numpy as np"
   ]
  },
  {
   "cell_type": "code",
   "execution_count": 247,
   "metadata": {},
   "outputs": [
    {
     "name": "stdout",
     "output_type": "stream",
     "text": [
      "We read the DECam - MAF matches within 30 arcsec from: \n",
      "table_decam_maf_matched_0.51_density_percent.vo.xml\n",
      "\n",
      "We have DECam data for 0.51  percent matched to MAF for : \n",
      "['tu1669764.fits.fz' 'tu1670143.fits.fz' 'tu1677011.fits.fz'\n",
      " 'tu2091292.fits.fz' 'tu2093190.fits.fz']\n"
     ]
    }
   ],
   "source": [
    "#  Read in the DECam - MAF matched data ... \n",
    "percent = 0.51  # or 0.06  0.21   0.51\n",
    "fname = 'table_decam_maf_matched_'+str(percent)+'_density_percent.vo.xml'\n",
    "decam_maf = Table.read(fname)\n",
    "print('We read the DECam - MAF matches within 30 arcsec from: \\n%s'%fname)\n",
    "# Check which files are available in the archive dir \n",
    "outDir = '../raw_data/DECam/'\n",
    "archive_files = np.array(decam_maf['archive_file'].data).astype(str)\n",
    "print('\\nWe have DECam data for %s  percent matched to MAF for : '%str(percent))\n",
    "print(np.array(os.listdir(outDir))[mask])\n",
    "\n",
    "# choose available fields ....\n",
    "# since only on those we can run DAOPhot, \n",
    "# and it makes sense to get TRILEGAL data \n",
    "sampled_objects = decam_maf[np.in1d(archive_files, os.listdir(outDir))]\n",
    "\n",
    "\n"
   ]
  },
  {
   "cell_type": "raw",
   "metadata": {},
   "source": [
    "Submit to TRILEGAL the form with the following choices : \n",
    " \n",
    "1) fieldset = Pointing parameters\n",
    "    * select equatorial coordinates \n",
    "      by default,  the first radio button is on : ( type=\"radio\", \n",
    "      name = 'gal_coord', value=\"1\", checked=\"checked\" )\n",
    "      and the second is off : (type=\"radio\", name=\"gal_coord\", value=\"2\")\n",
    "      so I need to set name = \"gal_coord\", value=\"2\", checked=\"checked\" \n",
    "      to turn the other one on \n",
    "    * set ra = 277.981112999999   (name=\"eq_alpha\", value=\"277.981111\")\n",
    "    * set dec  = -19.083333   (name=\"eq_delta\", value=\"-19.0833\")\n",
    "    * enter total  field area  0.047117 ( name=\"field\", value = 0.047117)\n",
    "    \n",
    "2) fieldset  title= Select the photometric system \n",
    "    * name = \"photsys_file\"  \n",
    "    * value = \"tab_mag_odfnew/tab_mag_lsst.dat\"  (selects LSST ugrizY, \n",
    "              March 2012 total filter throughputs (all ABmags))\n",
    "    \n",
    "    * set the r to be the limiting filter:   name = \"icm_lim\", \n",
    "      value = \"3\"  (sets r filter)\n",
    "    * set the filter limiting mag : name = \"mag_lim\", value=\"24.5\"\n",
    "        \n",
    "        \n",
    "    3) Leave everything else as default, and hit submit to start the job..\n",
    "    * type=\"submit\" ,  name = \"submit_form\",  value = \"Submit\"\n",
    "    \n",
    "    4) From the new website that opens up, Wait 2 mins, and retrieve the\n",
    "       results file... "
   ]
  },
  {
   "cell_type": "code",
   "execution_count": null,
   "metadata": {
    "collapsed": true
   },
   "outputs": [],
   "source": []
  },
  {
   "cell_type": "markdown",
   "metadata": {},
   "source": [
    "### Run TRILEGAL queries in a loop"
   ]
  },
  {
   "cell_type": "code",
   "execution_count": 248,
   "metadata": {},
   "outputs": [],
   "source": [
    "from astropy.io import fits\n",
    "import re\n",
    "from mechanize import Browser\n",
    "\n",
    "def trilegal_counts(fname):\n",
    "    hdu = fits.open(outDir+fname)\n",
    "    print('\\nInvestigated DECam file is %s'%fname)\n",
    "    print('DECam ra,dec = %f, %f'%(sampled_objects['ra'][j],sampled_objects['dec'][j] ))\n",
    "    MAF_count = sampled_objects['MAF_px_density'][j]\n",
    "    print('MAF count here is %d'%MAF_count)\n",
    "\n",
    "    x_px_scale = hdu[0].header['PIXSCAL1']  # arcsec / pixel\n",
    "    y_px_scale = hdu[0].header['PIXSCAL2']\n",
    "    x_n_pixels = hdu[1].header['NAXIS1']\n",
    "    y_n_pixels = hdu[1].header['NAXIS2']\n",
    "    x_arcsec = x_n_pixels * x_px_scale\n",
    "    y_arcsec = y_n_pixels * y_px_scale\n",
    "    print('Image size in arcmin is %f by %f'%(x_arcsec / 60, y_arcsec / 60 ))\n",
    "    area_size_sq_arcsec = x_arcsec * y_arcsec\n",
    "    area_size_sq_deg = area_size_sq_arcsec / (3600 * 3600)\n",
    "    print('Single image frame area is %d sq. arcsec, i.e. %f sq.deg.' %(area_size_sq_arcsec, \n",
    "                                                        area_size_sq_deg ))\n",
    "\n",
    "    # grab ra, dec ...\n",
    "    ra = sampled_objects[j]['ra']\n",
    "    dec = sampled_objects[j]['dec']\n",
    "    archive_file = sampled_objects[j]['archive_file']\n",
    "    print('Obtaining TRILEGAL data for object %s, at \\\n",
    "    \\nDECam ra,dec = %s,%s...'%(archive_file,ra,dec))\n",
    "\n",
    "    # mechanize : fill in the TRILEGAL form with \n",
    "    # an automated python form \n",
    "    # this works only with python 2.7 kernel .. \n",
    "\n",
    "    print('Querying TRILEGAL for object at given equatorial coordinates')\n",
    "    print('Within the given area, cutting on r<24.5')\n",
    "    browser = Browser()\n",
    "    browser.open(\"http://stev.oapd.inaf.it/cgi-bin/trilegal\")\n",
    "    browser.select_form(nr=0) # select the first  (and only) available form...\n",
    "    browser['gal_coord'] = [\"2\"]  # select galactic coords \n",
    "    ra_hrs = (ra/360) * 24.0 # convert degrees to hours \n",
    "    browser['eq_alpha'] = str(ra_hrs)  # in hours \n",
    "    browser['eq_delta'] = str(dec)  # in degrees \n",
    "    browser['field'] = str(area_size_sq_deg)\n",
    "    photsys_file = \"tab_mag_odfnew/tab_mag_lsst.dat\"\n",
    "    browser['photsys_file'] = [photsys_file]\n",
    "    icm_lim = \"3\" ; mag_lim = \"24.5\"\n",
    "    browser[\"icm_lim\"] = icm_lim\n",
    "    browser[\"mag_lim\"] = mag_lim                               \n",
    "    response = browser.submit()\n",
    "    #content = response.read()\n",
    "    # print out links to find out \n",
    "    # which is the one of interest\n",
    "    #for link in browser.links():\n",
    "    #    print link.text, link.url\n",
    "\n",
    "    print('Asserting that TRILEGAL normally terminated...')\n",
    "    lastline = \"\"\n",
    "    while lastline != '#TRILEGAL normally terminated\\n' : \n",
    "        # wait for 30 sec...  \n",
    "        print('Waiting for 30 sec more ...')\n",
    "        time.sleep(30)\n",
    "        \n",
    "        # try downloading the result... \n",
    "        url = 'http://stev.oapd.inaf.it/' + str(browser.links()[0].url[3:])\n",
    "        filename = 'trilegal_'+str(key)+ '_j-'+str(j)+'.dat'\n",
    "        browser.retrieve(url, filename)\n",
    "\n",
    "        # only exit the loop when lastline is \n",
    "        # a correct termination\n",
    "        fi=open(filename, 'r')\n",
    "        lastline=\"\"\n",
    "        for line in fi:\n",
    "            lastline = line\n",
    "\n",
    "    # then read the table and count \n",
    "    trilegal_data = Table.read(filename, format='ascii')\n",
    "    f_length = len(trilegal_data)\n",
    "    n_per_sq_deg = f_length / area_size_sq_deg\n",
    "    print('There are %d stars in that field , corresponding \\\n",
    "    to %d per square degree '%(f_length,n_per_sq_deg))\n",
    "    print('\\n')\n",
    "    \n",
    "    results = {'archive_file':fname , 'ra_deg':ra,'ra_hrs':ra_hrs, 'dec_deg':dec,\n",
    "              'field':area_size_sq_deg, 'photsys_file':photsys_file,\n",
    "              'icm_lim':icm_lim, 'mag_lim':mag_lim, 'filename':filename,\n",
    "              'sources':f_length, 'source_density':n_per_sq_deg, 'MAF_count':MAF_count\n",
    "              } \n",
    "    return results"
   ]
  },
  {
   "cell_type": "code",
   "execution_count": null,
   "metadata": {},
   "outputs": [],
   "source": []
  },
  {
   "cell_type": "code",
   "execution_count": 250,
   "metadata": {},
   "outputs": [
    {
     "name": "stdout",
     "output_type": "stream",
     "text": [
      "\n",
      "Investigated DECam file is c4d_160607_025052_ooi_g_v1.fits.fz\n",
      "DECam ra,dec = 233.175667, -1.679167\n",
      "MAF count here is 20052\n",
      "Image size in arcmin is 9.207000 by 18.423000\n",
      "Single image frame area is 610634 sq. arcsec, i.e. 0.047117 sq.deg.\n",
      "Obtaining TRILEGAL data for object c4d_160607_025052_ooi_g_v1.fits.fz, at     \n",
      "DECam ra,dec = 233.175667,-1.679167...\n",
      "Querying TRILEGAL for object at given equatorial coordinates\n",
      "Within the given area, cutting on r<24.5\n",
      "Asserting that TRILEGAL normally terminated...\n",
      "Waiting for 30 sec more ...\n",
      "Waiting for 30 sec more ...\n",
      "There are 1302 stars in that field , corresponding     to 27633 per square degree \n",
      "\n",
      "\n",
      "\n",
      "Investigated DECam file is c4d_170718_042438_ooi_r_v1.fits.fz\n",
      "DECam ra,dec = 228.030375, -6.490833\n",
      "MAF count here is 20412\n",
      "Image size in arcmin is 9.207000 by 18.423000\n",
      "Single image frame area is 610634 sq. arcsec, i.e. 0.047117 sq.deg.\n",
      "Obtaining TRILEGAL data for object c4d_170718_042438_ooi_r_v1.fits.fz, at     \n",
      "DECam ra,dec = 228.030375,-6.490833...\n",
      "Querying TRILEGAL for object at given equatorial coordinates\n",
      "Within the given area, cutting on r<24.5\n",
      "Asserting that TRILEGAL normally terminated...\n",
      "Waiting for 30 sec more ...\n",
      "Waiting for 30 sec more ...\n",
      "There are 1273 stars in that field , corresponding     to 27017 per square degree \n",
      "\n",
      "\n",
      "\n",
      "Investigated DECam file is c4d_150615_005257_ooi_g_v1.fits.fz\n",
      "DECam ra,dec = 223.138875, -11.249944\n",
      "MAF count here is 21024\n",
      "Image size in arcmin is 9.207000 by 18.423000\n",
      "Single image frame area is 610634 sq. arcsec, i.e. 0.047117 sq.deg.\n",
      "Obtaining TRILEGAL data for object c4d_150615_005257_ooi_g_v1.fits.fz, at     \n",
      "DECam ra,dec = 223.138875,-11.249944...\n",
      "Querying TRILEGAL for object at given equatorial coordinates\n",
      "Within the given area, cutting on r<24.5\n",
      "Asserting that TRILEGAL normally terminated...\n",
      "Waiting for 30 sec more ...\n",
      "Waiting for 30 sec more ...\n",
      "There are 1256 stars in that field , corresponding     to 26657 per square degree \n",
      "\n",
      "\n",
      "\n",
      "Investigated DECam file is c4d_150614_002629_ooi_g_v1.fits.fz\n",
      "DECam ra,dec = 222.213375, -12.759667\n",
      "MAF count here is 20916\n",
      "Image size in arcmin is 9.207000 by 18.423000\n",
      "Single image frame area is 610634 sq. arcsec, i.e. 0.047117 sq.deg.\n",
      "Obtaining TRILEGAL data for object c4d_150614_002629_ooi_g_v1.fits.fz, at     \n",
      "DECam ra,dec = 222.213375,-12.759667...\n",
      "Querying TRILEGAL for object at given equatorial coordinates\n",
      "Within the given area, cutting on r<24.5\n",
      "Asserting that TRILEGAL normally terminated...\n",
      "Waiting for 30 sec more ...\n",
      "Waiting for 30 sec more ...\n",
      "There are 1321 stars in that field , corresponding     to 28036 per square degree \n",
      "\n",
      "\n",
      "\n",
      "Investigated DECam file is tu2046406.fits.fz\n",
      "DECam ra,dec = 91.807500, -14.163028\n",
      "MAF count here is 19944\n",
      "Image size in arcmin is 9.207000 by 18.423000\n",
      "Single image frame area is 610634 sq. arcsec, i.e. 0.047117 sq.deg.\n",
      "Obtaining TRILEGAL data for object tu2046406.fits.fz, at     \n",
      "DECam ra,dec = 91.8075,-14.163028...\n",
      "Querying TRILEGAL for object at given equatorial coordinates\n",
      "Within the given area, cutting on r<24.5\n",
      "Asserting that TRILEGAL normally terminated...\n",
      "Waiting for 30 sec more ...\n",
      "Waiting for 30 sec more ...\n",
      "There are 1948 stars in that field , corresponding     to 41344 per square degree \n",
      "\n",
      "\n",
      "Results of TRILEGAL queries are saved as TRILEGAL_0.51_perc_DECam_MAF_counts.csv\n"
     ]
    }
   ],
   "source": [
    "\n",
    "# run TRILEGAL  queries in the loop, and store results .. \n",
    "\n",
    "res_dic = {'archive_file':[] , 'ra_deg':[],'ra_hrs':[], 'dec_deg':[],\n",
    "              'field':[], 'photsys_file':[],\n",
    "              'icm_lim':[], 'mag_lim':[], 'filename':[],\n",
    "              'sources':[], 'source_density':[],'MAF_count':[]\n",
    "          }\n",
    "           \n",
    "for j in range(len(sampled_objects)):\n",
    "    fname = np.array(sampled_objects['archive_file']).astype(str)[j]\n",
    "    results = trilegal_counts(fname)\n",
    "    for key in results.keys():\n",
    "        res_dic[key].append(results[key])\n",
    "        \n",
    "#Save the results of counting...\n",
    "fname = 'TRILEGAL_'+str(percent)+'_perc_DECam_MAF_counts.csv'\n",
    "Table(res_dic).write(fname, overwrite='True')\n",
    "print('Results of TRILEGAL queries are saved as %s'%fname)"
   ]
  },
  {
   "cell_type": "code",
   "execution_count": 222,
   "metadata": {},
   "outputs": [],
   "source": []
  },
  {
   "cell_type": "code",
   "execution_count": 251,
   "metadata": {},
   "outputs": [
    {
     "name": "stdout",
     "output_type": "stream",
     "text": [
      "percent = 0.510000\n"
     ]
    },
    {
     "data": {
      "text/html": [
       "&lt;Table length=5&gt;\n",
       "<table id=\"table4562408592\" class=\"table-striped table-bordered table-condensed\">\n",
       "<thead><tr><th>icm_lim</th><th>MAF_count</th><th>mag_lim</th><th>ra_deg</th><th>sources</th><th>dec_deg</th><th>ra_hrs</th><th>source_density</th><th>archive_file</th><th>filename</th><th>field</th><th>photsys_file</th></tr></thead>\n",
       "<thead><tr><th>int64</th><th>float64</th><th>float64</th><th>float64</th><th>int64</th><th>float64</th><th>float64</th><th>float64</th><th>str34</th><th>str29</th><th>float64</th><th>str31</th></tr></thead>\n",
       "<tr><td>3</td><td>20052.0</td><td>24.5</td><td>233.175667</td><td>1302</td><td>-1.679167</td><td>15.5450444667</td><td>27633.4423867</td><td>c4d_160607_025052_ooi_g_v1.fits.fz</td><td>trilegal_photsys_file_j-0.dat</td><td>0.0471168225</td><td>tab_mag_odfnew/tab_mag_lsst.dat</td></tr>\n",
       "<tr><td>3</td><td>20412.0</td><td>24.5</td><td>228.030375</td><td>1273</td><td>-6.490833</td><td>15.202025</td><td>27017.9509665</td><td>c4d_170718_042438_ooi_r_v1.fits.fz</td><td>trilegal_photsys_file_j-1.dat</td><td>0.0471168225</td><td>tab_mag_odfnew/tab_mag_lsst.dat</td></tr>\n",
       "<tr><td>3</td><td>21024.0</td><td>24.5</td><td>223.138875</td><td>1256</td><td>-11.249944</td><td>14.875925</td><td>26657.1456511</td><td>c4d_150615_005257_ooi_g_v1.fits.fz</td><td>trilegal_photsys_file_j-2.dat</td><td>0.0471168225</td><td>tab_mag_odfnew/tab_mag_lsst.dat</td></tr>\n",
       "<tr><td>3</td><td>20916.0</td><td>24.5</td><td>222.213375</td><td>1321</td><td>-12.759667</td><td>14.814225</td><td>28036.6953862</td><td>c4d_150614_002629_ooi_g_v1.fits.fz</td><td>trilegal_photsys_file_j-3.dat</td><td>0.0471168225</td><td>tab_mag_odfnew/tab_mag_lsst.dat</td></tr>\n",
       "<tr><td>3</td><td>19944.0</td><td>24.5</td><td>91.8075</td><td>1948</td><td>-14.163028</td><td>6.1205</td><td>41344.0443697</td><td>tu2046406.fits.fz</td><td>trilegal_photsys_file_j-4.dat</td><td>0.0471168225</td><td>tab_mag_odfnew/tab_mag_lsst.dat</td></tr>\n",
       "</table>"
      ],
      "text/plain": [
       "<Table length=5>\n",
       "icm_lim MAF_count mag_lim ...    field               photsys_file         \n",
       " int64   float64  float64 ...   float64                 str31             \n",
       "------- --------- ------- ... ------------ -------------------------------\n",
       "      3   20052.0    24.5 ... 0.0471168225 tab_mag_odfnew/tab_mag_lsst.dat\n",
       "      3   20412.0    24.5 ... 0.0471168225 tab_mag_odfnew/tab_mag_lsst.dat\n",
       "      3   21024.0    24.5 ... 0.0471168225 tab_mag_odfnew/tab_mag_lsst.dat\n",
       "      3   20916.0    24.5 ... 0.0471168225 tab_mag_odfnew/tab_mag_lsst.dat\n",
       "      3   19944.0    24.5 ... 0.0471168225 tab_mag_odfnew/tab_mag_lsst.dat"
      ]
     },
     "execution_count": 251,
     "metadata": {},
     "output_type": "execute_result"
    }
   ],
   "source": [
    "# Display the results...\n",
    "print('percent = %f'%percent)\n",
    "trilegal = Table.read('TRILEGAL_'+str(percent)+'_perc_DECam_MAF_counts.csv')\n",
    "trilegal"
   ]
  },
  {
   "cell_type": "markdown",
   "metadata": {},
   "source": [
    "## Combine DAOStarFinder and TRILEGAL counts"
   ]
  },
  {
   "cell_type": "code",
   "execution_count": 166,
   "metadata": {
    "collapsed": true
   },
   "outputs": [],
   "source": [
    "from astropy.table import join"
   ]
  },
  {
   "cell_type": "code",
   "execution_count": 252,
   "metadata": {},
   "outputs": [
    {
     "name": "stdout",
     "output_type": "stream",
     "text": [
      "precent = 0.510000\n"
     ]
    },
    {
     "data": {
      "text/html": [
       "&lt;Table length=5&gt;\n",
       "<table id=\"table4585605968\" class=\"table-striped table-bordered table-condensed\">\n",
       "<thead><tr><th>icm_lim</th><th>MAF_count</th><th>mag_lim</th><th>ra_deg</th><th>sources_TRI</th><th>dec_deg</th><th>ra_hrs</th><th>source_density_TRI</th><th>archive_file</th><th>filename</th><th>field</th><th>photsys_file</th><th>area_sq_deg</th><th>fwhm</th><th>threshold</th><th>sources_DAO</th><th>source_density_DAO</th></tr></thead>\n",
       "<thead><tr><th>int64</th><th>float64</th><th>float64</th><th>float64</th><th>int64</th><th>float64</th><th>float64</th><th>float64</th><th>str34</th><th>str29</th><th>float64</th><th>str31</th><th>float64</th><th>float64</th><th>float64</th><th>int64</th><th>float64</th></tr></thead>\n",
       "<tr><td>3</td><td>20916.0</td><td>24.5</td><td>222.213375</td><td>1321</td><td>-12.759667</td><td>14.814225</td><td>28036.6953862</td><td>c4d_150614_002629_ooi_g_v1.fits.fz</td><td>trilegal_photsys_file_j-3.dat</td><td>0.0471168225</td><td>tab_mag_odfnew/tab_mag_lsst.dat</td><td>0.0471168225</td><td>8.060747</td><td>31.453033182</td><td>366</td><td>7767.92620088</td></tr>\n",
       "<tr><td>3</td><td>21024.0</td><td>24.5</td><td>223.138875</td><td>1256</td><td>-11.249944</td><td>14.875925</td><td>26657.1456511</td><td>c4d_150615_005257_ooi_g_v1.fits.fz</td><td>trilegal_photsys_file_j-2.dat</td><td>0.0471168225</td><td>tab_mag_odfnew/tab_mag_lsst.dat</td><td>0.0471168225</td><td>5.475378</td><td>31.0363521064</td><td>608</td><td>12904.095984</td></tr>\n",
       "<tr><td>3</td><td>20052.0</td><td>24.5</td><td>233.175667</td><td>1302</td><td>-1.679167</td><td>15.5450444667</td><td>27633.4423867</td><td>c4d_160607_025052_ooi_g_v1.fits.fz</td><td>trilegal_photsys_file_j-0.dat</td><td>0.0471168225</td><td>tab_mag_odfnew/tab_mag_lsst.dat</td><td>0.0471168225</td><td>6.117483</td><td>31.5070427428</td><td>630</td><td>13371.0205097</td></tr>\n",
       "<tr><td>3</td><td>20412.0</td><td>24.5</td><td>228.030375</td><td>1273</td><td>-6.490833</td><td>15.202025</td><td>27017.9509665</td><td>c4d_170718_042438_ooi_r_v1.fits.fz</td><td>trilegal_photsys_file_j-1.dat</td><td>0.0471168225</td><td>tab_mag_odfnew/tab_mag_lsst.dat</td><td>0.0471168225</td><td>5.847024</td><td>54.0614157019</td><td>830</td><td>17615.7889255</td></tr>\n",
       "<tr><td>3</td><td>19944.0</td><td>24.5</td><td>91.8075</td><td>1948</td><td>-14.163028</td><td>6.1205</td><td>41344.0443697</td><td>tu2046406.fits.fz</td><td>trilegal_photsys_file_j-4.dat</td><td>0.0471168225</td><td>tab_mag_odfnew/tab_mag_lsst.dat</td><td>0.0471168225</td><td>4.202916</td><td>55.1179480827</td><td>1695</td><td>35974.4123238</td></tr>\n",
       "</table>"
      ],
      "text/plain": [
       "<Table length=5>\n",
       "icm_lim MAF_count mag_lim ...   threshold   sources_DAO source_density_DAO\n",
       " int64   float64  float64 ...    float64       int64         float64      \n",
       "------- --------- ------- ... ------------- ----------- ------------------\n",
       "      3   20916.0    24.5 ...  31.453033182         366      7767.92620088\n",
       "      3   21024.0    24.5 ... 31.0363521064         608       12904.095984\n",
       "      3   20052.0    24.5 ... 31.5070427428         630      13371.0205097\n",
       "      3   20412.0    24.5 ... 54.0614157019         830      17615.7889255\n",
       "      3   19944.0    24.5 ... 55.1179480827        1695      35974.4123238"
      ]
     },
     "execution_count": 252,
     "metadata": {},
     "output_type": "execute_result"
    }
   ],
   "source": [
    "\n",
    "print('precent = %f'%percent)\n",
    "trilegal = Table.read('TRILEGAL_'+str(percent)+'_perc_DECam_MAF_counts.csv')\n",
    "dao = Table.read('DAO_'+str(percent)+'_perc_DECam_MAF_counts.csv')\n",
    "merged1= join(trilegal,dao, keys='archive_file',table_names=['TRI', 'DAO'])\n",
    "merged1"
   ]
  },
  {
   "cell_type": "code",
   "execution_count": 253,
   "metadata": {},
   "outputs": [],
   "source": [
    "# only here need to add MAF counts \n",
    "# nbecause I forgot to add them in TRILEGAL \n",
    "# loop  -  later on this should be deleted.\n",
    "sampled_objects['archive_file'] = sampled_objects['archive_file'].astype(str)\n",
    "merged = join(merged1,  sampled_objects[['archive_file','MAF_px_density']])\n",
    "\n",
    "merged.rename_column('archive_file', 'archive')\n",
    "merged.rename_column('ra_deg','ra')\n",
    "merged.rename_column('dec_deg','dec')\n",
    "merged.rename_column('source_density_TRI','TRILEGAL')\n",
    "merged.rename_column('MAF_px_density','MAF')\n",
    "merged.rename_column('source_density_DAO','DAO')\n",
    "\n",
    "for col in ['TRILEGAL', 'DAO', 'MAF']:\n",
    "    merged[col] = merged[col].astype(int)"
   ]
  },
  {
   "cell_type": "code",
   "execution_count": 254,
   "metadata": {},
   "outputs": [
    {
     "data": {
      "text/html": [
       "&lt;Table masked=True length=5&gt;\n",
       "<table id=\"table4562409488\" class=\"table-striped table-bordered table-condensed\">\n",
       "<thead><tr><th>archive</th><th>ra</th><th>dec</th><th>TRILEGAL</th><th>MAF</th><th>DAO</th></tr></thead>\n",
       "<thead><tr><th>str34</th><th>float64</th><th>float64</th><th>int64</th><th>int64</th><th>int64</th></tr></thead>\n",
       "<tr><td>c4d_150614_002629_ooi_g_v1.fits.fz</td><td>222.213375</td><td>-12.759667</td><td>28036</td><td>20916</td><td>7767</td></tr>\n",
       "<tr><td>c4d_150615_005257_ooi_g_v1.fits.fz</td><td>223.138875</td><td>-11.249944</td><td>26657</td><td>21024</td><td>12904</td></tr>\n",
       "<tr><td>c4d_160607_025052_ooi_g_v1.fits.fz</td><td>233.175667</td><td>-1.679167</td><td>27633</td><td>20052</td><td>13371</td></tr>\n",
       "<tr><td>c4d_170718_042438_ooi_r_v1.fits.fz</td><td>228.030375</td><td>-6.490833</td><td>27017</td><td>20412</td><td>17615</td></tr>\n",
       "<tr><td>tu2046406.fits.fz</td><td>91.8075</td><td>-14.163028</td><td>41344</td><td>19944</td><td>35974</td></tr>\n",
       "</table>"
      ],
      "text/plain": [
       "<Table masked=True length=5>\n",
       "             archive                   ra        dec     TRILEGAL  MAF   DAO \n",
       "              str34                 float64    float64    int64   int64 int64\n",
       "---------------------------------- ---------- ---------- -------- ----- -----\n",
       "c4d_150614_002629_ooi_g_v1.fits.fz 222.213375 -12.759667    28036 20916  7767\n",
       "c4d_150615_005257_ooi_g_v1.fits.fz 223.138875 -11.249944    26657 21024 12904\n",
       "c4d_160607_025052_ooi_g_v1.fits.fz 233.175667  -1.679167    27633 20052 13371\n",
       "c4d_170718_042438_ooi_r_v1.fits.fz 228.030375  -6.490833    27017 20412 17615\n",
       "                 tu2046406.fits.fz    91.8075 -14.163028    41344 19944 35974"
      ]
     },
     "execution_count": 254,
     "metadata": {},
     "output_type": "execute_result"
    }
   ],
   "source": [
    "merged[['archive','ra','dec', 'TRILEGAL', 'MAF', 'DAO' ]]"
   ]
  },
  {
   "cell_type": "code",
   "execution_count": 255,
   "metadata": {},
   "outputs": [
    {
     "name": "stdout",
     "output_type": "stream",
     "text": [
      "\\begin{table}\n",
      "\\begin{tabular}{cccccc}\n",
      "archive & ra & dec & TRILEGAL & MAF & DAO \\\\\n",
      "c4d_150614_002629_ooi_g_v1.fits.fz & 222.213375 & -12.759667 & 28036 & 20916 & 7767 \\\\\n",
      "c4d_150615_005257_ooi_g_v1.fits.fz & 223.138875 & -11.249944 & 26657 & 21024 & 12904 \\\\\n",
      "c4d_160607_025052_ooi_g_v1.fits.fz & 233.175667 & -1.679167 & 27633 & 20052 & 13371 \\\\\n",
      "c4d_170718_042438_ooi_r_v1.fits.fz & 228.030375 & -6.490833 & 27017 & 20412 & 17615 \\\\\n",
      "tu2046406.fits.fz & 91.8075 & -14.163028 & 41344 & 19944 & 35974 \\\\\n",
      "\\end{tabular}\n",
      "\\end{table}\n"
     ]
    }
   ],
   "source": [
    "# Save the info : \n",
    "# archive_name   |  ra_deg  | dec_deg | MAF count  | DAO count | TRILEGAL count \n",
    "\n",
    "# Save as LaTeX file so that I can quickly share with Colin\n",
    "from astropy.io import ascii\n",
    "ascii.write(merged[['archive','ra','dec', 'TRILEGAL', 'MAF', 'DAO' ]], format='latex')  "
   ]
  },
  {
   "cell_type": "code",
   "execution_count": 185,
   "metadata": {
    "collapsed": true
   },
   "outputs": [],
   "source": []
  },
  {
   "cell_type": "code",
   "execution_count": 187,
   "metadata": {
    "collapsed": true
   },
   "outputs": [],
   "source": []
  },
  {
   "cell_type": "code",
   "execution_count": 191,
   "metadata": {},
   "outputs": [
    {
     "data": {
      "text/html": [
       "&lt;Table masked=True length=5&gt;\n",
       "<table id=\"table4587781584\" class=\"table-striped table-bordered table-condensed\">\n",
       "<thead><tr><th>archive</th><th>ra</th><th>dec</th><th>TRILEGAL</th><th>DAO</th><th>MAF</th></tr></thead>\n",
       "<thead><tr><th>str17</th><th>float64</th><th>float64</th><th>float64</th><th>float64</th><th>float64</th></tr></thead>\n",
       "<tr><td>tu1669764.fits.fz</td><td>260.973083</td><td>-18.467306</td><td>1545804.68904</td><td>376915.594089</td><td>641484.0</td></tr>\n",
       "<tr><td>tu1670143.fits.fz</td><td>259.304375</td><td>-19.487611</td><td>1229290.03354</td><td>387454.634903</td><td>599508.0</td></tr>\n",
       "<tr><td>tu1677011.fits.fz</td><td>260.957167</td><td>-20.493167</td><td>2533705.61261</td><td>509093.625318</td><td>810144.0</td></tr>\n",
       "<tr><td>tu2091292.fits.fz</td><td>262.64325</td><td>-19.471278</td><td>3357866.50299</td><td>434409.599671</td><td>795996.0</td></tr>\n",
       "<tr><td>tu2093190.fits.fz</td><td>260.994583</td><td>-16.475528</td><td>1036105.52261</td><td>286712.882644</td><td>585576.0</td></tr>\n",
       "</table>"
      ],
      "text/plain": [
       "<Table masked=True length=5>\n",
       "     archive          ra        dec        TRILEGAL        DAO        MAF   \n",
       "      str17        float64    float64      float64       float64    float64 \n",
       "----------------- ---------- ---------- ------------- ------------- --------\n",
       "tu1669764.fits.fz 260.973083 -18.467306 1545804.68904 376915.594089 641484.0\n",
       "tu1670143.fits.fz 259.304375 -19.487611 1229290.03354 387454.634903 599508.0\n",
       "tu1677011.fits.fz 260.957167 -20.493167 2533705.61261 509093.625318 810144.0\n",
       "tu2091292.fits.fz  262.64325 -19.471278 3357866.50299 434409.599671 795996.0\n",
       "tu2093190.fits.fz 260.994583 -16.475528 1036105.52261 286712.882644 585576.0"
      ]
     },
     "execution_count": 191,
     "metadata": {},
     "output_type": "execute_result"
    }
   ],
   "source": []
  },
  {
   "cell_type": "code",
   "execution_count": 172,
   "metadata": {},
   "outputs": [
    {
     "name": "stdout",
     "output_type": "stream",
     "text": [
      "\\begin{table}\n",
      "\\begin{tabular}{cccccccccccccccc}\n",
      "icm_lim & mag_lim & ra_deg & sources_TRI & dec_deg & ra_hrs & source_density_TRI & archive_file & filename & field & photsys_file & area_sq_deg & fwhm & threshold & sources_DAO & source_density_DAO \\\\\n",
      "3 & 24.5 & 260.973083 & 72017 & -18.467306 & 17.3982055333 & 1545804.68904 & tu1669764.fits.fz & trilegal_photsys_file_j-1.dat & 0.04658868 & tab_mag_odfnew/tab_mag_lsst.dat & 0.04658868 & 4.877344 & 144.051478584 & 17560 & 376915.594089 \\\\\n",
      "3 & 24.5 & 259.304375 & 57271 & -19.487611 & 17.2869583333 & 1229290.03354 & tu1670143.fits.fz & trilegal_photsys_file_j-2.dat & 0.04658868 & tab_mag_odfnew/tab_mag_lsst.dat & 0.04658868 & 4.594288 & 117.533165008 & 18051 & 387454.634903 \\\\\n",
      "3 & 24.5 & 260.957167 & 118042 & -20.493167 & 17.3971444667 & 2533705.61261 & tu1677011.fits.fz & trilegal_photsys_file_j-4.dat & 0.04658868 & tab_mag_odfnew/tab_mag_lsst.dat & 0.04658868 & 3.90122 & 130.490627692 & 23718 & 509093.625318 \\\\\n",
      "3 & 24.5 & 262.64325 & 158212 & -19.471278 & 17.50955 & 3357866.50299 & tu2091292.fits.fz & trilegal_photsys_file_j-3.dat & 0.0471168225 & tab_mag_odfnew/tab_mag_lsst.dat & 0.0471168225 & 5.147546 & 172.902518471 & 20468 & 434409.599671 \\\\\n",
      "3 & 24.5 & 260.994583 & 48818 & -16.475528 & 17.3996388667 & 1036105.52261 & tu2093190.fits.fz & trilegal_mag_lim_j-0.dat & 0.0471168225 & tab_mag_odfnew/tab_mag_lsst.dat & 0.0471168225 & 4.690261 & 84.9051648189 & 13509 & 286712.882644 \\\\\n",
      "\\end{tabular}\n",
      "\\end{table}\n"
     ]
    }
   ],
   "source": [
    "\n"
   ]
  },
  {
   "cell_type": "code",
   "execution_count": null,
   "metadata": {
    "collapsed": true
   },
   "outputs": [],
   "source": []
  }
 ],
 "metadata": {
  "kernelspec": {
   "display_name": "Python 2",
   "language": "python",
   "name": "python2"
  },
  "language_info": {
   "codemirror_mode": {
    "name": "ipython",
    "version": 2
   },
   "file_extension": ".py",
   "mimetype": "text/x-python",
   "name": "python",
   "nbconvert_exporter": "python",
   "pygments_lexer": "ipython2",
   "version": "2.7.13"
  }
 },
 "nbformat": 4,
 "nbformat_minor": 2
}
