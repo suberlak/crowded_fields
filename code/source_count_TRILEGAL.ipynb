{
 "cells": [
  {
   "cell_type": "code",
   "execution_count": null,
   "metadata": {
    "collapsed": true
   },
   "outputs": [],
   "source": [
    "# NOTE : this works only in py27, \n",
    "# because mechanize does not work \n",
    "# in py34 ...\n",
    "# do  "
   ]
  },
  {
   "cell_type": "code",
   "execution_count": 1,
   "metadata": {
    "collapsed": true
   },
   "outputs": [],
   "source": [
    "# Necessary imports ... \n",
    "\n",
    "import matplotlib.pyplot as plt\n",
    "from astropy.table import Table\n",
    "import os\n",
    "import numpy as np\n",
    "from astropy.io import fits\n",
    "import re\n",
    "#from mechanize import Browser\n",
    "import time"
   ]
  },
  {
   "cell_type": "code",
   "execution_count": 3,
   "metadata": {
    "collapsed": false
   },
   "outputs": [
    {
     "name": "stdout",
     "output_type": "stream",
     "text": [
      "We read the DECam - MAF matches within 30 arcsec from: \n",
      "table_decam_maf_matched_0.01_density_percent.vo.xml\n",
      "\n",
      "We have DECam data for 0.01  percent matched to MAF for : \n",
      "['c4d_140624_081148_ooi_r_v2.fits.fz' 'c4d_140624_080728_ooi_r_v1.fits.fz'\n",
      " 'c4d_170504_084722_ooi_g_v1.fits.fz' 'c4d_170501_055757_ooi_g_v1.fits.fz'\n",
      " 'c4d_170428_094150_ooi_g_v1.fits.fz']\n"
     ]
    },
    {
     "data": {
      "text/html": [
       "&lt;Table masked=True length=5&gt;\n",
       "<table id=\"table4576294112\" class=\"table-striped table-bordered table-condensed\">\n",
       "<thead><tr><th>ra</th><th>dec</th><th>archive_file</th></tr></thead>\n",
       "<thead><tr><th>float64</th><th>float64</th><th>object</th></tr></thead>\n",
       "<tr><td>277.98111299999999</td><td>-19.083333</td><td>c4d_140624_081148_ooi_r_v2.fits.fz</td></tr>\n",
       "<tr><td>277.943625</td><td>-19.120971999999998</td><td>c4d_140624_080728_ooi_r_v1.fits.fz</td></tr>\n",
       "<tr><td>264.04304200000001</td><td>-22.608889000000001</td><td>c4d_170504_084722_ooi_g_v1.fits.fz</td></tr>\n",
       "<tr><td>259.22033299999998</td><td>-29.295221999999999</td><td>c4d_170501_055757_ooi_g_v1.fits.fz</td></tr>\n",
       "<tr><td>268.43987499999997</td><td>-33.630110999999999</td><td>c4d_170428_094150_ooi_g_v1.fits.fz</td></tr>\n",
       "</table>"
      ],
      "text/plain": [
       "<Table masked=True length=5>\n",
       "        ra                 dec                    archive_file           \n",
       "     float64             float64                     object              \n",
       "------------------ ------------------- ----------------------------------\n",
       "277.98111299999999          -19.083333 c4d_140624_081148_ooi_r_v2.fits.fz\n",
       "        277.943625 -19.120971999999998 c4d_140624_080728_ooi_r_v1.fits.fz\n",
       "264.04304200000001 -22.608889000000001 c4d_170504_084722_ooi_g_v1.fits.fz\n",
       "259.22033299999998 -29.295221999999999 c4d_170501_055757_ooi_g_v1.fits.fz\n",
       "268.43987499999997 -33.630110999999999 c4d_170428_094150_ooi_g_v1.fits.fz"
      ]
     },
     "execution_count": 3,
     "metadata": {},
     "output_type": "execute_result"
    }
   ],
   "source": [
    "#  Read in the DECam - MAF matched data ... \n",
    "percent = 0.01 # 0.51  # or 0.06  0.21   0.51\n",
    "fname = 'table_decam_maf_matched_'+str(percent)+'_density_percent.vo.xml'\n",
    "decam_maf_table = Table.read(fname)\n",
    "decam_maf_files = np.array(decam_maf_table['archive_file'].data).astype(str)\n",
    "print('We read the DECam - MAF matches within 30 arcsec from: \\n%s'%fname)\n",
    "\n",
    "# Check which files are available in the downloads archive dir \n",
    "outDir = '../raw_data/DECam/'\n",
    "print('\\nWe have DECam data for %s  percent matched to MAF for : '%str(percent))\n",
    "mask_available = np.in1d(decam_maf_files, os.listdir(outDir) )\n",
    "print(decam_maf_files[mask_available])\n",
    "\n",
    "# choose available fields ....\n",
    "# since only on those we can run DAOPhot, \n",
    "# and it makes sense to get TRILEGAL data \n",
    "\n",
    "decam_maf_downloaded = decam_maf_table[mask_available]\n",
    "decam_maf_downloaded[['ra', 'dec', 'archive_file']]"
   ]
  },
  {
   "cell_type": "raw",
   "metadata": {},
   "source": [
    "Submit to TRILEGAL the form with the following choices : \n",
    " \n",
    "1) fieldset = Pointing parameters\n",
    "    * select equatorial coordinates \n",
    "      by default,  the first radio button is on : ( type=\"radio\", \n",
    "      name = 'gal_coord', value=\"1\", checked=\"checked\" )\n",
    "      and the second is off : (type=\"radio\", name=\"gal_coord\", value=\"2\")\n",
    "      so I need to set name = \"gal_coord\", value=\"2\", checked=\"checked\" \n",
    "      to turn the other one on \n",
    "    * set ra = 277.981112999999   (name=\"eq_alpha\", value=\"277.981111\")\n",
    "    * set dec  = -19.083333   (name=\"eq_delta\", value=\"-19.0833\")\n",
    "    * enter total  field area  0.047117 ( name=\"field\", value = 0.047117)\n",
    "    \n",
    "2) fieldset  title= Select the photometric system \n",
    "    * name = \"photsys_file\"  \n",
    "    * value = \"tab_mag_odfnew/tab_mag_lsst.dat\"  (selects LSST ugrizY, \n",
    "              March 2012 total filter throughputs (all ABmags))\n",
    "    \n",
    "    * set the r to be the limiting filter:   name = \"icm_lim\", \n",
    "      value = \"3\"  (sets r filter)\n",
    "    * set the filter limiting mag : name = \"mag_lim\", value=\"24.5\"\n",
    "        \n",
    "        \n",
    "    3) Leave everything else as default, and hit submit to start the job..\n",
    "    * type=\"submit\" ,  name = \"submit_form\",  value = \"Submit\"\n",
    "    \n",
    "    4) From the new website that opens up, Wait 2 mins, and retrieve the\n",
    "       results file... "
   ]
  },
  {
   "cell_type": "code",
   "execution_count": null,
   "metadata": {
    "collapsed": true
   },
   "outputs": [],
   "source": []
  },
  {
   "cell_type": "markdown",
   "metadata": {},
   "source": [
    "### Run TRILEGAL queries in a loop"
   ]
  },
  {
   "cell_type": "code",
   "execution_count": 4,
   "metadata": {
    "collapsed": false
   },
   "outputs": [
    {
     "name": "stdout",
     "output_type": "stream",
     "text": [
      "\n",
      "Investigated DECam file is c4d_140624_081148_ooi_r_v2.fits.fz\n",
      "DECam ra,dec = 277.981113, -19.083333\n",
      "MAF count here is 2590488\n"
     ]
    }
   ],
   "source": []
  },
  {
   "cell_type": "code",
   "execution_count": 109,
   "metadata": {
    "collapsed": true
   },
   "outputs": [],
   "source": [
    "def trilegal_counts(fname):\n",
    "    ''' A convenience function to submit to TRILEGAL\n",
    "    website the desired field coordinates, \n",
    "    filter choice, etc. , to get the TRILEGAL \n",
    "    estimate of number counts ...\n",
    "    '''    \n",
    "    file_names = np.array(decam_maf_downloaded['archive_file'].data).astype(str)\n",
    "    mask = file_names == fname\n",
    "    chosen_field  = decam_maf_downloaded[mask]\n",
    "    ra = chosen_field['ra'].data.data[0]\n",
    "    dec = chosen_field['dec'].data.data[0]\n",
    "    \n",
    "    hdu = fits.open(outDir+fname)\n",
    "    print('\\nInvestigated DECam file is %s'%fname)\n",
    "    print('DECam ra,dec = %f, %f'%(ra,dec))\n",
    "    MAF_count = chosen_field['MAF_px_density'].data.data[0]\n",
    "    print('MAF count here is %d'%MAF_count)\n",
    "\n",
    "    x_px_scale = hdu[0].header['PIXSCAL1']  # arcsec / pixel\n",
    "    y_px_scale = hdu[0].header['PIXSCAL2']\n",
    "    x_n_pixels = hdu[1].header['NAXIS1']\n",
    "    y_n_pixels = hdu[1].header['NAXIS2']\n",
    "    x_arcsec = x_n_pixels * x_px_scale\n",
    "    y_arcsec = y_n_pixels * y_px_scale\n",
    "    print('Image size in arcmin is %f by %f'%(x_arcsec / 60, y_arcsec / 60 ))\n",
    "    area_size_sq_arcsec = x_arcsec * y_arcsec\n",
    "    area_size_sq_deg = area_size_sq_arcsec / (3600 * 3600)\n",
    "    print('Single image frame area is %d sq. arcsec, i.e. %f sq.deg.' %(area_size_sq_arcsec, \n",
    "                                                        area_size_sq_deg ))\n",
    "    print('Obtaining TRILEGAL data for object %s '%fname)\n",
    "\n",
    "    # mechanize : fill in the TRILEGAL form with \n",
    "    # an automated python form \n",
    "    # this works only with python 2.7 kernel .. \n",
    "\n",
    "    print('Querying TRILEGAL for object at given equatorial coordinates')\n",
    "    print('Within the given area, cutting on r<24.5')\n",
    "    browser = Browser()\n",
    "    browser.open(\"http://stev.oapd.inaf.it/cgi-bin/trilegal\")\n",
    "    browser.select_form(nr=0) # select the first  (and only) available form...\n",
    "    browser['gal_coord'] = [\"2\"]  # select galactic coords \n",
    "    ra_hrs = (ra/360) * 24.0 # convert degrees to hours \n",
    "    browser['eq_alpha'] = str(ra_hrs)  # in hours \n",
    "    browser['eq_delta'] = str(dec)  # in degrees \n",
    "    browser['field'] = str(area_size_sq_deg)\n",
    "    photsys_file = \"tab_mag_odfnew/tab_mag_lsst.dat\"\n",
    "    browser['photsys_file'] = [photsys_file]\n",
    "    icm_lim = \"3\" ; mag_lim = \"24.5\"\n",
    "    browser[\"icm_lim\"] = icm_lim\n",
    "    browser[\"mag_lim\"] = mag_lim                               \n",
    "    response = browser.submit()\n",
    "    #content = response.read()\n",
    "    # print out links to find out \n",
    "    # which is the one of interest\n",
    "    #for link in browser.links():\n",
    "    #    print link.text, link.url\n",
    "\n",
    "    print('Asserting that TRILEGAL normally terminated...')\n",
    "    lastline = \"\"\n",
    "    while lastline != '#TRILEGAL normally terminated\\n' : \n",
    "        # wait for 30 sec...  \n",
    "        print('Waiting for 30 sec more ...')\n",
    "        time.sleep(30)\n",
    "        \n",
    "        # try downloading the result... \n",
    "        url = 'http://stev.oapd.inaf.it/' + str(browser.links()[0].url[3:])\n",
    "        # note : only read up to -8 position, \n",
    "        # so that .fits.fz is not included \n",
    "        filename = 'trilegal_' + str(percent) + '_' + fname[:-8] + '.dat'\n",
    "        browser.retrieve(url, filename)\n",
    "\n",
    "        # only exit the loop when lastline is \n",
    "        # a correct termination\n",
    "        fi=open(filename, 'r')\n",
    "        lastline=\"\"\n",
    "        for line in fi:\n",
    "            lastline = line\n",
    "\n",
    "    print('TRILEGAL data saved as %s'%filename)\n",
    "    # then read the table and count \n",
    "    trilegal_data = Table.read(filename, format='ascii')\n",
    "    f_length = len(trilegal_data)\n",
    "    n_per_sq_deg = f_length / area_size_sq_deg\n",
    "    print('There are %d stars in that field , corresponding \\\n",
    "    to %d per square degree '%(f_length,n_per_sq_deg))\n",
    "    print('\\n')\n",
    "    \n",
    "    results = {'archive_file':fname , 'ra_deg':ra,'ra_hrs':ra_hrs, 'dec_deg':dec,\n",
    "              'field':area_size_sq_deg, 'photsys_file':photsys_file,\n",
    "              'icm_lim':icm_lim, 'mag_lim':mag_lim, 'filename':filename,\n",
    "              'sources':f_length, 'source_density':n_per_sq_deg, 'MAF_count':MAF_count\n",
    "              } \n",
    "    return results"
   ]
  },
  {
   "cell_type": "code",
   "execution_count": 114,
   "metadata": {
    "collapsed": true
   },
   "outputs": [],
   "source": [
    "#run_files = np.array(decam_maf_downloaded['archive_file'].data).astype(str)[4:]"
   ]
  },
  {
   "cell_type": "code",
   "execution_count": 141,
   "metadata": {
    "collapsed": true
   },
   "outputs": [],
   "source": [
    "# choose which archive files to run trilegal queries on ....\n",
    "# we take ra,dec from the DECAM field location \n",
    "# this is analogous to chosen list in \n",
    "# source_count_DAO.... \n",
    "run_files = ['c4d_160607_025052_ooi_g_v1.fits.fz', 'tu2046406.fits.fz',\n",
    "         'c4d_150615_005257_ooi_g_v1.fits.fz', 'c4d_160825_034122_ooi_g_v1.fits.fz']"
   ]
  },
  {
   "cell_type": "code",
   "execution_count": 142,
   "metadata": {
    "collapsed": false
   },
   "outputs": [
    {
     "name": "stdout",
     "output_type": "stream",
     "text": [
      "We will run TRILEGAL queries for : \n",
      "['c4d_160607_025052_ooi_g_v1.fits.fz', 'tu2046406.fits.fz', 'c4d_150615_005257_ooi_g_v1.fits.fz', 'c4d_160825_034122_ooi_g_v1.fits.fz']\n",
      "\n",
      "Investigated DECam file is c4d_160607_025052_ooi_g_v1.fits.fz\n",
      "DECam ra,dec = 233.175667, -1.679167\n",
      "MAF count here is 20052\n",
      "Image size in arcmin is 9.207000 by 18.423000\n",
      "Single image frame area is 610634 sq. arcsec, i.e. 0.047117 sq.deg.\n",
      "Obtaining TRILEGAL data for object c4d_160607_025052_ooi_g_v1.fits.fz \n",
      "Querying TRILEGAL for object at given equatorial coordinates\n",
      "Within the given area, cutting on r<24.5\n",
      "Asserting that TRILEGAL normally terminated...\n",
      "Waiting for 30 sec more ...\n",
      "Waiting for 30 sec more ...\n",
      "TRILEGAL data saved as trilegal_0.51_c4d_160607_025052_ooi_g_v1.dat\n",
      "There are 1395 stars in that field , corresponding     to 29607 per square degree \n",
      "\n",
      "\n",
      "\n",
      "Investigated DECam file is tu2046406.fits.fz\n",
      "DECam ra,dec = 91.807500, -14.163028\n",
      "MAF count here is 19944\n",
      "Image size in arcmin is 9.207000 by 18.423000\n",
      "Single image frame area is 610634 sq. arcsec, i.e. 0.047117 sq.deg.\n",
      "Obtaining TRILEGAL data for object tu2046406.fits.fz \n",
      "Querying TRILEGAL for object at given equatorial coordinates\n",
      "Within the given area, cutting on r<24.5\n",
      "Asserting that TRILEGAL normally terminated...\n",
      "Waiting for 30 sec more ...\n",
      "Waiting for 30 sec more ...\n",
      "TRILEGAL data saved as trilegal_0.51_tu2046406.dat\n",
      "There are 1971 stars in that field , corresponding     to 41832 per square degree \n",
      "\n",
      "\n",
      "\n",
      "Investigated DECam file is c4d_150615_005257_ooi_g_v1.fits.fz\n",
      "DECam ra,dec = 223.138875, -11.249944\n",
      "MAF count here is 21024\n",
      "Image size in arcmin is 9.207000 by 18.423000\n",
      "Single image frame area is 610634 sq. arcsec, i.e. 0.047117 sq.deg.\n",
      "Obtaining TRILEGAL data for object c4d_150615_005257_ooi_g_v1.fits.fz \n",
      "Querying TRILEGAL for object at given equatorial coordinates\n",
      "Within the given area, cutting on r<24.5\n",
      "Asserting that TRILEGAL normally terminated...\n",
      "Waiting for 30 sec more ...\n",
      "Waiting for 30 sec more ...\n",
      "TRILEGAL data saved as trilegal_0.51_c4d_150615_005257_ooi_g_v1.dat\n",
      "There are 1302 stars in that field , corresponding     to 27633 per square degree \n",
      "\n",
      "\n",
      "\n",
      "Investigated DECam file is c4d_160825_034122_ooi_g_v1.fits.fz\n",
      "DECam ra,dec = 255.384000, -39.908583\n",
      "MAF count here is 20268\n",
      "Image size in arcmin is 9.207000 by 18.423000\n",
      "Single image frame area is 610634 sq. arcsec, i.e. 0.047117 sq.deg.\n",
      "Obtaining TRILEGAL data for object c4d_160825_034122_ooi_g_v1.fits.fz \n",
      "Querying TRILEGAL for object at given equatorial coordinates\n",
      "Within the given area, cutting on r<24.5\n",
      "Asserting that TRILEGAL normally terminated...\n",
      "Waiting for 30 sec more ...\n",
      "Waiting for 30 sec more ...\n",
      "TRILEGAL data saved as trilegal_0.51_c4d_160825_034122_ooi_g_v1.dat\n",
      "There are 865266 stars in that field , corresponding     to 18364268 per square degree \n",
      "\n",
      "\n",
      "Results of TRILEGAL queries are saved as TRILEGAL_0.51_perc_DECam_MAF_counts.csv\n"
     ]
    }
   ],
   "source": [
    "#run_files = np.array(decam_maf_downloaded['archive_file'].data).astype(str)[1:]\n",
    "# run TRILEGAL  queries in the loop, and store results .. \n",
    "print('We will run TRILEGAL queries for : ')\n",
    "print(run_files)\n",
    "\n",
    "res_dic = {'archive_file':[] , 'ra_deg':[],'ra_hrs':[], 'dec_deg':[],\n",
    "              'field':[], 'photsys_file':[],\n",
    "              'icm_lim':[], 'mag_lim':[], 'filename':[],\n",
    "              'sources':[], 'source_density':[],'MAF_count':[]\n",
    "          }\n",
    "           \n",
    "for j in range(len(run_files)):\n",
    "    fname = run_files[j]\n",
    "    results = trilegal_counts(fname)\n",
    "    for key in results.keys():\n",
    "        res_dic[key].append(results[key])\n",
    "        \n",
    "#Save the results of counting...\n",
    "fname = 'TRILEGAL_'+str(percent)+'_perc_DECam_MAF_counts.csv'\n",
    "Table(res_dic).write(fname, overwrite='True')\n",
    "print('Results of TRILEGAL queries are saved as %s'%fname)"
   ]
  },
  {
   "cell_type": "code",
   "execution_count": 143,
   "metadata": {
    "collapsed": false
   },
   "outputs": [
    {
     "name": "stdout",
     "output_type": "stream",
     "text": [
      "percent = 0.510000\n"
     ]
    },
    {
     "data": {
      "text/html": [
       "&lt;Table length=4&gt;\n",
       "<table id=\"table4635354832\" class=\"table-striped table-bordered table-condensed\">\n",
       "<thead><tr><th>icm_lim</th><th>MAF_count</th><th>mag_lim</th><th>ra_deg</th><th>sources</th><th>dec_deg</th><th>ra_hrs</th><th>source_density</th><th>archive_file</th><th>filename</th><th>field</th><th>photsys_file</th></tr></thead>\n",
       "<thead><tr><th>int64</th><th>float64</th><th>float64</th><th>float64</th><th>int64</th><th>float64</th><th>float64</th><th>float64</th><th>str34</th><th>str44</th><th>float64</th><th>str31</th></tr></thead>\n",
       "<tr><td>3</td><td>20052.0</td><td>24.5</td><td>233.175667</td><td>1395</td><td>-1.679167</td><td>15.5450444667</td><td>29607.2597001</td><td>c4d_160607_025052_ooi_g_v1.fits.fz</td><td>trilegal_0.51_c4d_160607_025052_ooi_g_v1.dat</td><td>0.0471168225</td><td>tab_mag_odfnew/tab_mag_lsst.dat</td></tr>\n",
       "<tr><td>3</td><td>19944.0</td><td>24.5</td><td>91.8075</td><td>1971</td><td>-14.163028</td><td>6.1205</td><td>41832.1927375</td><td>tu2046406.fits.fz</td><td>trilegal_0.51_tu2046406.dat</td><td>0.0471168225</td><td>tab_mag_odfnew/tab_mag_lsst.dat</td></tr>\n",
       "<tr><td>3</td><td>21024.0</td><td>24.5</td><td>223.138875</td><td>1302</td><td>-11.249944</td><td>14.875925</td><td>27633.4423867</td><td>c4d_150615_005257_ooi_g_v1.fits.fz</td><td>trilegal_0.51_c4d_150615_005257_ooi_g_v1.dat</td><td>0.0471168225</td><td>tab_mag_odfnew/tab_mag_lsst.dat</td></tr>\n",
       "<tr><td>3</td><td>20268.0</td><td>24.5</td><td>255.384</td><td>865266</td><td>-39.908583</td><td>17.0256</td><td>18364268.9402</td><td>c4d_160825_034122_ooi_g_v1.fits.fz</td><td>trilegal_0.51_c4d_160825_034122_ooi_g_v1.dat</td><td>0.0471168225</td><td>tab_mag_odfnew/tab_mag_lsst.dat</td></tr>\n",
       "</table>"
      ],
      "text/plain": [
       "<Table length=4>\n",
       "icm_lim MAF_count mag_lim ...    field               photsys_file         \n",
       " int64   float64  float64 ...   float64                 str31             \n",
       "------- --------- ------- ... ------------ -------------------------------\n",
       "      3   20052.0    24.5 ... 0.0471168225 tab_mag_odfnew/tab_mag_lsst.dat\n",
       "      3   19944.0    24.5 ... 0.0471168225 tab_mag_odfnew/tab_mag_lsst.dat\n",
       "      3   21024.0    24.5 ... 0.0471168225 tab_mag_odfnew/tab_mag_lsst.dat\n",
       "      3   20268.0    24.5 ... 0.0471168225 tab_mag_odfnew/tab_mag_lsst.dat"
      ]
     },
     "execution_count": 143,
     "metadata": {},
     "output_type": "execute_result"
    }
   ],
   "source": [
    "# Display the results...\n",
    "print('percent = %f'%percent)\n",
    "trilegal = Table.read('TRILEGAL_'+str(percent)+'_perc_DECam_MAF_counts.csv')\n",
    "trilegal"
   ]
  },
  {
   "cell_type": "markdown",
   "metadata": {},
   "source": [
    "## Combine DAOStarFinder and TRILEGAL counts"
   ]
  },
  {
   "cell_type": "code",
   "execution_count": 105,
   "metadata": {
    "collapsed": false
   },
   "outputs": [
    {
     "data": {
      "text/html": [
       "&lt;Table length=5&gt;\n",
       "<table id=\"table4590289872\" class=\"table-striped table-bordered table-condensed\">\n",
       "<thead><tr><th>icm_lim</th><th>MAF_count</th><th>mag_lim</th><th>ra_deg</th><th>sources</th><th>dec_deg</th><th>ra_hrs</th><th>source_density</th><th>archive_file</th><th>filename</th><th>field</th><th>photsys_file</th></tr></thead>\n",
       "<thead><tr><th>int64</th><th>float64</th><th>float64</th><th>float64</th><th>int64</th><th>float64</th><th>float64</th><th>float64</th><th>str17</th><th>str29</th><th>float64</th><th>str31</th></tr></thead>\n",
       "<tr><td>3</td><td>585576.0</td><td>24.5</td><td>260.994583</td><td>48765</td><td>-16.475528</td><td>17.3996388667</td><td>1034980.65898</td><td>tu2093190.fits.fz</td><td>trilegal_photsys_file_j-0.dat</td><td>0.0471168225</td><td>tab_mag_odfnew/tab_mag_lsst.dat</td></tr>\n",
       "<tr><td>3</td><td>641484.0</td><td>24.5</td><td>260.973083</td><td>72055</td><td>-18.467306</td><td>17.3982055333</td><td>1546620.33782</td><td>tu1669764.fits.fz</td><td>trilegal_photsys_file_j-1.dat</td><td>0.04658868</td><td>tab_mag_odfnew/tab_mag_lsst.dat</td></tr>\n",
       "<tr><td>3</td><td>599508.0</td><td>24.5</td><td>259.304375</td><td>57513</td><td>-19.487611</td><td>17.2869583333</td><td>1234484.42841</td><td>tu1670143.fits.fz</td><td>trilegal_photsys_file_j-2.dat</td><td>0.04658868</td><td>tab_mag_odfnew/tab_mag_lsst.dat</td></tr>\n",
       "<tr><td>3</td><td>795996.0</td><td>24.5</td><td>262.64325</td><td>157874</td><td>-19.471278</td><td>17.50955</td><td>3350692.84437</td><td>tu2091292.fits.fz</td><td>trilegal_photsys_file_j-3.dat</td><td>0.0471168225</td><td>tab_mag_odfnew/tab_mag_lsst.dat</td></tr>\n",
       "<tr><td>3</td><td>810144.0</td><td>24.5</td><td>260.957167</td><td>118103</td><td>-20.493167</td><td>17.3971444667</td><td>2535014.94354</td><td>tu1677011.fits.fz</td><td>trilegal_photsys_file_j-4.dat</td><td>0.04658868</td><td>tab_mag_odfnew/tab_mag_lsst.dat</td></tr>\n",
       "</table>"
      ],
      "text/plain": [
       "<Table length=5>\n",
       "icm_lim MAF_count mag_lim ...    field               photsys_file         \n",
       " int64   float64  float64 ...   float64                 str31             \n",
       "------- --------- ------- ... ------------ -------------------------------\n",
       "      3  585576.0    24.5 ... 0.0471168225 tab_mag_odfnew/tab_mag_lsst.dat\n",
       "      3  641484.0    24.5 ...   0.04658868 tab_mag_odfnew/tab_mag_lsst.dat\n",
       "      3  599508.0    24.5 ...   0.04658868 tab_mag_odfnew/tab_mag_lsst.dat\n",
       "      3  795996.0    24.5 ... 0.0471168225 tab_mag_odfnew/tab_mag_lsst.dat\n",
       "      3  810144.0    24.5 ...   0.04658868 tab_mag_odfnew/tab_mag_lsst.dat"
      ]
     },
     "execution_count": 105,
     "metadata": {},
     "output_type": "execute_result"
    }
   ],
   "source": [
    "trilegal"
   ]
  },
  {
   "cell_type": "code",
   "execution_count": 144,
   "metadata": {
    "collapsed": false
   },
   "outputs": [
    {
     "name": "stdout",
     "output_type": "stream",
     "text": [
      "precent = 0.510000\n"
     ]
    },
    {
     "data": {
      "text/html": [
       "&lt;Table length=4&gt;\n",
       "<table id=\"table4635929552\" class=\"table-striped table-bordered table-condensed\">\n",
       "<thead><tr><th>icm_lim</th><th>MAF_count</th><th>mag_lim</th><th>ra_deg</th><th>sources_TRI</th><th>dec_deg</th><th>ra_hrs</th><th>source_density_TRI</th><th>archive_file</th><th>filename</th><th>field</th><th>photsys_file</th><th>area_sq_deg</th><th>fwhm</th><th>threshold</th><th>sources_DAO</th><th>source_density_DAO</th></tr></thead>\n",
       "<thead><tr><th>int64</th><th>float64</th><th>float64</th><th>float64</th><th>int64</th><th>float64</th><th>float64</th><th>float64</th><th>str34</th><th>str44</th><th>float64</th><th>str31</th><th>float64</th><th>float64</th><th>float64</th><th>int64</th><th>float64</th></tr></thead>\n",
       "<tr><td>3</td><td>21024.0</td><td>24.5</td><td>223.138875</td><td>1302</td><td>-11.249944</td><td>14.875925</td><td>27633.4423867</td><td>c4d_150615_005257_ooi_g_v1.fits.fz</td><td>trilegal_0.51_c4d_150615_005257_ooi_g_v1.dat</td><td>0.0471168225</td><td>tab_mag_odfnew/tab_mag_lsst.dat</td><td>0.0471168225</td><td>5.475378</td><td>31.0363521064</td><td>608</td><td>12904.095984</td></tr>\n",
       "<tr><td>3</td><td>20052.0</td><td>24.5</td><td>233.175667</td><td>1395</td><td>-1.679167</td><td>15.5450444667</td><td>29607.2597001</td><td>c4d_160607_025052_ooi_g_v1.fits.fz</td><td>trilegal_0.51_c4d_160607_025052_ooi_g_v1.dat</td><td>0.0471168225</td><td>tab_mag_odfnew/tab_mag_lsst.dat</td><td>0.0471168225</td><td>6.117483</td><td>31.5070427428</td><td>630</td><td>13371.0205097</td></tr>\n",
       "<tr><td>3</td><td>20268.0</td><td>24.5</td><td>255.384</td><td>865266</td><td>-39.908583</td><td>17.0256</td><td>18364268.9402</td><td>c4d_160825_034122_ooi_g_v1.fits.fz</td><td>trilegal_0.51_c4d_160825_034122_ooi_g_v1.dat</td><td>0.0471168225</td><td>tab_mag_odfnew/tab_mag_lsst.dat</td><td>0.0471168225</td><td>5.76114</td><td>41.2491001554</td><td>4296</td><td>91177.625571</td></tr>\n",
       "<tr><td>3</td><td>19944.0</td><td>24.5</td><td>91.8075</td><td>1971</td><td>-14.163028</td><td>6.1205</td><td>41832.1927375</td><td>tu2046406.fits.fz</td><td>trilegal_0.51_tu2046406.dat</td><td>0.0471168225</td><td>tab_mag_odfnew/tab_mag_lsst.dat</td><td>0.0471168225</td><td>4.202916</td><td>55.1179480827</td><td>1695</td><td>35974.4123238</td></tr>\n",
       "</table>"
      ],
      "text/plain": [
       "<Table length=4>\n",
       "icm_lim MAF_count mag_lim ...   threshold   sources_DAO source_density_DAO\n",
       " int64   float64  float64 ...    float64       int64         float64      \n",
       "------- --------- ------- ... ------------- ----------- ------------------\n",
       "      3   21024.0    24.5 ... 31.0363521064         608       12904.095984\n",
       "      3   20052.0    24.5 ... 31.5070427428         630      13371.0205097\n",
       "      3   20268.0    24.5 ... 41.2491001554        4296       91177.625571\n",
       "      3   19944.0    24.5 ... 55.1179480827        1695      35974.4123238"
      ]
     },
     "execution_count": 144,
     "metadata": {},
     "output_type": "execute_result"
    }
   ],
   "source": [
    "from astropy.table import join\n",
    "percent = 0.51\n",
    "print('precent = %f'%percent)\n",
    "trilegal = Table.read('TRILEGAL_'+str(percent)+'_perc_DECam_MAF_counts.csv')\n",
    "dao = Table.read('DAO_'+str(percent)+'_perc_DECam_MAF_counts.csv')\n",
    "#dao1 = Table.read('DAO_'+str(percent)+'_perc_DECam_MAF_counts_1.csv')\n",
    "#from astropy.table import vstack\n",
    "#dao = vstack([dao0, dao1])\n",
    "merged= join(trilegal,dao, keys='archive_file',table_names=['TRI', 'DAO'])\n",
    "merged"
   ]
  },
  {
   "cell_type": "code",
   "execution_count": 145,
   "metadata": {
    "collapsed": false
   },
   "outputs": [
    {
     "data": {
      "text/html": [
       "&lt;Table length=4&gt;\n",
       "<table id=\"table4635353552\" class=\"table-striped table-bordered table-condensed\">\n",
       "<thead><tr><th>archive</th><th>ra</th><th>dec</th><th>TRILEGAL</th><th>MAF</th><th>DAO</th></tr></thead>\n",
       "<thead><tr><th>str39</th><th>float64</th><th>float64</th><th>int64</th><th>int64</th><th>int64</th></tr></thead>\n",
       "<tr><td>c4d\\_150615\\_005257\\_ooi\\_g\\_v1.fits.fz</td><td>223.138875</td><td>-11.249944</td><td>27633</td><td>21024</td><td>12904</td></tr>\n",
       "<tr><td>c4d\\_160607\\_025052\\_ooi\\_g\\_v1.fits.fz</td><td>233.175667</td><td>-1.679167</td><td>29607</td><td>20052</td><td>13371</td></tr>\n",
       "<tr><td>c4d\\_160825\\_034122\\_ooi\\_g\\_v1.fits.fz</td><td>255.384</td><td>-39.908583</td><td>18364268</td><td>20268</td><td>91177</td></tr>\n",
       "<tr><td>tu2046406.fits.fz</td><td>91.8075</td><td>-14.163028</td><td>41832</td><td>19944</td><td>35974</td></tr>\n",
       "</table>"
      ],
      "text/plain": [
       "<Table length=4>\n",
       "                archive                     ra        dec     ...  MAF   DAO \n",
       "                 str39                   float64    float64   ... int64 int64\n",
       "--------------------------------------- ---------- ---------- ... ----- -----\n",
       "c4d\\_150615\\_005257\\_ooi\\_g\\_v1.fits.fz 223.138875 -11.249944 ... 21024 12904\n",
       "c4d\\_160607\\_025052\\_ooi\\_g\\_v1.fits.fz 233.175667  -1.679167 ... 20052 13371\n",
       "c4d\\_160825\\_034122\\_ooi\\_g\\_v1.fits.fz    255.384 -39.908583 ... 20268 91177\n",
       "                      tu2046406.fits.fz    91.8075 -14.163028 ... 19944 35974"
      ]
     },
     "execution_count": 145,
     "metadata": {},
     "output_type": "execute_result"
    }
   ],
   "source": [
    "new_names = [name.replace(r'_', r'\\_') for name in merged['archive_file']]\n",
    "from astropy.table import Column\n",
    "new_col = Column(new_names, 'archive')\n",
    "merged['archive'] = new_col\n",
    "\n",
    "# only here need to add MAF counts \n",
    "# nbecause I forgot to add them in TRILEGAL \n",
    "# loop  -  later on this should be deleted.\n",
    "#sampled_objects['archive_file'] = sampled_objects['archive_file'].astype(str)\n",
    "#merged = join(merged1,  sampled_objects[['archive_file','MAF_px_density']])\n",
    "\n",
    "#merged.rename_column('archive_file', 'archive')\n",
    "merged.rename_column('ra_deg','ra')\n",
    "merged.rename_column('dec_deg','dec')\n",
    "merged.rename_column('source_density_TRI','TRILEGAL')\n",
    "merged.rename_column('MAF_count','MAF')\n",
    "merged.rename_column('source_density_DAO','DAO')\n",
    "\n",
    "for col in ['TRILEGAL', 'DAO', 'MAF']:\n",
    "    merged[col] = merged[col].astype(int)\n",
    "merged[['archive','ra','dec', 'TRILEGAL', 'MAF', 'DAO' ]]"
   ]
  },
  {
   "cell_type": "code",
   "execution_count": 127,
   "metadata": {
    "collapsed": true
   },
   "outputs": [],
   "source": []
  },
  {
   "cell_type": "code",
   "execution_count": 146,
   "metadata": {
    "collapsed": false
   },
   "outputs": [
    {
     "name": "stdout",
     "output_type": "stream",
     "text": [
      "\\begin{table}\n",
      "\\begin{tabular}{cccccc}\n",
      "archive & l & b & TRILEGAL & MAF & DAO \\\\\n",
      "c4d\\_150615\\_005257\\_ooi\\_g & 344.39 & 41.67 & 27,633 & 21,024 & 12,904 \\\\\n",
      "c4d\\_160607\\_025052\\_ooi\\_g & 2.92 & 41.68 & 29,607 & 20,052 & 13,371 \\\\\n",
      "c4d\\_160825\\_034122\\_ooi\\_g & 345.83 & 1.28 & 18,364,268 & 20,268 & 91,177 \\\\\n",
      "tu2046406.fits.fz & 220.89 & -16.08 & 41,832 & 19,944 & 35,974 \\\\\n",
      "\\end{tabular}\n",
      "\\end{table}\n"
     ]
    }
   ],
   "source": [
    "# Convert ra,dec to l,b :\n",
    "from astropy.coordinates import SkyCoord\n",
    "coord = SkyCoord(merged['ra'],merged['dec'], frame='icrs', unit='deg')\n",
    "merged['l'] = coord.galactic.l.deg\n",
    "merged['b'] = coord.galactic.b.deg\n",
    "\n",
    "# Save the info : \n",
    "# archive_name   |  ra_deg  | dec_deg | MAF count  | DAO count | TRILEGAL count \n",
    "\n",
    "# Save as LaTeX file so that I can quickly share with Colin\n",
    "from astropy.io import ascii\n",
    "ascii.write(merged[['archive','l','b', 'TRILEGAL', 'MAF', 'DAO' ]], format='latex', \n",
    "           formats={'archive': '%.27s', 'l':'%.2f', 'b':'%.2f','TRILEGAL':',d',\n",
    "                    'MAF':',d', 'DAO':',d'\n",
    "                   })  \n",
    "# I could not find a grouping option that would allow \n",
    "# to just insert white space rather than a comma... "
   ]
  },
  {
   "cell_type": "code",
   "execution_count": 49,
   "metadata": {
    "collapsed": false
   },
   "outputs": [
    {
     "data": {
      "text/plain": [
       "<matplotlib.collections.PathCollection at 0x119ca29b0>"
      ]
     },
     "execution_count": 49,
     "metadata": {},
     "output_type": "execute_result"
    },
    {
     "data": {
      "image/png": "[encoded data removed]",
      "text/plain": [
       "<matplotlib.figure.Figure at 0x1162d5128>"
      ]
     },
     "metadata": {},
     "output_type": "display_data"
    }
   ],
   "source": [
    "%matplotlib inline\n",
    "plt.scatter(merged['ra'], merged['dec'])"
   ]
  },
  {
   "cell_type": "code",
   "execution_count": 187,
   "metadata": {
    "collapsed": true
   },
   "outputs": [],
   "source": []
  },
  {
   "cell_type": "code",
   "execution_count": 191,
   "metadata": {
    "collapsed": false
   },
   "outputs": [
    {
     "data": {
      "text/html": [
       "&lt;Table masked=True length=5&gt;\n",
       "<table id=\"table4587781584\" class=\"table-striped table-bordered table-condensed\">\n",
       "<thead><tr><th>archive</th><th>ra</th><th>dec</th><th>TRILEGAL</th><th>DAO</th><th>MAF</th></tr></thead>\n",
       "<thead><tr><th>str17</th><th>float64</th><th>float64</th><th>float64</th><th>float64</th><th>float64</th></tr></thead>\n",
       "<tr><td>tu1669764.fits.fz</td><td>260.973083</td><td>-18.467306</td><td>1545804.68904</td><td>376915.594089</td><td>641484.0</td></tr>\n",
       "<tr><td>tu1670143.fits.fz</td><td>259.304375</td><td>-19.487611</td><td>1229290.03354</td><td>387454.634903</td><td>599508.0</td></tr>\n",
       "<tr><td>tu1677011.fits.fz</td><td>260.957167</td><td>-20.493167</td><td>2533705.61261</td><td>509093.625318</td><td>810144.0</td></tr>\n",
       "<tr><td>tu2091292.fits.fz</td><td>262.64325</td><td>-19.471278</td><td>3357866.50299</td><td>434409.599671</td><td>795996.0</td></tr>\n",
       "<tr><td>tu2093190.fits.fz</td><td>260.994583</td><td>-16.475528</td><td>1036105.52261</td><td>286712.882644</td><td>585576.0</td></tr>\n",
       "</table>"
      ],
      "text/plain": [
       "<Table masked=True length=5>\n",
       "     archive          ra        dec        TRILEGAL        DAO        MAF   \n",
       "      str17        float64    float64      float64       float64    float64 \n",
       "----------------- ---------- ---------- ------------- ------------- --------\n",
       "tu1669764.fits.fz 260.973083 -18.467306 1545804.68904 376915.594089 641484.0\n",
       "tu1670143.fits.fz 259.304375 -19.487611 1229290.03354 387454.634903 599508.0\n",
       "tu1677011.fits.fz 260.957167 -20.493167 2533705.61261 509093.625318 810144.0\n",
       "tu2091292.fits.fz  262.64325 -19.471278 3357866.50299 434409.599671 795996.0\n",
       "tu2093190.fits.fz 260.994583 -16.475528 1036105.52261 286712.882644 585576.0"
      ]
     },
     "execution_count": 191,
     "metadata": {},
     "output_type": "execute_result"
    }
   ],
   "source": []
  },
  {
   "cell_type": "code",
   "execution_count": 172,
   "metadata": {
    "collapsed": false
   },
   "outputs": [
    {
     "name": "stdout",
     "output_type": "stream",
     "text": [
      "\\begin{table}\n",
      "\\begin{tabular}{cccccccccccccccc}\n",
      "icm_lim & mag_lim & ra_deg & sources_TRI & dec_deg & ra_hrs & source_density_TRI & archive_file & filename & field & photsys_file & area_sq_deg & fwhm & threshold & sources_DAO & source_density_DAO \\\\\n",
      "3 & 24.5 & 260.973083 & 72017 & -18.467306 & 17.3982055333 & 1545804.68904 & tu1669764.fits.fz & trilegal_photsys_file_j-1.dat & 0.04658868 & tab_mag_odfnew/tab_mag_lsst.dat & 0.04658868 & 4.877344 & 144.051478584 & 17560 & 376915.594089 \\\\\n",
      "3 & 24.5 & 259.304375 & 57271 & -19.487611 & 17.2869583333 & 1229290.03354 & tu1670143.fits.fz & trilegal_photsys_file_j-2.dat & 0.04658868 & tab_mag_odfnew/tab_mag_lsst.dat & 0.04658868 & 4.594288 & 117.533165008 & 18051 & 387454.634903 \\\\\n",
      "3 & 24.5 & 260.957167 & 118042 & -20.493167 & 17.3971444667 & 2533705.61261 & tu1677011.fits.fz & trilegal_photsys_file_j-4.dat & 0.04658868 & tab_mag_odfnew/tab_mag_lsst.dat & 0.04658868 & 3.90122 & 130.490627692 & 23718 & 509093.625318 \\\\\n",
      "3 & 24.5 & 262.64325 & 158212 & -19.471278 & 17.50955 & 3357866.50299 & tu2091292.fits.fz & trilegal_photsys_file_j-3.dat & 0.0471168225 & tab_mag_odfnew/tab_mag_lsst.dat & 0.0471168225 & 5.147546 & 172.902518471 & 20468 & 434409.599671 \\\\\n",
      "3 & 24.5 & 260.994583 & 48818 & -16.475528 & 17.3996388667 & 1036105.52261 & tu2093190.fits.fz & trilegal_mag_lim_j-0.dat & 0.0471168225 & tab_mag_odfnew/tab_mag_lsst.dat & 0.0471168225 & 4.690261 & 84.9051648189 & 13509 & 286712.882644 \\\\\n",
      "\\end{tabular}\n",
      "\\end{table}\n"
     ]
    }
   ],
   "source": [
    "\n"
   ]
  },
  {
   "cell_type": "code",
   "execution_count": null,
   "metadata": {
    "collapsed": true
   },
   "outputs": [],
   "source": []
  }
 ],
 "metadata": {
  "kernelspec": {
   "display_name": "Python 3",
   "language": "python",
   "name": "python3"
  },
  "language_info": {
   "codemirror_mode": {
    "name": "ipython",
    "version": 3
   },
   "file_extension": ".py",
   "mimetype": "text/x-python",
   "name": "python",
   "nbconvert_exporter": "python",
   "pygments_lexer": "ipython3",
   "version": "3.6.0"
  }
 },
 "nbformat": 4,
 "nbformat_minor": 2
}
