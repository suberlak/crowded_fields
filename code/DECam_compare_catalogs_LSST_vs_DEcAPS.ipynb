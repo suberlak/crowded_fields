{
 "cells": [
  {
   "cell_type": "markdown",
   "metadata": {},
   "source": [
    "A notebook to read the DECaPS individual image catalogs for 5% and 20% fields (since those got successfully processed with the LSST Stack). The 1% region (c4d_170428_094150_ooi_g.fitz.fz  , 0644297) for which I also have DECaPS catalog was too crowded for the Stack to handle it. Fields and catalogs :\n",
    "\n",
    "\n",
    "LSST catalogs : outDir = '../data_products/LSST_Stack/DECam/' \n",
    "DECaPS catalogs  : decapsDir = '../data_products/DEcAPS_catalogs/'\n",
    "\n",
    "g - band , 20 % , 96 sec exposure,  ra 120.88400  dec -24.031667  , ccd 10  :\n",
    "'calexp-0611980_10.fits'  for MAGZERO , src-0611980_10.fits  for sources \n",
    "decaps : c4d_170122_055542_ooi_g_v1.cat.fits\n",
    "\n",
    "* same g-band 20% region,  but ccd11 : \n",
    "calexp-0611529_11.fits   ,  src-0611529_11.fits   \n",
    "( same decaps as above) \n",
    "\n",
    "r - band , 20 % , 50 sec exposure , ra 120.886500  dec -24.025972   , ccd 10 :\n",
    "'calexp-0611529_10.fits'  for MAGZERO , 'src-0611529_10.fits'  for sources \n",
    "decaps  : c4d_170121_055805_ooi_r_v1.cat.fits\n",
    "\n",
    "\n",
    "5% region : 0527064    ccd 10 : \n",
    "'calexp-0527064_10.fits ' for MAGZERO , 'src-0527064_10.fits' for sources\n",
    "decaps : c4d_160316_065235_ooi_g_v1.cat.fits\n"
   ]
  },
  {
   "cell_type": "code",
   "execution_count": 2,
   "metadata": {
    "collapsed": true
   },
   "outputs": [],
   "source": [
    "# Necessary imports ..\n",
    "\n",
    "import matplotlib.pyplot as plt\n",
    "from astropy.table import Table\n",
    "import os\n",
    "import numpy as np\n",
    "from astropy.io import fits\n",
    "from astropy.stats import sigma_clipped_stats\n",
    "from astropy.visualization import SqrtStretch\n",
    "from astropy.visualization.mpl_normalize import ImageNormalize\n"
   ]
  },
  {
   "cell_type": "markdown",
   "metadata": {},
   "source": [
    "Aim : to plot, per catalog, per density level : \n",
    "        * completeness (how many of the 'true' sources were detected by LSST Stack per magnitude bin) vs. magnitude curve\n",
    "        * photometric error (rms for true minus measured mag) vs. mag curve"
   ]
  },
  {
   "cell_type": "code",
   "execution_count": null,
   "metadata": {
    "collapsed": true
   },
   "outputs": [],
   "source": [
    "To do the above, need:\n",
    "    * match by ra, dec stack source catalog and decaps catalog\n",
    "    * convert lsst source fluxes to mags using the zero point magnitude from calexp image \n",
    "    * "
   ]
  },
  {
   "cell_type": "code",
   "execution_count": 304,
   "metadata": {
    "collapsed": false
   },
   "outputs": [
    {
     "name": "stdout",
     "output_type": "stream",
     "text": [
      "Filename: ../data_products/DEcAPS_Catalogs/c4d_170122_055542_ooi_g_v1.cat.fits\n",
      "No.    Name         Type      Cards   Dimensions   Format\n",
      "  0  PRIMARY     PrimaryHDU     250   ()      \n",
      "  1  S29_HDR     ImageHDU       129   (0,)      \n",
      "  2  S29_PSF     BinTableHDU     19   8R x 4C   [2E, 1444E, 10E, 810E]   \n",
      "  3  S29_CAT     BinTableHDU     47   4808R x 19C   [D, D, E, E, E, E, E, E, E, E, E, E, J, E, J, D, D, K, E]   \n",
      "  4  S31_HDR     ImageHDU       129   (0,)      \n",
      "  5  S31_PSF     BinTableHDU     19   8R x 4C   [2E, 1444E, 10E, 810E]   \n",
      "  6  S31_CAT     BinTableHDU     47   4383R x 19C   [D, D, E, E, E, E, E, E, E, E, E, E, J, E, J, D, D, K, E]   \n",
      "  7  S25_HDR     ImageHDU       129   (0,)      \n",
      "  8  S25_PSF     BinTableHDU     19   8R x 4C   [2E, 1444E, 10E, 810E]   \n",
      "  9  S25_CAT     BinTableHDU     47   4595R x 19C   [D, D, E, E, E, E, E, E, E, E, E, E, J, E, J, D, D, K, E]   \n",
      " 10  S26_HDR     ImageHDU       129   (0,)      \n",
      " 11  S26_PSF     BinTableHDU     19   8R x 4C   [2E, 1444E, 10E, 810E]   \n",
      " 12  S26_CAT     BinTableHDU     47   4861R x 19C   [D, D, E, E, E, E, E, E, E, E, E, E, J, E, J, D, D, K, E]   \n",
      " 13  S27_HDR     ImageHDU       129   (0,)      \n",
      " 14  S27_PSF     BinTableHDU     19   8R x 4C   [2E, 1444E, 10E, 810E]   \n",
      " 15  S27_CAT     BinTableHDU     47   4970R x 19C   [D, D, E, E, E, E, E, E, E, E, E, E, J, E, J, D, D, K, E]   \n",
      " 16  S28_HDR     ImageHDU       129   (0,)      \n",
      " 17  S28_PSF     BinTableHDU     19   8R x 4C   [2E, 1444E, 10E, 810E]   \n",
      " 18  S28_CAT     BinTableHDU     47   4589R x 19C   [D, D, E, E, E, E, E, E, E, E, E, E, J, E, J, D, D, K, E]   \n",
      " 19  S20_HDR     ImageHDU       129   (0,)      \n",
      " 20  S20_PSF     BinTableHDU     19   8R x 4C   [2E, 1444E, 10E, 810E]   \n",
      " 21  S20_CAT     BinTableHDU     47   4595R x 19C   [D, D, E, E, E, E, E, E, E, E, E, E, J, E, J, D, D, K, E]   \n",
      " 22  S21_HDR     ImageHDU       129   (0,)      \n",
      " 23  S21_PSF     BinTableHDU     19   8R x 4C   [2E, 1444E, 10E, 810E]   \n",
      " 24  S21_CAT     BinTableHDU     47   4855R x 19C   [D, D, E, E, E, E, E, E, E, E, E, E, J, E, J, D, D, K, E]   \n",
      " 25  S22_HDR     ImageHDU       129   (0,)      \n",
      " 26  S22_PSF     BinTableHDU     19   8R x 4C   [2E, 1444E, 10E, 810E]   \n",
      " 27  S22_CAT     BinTableHDU     47   4731R x 19C   [D, D, E, E, E, E, E, E, E, E, E, E, J, E, J, D, D, K, E]   \n",
      " 28  S23_HDR     ImageHDU       129   (0,)      \n",
      " 29  S23_PSF     BinTableHDU     19   8R x 4C   [2E, 1444E, 10E, 810E]   \n",
      " 30  S23_CAT     BinTableHDU     47   4666R x 19C   [D, D, E, E, E, E, E, E, E, E, E, E, J, E, J, D, D, K, E]   \n",
      " 31  S24_HDR     ImageHDU       129   (0,)      \n",
      " 32  S24_PSF     BinTableHDU     19   8R x 4C   [2E, 1444E, 10E, 810E]   \n",
      " 33  S24_CAT     BinTableHDU     47   4386R x 19C   [D, D, E, E, E, E, E, E, E, E, E, E, J, E, J, D, D, K, E]   \n",
      " 34  S14_HDR     ImageHDU       129   (0,)      \n",
      " 35  S14_PSF     BinTableHDU     19   8R x 4C   [2E, 1444E, 10E, 810E]   \n",
      " 36  S14_CAT     BinTableHDU     47   5093R x 19C   [D, D, E, E, E, E, E, E, E, E, E, E, J, E, J, D, D, K, E]   \n",
      " 37  S15_HDR     ImageHDU       129   (0,)      \n",
      " 38  S15_PSF     BinTableHDU     19   8R x 4C   [2E, 1444E, 10E, 810E]   \n",
      " 39  S15_CAT     BinTableHDU     47   4879R x 19C   [D, D, E, E, E, E, E, E, E, E, E, E, J, E, J, D, D, K, E]   \n",
      " 40  S16_HDR     ImageHDU       129   (0,)      \n",
      " 41  S16_PSF     BinTableHDU     19   8R x 4C   [2E, 1444E, 10E, 810E]   \n",
      " 42  S16_CAT     BinTableHDU     47   4813R x 19C   [D, D, E, E, E, E, E, E, E, E, E, E, J, E, J, D, D, K, E]   \n",
      " 43  S17_HDR     ImageHDU       129   (0,)      \n",
      " 44  S17_PSF     BinTableHDU     19   8R x 4C   [2E, 1444E, 10E, 810E]   \n",
      " 45  S17_CAT     BinTableHDU     47   4787R x 19C   [D, D, E, E, E, E, E, E, E, E, E, E, J, E, J, D, D, K, E]   \n",
      " 46  S18_HDR     ImageHDU       129   (0,)      \n",
      " 47  S18_PSF     BinTableHDU     19   8R x 4C   [2E, 1444E, 10E, 810E]   \n",
      " 48  S18_CAT     BinTableHDU     47   4568R x 19C   [D, D, E, E, E, E, E, E, E, E, E, E, J, E, J, D, D, K, E]   \n",
      " 49  S19_HDR     ImageHDU       129   (0,)      \n",
      " 50  S19_PSF     BinTableHDU     19   8R x 4C   [2E, 1444E, 10E, 810E]   \n",
      " 51  S19_CAT     BinTableHDU     47   4885R x 19C   [D, D, E, E, E, E, E, E, E, E, E, E, J, E, J, D, D, K, E]   \n",
      " 52  S8_HDR      ImageHDU       129   (0,)      \n",
      " 53  S8_PSF      BinTableHDU     19   8R x 4C   [2E, 1444E, 10E, 810E]   \n",
      " 54  S8_CAT      BinTableHDU     47   5884R x 19C   [D, D, E, E, E, E, E, E, E, E, E, E, J, E, J, D, D, K, E]   \n",
      " 55  S9_HDR      ImageHDU       129   (0,)      \n",
      " 56  S9_PSF      BinTableHDU     19   8R x 4C   [2E, 1444E, 10E, 810E]   \n",
      " 57  S9_CAT      BinTableHDU     47   5335R x 19C   [D, D, E, E, E, E, E, E, E, E, E, E, J, E, J, D, D, K, E]   \n",
      " 58  S10_HDR     ImageHDU       129   (0,)      \n",
      " 59  S10_PSF     BinTableHDU     19   8R x 4C   [2E, 1444E, 10E, 810E]   \n",
      " 60  S10_CAT     BinTableHDU     47   5220R x 19C   [D, D, E, E, E, E, E, E, E, E, E, E, J, E, J, D, D, K, E]   \n",
      " 61  S11_HDR     ImageHDU       129   (0,)      \n",
      " 62  S11_PSF     BinTableHDU     19   8R x 4C   [2E, 1444E, 10E, 810E]   \n",
      " 63  S11_CAT     BinTableHDU     47   5309R x 19C   [D, D, E, E, E, E, E, E, E, E, E, E, J, E, J, D, D, K, E]   \n",
      " 64  S12_HDR     ImageHDU       129   (0,)      \n",
      " 65  S12_PSF     BinTableHDU     19   8R x 4C   [2E, 1444E, 10E, 810E]   \n",
      " 66  S12_CAT     BinTableHDU     47   5068R x 19C   [D, D, E, E, E, E, E, E, E, E, E, E, J, E, J, D, D, K, E]   \n",
      " 67  S13_HDR     ImageHDU       129   (0,)      \n",
      " 68  S13_PSF     BinTableHDU     19   8R x 4C   [2E, 1444E, 10E, 810E]   \n",
      " 69  S13_CAT     BinTableHDU     47   4778R x 19C   [D, D, E, E, E, E, E, E, E, E, E, E, J, E, J, D, D, K, E]   \n",
      " 70  S1_HDR      ImageHDU       129   (0,)      \n",
      " 71  S1_PSF      BinTableHDU     19   8R x 4C   [2E, 1444E, 10E, 810E]   \n",
      " 72  S1_CAT      BinTableHDU     47   6120R x 19C   [D, D, E, E, E, E, E, E, E, E, E, E, J, E, J, D, D, K, E]   \n",
      " 73  S2_HDR      ImageHDU       129   (0,)      \n",
      " 74  S2_PSF      BinTableHDU     19   8R x 4C   [2E, 1444E, 10E, 810E]   \n",
      " 75  S2_CAT      BinTableHDU     47   6110R x 19C   [D, D, E, E, E, E, E, E, E, E, E, E, J, E, J, D, D, K, E]   \n",
      " 76  S3_HDR      ImageHDU       129   (0,)      \n",
      " 77  S3_PSF      BinTableHDU     19   8R x 4C   [2E, 1444E, 10E, 810E]   \n",
      " 78  S3_CAT      BinTableHDU     47   5607R x 19C   [D, D, E, E, E, E, E, E, E, E, E, E, J, E, J, D, D, K, E]   \n",
      " 79  S4_HDR      ImageHDU       127   (0,)      \n",
      " 80  S4_PSF      BinTableHDU     19   8R x 4C   [2E, 1444E, 10E, 810E]   \n",
      " 81  S4_CAT      BinTableHDU     47   5332R x 19C   [D, D, E, E, E, E, E, E, E, E, E, E, J, E, J, D, D, K, E]   \n",
      " 82  S5_HDR      ImageHDU       127   (0,)      \n",
      " 83  S5_PSF      BinTableHDU     19   8R x 4C   [2E, 1444E, 10E, 810E]   \n",
      " 84  S5_CAT      BinTableHDU     47   5107R x 19C   [D, D, E, E, E, E, E, E, E, E, E, E, J, E, J, D, D, K, E]   \n",
      " 85  S6_HDR      ImageHDU       127   (0,)      \n",
      " 86  S6_PSF      BinTableHDU     19   8R x 4C   [2E, 1444E, 10E, 810E]   \n",
      " 87  S6_CAT      BinTableHDU     47   4789R x 19C   [D, D, E, E, E, E, E, E, E, E, E, E, J, E, J, D, D, K, E]   \n",
      " 88  S7_HDR      ImageHDU       127   (0,)      \n",
      " 89  S7_PSF      BinTableHDU     19   8R x 4C   [2E, 1444E, 10E, 810E]   \n",
      " 90  S7_CAT      BinTableHDU     47   6932R x 19C   [D, D, E, E, E, E, E, E, E, E, E, E, J, E, J, D, D, K, E]   \n",
      " 91  N1_HDR      ImageHDU       129   (0,)      \n",
      " 92  N1_PSF      BinTableHDU     19   8R x 4C   [2E, 1444E, 10E, 810E]   \n",
      " 93  N1_CAT      BinTableHDU     47   6245R x 19C   [D, D, E, E, E, E, E, E, E, E, E, E, J, E, J, D, D, K, E]   \n",
      " 94  N2_HDR      ImageHDU       129   (0,)      \n",
      " 95  N2_PSF      BinTableHDU     19   8R x 4C   [2E, 1444E, 10E, 810E]   \n",
      " 96  N2_CAT      BinTableHDU     47   6083R x 19C   [D, D, E, E, E, E, E, E, E, E, E, E, J, E, J, D, D, K, E]   \n",
      " 97  N3_HDR      ImageHDU       129   (0,)      \n",
      " 98  N3_PSF      BinTableHDU     19   8R x 4C   [2E, 1444E, 10E, 810E]   \n",
      " 99  N3_CAT      BinTableHDU     47   5711R x 19C   [D, D, E, E, E, E, E, E, E, E, E, E, J, E, J, D, D, K, E]   \n",
      "100  N4_HDR      ImageHDU       127   (0,)      \n",
      "101  N4_PSF      BinTableHDU     19   8R x 4C   [2E, 1444E, 10E, 810E]   \n",
      "102  N4_CAT      BinTableHDU     47   5591R x 19C   [D, D, E, E, E, E, E, E, E, E, E, E, J, E, J, D, D, K, E]   \n",
      "103  N5_HDR      ImageHDU       127   (0,)      \n",
      "104  N5_PSF      BinTableHDU     19   8R x 4C   [2E, 1444E, 10E, 810E]   \n",
      "105  N5_CAT      BinTableHDU     47   5078R x 19C   [D, D, E, E, E, E, E, E, E, E, E, E, J, E, J, D, D, K, E]   \n",
      "106  N6_HDR      ImageHDU       127   (0,)      \n",
      "107  N6_PSF      BinTableHDU     19   8R x 4C   [2E, 1444E, 10E, 810E]   \n",
      "108  N6_CAT      BinTableHDU     47   4970R x 19C   [D, D, E, E, E, E, E, E, E, E, E, E, J, E, J, D, D, K, E]   \n",
      "109  N7_HDR      ImageHDU       127   (0,)      \n",
      "110  N7_PSF      BinTableHDU     19   8R x 4C   [2E, 1444E, 10E, 810E]   \n",
      "111  N7_CAT      BinTableHDU     47   4552R x 19C   [D, D, E, E, E, E, E, E, E, E, E, E, J, E, J, D, D, K, E]   \n",
      "112  N8_HDR      ImageHDU       129   (0,)      \n",
      "113  N8_PSF      BinTableHDU     19   8R x 4C   [2E, 1444E, 10E, 810E]   \n",
      "114  N8_CAT      BinTableHDU     47   6293R x 19C   [D, D, E, E, E, E, E, E, E, E, E, E, J, E, J, D, D, K, E]   \n",
      "115  N9_HDR      ImageHDU       129   (0,)      \n",
      "116  N9_PSF      BinTableHDU     19   8R x 4C   [2E, 1444E, 10E, 810E]   \n",
      "117  N9_CAT      BinTableHDU     47   5943R x 19C   [D, D, E, E, E, E, E, E, E, E, E, E, J, E, J, D, D, K, E]   \n",
      "118  N10_HDR     ImageHDU       129   (0,)      \n",
      "119  N10_PSF     BinTableHDU     19   8R x 4C   [2E, 1444E, 10E, 810E]   \n",
      "120  N10_CAT     BinTableHDU     47   5789R x 19C   [D, D, E, E, E, E, E, E, E, E, E, E, J, E, J, D, D, K, E]   \n",
      "121  N11_HDR     ImageHDU       129   (0,)      \n",
      "122  N11_PSF     BinTableHDU     19   8R x 4C   [2E, 1444E, 10E, 810E]   \n",
      "123  N11_CAT     BinTableHDU     47   5773R x 19C   [D, D, E, E, E, E, E, E, E, E, E, E, J, E, J, D, D, K, E]   \n",
      "124  N12_HDR     ImageHDU       129   (0,)      \n",
      "125  N12_PSF     BinTableHDU     19   8R x 4C   [2E, 1444E, 10E, 810E]   \n",
      "126  N12_CAT     BinTableHDU     47   5635R x 19C   [D, D, E, E, E, E, E, E, E, E, E, E, J, E, J, D, D, K, E]   \n",
      "127  N13_HDR     ImageHDU       129   (0,)      \n",
      "128  N13_PSF     BinTableHDU     19   8R x 4C   [2E, 1444E, 10E, 810E]   \n",
      "129  N13_CAT     BinTableHDU     47   6629R x 19C   [D, D, E, E, E, E, E, E, E, E, E, E, J, E, J, D, D, K, E]   \n",
      "130  N14_HDR     ImageHDU       129   (0,)      \n",
      "131  N14_PSF     BinTableHDU     19   8R x 4C   [2E, 1444E, 10E, 810E]   \n",
      "132  N14_CAT     BinTableHDU     47   6299R x 19C   [D, D, E, E, E, E, E, E, E, E, E, E, J, E, J, D, D, K, E]   \n",
      "133  N15_HDR     ImageHDU       129   (0,)      \n",
      "134  N15_PSF     BinTableHDU     19   8R x 4C   [2E, 1444E, 10E, 810E]   \n",
      "135  N15_CAT     BinTableHDU     47   5801R x 19C   [D, D, E, E, E, E, E, E, E, E, E, E, J, E, J, D, D, K, E]   \n",
      "136  N16_HDR     ImageHDU       129   (0,)      \n",
      "137  N16_PSF     BinTableHDU     19   8R x 4C   [2E, 1444E, 10E, 810E]   \n",
      "138  N16_CAT     BinTableHDU     47   5424R x 19C   [D, D, E, E, E, E, E, E, E, E, E, E, J, E, J, D, D, K, E]   \n",
      "139  N17_HDR     ImageHDU       129   (0,)      \n",
      "140  N17_PSF     BinTableHDU     19   8R x 4C   [2E, 1444E, 10E, 810E]   \n",
      "141  N17_CAT     BinTableHDU     47   5504R x 19C   [D, D, E, E, E, E, E, E, E, E, E, E, J, E, J, D, D, K, E]   \n",
      "142  N18_HDR     ImageHDU       129   (0,)      \n",
      "143  N18_PSF     BinTableHDU     19   8R x 4C   [2E, 1444E, 10E, 810E]   \n",
      "144  N18_CAT     BinTableHDU     47   5611R x 19C   [D, D, E, E, E, E, E, E, E, E, E, E, J, E, J, D, D, K, E]   \n",
      "145  N19_HDR     ImageHDU       129   (0,)      \n",
      "146  N19_PSF     BinTableHDU     19   8R x 4C   [2E, 1444E, 10E, 810E]   \n",
      "147  N19_CAT     BinTableHDU     47   5617R x 19C   [D, D, E, E, E, E, E, E, E, E, E, E, J, E, J, D, D, K, E]   \n",
      "148  N20_HDR     ImageHDU       129   (0,)      \n",
      "149  N20_PSF     BinTableHDU     19   8R x 4C   [2E, 1444E, 10E, 810E]   \n",
      "150  N20_CAT     BinTableHDU     47   6124R x 19C   [D, D, E, E, E, E, E, E, E, E, E, E, J, E, J, D, D, K, E]   \n",
      "151  N21_HDR     ImageHDU       129   (0,)      \n",
      "152  N21_PSF     BinTableHDU     19   8R x 4C   [2E, 1444E, 10E, 810E]   \n",
      "153  N21_CAT     BinTableHDU     47   5668R x 19C   [D, D, E, E, E, E, E, E, E, E, E, E, J, E, J, D, D, K, E]   \n",
      "154  N22_HDR     ImageHDU       129   (0,)      \n",
      "155  N22_PSF     BinTableHDU     19   8R x 4C   [2E, 1444E, 10E, 810E]   \n",
      "156  N22_CAT     BinTableHDU     47   5780R x 19C   [D, D, E, E, E, E, E, E, E, E, E, E, J, E, J, D, D, K, E]   \n",
      "157  N23_HDR     ImageHDU       129   (0,)      \n",
      "158  N23_PSF     BinTableHDU     19   8R x 4C   [2E, 1444E, 10E, 810E]   \n",
      "159  N23_CAT     BinTableHDU     47   5637R x 19C   [D, D, E, E, E, E, E, E, E, E, E, E, J, E, J, D, D, K, E]   \n",
      "160  N24_HDR     ImageHDU       129   (0,)      \n",
      "161  N24_PSF     BinTableHDU     19   8R x 4C   [2E, 1444E, 10E, 810E]   \n",
      "162  N24_CAT     BinTableHDU     47   5333R x 19C   [D, D, E, E, E, E, E, E, E, E, E, E, J, E, J, D, D, K, E]   \n",
      "163  N25_HDR     ImageHDU       129   (0,)      \n",
      "164  N25_PSF     BinTableHDU     19   8R x 4C   [2E, 1444E, 10E, 810E]   \n",
      "165  N25_CAT     BinTableHDU     47   5869R x 19C   [D, D, E, E, E, E, E, E, E, E, E, E, J, E, J, D, D, K, E]   \n",
      "166  N26_HDR     ImageHDU       129   (0,)      \n",
      "167  N26_PSF     BinTableHDU     19   8R x 4C   [2E, 1444E, 10E, 810E]   \n",
      "168  N26_CAT     BinTableHDU     47   5511R x 19C   [D, D, E, E, E, E, E, E, E, E, E, E, J, E, J, D, D, K, E]   \n",
      "169  N27_HDR     ImageHDU       129   (0,)      \n",
      "170  N27_PSF     BinTableHDU     19   8R x 4C   [2E, 1444E, 10E, 810E]   \n",
      "171  N27_CAT     BinTableHDU     47   5497R x 19C   [D, D, E, E, E, E, E, E, E, E, E, E, J, E, J, D, D, K, E]   \n",
      "172  N28_HDR     ImageHDU       129   (0,)      \n",
      "173  N28_PSF     BinTableHDU     19   8R x 4C   [2E, 1444E, 10E, 810E]   \n",
      "174  N28_CAT     BinTableHDU     47   5470R x 19C   [D, D, E, E, E, E, E, E, E, E, E, E, J, E, J, D, D, K, E]   \n",
      "175  N29_HDR     ImageHDU       129   (0,)      \n",
      "176  N29_PSF     BinTableHDU     19   8R x 4C   [2E, 1444E, 10E, 810E]   \n",
      "177  N29_CAT     BinTableHDU     47   5525R x 19C   [D, D, E, E, E, E, E, E, E, E, E, E, J, E, J, D, D, K, E]   \n",
      "178  N31_HDR     ImageHDU       129   (0,)      \n",
      "179  N31_PSF     BinTableHDU     19   8R x 4C   [2E, 1444E, 10E, 810E]   \n",
      "180  N31_CAT     BinTableHDU     47   5637R x 19C   [D, D, E, E, E, E, E, E, E, E, E, E, J, E, J, D, D, K, E]   \n"
     ]
    }
   ],
   "source": [
    "# Read-in DEcAPS catalog for 20% region\n",
    "outDir = '../data_products/DEcAPS_Catalogs/'\n",
    "fname = 'c4d_170122_055542_ooi_g_v1.cat.fits'\n",
    "hdu = fits.open(outDir + fname)\n",
    "#http://www.astropy.org/astropy-tutorials/FITS-tables.html\n",
    "hdu.info()\n",
    "# this displays all available CCDs... \n",
    "# Those processed for the object 0611980 are ccd10 and ccd11,\n",
    "# that corresponds to S22 and S23 , i.e. hdu[25:27],  and hdu[28:30]...\n",
    "\n",
    "# S22  :  hdu[25] : S22_HDR     ImageHDU       129   (0,)    \n",
    "# S22  :  hdu[26] : S22_PSF     BinTableHDU     19   8R x 4C   [2E, 1444E, 10E, 810E]   \n",
    "# S22  :  hdu[27] : S22_CAT     BinTableHDU     47   4731R x 19C   [D, D, E, E, E, E, E, E, E, E, E, E, J, E, J, D, D, K, E]"
   ]
  },
  {
   "cell_type": "code",
   "execution_count": 305,
   "metadata": {
    "collapsed": false
   },
   "outputs": [
    {
     "data": {
      "text/plain": [
       "SIMPLE  =                    T / conforms to FITS standard                      \n",
       "BITPIX  =                    8 / array data type                                \n",
       "NAXIS   =                    0 / number of array dimensions                     \n",
       "EXTEND  =                    T                                                  \n",
       "DATE    = '2017-01-25T00:50:36' / Date FITS file was generated                  \n",
       "IRAF-TLM= '2017-01-25T16:27:45' / Time of last modification                     \n",
       "ORIGIN  = 'NOAO-IRAF FITS Image Kernel July 2003' / FITS file originator        \n",
       "OBJECT  = 'DECaPS_14397_g'     / Name of the object observed                    \n",
       "COMMENT   FITS (Flexible Image Transport System) format is defined in 'Astronomy\n",
       "COMMENT   and Astrophysics', volume 376, page 359; bibcode: 2001A&A...376..359H \n",
       "COMMENT MODIFIED:DATE,DATE-OBS,DTACQNAM,DTCALDAT,DTCOPYRI,DTINSTRU,DTNSANAM,DTOB\n",
       "COMMENT SERV,DTPI,DTPIAFFL,DTPROPID,DTSITE,DTTELESC,DTTITLE,INSTRUME,OBSERVAT,OB\n",
       "COMMENT SID,OBSTYPE,PROCTYPE,PRODTYPE,PROPID,SIMPLE,TELESCOP,TIME-OBS           \n",
       "PROCTYPE= 'InstCal '           / Data processing level                          \n",
       "PRODTYPE= 'image   '           / Data product type                              \n",
       "PIXSCAL1=                 0.27 / [arcsec/pixel] Pixel scale, axis 1             \n",
       "PIXSCAL2=                 0.27 / [arcsec/pixel] Pixel scale, axis 2             \n",
       "OBS-LONG=    70.81489000000001 / [deg] Observatory east longitude               \n",
       "TELESCOP= 'CTIO 4.0-m telescope' / Telescope name                               \n",
       "OBSERVAT= 'CTIO    '           / Observatory name                               \n",
       "OBS-LAT =            -30.16606 / [deg] Observatory latitude                     \n",
       "OBS-ELEV=               2215.0 / [m] Observatory elevation                      \n",
       "INSTRUME= 'DECam   '           / Instrument used to obtain these data           \n",
       "EXPREQ  =                 96.0 / [s] Requested exposure duration                \n",
       "EXPTIME =                 96.0 / [s] Exposure duration                          \n",
       "DARKTIME=             97.85849 / [s] Dark time                                  \n",
       "OBSID   = 'ct4m20170122t055314' / Unique Observation ID                         \n",
       "DATE-OBS= '2017-01-22T05:53:14.923145' / UTC epoch                              \n",
       "TIME-OBS= '05:53:14.923145'    / Time of observation start (UTC)                \n",
       "MJD-OBS =       57775.24531161 / MJD of observation start                       \n",
       "OPENSHUT= '2017-01-22T05:53:15.729760' / Time when shutter opened (UTC)         \n",
       "TIMESYS = 'UTC     '           / Time system                                    \n",
       "EXPNUM  =               611980 / DECam exposure number                          \n",
       "OBSTYPE = 'object  '           / Observation type                               \n",
       "CAMSHUT = 'Open    '           / Camera shutter at exposure start               \n",
       "PROGRAM = 'Mapping Dust in 3D with DECam: A Galactic Plane Survey' / Current obs\n",
       "OBSERVER= 'Greg Green, Tansu Daylan' / Observer name(s)                         \n",
       "PROPOSER= 'Finkbeiner'         / Proposal Principle Investigator                \n",
       "DTPI    = 'Finkbeiner'         / Principal Investigator                         \n",
       "PROPID  = '2016B-0279'         / Proposal ID                                    \n",
       "EXCLUDED= '' / DECam components not used for this frame                         \n",
       "AOS     =                    T / AOS data available if true                     \n",
       "BCAM    =                    F / BCAM data available if true                    \n",
       "GUIDER  =                    1 / Guider (0-absent,1-ok,2-lost star,3-los        \n",
       "SKYSTAT =                    T / Cloud camera (RASICAM) available if true       \n",
       "FILTER  = 'g DECam SDSS c0001 4720.0 1520.0' / Unique filter identifier         \n",
       "FILTPOS = 'cassette_2'         / Filter position in FCM                         \n",
       "INSTANCE= 'DECam_20170121'     / SISPI instance name                            \n",
       "ERRORS  = 'None    '           / SISPI readout errors                           \n",
       "TELEQUIN=               2000.0 / Equinox of telescope coordinates               \n",
       "TELSTAT = 'Track   '           / Telescope tracking status                      \n",
       "RA      = '8:03:32.16'         / [h] RA exposure center                         \n",
       "DEC     = '-24:01:54.0'        / [deg] DEC exposure center                      \n",
       "CENTRA  =              120.884 / [deg] RA exposure center                       \n",
       "CENTDEC =            -24.03168 / [deg] DEC exposure center                      \n",
       "CORN1RA =           119.699147 / [deg] RA exposure corner                       \n",
       "CORN1DEC=           -25.010257 / [deg] DEC exposure corner                      \n",
       "CORN2RA =           122.068811 / [deg] RA exposure corner                       \n",
       "CORN2DEC=           -25.010257 / [deg] DEC exposure corner                      \n",
       "CORN3RA =           119.699147 / [deg] RA exposure corner                       \n",
       "CORN3DEC=           -23.052235 / [deg] DEC exposure corner                      \n",
       "CORN4RA =           122.068811 / [deg] RA exposure corner                       \n",
       "CORN4DEC=           -23.052235 / [deg] DEC exposure corner                      \n",
       "TELRA   = '08:03:31.918'       / [HH:MM:SS] Telescope RA                        \n",
       "TELDEC  = '-24:01:50.898'      / [DD:MM:SS] Telescope DEC                       \n",
       "HA      = '01:12:48.690'       / [HH:MM:SS] Telescope hour angle                \n",
       "ZD      =                17.25 / [deg] Telescope zenith distance                \n",
       "AZ      =             286.2803 / [deg] Telescope azimuth angle                  \n",
       "DOMEAZ  =              280.431 / [deg] Dome azimuth angle                       \n",
       "ZPDELRA =               -1.808 / [arcsec] Telescope zeropoint adjustment (RA)   \n",
       "ZPDELDEC=                  1.4 / [arcsec] Telescope zeropoint adjustment (DEC)  \n",
       "TELFOCUS= '1195.09,86.26,2453.54,-19.84,-36.04, 0.00' / DECam hexapod settings  \n",
       "VSUB    =                    T / True if CCD substrate voltage is on            \n",
       "GSKYPHOT=                    F / RASICAM global sky clear flag                  \n",
       "LSKYPHOT=                    T / RASICAM local sky clear flag                   \n",
       "WINDSPD =                7.564 / [m/s] Wind speed                               \n",
       "WINDDIR =                 23.0 / [deg] Wind direction (from North)              \n",
       "HUMIDITY=                 74.0 / [%] Ambient relative humidity (outside)        \n",
       "PRESSURE=                780.0 / [Torr] Barometric pressure (outside)           \n",
       "DIMMSEE = 'NaN     '           / [arcsec] DIMM Seeing                           \n",
       "DIMM2SEE= 'NaN     '           / [arcsec] DIMM2 Seeing                          \n",
       "MASS2   = 'NaN     '           /  MASS(2) FSEE                                  \n",
       "ASTIG1  =                -0.01 / 4MAPS correction 1                             \n",
       "ASTIG2  =                 0.03 / 4MAPS correction 2                             \n",
       "OUTTEMP =                 13.7 / [deg C] Outside temperature                    \n",
       "AIRMASS =                 1.05 / Airmass                                        \n",
       "GSKYVAR =                0.111 / RASICAM global sky standard deviation          \n",
       "GSKYHOT =                0.457 / RASICAM global sky fraction above threshold    \n",
       "LSKYVAR =                  0.0 / RASICAM local sky standard deviation           \n",
       "LSKYHOT =                  0.0 / RASICAM local sky fraction above threshold     \n",
       "LSKYPOW =                  0.0 / RASICAM local sky normalized power             \n",
       "MSURTEMP=               13.675 / [deg C] Mirror surface average temperature     \n",
       "MAIRTEMP=                 13.9 / [deg C] Mirror temperature above surface       \n",
       "UPTRTEMP=               13.735 / [deg C] Upper truss average temperature        \n",
       "LWTRTEMP= 'NaN     '           / [deg C] Lower truss average temperature        \n",
       "PMOSTEMP=                 13.4 / [deg C] Mirror top surface temperature         \n",
       "UTN-TEMP=               14.085 / [deg C] Upper truss temperature north          \n",
       "UTS-TEMP=                13.57 / [deg C] Upper truss temperature south          \n",
       "UTW-TEMP=               13.595 / [deg C] Upper truss temperature west           \n",
       "UTE-TEMP=                13.69 / [deg C] Upper truss temperature east           \n",
       "PMN-TEMP=                 13.5 / [deg C] Mirror north edge temperature          \n",
       "PMS-TEMP=                 13.4 / [deg C] Mirror south edge temperature          \n",
       "PMW-TEMP=                 13.7 / [deg C] Mirror west edge temperature           \n",
       "PME-TEMP=                 14.1 / [deg C] Mirror east edge temperature           \n",
       "DOMELOW =               14.465 / [deg C] Low dome temperature                   \n",
       "DOMEHIGH=                  0.0 / [deg C] High dome temperature                  \n",
       "DOMEFLOR=                 10.9 / [deg C] Dome floor temperature                 \n",
       "G-MEANX =              -0.0412 / [arcsec] Guider x-axis mean offset             \n",
       "G-MEANY =               0.0347 / [arcsec] Guider y-axis mean offset             \n",
       "DONUTFS4= '[2.09,1.43,-8.88,-0.29,-0.21,-0.05,-0.12,-0.08,-0.44,]' / Mean Wavefr\n",
       "DONUTFS3= '[]      '           / Mean Wavefront for Sensor FS3                  \n",
       "DONUTFS2= '[2.28,0.07,-8.72,0.21,-0.09,-0.08,-0.18,0.33,-0.00,]' / Mean Wavefron\n",
       "DONUTFS1= '[1.36,1.30,8.87,0.23,0.09,0.24,-0.20,0.30,0.08,]' / Mean Wavefront fo\n",
       "G-FLXVAR=          4709497.334 / [arcsec] Guider mean guide star flux variances \n",
       "G-MEANXY=            -0.003245 / [arcsec2] Guider (xy) 2nd moment mean offset   \n",
       "DONUTFN1= '[0.78,0.08,-8.79,-0.25,-0.08,-0.01,0.03,0.24,-0.23,]' / Mean Wavefron\n",
       "DONUTFN2= '[0.92,1.89,9.26,-0.36,-0.09,-0.07,-0.08,0.25,-0.04,]' / Mean Wavefron\n",
       "DONUTFN3= '[0.32,0.84,-8.67,-0.03,-0.11,-0.09,0.03,0.05,0.32,]' / Mean Wavefront\n",
       "DONUTFN4= '[1.34,1.19,9.63,0.12,-0.23,0.03,0.04,-0.11,0.02,]' / Mean Wavefront f\n",
       "HIERARCH time_recorded = '2017-01-22T05:55:13.308863'                           \n",
       "G-FEEDBK= '10, 5   '           / [%] Guider feedback (HA, dec)                  \n",
       "G-CCDNUM=                    4 / Number of guide CCDs that remained active      \n",
       "DOXT    =                  0.1 / [arcsec] X-theta from donut analysis           \n",
       "G-MAXX  =               0.2823 / [arcsec] Guider x-axis maximum offset          \n",
       "FADZ    =               -34.43 / [um] FA Delta focus.                           \n",
       "FADY    =              -160.32 / [um] FA Delta Y.                               \n",
       "FADX    =               239.28 / [um] FA Delta X.                               \n",
       "G-MODE  = 'auto    '           / Guider operation mode                          \n",
       "FAYT    =                -2.78 / [arcsec] FA Delta Y-theta.                     \n",
       "DODZ    =               -34.43 / [um] Delta-Z from donut analysis               \n",
       "DODY    =                 -1.3 / [um] Y-decenter from donut analysis            \n",
       "DODX    =                -0.97 / [um] X-decenter from donut analysis            \n",
       "MULTIEXP=                    F / Frame contains multiple exposures if true      \n",
       "SKYUPDAT= '2017-01-22T05:53:05' / Time of last RASICAM exposure (UTC)           \n",
       "G-SEEING=                2.394 / [arcsec] Guider average seeing                 \n",
       "G-TRANSP=                0.555 / Guider average sky transparency                \n",
       "G-MEANY2=             0.038254 / [arcsec2] Guider (y) 2nd moment mean offset    \n",
       "DOYT    =                 0.05 / [arcsec] Y-theta from donut analysis           \n",
       "G-LATENC=                1.229 / [s] Guider avg. latency between exposures      \n",
       "LUTVER  = 'v20160516'          / Hexapod Lookup Table version                   \n",
       "FAXT    =                -4.66 / [arcsec] FA Delta X-theta.                     \n",
       "G-MAXY  =               0.4577 / [arcsec] Guider y-axis maximum offset          \n",
       "G-MEANX2=             0.023637 / [arcsec2] Guider (x) 2nd moment mean offset    \n",
       "SISPIVER= 'trunk   '           / SISPI software version                         \n",
       "CONSTVER= 'DECAM:55'           / SISPI constants version                        \n",
       "HDRVER  = '13      '           / DECam fits header version                      \n",
       "DTSITE  = 'ct      '           / observatory location                           \n",
       "DTTELESC= 'ct4m    '           / telescope identifier                           \n",
       "DTINSTRU= 'decam   '           / instrument identifier                          \n",
       "DTCALDAT= '2017-01-21'         / calendar date from observing schedule          \n",
       "ODATEOBS= '2017-01-22T05:53:14.923145' / previous DATE-OBS                      \n",
       "DTUTC   = '2017-01-22T05:55:42'  /  post exposure UTC epoch from DTS            \n",
       "DTOBSERV= 'NOAO    '           / scheduling institution                         \n",
       "DTPROPID= '2016B-0279'         / observing proposal ID                          \n",
       "DTPIAFFL= '                  '  /  PI affiliation                               \n",
       "DTTITLE = '                  '  /  title of observing proposal                  \n",
       "DTCOPYRI= 'AURA    '           / copyright holder of data                       \n",
       "DTACQUIS= 'pipeline5.ctio.noao.edu'  /  host name of data acquisition computer  \n",
       "DTACCOUN= 'sispi             '  /  observing account name                       \n",
       "DTACQNAM= '/data_local/images/DTS/2016B-0279/DECam_00611980.fits.fz' / file na  \n",
       "DTNSANAM= 'c4d_170122_055542_ooi_g_v1.fits.fz' / file name in NOAO Science Archi\n",
       "DT_RTNAM= 'c4d_170122_055542_ori'  /  NSA root name                             \n",
       "DTQUEUE = 'decam             '  /  DTS queue (9278)                             \n",
       "DTSTATUS= 'done              '  /  data transport status                        \n",
       "SB_HOST = 'pipeline5.ctio.noao.edu'  /  iSTB client host                        \n",
       "SB_ACCOU= 'sispi             '  /  iSTB client user account                     \n",
       "SB_SITE = 'ct                '  /  iSTB host site                               \n",
       "SB_LOCAL= 'dec               '  /  locale of iSTB daemon                        \n",
       "SB_DIR1 = '20170121          '  /  level 1 directory in NSA DS                  \n",
       "SB_DIR2 = 'ct4m              '  /  level 2 directory in NSA DS                  \n",
       "SB_DIR3 = '2016B-0279        '  /  level 3 directory in NSA DS                  \n",
       "SB_RECNO=               471427  /  iSTB sequence number                         \n",
       "SB_ID   = 'dec471427         '  /  unique iSTB identifier                       \n",
       "SB_NAME = 'c4d_170122_055542_ori.fits'  /  name assigned by iSTB                \n",
       "SB_RTNAM= 'c4d_170122_055542_ori'  /  NSA root name                             \n",
       "RMCOUNT =                    0  /  remediation counter                          \n",
       "RECNO   =               471427  /  NOAO Science Archive sequence number         \n",
       "BUNIT   = 'adu     '           / Brightness units for pixel array               \n",
       "DETSIZE = '[1:29400,1:29050]'  / Detector size                                  \n",
       "CCDSEC  = '[1:2048,1:4096]'    / CCD section to display                         \n",
       "CCDBIN1 =                    1 / Pixel binning, axis 1                          \n",
       "CCDBIN2 =                    1 / Pixel binning, axis 2                          \n",
       "DHEINF  = 'MNSN fermi hardware' / DHE Hardware                                  \n",
       "DHEFIRM = 'demo30  '           / DHE Firmware                                   \n",
       "RADESYS = 'FK5     '           / World coordinate reference frame               \n",
       "EQUINOX =        2000.00000000 / Mean equinox                                   \n",
       "VALIDA  =                    T / Data from amp A is valid                       \n",
       "VALIDB  =                    T / Data from amp B is valid                       \n",
       "NDONUTS =                    0 / AOS number of donuts analyzed for this CCD     \n",
       "                                                                                \n",
       "PHOTFLAG=                    0 / Night Photometric (1) or not (0)               \n",
       "XTALKFIL= 'xtalk_20130606.txt' / Crosstalk file                                 \n",
       "HISTORY DESDM: DECam_crosstalk /data/sharedfs/deccp/NHPPS_DATA/DCP/DCP_TOP/DEC16\n",
       "HISTORY B_20170116_8da5864/c4d_170122_055542_ori.fits.fz xtkproc_tmp -crosstalk \n",
       "HISTORY /data/sharedfs/deccp/Archive/CAL/cal/DECamMasterCal_56475/xtalk/xtalk_20\n",
       "HISTORY 130606.txt -replace /data/sharedfs/deccp/Archive/CAL/cal/DECamMasterCal_\n",
       "HISTORY 56475/hfix/hfix_20130628.txt -postsatmask -photflag 0 -overscansample 1 \n",
       "HISTORY -overscanfunction 0 -overscanorder 1 -overscantrim 5 -verbose 3         \n",
       "HISTORY out.tmp -bpm /data/sharedfs/deccp/Archive/CAL/cal/DECamMasterCal_57777/b\n",
       "HISTORY /CAL/cal/DECamMasterCal_56475/linearity/linearity_table_v0.4.fits -bias \n",
       "HISTORY /data/sharedfs/deccp/NHPPS_DATA/CAL/zero/57772/DEC16B_20170116_8da5864-5\n",
       "HISTORY p/Archive/CAL/cal/DECamMasterCal_56876/starflat/DECam_Master_20130829v3-\n",
       "HISTORY late_col 2.0 -fast -noisemode FULL                                      \n",
       "HISTORY DESDM: mkbleedmask -m -b 5 -f 1.0 -l 7 -n 7 -r 5 -s 40 -t 20 -v 3 -y 1.0\n",
       "HISTORY  -E 5 /data/sharedfs/deccp/NHPPS_DATA/DCP/DCP_CCD/DEC16B_20170116_8da586\n",
       "HISTORY fits                                                                    \n",
       "DES_EXT = 'IMAGE   '           / Image extension                                \n",
       "RADECSYS= 'ICRS    '           / Astrometric system                             \n",
       "SCAMPFLG=                    0 / WCS successful                                 \n",
       "HISTORY wsig 15.00 -lowwt 0.0001                                                \n",
       "PHOTREF = 'Gaia    '           / Photometric ref. catalog                       \n",
       "MAGZERO =               29.047 / [mag] Magnitude zero point                     \n",
       "MAGZPT  =               24.091 / [mag] Magnitude zero point per sec             \n",
       "PUPILSKY=             129.8181                                                  \n",
       "PUPILMAX=             6.563152                                                  \n",
       "PUPILAMP=           0.05055654                                                  \n",
       "SKYORDER=                    8                                                  \n",
       "SKYSUB  =             131.3867                                                  \n",
       "NEXTEND =                    2                                                  \n",
       "FILENAME= 'DEC16B_20170116_8da5864-g-20170122T055314_oi'                        \n",
       "PLVER   = 'V3.12   '                                                            \n",
       "PLDNAME = 'DEC16B_20170116_8da5864'                                             \n",
       "PLQUEUE = 'DEC16B  '                                                            \n",
       "PLQNAME = '20170116'                                                            \n",
       "PLPROCID= '8da5864 '                                                            \n",
       "PLFNAME = 'DEC16B_20170116_8da5864-g-20170122T055314_oi'                        \n",
       "WCSCAL  = 'Successful'         / Astrometric calibration                        \n",
       "CHECKSUM= 'Z9Ude6TZZ6Tbb6TZ'   / HDU checksum updated 2017-01-27T20:35:49       \n",
       "DATASUM = '0       '           / data unit checksum updated 2017-01-27T20:35:49 \n",
       "PLDSID  = 'c4d_170122_055542_ooi_g_v1' / PL NSA name                            \n",
       "PLARVER =                    1 / PL NSA archive version                         \n",
       "                                                                                \n",
       "                                                                                \n",
       "                                                                                \n",
       "                                                                                \n",
       "                                                                                \n",
       "                                                                                \n",
       "                                                                                \n",
       "                                                                                \n",
       "                                                                                \n",
       "                                                                                \n",
       "                                                                                \n",
       "                                                                                \n",
       "                                                                                \n",
       "                                                                                \n",
       "                                                                                \n",
       "                                                                                \n",
       "                                                                                \n",
       "                                                                                \n",
       "                                                                                "
      ]
     },
     "execution_count": 305,
     "metadata": {},
     "output_type": "execute_result"
    }
   ],
   "source": [
    "hdu[0].header"
   ]
  },
  {
   "cell_type": "code",
   "execution_count": 310,
   "metadata": {
    "collapsed": false
   },
   "outputs": [
    {
     "data": {
      "text/plain": [
       "array([1, 2, 3, 4])"
      ]
     },
     "execution_count": 310,
     "metadata": {},
     "output_type": "execute_result"
    }
   ],
   "source": [
    "np.arange(1,5)"
   ]
  },
  {
   "cell_type": "code",
   "execution_count": 312,
   "metadata": {
    "collapsed": false
   },
   "outputs": [],
   "source": [
    "centra = hdu[0].header['CENTRA']\n",
    "centdec  = hdu[0].header['CENTDEC']\n",
    "corner_dic = {'ra':np.zeros(4), \n",
    "              'dec':np.zeros(4)}\n",
    "\n",
    "for corner in np.arange(1,5) : \n",
    "    corn_ra = 'CORN'+str(corner)+'RA'\n",
    "    corn_dec  = 'CORN'+str(corner)+'DEC'\n",
    "    corner_dic['ra'][corner-1] = hdu[0].header[corn_ra]\n",
    "    corner_dic['dec'][corner-1] = hdu[0].header[corn_dec]\n",
    "\n"
   ]
  },
  {
   "cell_type": "code",
   "execution_count": 313,
   "metadata": {
    "collapsed": false
   },
   "outputs": [
    {
     "data": {
      "text/plain": [
       "{'dec': array([-25.010257, -25.010257, -23.052235, -23.052235]),\n",
       " 'ra': array([ 119.699147,  122.068811,  119.699147,  122.068811])}"
      ]
     },
     "execution_count": 313,
     "metadata": {},
     "output_type": "execute_result"
    }
   ],
   "source": [
    "corner_dic"
   ]
  },
  {
   "cell_type": "code",
   "execution_count": 27,
   "metadata": {
    "collapsed": false
   },
   "outputs": [],
   "source": [
    "zeropoint = hdu[0].header['MAGZERO']  # one per entire image composed of multiple CCDs\n",
    "exptime = hdu[0].header['EXPTIME']"
   ]
  },
  {
   "cell_type": "markdown",
   "metadata": {},
   "source": [
    " m = K – 2.5 log ( Flux )\n",
    " \n",
    " * K is the photometric \"zero point\"\n",
    " * Flux = Gain * Counts / Exptime.\n",
    "\n",
    "The camera gain (\"Gain\") and exposure time (\"Exptime\") are obtained from the FITS keywords GAIN and EXPTIME. The value of Counts is the net signal from the object, above the sky background, and measured in the raw pixel value units (often called \"ADU's\"). The Flux therefore represents a total number of electrons per second attributable to the object, above the sky.\n",
    "\n",
    "s22_cat['flux'] : ADUs - Counts  \n",
    "s22_cat['gain'] : (e-/ADU) "
   ]
  },
  {
   "cell_type": "code",
   "execution_count": 16,
   "metadata": {
    "collapsed": false
   },
   "outputs": [],
   "source": [
    "# convert the catalog for ccd10 , called s22, \n",
    "# to AstroPy Table : \n",
    "s22_cat =  Table(hdu[27].data) "
   ]
  },
  {
   "cell_type": "code",
   "execution_count": 43,
   "metadata": {
    "collapsed": false
   },
   "outputs": [
    {
     "name": "stderr",
     "output_type": "stream",
     "text": [
      "/Users/chris/anaconda3/envs/py36/lib/python3.6/site-packages/ipykernel/__main__.py:1: RuntimeWarning: invalid value encountered in log10\n",
      "  if __name__ == '__main__':\n"
     ]
    }
   ],
   "source": [
    "s22_cat['mag'] = -2.512 * np.log10(s22_cat['flux'].data) + zeropoint"
   ]
  },
  {
   "cell_type": "code",
   "execution_count": 396,
   "metadata": {
    "collapsed": false
   },
   "outputs": [],
   "source": [
    "#s22_cat['mag']"
   ]
  },
  {
   "cell_type": "code",
   "execution_count": 117,
   "metadata": {
    "collapsed": false
   },
   "outputs": [],
   "source": [
    "# Load the LSST Stack for ccd10 : \n",
    "outDir = '../data_products/LSST_Stack/DECam/'\n",
    "fname = 'calexp-0611980_10.fits'\n",
    "hdu = fits.open(outDir + fname)\n",
    "g_zeropoint = hdu[0].header['MAGZERO']\n",
    "\n",
    "fname = 'src-0611980_10.fits'\n",
    "hdu = fits.open(outDir + fname)\n",
    "g_data = Table(hdu[1].data)\n",
    "\n",
    "mask_neg_fluxes = g_data['base_PsfFlux_flux'].data > 0\n",
    "# just select rows that don't have negative fluxes...\n",
    "g_data_good = g_data[mask_neg_fluxes]\n",
    "g_data_good['mags_PsfFlux'] = -2.512 * np.log10(g_data_good['base_PsfFlux_flux'])   + g_zeropoint"
   ]
  },
  {
   "cell_type": "code",
   "execution_count": 48,
   "metadata": {
    "collapsed": false
   },
   "outputs": [
    {
     "data": {
      "text/plain": [
       "4370"
      ]
     },
     "execution_count": 48,
     "metadata": {},
     "output_type": "execute_result"
    }
   ],
   "source": [
    "# match the ccd10 s22 catalog to ccd10 LSST Stack by ra ,dec ; \n",
    "len(g_data_good)"
   ]
  },
  {
   "cell_type": "code",
   "execution_count": 118,
   "metadata": {
    "collapsed": false
   },
   "outputs": [],
   "source": [
    "#s22_cat['dec']"
   ]
  },
  {
   "cell_type": "code",
   "execution_count": 151,
   "metadata": {
    "collapsed": false
   },
   "outputs": [
    {
     "name": "stdout",
     "output_type": "stream",
     "text": [
      "4731\n",
      "4370\n"
     ]
    }
   ],
   "source": [
    "from astropy.coordinates import SkyCoord\n",
    "from astropy import units as u\n",
    "\n",
    "# all g-band \n",
    "# decam coordinates\n",
    "decam_coord = SkyCoord(ra  = s22_cat['ra']*u.degree, \n",
    "                       dec = s22_cat['dec']*u.degree)  \n",
    "print(len(decam_coord))\n",
    "\n",
    "# lsst coordinates : in radians ! \n",
    "lsst_coord = SkyCoord(ra = g_data_good['coord_ra']*u.radian, \n",
    "                      dec= g_data_good['coord_dec']*u.radian)  \n",
    "print(len(lsst_coord))\n",
    "\n",
    "# indices are into r_coord catalog \n",
    "idx, d2d, d3d = lsst_coord.match_to_catalog_sky(decam_coord)  \n",
    "\n",
    "# select only DECam fields that are matched to MAF \n",
    "#matches = r_coord[idx]\n"
   ]
  },
  {
   "cell_type": "markdown",
   "metadata": {},
   "source": [
    "# Given coords of the center of the decaps image, which tiles to take form decaps ?"
   ]
  },
  {
   "cell_type": "code",
   "execution_count": null,
   "metadata": {
    "collapsed": true
   },
   "outputs": [],
   "source": []
  },
  {
   "cell_type": "code",
   "execution_count": 290,
   "metadata": {
    "collapsed": false
   },
   "outputs": [
    {
     "name": "stdout",
     "output_type": "stream",
     "text": [
      "l,b = 3.773824,242.428415\n"
     ]
    }
   ],
   "source": [
    "# Read-in DEcAPS catalog for 20% region\n",
    "outDir = '../data_products/DEcAPS_Catalogs/'\n",
    "fname = 'c4d_170122_055542_ooi_g_v1.cat.fits'\n",
    "hdu = fits.open(outDir + fname)\n",
    "\n",
    "\n",
    "centra = hdu[0].header['CENTRA']\n",
    "centdec  = hdu[0].header['CENTDEC']\n",
    "corner_dic = {'ra':np.zeros(4), \n",
    "              'dec':np.zeros(4)}\n",
    "\n",
    "for corner in np.arange(1,5) : \n",
    "    corn_ra = 'CORN'+str(corner)+'RA'\n",
    "    corn_dec  = 'CORN'+str(corner)+'DEC'\n",
    "    corner_dic['ra'][corner-1] = hdu[0].header[corn_ra]\n",
    "    corner_dic['dec'][corner-1] = hdu[0].header[corn_dec]\n",
    "\n",
    "\n",
    "# the coordinates of the field \n",
    "# expressed in galactic longitude (l) and latitude (b) : \n",
    "#radec = SkyCoord(ra = 120.884 * u.degree , dec = -24.031667 * u.degree)\n",
    "#print('l,b = %f,%f'%(radec.galactic.b.degree, radec.galactic.l.degree))\n",
    "#l_field, b_field = radec.galactic.l.degree, radec.galactic.b.degree\n"
   ]
  },
  {
   "cell_type": "code",
   "execution_count": 391,
   "metadata": {
    "collapsed": false
   },
   "outputs": [
    {
     "name": "stdout",
     "output_type": "stream",
     "text": [
      "This DECaPS field is centered on \n",
      "l,b = 242.428426, 3.773817\n"
     ]
    }
   ],
   "source": [
    "# initialize corners and center of the field in degrees \n",
    "corners  = SkyCoord(ra = corner_dic['ra'] * u.degree, \n",
    "                   dec = corner_dic['dec']*u.degree)\n",
    "center = SkyCoord(ra = centra * u.degree, dec = centdec * u.degree)\n",
    "\n",
    "# print\n",
    "print('This DECaPS field is centered on ')\n",
    "print('l,b = %f, %f'%(center.galactic.l.degree, center.galactic.b.degree))"
   ]
  },
  {
   "cell_type": "code",
   "execution_count": 392,
   "metadata": {
    "collapsed": false
   },
   "outputs": [
    {
     "name": "stdout",
     "output_type": "stream",
     "text": [
      "We will download\n",
      "['decam_flux_l241.5b2.5.fits', 'decam_flux_l242.5b2.5.fits', 'decam_flux_l243.5b2.5.fits', 'decam_flux_l241.5b3.5.fits', 'decam_flux_l242.5b3.5.fits', 'decam_flux_l243.5b3.5.fits', 'decam_flux_l241.5b4.5.fits', 'decam_flux_l242.5b4.5.fits', 'decam_flux_l243.5b4.5.fits', 'decam_flux_l241.5b5.5.fits', 'decam_flux_l242.5b5.5.fits', 'decam_flux_l243.5b5.5.fits']\n"
     ]
    }
   ],
   "source": [
    "# note: handle both positive and negative cases of galactic latitude, \n",
    "# since longitude is always positive\n",
    "\n",
    "# Make an array of tile latitudes: \n",
    "\n",
    "# closest  half integer to the maximum latitude:\n",
    "top_latitude = np.ceil(max(corners.galactic.b.degree)) \n",
    "bottom_latitude = np.floor(min(corners.galactic.b.degree))\n",
    "latitudes = np.arange(bottom_latitude, top_latitude) + 0.5\n",
    "\n",
    "\n",
    "# Make an array of tile longitudes \n",
    "\n",
    "maxL = max(corners.galactic.l.degree) \n",
    "minL = min(corners.galactic.l.degree)\n",
    "if maxL - minL > 200 : \n",
    "    # the boundary case ( around 0 longitude)\n",
    "    left_longitude = np.floor(maxL)\n",
    "    right_longitude = np.ceil(minL)\n",
    "    a = np.arange(left_longitude, 360 ) +0.5\n",
    "    longitudes = np.append(a, np.arange(1,right_longitude)-0.5) \n",
    "else : \n",
    "    # the standard case (both on same side )\n",
    "    left_longitude = np.floor(minL)\n",
    "    right_longitude = np.ceil(maxL)\n",
    "    longitudes = np.arange(left_longitude, right_longitude) + 0.5\n",
    "    \n",
    "\n",
    "from itertools import product\n",
    "# https://faun.rc.fas.harvard.edu/decaps/release/band-merged/decam_flux_l1.5bm6.5.fits \n",
    "decaps_catalogs = []\n",
    "for lat,lon in product(latitudes, longitudes):\n",
    "    if lat >= 0 : \n",
    "        catname = 'decam_flux_l' + str(lon) + 'b'  + str(lat) + '.fits'\n",
    "    if lat < 0 : \n",
    "        catname  = 'decam_flux_l' + str(lon) + 'b'  + 'm' + str(lat)[1:]+ '.fits'\n",
    "    decaps_catalogs.append(catname)\n",
    "    \n",
    "    \n",
    "print('We will download')\n",
    "print(decaps_catalogs)\n",
    "    \n",
    "    "
   ]
  },
  {
   "cell_type": "code",
   "execution_count": 394,
   "metadata": {
    "collapsed": false
   },
   "outputs": [
    {
     "data": {
      "text/plain": [
       "('../data_products/DEcAPS_Catalogs/band_merged/decam_flux_l241.5b2.5.fits',\n",
       " <http.client.HTTPMessage at 0x12110a710>)"
      ]
     },
     "execution_count": 394,
     "metadata": {},
     "output_type": "execute_result"
    }
   ],
   "source": [
    "# Note - this may take a while to run because it \n",
    "# will download all the needed catalog tiles ... \n",
    "import urllib.request\n",
    "for file in decaps_catalogs : \n",
    "    file_name = '../data_products/DEcAPS_Catalogs/band_merged/'+file\n",
    "    url = 'https://faun.rc.fas.harvard.edu/decaps/release/band-merged/'+file\n",
    "    urllib.request.urlretrieve(url, file_name)"
   ]
  },
  {
   "cell_type": "code",
   "execution_count": 393,
   "metadata": {
    "collapsed": false
   },
   "outputs": [
    {
     "data": {
      "text/plain": [
       "<matplotlib.text.Text at 0x121353160>"
      ]
     },
     "execution_count": 393,
     "metadata": {},
     "output_type": "execute_result"
    },
    {
     "data": {
      "image/png": "[encoded data removed]",
      "text/plain": [
       "<matplotlib.figure.Figure at 0x1211cb518>"
      ]
     },
     "metadata": {},
     "output_type": "display_data"
    }
   ],
   "source": [
    "# NOTE : The illustration only really works  for positive latitude, ( eg. b = 3,6 )\n",
    "# and both longitudes must be on the same side of the 0 meridian ( eg. l = 241, 245)\n",
    "\n",
    "# The decaps fields are arranged as a grid of \n",
    "# fields : \n",
    "l_field, b_field = center.galactic.l.degree, center.galactic.b.degree\n",
    "\n",
    "lmin = np.floor(l_field) - 1 \n",
    "bmin = np.floor(b_field) - 1\n",
    "fig,ax = plt.subplots(1,1)\n",
    "for l in np.arange(lmin,lmin+4) :\n",
    "    ax.axvline(l)\n",
    "for b in np.arange(bmin,bmin+4):\n",
    "    ax.axhline(b)\n",
    "ax.set_xlim(lmin-0.5,lmin+4)\n",
    "ax.set_ylim(bmin-0.5, bmin+4)\n",
    "ax.scatter(l_field, b_field, s=54)\n",
    "for c in corners : \n",
    "    ax.scatter(c.galactic.l, c.galactic.b, s=34, marker='*')\n",
    "ax.set_xlabel('l')\n",
    "ax.set_ylabel('b')\n",
    "ax.set_title('Field 611980, center and corners')"
   ]
  },
  {
   "cell_type": "markdown",
   "metadata": {},
   "source": [
    "### Completeness : match the decals single-epoch catalog to LSST source catalog "
   ]
  },
  {
   "cell_type": "markdown",
   "metadata": {},
   "source": [
    "We match the decals catalog that corresponds exactly to the LSST-processed image, CCD by CCD. \n",
    "1) Read the LSST source catalog for a given CCD "
   ]
  },
  {
   "cell_type": "code",
   "execution_count": null,
   "metadata": {
    "collapsed": false
   },
   "outputs": [],
   "source": []
  },
  {
   "cell_type": "code",
   "execution_count": null,
   "metadata": {
    "collapsed": false
   },
   "outputs": [],
   "source": []
  },
  {
   "cell_type": "code",
   "execution_count": null,
   "metadata": {
    "collapsed": false
   },
   "outputs": [],
   "source": []
  },
  {
   "cell_type": "code",
   "execution_count": null,
   "metadata": {
    "collapsed": true
   },
   "outputs": [],
   "source": []
  },
  {
   "cell_type": "code",
   "execution_count": 389,
   "metadata": {
    "collapsed": false
   },
   "outputs": [],
   "source": []
  },
  {
   "cell_type": "code",
   "execution_count": 152,
   "metadata": {
    "collapsed": false
   },
   "outputs": [],
   "source": [
    "from astropy.table import hstack\n",
    "lsst_decam= hstack([g_data_good , s22_cat[idx]],\n",
    "                   table_names=['decam','lsst']  )"
   ]
  },
  {
   "cell_type": "code",
   "execution_count": 163,
   "metadata": {
    "collapsed": false
   },
   "outputs": [],
   "source": [
    "good_matches=  lsst_decam[d2d.arcsec < 2][['mag', 'mags_PsfFlux']]"
   ]
  },
  {
   "cell_type": "code",
   "execution_count": 168,
   "metadata": {
    "collapsed": true
   },
   "outputs": [],
   "source": [
    "lsst= good_matches['mags_PsfFlux'].data\n",
    "decaps = good_matches['mag'].data"
   ]
  },
  {
   "cell_type": "code",
   "execution_count": 182,
   "metadata": {
    "collapsed": false
   },
   "outputs": [
    {
     "data": {
      "text/plain": [
       "4370"
      ]
     },
     "execution_count": 182,
     "metadata": {},
     "output_type": "execute_result"
    }
   ],
   "source": [
    "len(lsst_decam)"
   ]
  },
  {
   "cell_type": "markdown",
   "metadata": {},
   "source": [
    "Plot the DECaPS matches to LSST Stack detections within 2 arcsec in image c4d_170122_055542_ooi_g_v1.cat.fits, i.e. 0611980_10, ccd10, i.e. S22 :  "
   ]
  },
  {
   "cell_type": "code",
   "execution_count": 179,
   "metadata": {
    "collapsed": false
   },
   "outputs": [
    {
     "data": {
      "text/plain": [
       "<matplotlib.text.Text at 0x1251ed898>"
      ]
     },
     "execution_count": 179,
     "metadata": {},
     "output_type": "execute_result"
    },
    {
     "data": {
      "image/png": "[encoded data removed]",
      "text/plain": [
       "<matplotlib.figure.Figure at 0x1241cf588>"
      ]
     },
     "metadata": {},
     "output_type": "display_data"
    }
   ],
   "source": [
    "fig,ax = plt.subplots(1,1,figsize=(7,7))\n",
    "ax.scatter(lsst,decaps, s=0.09)\n",
    "x = np.arange(12,23,0.1)\n",
    "ax.plot(x,x, ls='--', lw=2, color='orange')\n",
    "ax.set_xlim(12,23)\n",
    "ax.set_ylim(12,23)\n",
    "ax.set_xlabel('LSST Stack g mag ')\n",
    "ax.set_xlabel('DEcAPS g mag')\n",
    "ax.set_title('0611980 ccd10,  matches within 2 arcsec')"
   ]
  },
  {
   "cell_type": "code",
   "execution_count": 187,
   "metadata": {
    "collapsed": false
   },
   "outputs": [
    {
     "name": "stdout",
     "output_type": "stream",
     "text": [
      "4731\n",
      "4370\n"
     ]
    }
   ],
   "source": [
    "# How many decaps stars do we recover ? \n",
    "\n",
    "# all g-band \n",
    "# decam coordinates\n",
    "decam_coord = SkyCoord(ra  = s22_cat['ra']*u.degree, \n",
    "                       dec = s22_cat['dec']*u.degree)  \n",
    "print(len(decam_coord))\n",
    "\n",
    "# lsst coordinates : in radians ! \n",
    "lsst_coord = SkyCoord(ra = g_data_good['coord_ra']*u.radian, \n",
    "                      dec= g_data_good['coord_dec']*u.radian)  \n",
    "print(len(lsst_coord))\n",
    "\n",
    "# indices are into r_coord catalog \n",
    "idx, d2d, d3d = decam_coord.match_to_catalog_sky(lsst_coord)  \n",
    "\n",
    "# select only DECam fields that are matched to MAF \n",
    "#matches = r_coord[idx]\n",
    "\n",
    "from astropy.table import hstack\n",
    "lsst_decam= hstack([g_data_good[idx] , s22_cat],\n",
    "                   table_names=['decam','lsst']  )\n"
   ]
  },
  {
   "cell_type": "code",
   "execution_count": 204,
   "metadata": {
    "collapsed": false
   },
   "outputs": [
    {
     "data": {
      "text/plain": [
       "4150"
      ]
     },
     "execution_count": 204,
     "metadata": {},
     "output_type": "execute_result"
    }
   ],
   "source": [
    "# How many decaps have an lsst match within 5 arcsec ? \n",
    "matched = lsst_decam[d2d.arcsec < 5][['mag', 'mags_PsfFlux']]\n",
    "np.sum(d2d.arcsec < 5)"
   ]
  },
  {
   "cell_type": "code",
   "execution_count": 395,
   "metadata": {
    "collapsed": false
   },
   "outputs": [
    {
     "data": {
      "text/plain": [
       "0.8723404255319149"
      ]
     },
     "execution_count": 395,
     "metadata": {},
     "output_type": "execute_result"
    }
   ],
   "source": [
    "print()"
   ]
  },
  {
   "cell_type": "code",
   "execution_count": 206,
   "metadata": {
    "collapsed": false
   },
   "outputs": [],
   "source": [
    "matched['dmag'] = matched['mag'] - matched['mags_PsfFlux']"
   ]
  },
  {
   "cell_type": "code",
   "execution_count": 207,
   "metadata": {
    "collapsed": false
   },
   "outputs": [
    {
     "name": "stdout",
     "output_type": "stream",
     "text": [
      "3531\n"
     ]
    },
    {
     "name": "stderr",
     "output_type": "stream",
     "text": [
      "/Users/chris/anaconda3/envs/py36/lib/python3.6/site-packages/ipykernel/__main__.py:3: RuntimeWarning: invalid value encountered in less\n",
      "  app.launch_new_instance()\n",
      "/Users/chris/anaconda3/envs/py36/lib/python3.6/site-packages/ipykernel/__main__.py:4: RuntimeWarning: invalid value encountered in less\n"
     ]
    }
   ],
   "source": [
    "# How many decaps have an lsst match within 5 arcsec \n",
    "# and they don't differ by more than half magnitude  ? \n",
    "print(np.sum(abs(matched['dmag']) < 0.5))\n",
    "mask = abs(matched['dmag']) < 0.5"
   ]
  },
  {
   "cell_type": "code",
   "execution_count": 203,
   "metadata": {
    "collapsed": false
   },
   "outputs": [
    {
     "data": {
      "text/plain": [
       "<matplotlib.collections.PathCollection at 0x124554908>"
      ]
     },
     "execution_count": 203,
     "metadata": {},
     "output_type": "execute_result"
    },
    {
     "data": {
      "image/png": "[encoded data removed]",
      "text/plain": [
       "<matplotlib.figure.Figure at 0x12550a7b8>"
      ]
     },
     "metadata": {},
     "output_type": "display_data"
    }
   ],
   "source": [
    "plt.scatter(matched['mag'][mask], matched['mags_PsfFlux'][mask])"
   ]
  },
  {
   "cell_type": "code",
   "execution_count": 212,
   "metadata": {
    "collapsed": false
   },
   "outputs": [],
   "source": [
    "diff = matched['mag'][mask] -matched['mags_PsfFlux'][mask]\n"
   ]
  },
  {
   "cell_type": "code",
   "execution_count": 214,
   "metadata": {
    "collapsed": false
   },
   "outputs": [],
   "source": [
    "rms = lambda x : np.sqrt(np.mean(np.square(x)))"
   ]
  },
  {
   "cell_type": "code",
   "execution_count": 255,
   "metadata": {
    "collapsed": false
   },
   "outputs": [],
   "source": [
    "from scipy.stats import binned_statistic as bs\n",
    "bins = np.arange(12,23,0.5)\n",
    "stat = bs(matched['mag'][mask], diff, bins =bins ,statistic=rms)"
   ]
  },
  {
   "cell_type": "code",
   "execution_count": 264,
   "metadata": {
    "collapsed": false
   },
   "outputs": [
    {
     "data": {
      "text/plain": [
       "<matplotlib.collections.PathCollection at 0x12b3e9668>"
      ]
     },
     "execution_count": 264,
     "metadata": {},
     "output_type": "execute_result"
    },
    {
     "data": {
      "image/png": "[encoded data removed]",
      "text/plain": [
       "<matplotlib.figure.Figure at 0x12b318ef0>"
      ]
     },
     "metadata": {},
     "output_type": "display_data"
    }
   ],
   "source": [
    "# just plot the difference between measured (lsst) and true (decam) magnitudes ... \n",
    "plt.scatter(matched['mag'][mask], diff)"
   ]
  },
  {
   "cell_type": "code",
   "execution_count": 237,
   "metadata": {
    "collapsed": false
   },
   "outputs": [
    {
     "name": "stdout",
     "output_type": "stream",
     "text": [
      "1.20315088855\n",
      "1.20312498142\n"
     ]
    }
   ],
   "source": [
    "# nice test of statistics :\n",
    "# the more samples we draw from a normal \n",
    "# distribution, \n",
    "# the mode the rms approaches the \n",
    "# standard deviation ...\n",
    "a = np.random.normal(loc=0, scale=1.2, size=5000)\n",
    "print(rms(a))\n",
    "print(np.std(a))"
   ]
  },
  {
   "cell_type": "code",
   "execution_count": 256,
   "metadata": {
    "collapsed": false
   },
   "outputs": [
    {
     "data": {
      "text/plain": [
       "array([ 12. ,  12.5,  13. ,  13.5,  14. ,  14.5,  15. ,  15.5,  16. ,\n",
       "        16.5,  17. ,  17.5,  18. ,  18.5,  19. ,  19.5,  20. ,  20.5,\n",
       "        21. ,  21.5,  22. ,  22.5])"
      ]
     },
     "execution_count": 256,
     "metadata": {},
     "output_type": "execute_result"
    }
   ],
   "source": [
    "stat.bin_edges"
   ]
  },
  {
   "cell_type": "code",
   "execution_count": 262,
   "metadata": {
    "collapsed": false
   },
   "outputs": [
    {
     "data": {
      "text/plain": [
       "array([ 0.24780538,  0.06555947,  0.04933639,  0.05535924,  0.06040687,\n",
       "        0.05779488,  0.05637198,  0.06025317,  0.07716282,  0.06911305,\n",
       "        0.07708015,  0.08355789,  0.08165595,  0.08401285,  0.08188009,\n",
       "        0.08425099,  0.0909726 ,  0.09756736,  0.11225054,  0.12819406,\n",
       "        0.14216897])"
      ]
     },
     "execution_count": 262,
     "metadata": {},
     "output_type": "execute_result"
    }
   ],
   "source": [
    "stat.statistic"
   ]
  },
  {
   "cell_type": "code",
   "execution_count": 257,
   "metadata": {
    "collapsed": false
   },
   "outputs": [
    {
     "data": {
      "text/plain": [
       "22"
      ]
     },
     "execution_count": 257,
     "metadata": {},
     "output_type": "execute_result"
    }
   ],
   "source": [
    "len(bins)"
   ]
  },
  {
   "cell_type": "code",
   "execution_count": 268,
   "metadata": {
    "collapsed": false
   },
   "outputs": [
    {
     "data": {
      "text/plain": [
       "<matplotlib.text.Text at 0x12b5c1278>"
      ]
     },
     "execution_count": 268,
     "metadata": {},
     "output_type": "execute_result"
    },
    {
     "data": {
      "image/png": "[encoded data removed]",
      "text/plain": [
       "<matplotlib.figure.Figure at 0x12b6ce898>"
      ]
     },
     "metadata": {},
     "output_type": "display_data"
    }
   ],
   "source": [
    "plt.scatter(stat.bin_edges[2:]+0.25, stat.statistic[1:])\n",
    "plt.ylabel('rms')\n",
    "plt.xlabel('true: decals mag')"
   ]
  },
  {
   "cell_type": "code",
   "execution_count": null,
   "metadata": {
    "collapsed": true
   },
   "outputs": [],
   "source": []
  }
 ],
 "metadata": {
  "kernelspec": {
   "display_name": "Python 3",
   "language": "python",
   "name": "python3"
  },
  "language_info": {
   "codemirror_mode": {
    "name": "ipython",
    "version": 3
   },
   "file_extension": ".py",
   "mimetype": "text/x-python",
   "name": "python",
   "nbconvert_exporter": "python",
   "pygments_lexer": "ipython3",
   "version": "3.6.0"
  }
 },
 "nbformat": 4,
 "nbformat_minor": 2
}
