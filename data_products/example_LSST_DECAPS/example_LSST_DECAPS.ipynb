{
 "cells": [
  {
   "cell_type": "markdown",
   "metadata": {},
   "source": [
    "Example DECAPS - LSST processing of DECam data"
   ]
  },
  {
   "cell_type": "markdown",
   "metadata": {},
   "source": [
    "All image data is from NOAO : http://archive.noao.edu \n",
    "\n",
    "Catalogs are from https://decaps.rc.fas.harvard.edu/catalogs.html  \n",
    "    \n",
    "    \n"
   ]
  },
  {
   "cell_type": "code",
   "execution_count": 41,
   "metadata": {
    "collapsed": true
   },
   "outputs": [],
   "source": [
    "%matplotlib inline\n",
    "\n",
    "import numpy as np\n",
    "import healpy as hp\n",
    "import matplotlib.pyplot as plt\n",
    "\n",
    "from astropy.table import Column\n",
    "from astropy.table import Table\n",
    "from astropy.coordinates import SkyCoord\n",
    "\n",
    "from astropy import units as u\n",
    "from astropy.io import fits\n",
    "from astropy.table import hstack\n",
    "from astropy.table import vstack\n",
    "import os\n",
    "from matplotlib import rcParams      \n",
    "rcParams['ytick.labelsize'] = 15\n",
    "rcParams['xtick.labelsize'] = 15\n",
    "rcParams['axes.labelsize'] = 20\n",
    "rcParams['axes.linewidth'] = 2\n",
    "rcParams['font.size'] = 15\n",
    "rcParams['axes.titlesize'] = 18"
   ]
  },
  {
   "cell_type": "code",
   "execution_count": 16,
   "metadata": {
    "collapsed": true
   },
   "outputs": [],
   "source": [
    "lsstDir = 'LSST_Stack/'\n",
    "decapsDir = 'DECAPS/'"
   ]
  },
  {
   "cell_type": "markdown",
   "metadata": {},
   "source": [
    "Read the image database..."
   ]
  },
  {
   "cell_type": "code",
   "execution_count": 8,
   "metadata": {},
   "outputs": [],
   "source": [
    "image_database = 'imdb.fits'\n",
    "# download if not yet present\n",
    "if image_database not in  os.listdir() : \n",
    "    print('Downloading the catalog...')\n",
    "    url = 'http://faun.rc.fas.harvard.edu/decaps/release/imdb.fits'\n",
    "    urllib.request.urlretrieve(url, image_database)\n",
    "# read into AstroPy table \n",
    "imdb_hdu = fits.open(image_database)\n",
    "imdb = Table(imdb_hdu[1].data)"
   ]
  },
  {
   "cell_type": "code",
   "execution_count": 13,
   "metadata": {},
   "outputs": [
    {
     "name": "stdout",
     "output_type": "stream",
     "text": [
      "The single-band catalog name corresponding to visit 611980 is c4d_170122_055542_ooi_g_v1.cat.fits\n",
      "The single-band catalog name corresponding to visit 611529 is c4d_170121_055805_ooi_r_v1.cat.fits\n"
     ]
    }
   ],
   "source": [
    "# From the image database, figure out names of  DECam visits...\n",
    "visits = {611980:'g',611529:'r'}\n",
    "\n",
    "for visit in visits.keys() : \n",
    "    cat_name = imdb[imdb['expnum'] == visit]['catfname'].data[0]\n",
    "    print('The single-band catalog name corresponding to visit %d is %s' %(visit, \n",
    "                                                                           cat_name))\n"
   ]
  },
  {
   "cell_type": "markdown",
   "metadata": {},
   "source": [
    "Read in the single-epoch DECAPS catalogs...\n"
   ]
  },
  {
   "cell_type": "code",
   "execution_count": 19,
   "metadata": {},
   "outputs": [
    {
     "name": "stdout",
     "output_type": "stream",
     "text": [
      "\n",
      "The single-band catalog name corresponding     to visit 611980 is c4d_170122_055542_ooi_g_v1.cat.fits\n",
      "611980\n",
      "2017-01-22T05:53:14.923145\n",
      "ra= 8:03:32.16 dec= -24:01:54.0\n",
      "For this catalog, zeropoint is  29.047\n"
     ]
    },
    {
     "name": "stderr",
     "output_type": "stream",
     "text": [
      "/Users/chris/anaconda3/envs/py36/lib/python3.6/site-packages/ipykernel_launcher.py:37: RuntimeWarning: invalid value encountered in log10\n"
     ]
    },
    {
     "name": "stdout",
     "output_type": "stream",
     "text": [
      "\n",
      "The single-band catalog name corresponding     to visit 611529 is c4d_170121_055805_ooi_r_v1.cat.fits\n",
      "611529\n",
      "2017-01-21T05:56:22.142292\n",
      "ra= 8:03:32.76 dec= -24:01:33.5\n",
      "For this catalog, zeropoint is  29.388\n"
     ]
    }
   ],
   "source": [
    "decaps_data = {}\n",
    "decaps_hdu_dic = {}\n",
    "for visit in visits.keys(): \n",
    "    cat_name = imdb[imdb['expnum'] == visit]['catfname'].data[0]\n",
    "    print('\\nThe single-band catalog name corresponding \\\n",
    "    to visit %d is %s' %(visit, cat_name))\n",
    "    file_name  = decapsDir + cat_name\n",
    "    \n",
    "    #open the decaps catalog ...\n",
    "    decaps_hdu = fits.open(file_name)\n",
    "    band = visits[visit]\n",
    "    decaps_hdu_dic[band] = decaps_hdu\n",
    "    # decaps_hdu.info() would display all available tables - \n",
    "    # there is a single catalog per CCD, \n",
    "    # called 'S21_CAT', etc, based on CCD name. \n",
    "    print(visit)\n",
    "    print(decaps_hdu[0].header['DATE-OBS'])\n",
    "    print('ra=',decaps_hdu[0].header['RA'],'dec=',decaps_hdu[0].header['DEC'])\n",
    "    \n",
    "    # save the zero point for this catalog \n",
    "    decaps_zeropoint = decaps_hdu[0].header['MAGZERO']  \n",
    "    print('For this catalog, zeropoint is ',decaps_zeropoint)\n",
    "    # only XTENSION   'IMAGE' are the catalogs...\n",
    "    # since I don't care here to compare exactly ccd-by-ccd to LSST, \n",
    "    # I just read in the decaps catalog for all the sources in the\n",
    "    # full image mosaic. \n",
    "    arr = {'decaps_mag':[],'decaps_magerr':[],'ra':[],'dec':[], 'flags':[]}\n",
    "    decaps_stack = Table(arr, names = ('decaps_mag', 'decaps_magerr',\n",
    "                                           'ra', 'dec', 'flags'),\n",
    "                            dtype = ('f8', 'f8','f8', 'f8', 'i8'))\n",
    "\n",
    "    for i in range(1,len(decaps_hdu[:])) : \n",
    "        if 'IMAGE' in decaps_hdu[i].header['XTENSION'] :\n",
    "            # if the i-th element is image ,\n",
    "            # the catalog is i+2 element\n",
    "            ccd_decaps_cat =  Table(decaps_hdu[i+2].data) \n",
    "            # convert the fluxes to magnitudes \n",
    "            ccd_decaps_cat['decaps_mag'] = -2.5 * np.log10(ccd_decaps_cat['flux'].data) +\\\n",
    "            decaps_zeropoint\n",
    "            ccd_decaps_cat['decaps_magerr'] = (5.0 / (2*np.log(10))) * \\\n",
    "                ccd_decaps_cat['dflux'].data / ccd_decaps_cat['flux'].data\n",
    "\n",
    "            # keep only the relevant info\n",
    "            ccd_decaps = ccd_decaps_cat[['decaps_mag','decaps_magerr',\n",
    "                                         'ra','dec', 'flags']]\n",
    "            decaps_stack = vstack([decaps_stack, ccd_decaps])\n",
    "\n",
    "    decaps_stack.rename_column('ra', 'ra_decaps')\n",
    "    decaps_stack.rename_column('dec', 'dec_decaps')\n",
    "    \n",
    "    # store the catalog for a given filter in a dictionary \n",
    "    band  = visits[visit]\n",
    "    decaps_data[band] = decaps_stack"
   ]
  },
  {
   "cell_type": "markdown",
   "metadata": {},
   "source": [
    "Now each decaps catalog is an element of a table ... "
   ]
  },
  {
   "cell_type": "code",
   "execution_count": 23,
   "metadata": {},
   "outputs": [
    {
     "data": {
      "text/html": [
       "&lt;Table length=10&gt;\n",
       "<table id=\"table5724161472\" class=\"table-striped table-bordered table-condensed\">\n",
       "<thead><tr><th>decaps_mag</th><th>decaps_magerr</th><th>ra_decaps</th><th>dec_decaps</th><th>flags</th></tr></thead>\n",
       "<thead><tr><th>float64</th><th>float64</th><th>float64</th><th>float64</th><th>int64</th></tr></thead>\n",
       "<tr><td>19.2154693604</td><td>0.0240058153868</td><td>120.384850878</td><td>-23.0787125518</td><td>2</td></tr>\n",
       "<tr><td>18.7144260406</td><td>0.011063140817</td><td>120.384893559</td><td>-23.0933436216</td><td>32</td></tr>\n",
       "<tr><td>13.8084869385</td><td>0.00102792948019</td><td>120.384743609</td><td>-23.1041954695</td><td>2</td></tr>\n",
       "<tr><td>19.5617523193</td><td>0.0237880069762</td><td>120.384787709</td><td>-23.1091870758</td><td>32</td></tr>\n",
       "<tr><td>17.3506164551</td><td>0.0032885314431</td><td>120.385017714</td><td>-23.1161541693</td><td>1</td></tr>\n",
       "<tr><td>20.0446243286</td><td>0.0190205648541</td><td>120.385599091</td><td>-23.0976747715</td><td>1</td></tr>\n",
       "<tr><td>19.8299636841</td><td>0.0161599330604</td><td>120.385801944</td><td>-23.0648149394</td><td>1</td></tr>\n",
       "<tr><td>20.4198760986</td><td>0.0256946254522</td><td>120.385700367</td><td>-23.1058405108</td><td>1</td></tr>\n",
       "<tr><td>20.3417205811</td><td>0.0260351225734</td><td>120.386217061</td><td>-23.0557522337</td><td>1</td></tr>\n",
       "<tr><td>18.4471549988</td><td>0.00602161511779</td><td>120.386474022</td><td>-23.0929139617</td><td>1</td></tr>\n",
       "</table>"
      ],
      "text/plain": [
       "<Table length=10>\n",
       "  decaps_mag   decaps_magerr     ra_decaps     dec_decaps   flags\n",
       "   float64        float64         float64       float64     int64\n",
       "------------- ---------------- ------------- -------------- -----\n",
       "19.2154693604  0.0240058153868 120.384850878 -23.0787125518     2\n",
       "18.7144260406   0.011063140817 120.384893559 -23.0933436216    32\n",
       "13.8084869385 0.00102792948019 120.384743609 -23.1041954695     2\n",
       "19.5617523193  0.0237880069762 120.384787709 -23.1091870758    32\n",
       "17.3506164551  0.0032885314431 120.385017714 -23.1161541693     1\n",
       "20.0446243286  0.0190205648541 120.385599091 -23.0976747715     1\n",
       "19.8299636841  0.0161599330604 120.385801944 -23.0648149394     1\n",
       "20.4198760986  0.0256946254522 120.385700367 -23.1058405108     1\n",
       "20.3417205811  0.0260351225734 120.386217061 -23.0557522337     1\n",
       "18.4471549988 0.00602161511779 120.386474022 -23.0929139617     1"
      ]
     },
     "execution_count": 23,
     "metadata": {},
     "output_type": "execute_result"
    }
   ],
   "source": [
    "decaps_data['g'][:10]"
   ]
  },
  {
   "cell_type": "code",
   "execution_count": 24,
   "metadata": {},
   "outputs": [
    {
     "data": {
      "text/html": [
       "&lt;Table length=10&gt;\n",
       "<table id=\"table5724160240\" class=\"table-striped table-bordered table-condensed\">\n",
       "<thead><tr><th>decaps_mag</th><th>decaps_magerr</th><th>ra_decaps</th><th>dec_decaps</th><th>flags</th></tr></thead>\n",
       "<thead><tr><th>float64</th><th>float64</th><th>float64</th><th>float64</th><th>int64</th></tr></thead>\n",
       "<tr><td>20.5583267212</td><td>0.0553832352161</td><td>120.387531531</td><td>-23.0561222889</td><td>2</td></tr>\n",
       "<tr><td>21.3628673553</td><td>0.0445776879787</td><td>120.387662817</td><td>-23.0816290035</td><td>1</td></tr>\n",
       "<tr><td>19.6329231262</td><td>0.0108533501625</td><td>120.387680751</td><td>-23.0987212434</td><td>1</td></tr>\n",
       "<tr><td>19.2636585236</td><td>0.00827111583203</td><td>120.387830567</td><td>-23.0997396025</td><td>1</td></tr>\n",
       "<tr><td>22.4679756165</td><td>0.109918855131</td><td>120.387927934</td><td>-23.1127888176</td><td>1</td></tr>\n",
       "<tr><td>20.6943664551</td><td>0.0241517014802</td><td>120.388011103</td><td>-23.1151760584</td><td>1</td></tr>\n",
       "<tr><td>21.5728683472</td><td>0.0501673221588</td><td>120.388278434</td><td>-23.0701523339</td><td>1</td></tr>\n",
       "<tr><td>16.9707450867</td><td>0.00209406134672</td><td>120.388178743</td><td>-23.0946154678</td><td>1</td></tr>\n",
       "<tr><td>21.4678535461</td><td>0.0459974296391</td><td>120.38807103</td><td>-23.1071662876</td><td>1</td></tr>\n",
       "<tr><td>22.7711524963</td><td>0.144596204162</td><td>120.3883848</td><td>-23.0590510946</td><td>1</td></tr>\n",
       "</table>"
      ],
      "text/plain": [
       "<Table length=10>\n",
       "  decaps_mag   decaps_magerr     ra_decaps     dec_decaps   flags\n",
       "   float64        float64         float64       float64     int64\n",
       "------------- ---------------- ------------- -------------- -----\n",
       "20.5583267212  0.0553832352161 120.387531531 -23.0561222889     2\n",
       "21.3628673553  0.0445776879787 120.387662817 -23.0816290035     1\n",
       "19.6329231262  0.0108533501625 120.387680751 -23.0987212434     1\n",
       "19.2636585236 0.00827111583203 120.387830567 -23.0997396025     1\n",
       "22.4679756165   0.109918855131 120.387927934 -23.1127888176     1\n",
       "20.6943664551  0.0241517014802 120.388011103 -23.1151760584     1\n",
       "21.5728683472  0.0501673221588 120.388278434 -23.0701523339     1\n",
       "16.9707450867 0.00209406134672 120.388178743 -23.0946154678     1\n",
       "21.4678535461  0.0459974296391  120.38807103 -23.1071662876     1\n",
       "22.7711524963   0.144596204162   120.3883848 -23.0590510946     1"
      ]
     },
     "execution_count": 24,
     "metadata": {},
     "output_type": "execute_result"
    }
   ],
   "source": [
    "decaps_data['r'][:10]"
   ]
  },
  {
   "cell_type": "markdown",
   "metadata": {},
   "source": [
    "Keep only good rows..."
   ]
  },
  {
   "cell_type": "code",
   "execution_count": 25,
   "metadata": {
    "collapsed": true
   },
   "outputs": [],
   "source": [
    "decaps_clean = {}\n",
    "# remove decaps detections with bad flags ...\n",
    "for band in decaps_data.keys() : \n",
    "    mask_bad_pixels = decaps_data[band]['flags'] != 1\n",
    "    mask_nan = np.bitwise_not(np.isnan(decaps_data[band]['decaps_mag']))\n",
    "    mask_good_pixels = np.bitwise_not(mask_bad_pixels)\n",
    "    mask = mask_nan * mask_good_pixels\n",
    "    decaps_clean[band] = decaps_data[band][mask]"
   ]
  },
  {
   "cell_type": "markdown",
   "metadata": {},
   "source": [
    "Read in the LSST CCD catalogs, and put them into one table..."
   ]
  },
  {
   "cell_type": "code",
   "execution_count": 27,
   "metadata": {},
   "outputs": [],
   "source": [
    "lsst_zeropoints = Table.read('LSST_Stack/lsst_zeropoints.txt', format='ascii')"
   ]
  },
  {
   "cell_type": "code",
   "execution_count": 29,
   "metadata": {},
   "outputs": [
    {
     "data": {
      "text/html": [
       "&lt;Table length=2&gt;\n",
       "<table id=\"table6394515072\" class=\"table-striped table-bordered table-condensed\">\n",
       "<thead><tr><th>visit</th><th>zeropoint</th></tr></thead>\n",
       "<thead><tr><th>int64</th><th>float64</th></tr></thead>\n",
       "<tr><td>611529</td><td>29.388</td></tr>\n",
       "<tr><td>611980</td><td>29.047</td></tr>\n",
       "</table>"
      ],
      "text/plain": [
       "<Table length=2>\n",
       "visit  zeropoint\n",
       "int64   float64 \n",
       "------ ---------\n",
       "611529    29.388\n",
       "611980    29.047"
      ]
     },
     "execution_count": 29,
     "metadata": {},
     "output_type": "execute_result"
    }
   ],
   "source": [
    "lsst_zeropoints"
   ]
  },
  {
   "cell_type": "code",
   "execution_count": 37,
   "metadata": {},
   "outputs": [
    {
     "name": "stdout",
     "output_type": "stream",
     "text": [
      "For visit= 611980\n",
      "The LSST- measured zeropoint for decam is 29.047000\n",
      "Reading information from all LSST src catalogs...\n",
      "For visit= 611529\n",
      "The LSST- measured zeropoint for decam is 29.388000\n",
      "Reading information from all LSST src catalogs...\n",
      "Done\n"
     ]
    }
   ],
   "source": [
    "lsst_data  = {}\n",
    "\n",
    "for visit in visits.keys() : \n",
    "    print('For visit=',visit)\n",
    "    select_rows = lsst_zeropoints['visit'].data == visit\n",
    "    lsst_zeropoint = lsst_zeropoints['zeropoint'][select_rows]\n",
    "    print('The LSST- measured zeropoint for decam is %f'%lsst_zeropoint)\n",
    "\n",
    "    # Initialize storage AstroPy tables :\n",
    "    arr = {'lsst_mag':[], 'lsst_magerr':[],'coord_ra':[],'coord_dec':[]}\n",
    "    ccd_lsst_stack = Table(arr, names=('lsst_mag', 'lsst_magerr','coord_ra', 'coord_dec'), \n",
    "                     dtype=('f8', 'f8','f8', 'f8'))  \n",
    "    outDir = lsstDir+str(visit)+'/'\n",
    "    # loop over all ccds adding to stacks...\n",
    "    src_files = os.listdir(outDir)\n",
    "    start = len('src-0'+str(visit)+'_')\n",
    "    stop = len('.fits')\n",
    "    print('Reading information from all LSST src catalogs...')\n",
    "    for i in range(len(src_files)):\n",
    "        ccdnum  = src_files[i][start:-stop]  # string\n",
    "        ccd_number = float(ccdnum)\n",
    "        fname = 'src-0'+str(visit)+'_'+ccdnum+'.fits'\n",
    "        hdu = fits.open(outDir + fname)\n",
    "        \n",
    "        # convert to an AstroPy table \n",
    "        ccd_data = Table(hdu[1].data)\n",
    "\n",
    "        # only consider positive fluxes... \n",
    "        mask_neg_fluxes = ccd_data['base_PsfFlux_flux'].data > 0\n",
    "        SN = ccd_data['base_PsfFlux_flux'].data / \\\n",
    "             ccd_data['base_PsfFlux_fluxSigma'].data\n",
    "        mask_low_sn = SN > 5 \n",
    "        mask_total = mask_neg_fluxes * mask_low_sn\n",
    "        \n",
    "        # just select rows that don't have negative fluxes...\n",
    "        ccd_data_good = ccd_data[mask_total]\n",
    "        ccd_data_good['lsst_mag'] = -2.5* np.log10(ccd_data_good['base_PsfFlux_flux']) +\\\n",
    "           lsst_zeropoint\n",
    "        ccd_data_good['lsst_magerr'] = (5.0 / (2*np.log(10))) *\\\n",
    "            ccd_data_good['base_PsfFlux_fluxSigma'].data / \\\n",
    "            ccd_data_good['base_PsfFlux_flux'].data\n",
    "\n",
    "        # keep only most relevant info... \n",
    "        ccd_lsst  =    ccd_data_good[['lsst_mag', 'lsst_magerr',\n",
    "                                      'coord_ra', 'coord_dec']] \n",
    "\n",
    "        # add to the stack\n",
    "        ccd_lsst_stack    = vstack([ccd_lsst_stack ,ccd_lsst] )\n",
    "\n",
    "    # rename the products \n",
    "    ccd_lsst_stack.rename_column('coord_ra', 'ra_lsst')\n",
    "    ccd_lsst_stack.rename_column('coord_dec', 'dec_lsst')\n",
    "    \n",
    "    # store as elements of a dictionary \n",
    "    band = visits[visit]\n",
    "    lsst_data[band] = ccd_lsst_stack\n",
    "print('Done')\n"
   ]
  },
  {
   "cell_type": "markdown",
   "metadata": {},
   "source": [
    "For DECAPS cross match the two single-band catalogs :  "
   ]
  },
  {
   "cell_type": "code",
   "execution_count": 42,
   "metadata": {},
   "outputs": [],
   "source": [
    "coord_1 = SkyCoord(ra  = decaps_clean['g']['ra_decaps']*u.degree, \n",
    "                       dec = decaps_clean['g']['dec_decaps']*u.degree)  \n",
    "coord_2 = SkyCoord(ra  = decaps_clean['r']['ra_decaps']*u.degree, \n",
    "                       dec = decaps_clean['r']['dec_decaps']*u.degree)  \n",
    "\n",
    "idx, d2d, d3d = coord_1.match_to_catalog_sky(coord_2)  \n",
    "\n",
    "# stack the two catalogs \n",
    "decaps_gr = hstack([decaps_clean['g'] ,decaps_clean['r'][idx]],\n",
    "               table_names=['g','r']  )"
   ]
  },
  {
   "cell_type": "markdown",
   "metadata": {},
   "source": [
    "Do the same for LSST : "
   ]
  },
  {
   "cell_type": "code",
   "execution_count": 43,
   "metadata": {
    "collapsed": true
   },
   "outputs": [],
   "source": [
    "# NOTE:  all LSST detection positions are in radians! \n",
    "coord_1 = SkyCoord(ra  = lsst_data['g']['ra_lsst']*u.rad, \n",
    "                       dec = lsst_data['g']['dec_lsst']*u.rad)  \n",
    "coord_2 = SkyCoord(ra  = lsst_data['r']['ra_lsst']*u.rad, \n",
    "                       dec = lsst_data['r']['dec_lsst']*u.rad)  \n",
    "\n",
    "idx, d2d, d3d = coord_1.match_to_catalog_sky(coord_2)  \n",
    "\n",
    "# stack the two catalogs \n",
    "lsst_gr = hstack([lsst_data['g'] ,lsst_data['r'][idx]],\n",
    "               table_names=['g','r']  )"
   ]
  },
  {
   "cell_type": "markdown",
   "metadata": {},
   "source": [
    "At this point we may want to eg. plot each catalog, and show that it makes sense... "
   ]
  },
  {
   "cell_type": "code",
   "execution_count": 51,
   "metadata": {},
   "outputs": [
    {
     "data": {
      "text/plain": [
       "array(['lsst_mag_g', 'lsst_magerr_g', 'ra_lsst_g', 'dec_lsst_g',\n",
       "       'lsst_mag_r', 'lsst_magerr_r', 'ra_lsst_r', 'dec_lsst_r'],\n",
       "      dtype='<U13')"
      ]
     },
     "execution_count": 51,
     "metadata": {},
     "output_type": "execute_result"
    }
   ],
   "source": [
    "# Display all the column names ... \n",
    "np.ravel(lsst_gr.colnames)"
   ]
  },
  {
   "cell_type": "code",
   "execution_count": 62,
   "metadata": {},
   "outputs": [
    {
     "data": {
      "text/plain": [
       "(array([  3063.,  11108.,  18824.,  26347.,  33203.,  38747.,  41511.,\n",
       "         42475.,  15678.,   3216.]),\n",
       " array([ 13.80107777,  14.75479863,  15.70851949,  16.66224035,\n",
       "         17.61596121,  18.56968208,  19.52340294,  20.4771238 ,\n",
       "         21.43084466,  22.38456552,  23.33828638]),\n",
       " <a list of 1 Patch objects>)"
      ]
     },
     "execution_count": 62,
     "metadata": {},
     "output_type": "execute_result"
    },
    {
     "data": {
      "image/png": "[encoded data removed]",
      "text/plain": [
       "<matplotlib.figure.Figure at 0x25aa5ee10>"
      ]
     },
     "metadata": {},
     "output_type": "display_data"
    }
   ],
   "source": [
    "# plot the histogram \n",
    "plt.hist(lsst_gr['lsst_mag_g'], histtype='step')\n",
    "plt.hist(lsst_gr['lsst_mag_r'], histtype='step')"
   ]
  },
  {
   "cell_type": "code",
   "execution_count": 78,
   "metadata": {},
   "outputs": [
    {
     "data": {
      "text/plain": [
       "<matplotlib.text.Text at 0x257aeccf8>"
      ]
     },
     "execution_count": 78,
     "metadata": {},
     "output_type": "execute_result"
    },
    {
     "name": "stderr",
     "output_type": "stream",
     "text": [
      "/Users/chris/anaconda3/envs/py36/lib/python3.6/site-packages/matplotlib/colors.py:929: RuntimeWarning: invalid value encountered in less_equal\n",
      "  mask |= resdat <= 0\n"
     ]
    },
    {
     "data": {
      "image/png": "[encoded data removed]",
      "text/plain": [
       "<matplotlib.figure.Figure at 0x25fc5d6a0>"
      ]
     },
     "metadata": {},
     "output_type": "display_data"
    }
   ],
   "source": [
    "import matplotlib.colors as colors \n",
    "%matplotlib inline\n",
    "g = lsst_gr['lsst_mag_g']\n",
    "r = lsst_gr['lsst_mag_r']\n",
    "fig,ax = plt.subplots(1,1, figsize=(8,6))\n",
    "ax.hist2d(g-r,r, range=[[-1,1],[14,22]], cmin=10,\n",
    "         norm = colors.LogNorm(), bins=50)\n",
    "plt.gca().invert_yaxis()\n",
    "ax.set_xlabel('g-r')\n",
    "ax.set_ylabel('r')\n",
    "ax.set_title('LSST 20% DECam field')"
   ]
  },
  {
   "cell_type": "markdown",
   "metadata": {},
   "source": [
    "Makes sense (cf. Sesar+2010 Fig.23 http://faculty.washington.edu/ivezic/Publications/apj_708_1_717.pdf)"
   ]
  },
  {
   "cell_type": "markdown",
   "metadata": {},
   "source": [
    "Color by a third variable, eg. mean photometric error:\n",
    "    "
   ]
  },
  {
   "cell_type": "code",
   "execution_count": 79,
   "metadata": {},
   "outputs": [
    {
     "data": {
      "text/plain": [
       "['lsst_mag_g',\n",
       " 'lsst_magerr_g',\n",
       " 'ra_lsst_g',\n",
       " 'dec_lsst_g',\n",
       " 'lsst_mag_r',\n",
       " 'lsst_magerr_r',\n",
       " 'ra_lsst_r',\n",
       " 'dec_lsst_r']"
      ]
     },
     "execution_count": 79,
     "metadata": {},
     "output_type": "execute_result"
    }
   ],
   "source": [
    "lsst_gr.colnames"
   ]
  },
  {
   "cell_type": "code",
   "execution_count": 84,
   "metadata": {},
   "outputs": [
    {
     "data": {
      "image/png": "[encoded data removed]",
      "text/plain": [
       "<matplotlib.figure.Figure at 0x25b76fd30>"
      ]
     },
     "metadata": {},
     "output_type": "display_data"
    }
   ],
   "source": [
    "from scipy.stats import binned_statistic_2d\n",
    "fig,ax = plt.subplots(figsize=(8,6))\n",
    "\n",
    "x = g-r\n",
    "y = r\n",
    "z = g\n",
    "\n",
    "xmin,xmax = -2,2\n",
    "ymin,ymax = 14,21\n",
    "mx = (xmin<x)*(x<xmax) \n",
    "my = (ymin<y)*(y<ymax)\n",
    "m = mx*my\n",
    "stats = binned_statistic_2d(x[m], y[m], values = z[m], statistic='mean', bins=50)\n",
    "\n",
    "z_sigma, x_edges, y_edges = stats[0], stats[1], stats[2]\n",
    "# replace all nan's by 0 ...\n",
    "z_sigma[np.isnan(z_sigma)] =0 \n",
    "z_reduce  =  z_sigma # [:-1, :-1] no need to reduce here because x_edges are already given with the right size \n",
    "z_min, z_max = z_reduce.min(), np.abs(z_reduce).max()\n",
    "z_rot = np.rot90(z_reduce)  # rotate and flip to properly display... \n",
    "z_rot_flip = np.flipud(z_rot)\n",
    "z_masked = np.ma.masked_where(z_rot_flip == 0 , z_rot_flip)  # mask out zeros... \n",
    "\n",
    "# Plot 2D histogram using pcolor\n",
    "image = ax.pcolormesh(x_edges,y_edges,z_masked, cmap='jet')  # np.log10(z_masked) gives log counts \n",
    "\n",
    "# add a colorbar  : define cax : colorbar axis \n",
    "colorbar_ax = fig.add_axes([0.2, 0.89, 0.4, 0.01])     #  (x0 ,y0  , dx,  dy )  \n",
    "colorbar = fig.colorbar(image, cax = colorbar_ax,  orientation='vertical')"
   ]
  },
  {
   "cell_type": "code",
   "execution_count": null,
   "metadata": {
    "collapsed": true
   },
   "outputs": [],
   "source": []
  }
 ],
 "metadata": {
  "kernelspec": {
   "display_name": "Python 3",
   "language": "python",
   "name": "python3"
  },
  "language_info": {
   "codemirror_mode": {
    "name": "ipython",
    "version": 3
   },
   "file_extension": ".py",
   "mimetype": "text/x-python",
   "name": "python",
   "nbconvert_exporter": "python",
   "pygments_lexer": "ipython3",
   "version": "3.6.2"
  }
 },
 "nbformat": 4,
 "nbformat_minor": 2
}
